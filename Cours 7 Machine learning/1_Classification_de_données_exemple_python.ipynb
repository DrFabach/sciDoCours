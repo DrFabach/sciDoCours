{
  "nbformat": 4,
  "nbformat_minor": 0,
  "metadata": {
    "kernelspec": {
      "display_name": "Python 3",
      "language": "python",
      "name": "python3"
    },
    "language_info": {
      "codemirror_mode": {
        "name": "ipython",
        "version": 3
      },
      "file_extension": ".py",
      "mimetype": "text/x-python",
      "name": "python",
      "nbconvert_exporter": "python",
      "pygments_lexer": "ipython3",
      "version": "3.8.5"
    },
    "toc": {
      "base_numbering": 1,
      "nav_menu": {},
      "number_sections": true,
      "sideBar": true,
      "skip_h1_title": false,
      "title_cell": "Table of Contents",
      "title_sidebar": "Contents",
      "toc_cell": false,
      "toc_position": {},
      "toc_section_display": true,
      "toc_window_display": false
    },
    "colab": {
      "name": "1_Classification_de_données_(1).ipynb",
      "provenance": [],
      "collapsed_sections": []
    }
  },
  "cells": [
    {
      "cell_type": "markdown",
      "metadata": {
        "id": "H2WV6Hc80azn"
      },
      "source": [
        "<IMG SRC=\"http://www.lirmm.fr/~poncelet/EGC2021/smallbandeau_EGC2021.png\" align=\"center\" >"
      ]
    },
    {
      "cell_type": "code",
      "metadata": {
        "id": "XEzv7tSuPBrs"
      },
      "source": [
        "from ray import serve"
      ],
      "execution_count": null,
      "outputs": []
    },
    {
      "cell_type": "code",
      "metadata": {
        "colab": {
          "base_uri": "https://localhost:8080/"
        },
        "id": "N2XLIJd3PG8g",
        "outputId": "6fa8f0e7-f491-440c-e50e-38107e7eeda8"
      },
      "source": [
        ""
      ],
      "execution_count": null,
      "outputs": [
        {
          "output_type": "stream",
          "text": [
            "Requirement already satisfied: ray in /usr/local/lib/python3.7/dist-packages (1.4.1)\n",
            "Requirement already satisfied: prometheus-client>=0.7.1 in /usr/local/lib/python3.7/dist-packages (from ray) (0.11.0)\n",
            "Requirement already satisfied: gpustat in /usr/local/lib/python3.7/dist-packages (from ray) (0.6.0)\n",
            "Requirement already satisfied: numpy>=1.16; python_version < \"3.9\" in /usr/local/lib/python3.7/dist-packages (from ray) (1.19.5)\n",
            "Requirement already satisfied: aiohttp in /usr/local/lib/python3.7/dist-packages (from ray) (3.7.4.post0)\n",
            "Requirement already satisfied: click>=7.0 in /usr/local/lib/python3.7/dist-packages (from ray) (7.1.2)\n",
            "Requirement already satisfied: pydantic>=1.8 in /usr/local/lib/python3.7/dist-packages (from ray) (1.8.2)\n",
            "Requirement already satisfied: jsonschema in /usr/local/lib/python3.7/dist-packages (from ray) (2.6.0)\n",
            "Requirement already satisfied: requests in /usr/local/lib/python3.7/dist-packages (from ray) (2.23.0)\n",
            "Requirement already satisfied: protobuf>=3.15.3 in /usr/local/lib/python3.7/dist-packages (from ray) (3.17.3)\n",
            "Requirement already satisfied: py-spy>=0.2.0 in /usr/local/lib/python3.7/dist-packages (from ray) (0.3.7)\n",
            "Requirement already satisfied: filelock in /usr/local/lib/python3.7/dist-packages (from ray) (3.0.12)\n",
            "Requirement already satisfied: grpcio>=1.28.1 in /usr/local/lib/python3.7/dist-packages (from ray) (1.34.1)\n",
            "Requirement already satisfied: redis>=3.5.0 in /usr/local/lib/python3.7/dist-packages (from ray) (3.5.3)\n",
            "Requirement already satisfied: aiohttp-cors in /usr/local/lib/python3.7/dist-packages (from ray) (0.7.0)\n",
            "Requirement already satisfied: colorama in /usr/local/lib/python3.7/dist-packages (from ray) (0.4.4)\n",
            "Requirement already satisfied: aioredis in /usr/local/lib/python3.7/dist-packages (from ray) (1.3.1)\n",
            "Requirement already satisfied: msgpack<2.0.0,>=1.0.0 in /usr/local/lib/python3.7/dist-packages (from ray) (1.0.2)\n",
            "Requirement already satisfied: opencensus in /usr/local/lib/python3.7/dist-packages (from ray) (0.7.13)\n",
            "Requirement already satisfied: pyyaml in /usr/local/lib/python3.7/dist-packages (from ray) (3.13)\n",
            "Requirement already satisfied: blessings>=1.6 in /usr/local/lib/python3.7/dist-packages (from gpustat->ray) (1.7)\n",
            "Requirement already satisfied: psutil in /usr/local/lib/python3.7/dist-packages (from gpustat->ray) (5.4.8)\n",
            "Requirement already satisfied: six>=1.7 in /usr/local/lib/python3.7/dist-packages (from gpustat->ray) (1.15.0)\n",
            "Requirement already satisfied: nvidia-ml-py3>=7.352.0 in /usr/local/lib/python3.7/dist-packages (from gpustat->ray) (7.352.0)\n",
            "Requirement already satisfied: async-timeout<4.0,>=3.0 in /usr/local/lib/python3.7/dist-packages (from aiohttp->ray) (3.0.1)\n",
            "Requirement already satisfied: yarl<2.0,>=1.0 in /usr/local/lib/python3.7/dist-packages (from aiohttp->ray) (1.6.3)\n",
            "Requirement already satisfied: typing-extensions>=3.6.5 in /usr/local/lib/python3.7/dist-packages (from aiohttp->ray) (3.7.4.3)\n",
            "Requirement already satisfied: attrs>=17.3.0 in /usr/local/lib/python3.7/dist-packages (from aiohttp->ray) (21.2.0)\n",
            "Requirement already satisfied: chardet<5.0,>=2.0 in /usr/local/lib/python3.7/dist-packages (from aiohttp->ray) (3.0.4)\n",
            "Requirement already satisfied: multidict<7.0,>=4.5 in /usr/local/lib/python3.7/dist-packages (from aiohttp->ray) (5.1.0)\n",
            "Requirement already satisfied: certifi>=2017.4.17 in /usr/local/lib/python3.7/dist-packages (from requests->ray) (2021.5.30)\n",
            "Requirement already satisfied: idna<3,>=2.5 in /usr/local/lib/python3.7/dist-packages (from requests->ray) (2.10)\n",
            "Requirement already satisfied: urllib3!=1.25.0,!=1.25.1,<1.26,>=1.21.1 in /usr/local/lib/python3.7/dist-packages (from requests->ray) (1.24.3)\n",
            "Requirement already satisfied: hiredis in /usr/local/lib/python3.7/dist-packages (from aioredis->ray) (2.0.0)\n",
            "Requirement already satisfied: opencensus-context==0.1.2 in /usr/local/lib/python3.7/dist-packages (from opencensus->ray) (0.1.2)\n",
            "Requirement already satisfied: google-api-core<2.0.0,>=1.0.0 in /usr/local/lib/python3.7/dist-packages (from opencensus->ray) (1.26.3)\n",
            "Requirement already satisfied: setuptools>=40.3.0 in /usr/local/lib/python3.7/dist-packages (from google-api-core<2.0.0,>=1.0.0->opencensus->ray) (57.0.0)\n",
            "Requirement already satisfied: pytz in /usr/local/lib/python3.7/dist-packages (from google-api-core<2.0.0,>=1.0.0->opencensus->ray) (2018.9)\n",
            "Requirement already satisfied: googleapis-common-protos<2.0dev,>=1.6.0 in /usr/local/lib/python3.7/dist-packages (from google-api-core<2.0.0,>=1.0.0->opencensus->ray) (1.53.0)\n",
            "Requirement already satisfied: google-auth<2.0dev,>=1.21.1 in /usr/local/lib/python3.7/dist-packages (from google-api-core<2.0.0,>=1.0.0->opencensus->ray) (1.31.0)\n",
            "Requirement already satisfied: packaging>=14.3 in /usr/local/lib/python3.7/dist-packages (from google-api-core<2.0.0,>=1.0.0->opencensus->ray) (20.9)\n",
            "Requirement already satisfied: cachetools<5.0,>=2.0.0 in /usr/local/lib/python3.7/dist-packages (from google-auth<2.0dev,>=1.21.1->google-api-core<2.0.0,>=1.0.0->opencensus->ray) (4.2.2)\n",
            "Requirement already satisfied: rsa<5,>=3.1.4; python_version >= \"3.6\" in /usr/local/lib/python3.7/dist-packages (from google-auth<2.0dev,>=1.21.1->google-api-core<2.0.0,>=1.0.0->opencensus->ray) (4.7.2)\n",
            "Requirement already satisfied: pyasn1-modules>=0.2.1 in /usr/local/lib/python3.7/dist-packages (from google-auth<2.0dev,>=1.21.1->google-api-core<2.0.0,>=1.0.0->opencensus->ray) (0.2.8)\n",
            "Requirement already satisfied: pyparsing>=2.0.2 in /usr/local/lib/python3.7/dist-packages (from packaging>=14.3->google-api-core<2.0.0,>=1.0.0->opencensus->ray) (2.4.7)\n",
            "Requirement already satisfied: pyasn1>=0.1.3 in /usr/local/lib/python3.7/dist-packages (from rsa<5,>=3.1.4; python_version >= \"3.6\"->google-auth<2.0dev,>=1.21.1->google-api-core<2.0.0,>=1.0.0->opencensus->ray) (0.4.8)\n",
            "Collecting uvicorn\n",
            "\u001b[?25l  Downloading https://files.pythonhosted.org/packages/bf/fe/a41994c92897b162c0c83e8ef10bec54ebdefbce3f3725b530d2091492ac/uvicorn-0.14.0-py3-none-any.whl (50kB)\n",
            "\u001b[K     |████████████████████████████████| 51kB 3.6MB/s \n",
            "\u001b[?25hRequirement already satisfied: typing-extensions; python_version < \"3.8\" in /usr/local/lib/python3.7/dist-packages (from uvicorn) (3.7.4.3)\n",
            "Collecting asgiref>=3.3.4\n",
            "  Downloading https://files.pythonhosted.org/packages/fe/66/577f32b54c50dcd8dec38447258e82ed327ecb86820d67ae7b3dea784f13/asgiref-3.4.1-py3-none-any.whl\n",
            "Collecting h11>=0.8\n",
            "\u001b[?25l  Downloading https://files.pythonhosted.org/packages/60/0f/7a0eeea938eaf61074f29fed9717f2010e8d0e0905d36b38d3275a1e4622/h11-0.12.0-py3-none-any.whl (54kB)\n",
            "\u001b[K     |████████████████████████████████| 61kB 6.7MB/s \n",
            "\u001b[?25hRequirement already satisfied: click>=7.* in /usr/local/lib/python3.7/dist-packages (from uvicorn) (7.1.2)\n",
            "Installing collected packages: asgiref, h11, uvicorn\n",
            "Successfully installed asgiref-3.4.1 h11-0.12.0 uvicorn-0.14.0\n",
            "Requirement already satisfied: starlette in /usr/local/lib/python3.7/dist-packages (0.15.0)\n",
            "Requirement already satisfied: anyio<4,>=3.0.0 in /usr/local/lib/python3.7/dist-packages (from starlette) (3.2.1)\n",
            "Requirement already satisfied: idna>=2.8 in /usr/local/lib/python3.7/dist-packages (from anyio<4,>=3.0.0->starlette) (2.10)\n",
            "Requirement already satisfied: typing-extensions; python_version < \"3.8\" in /usr/local/lib/python3.7/dist-packages (from anyio<4,>=3.0.0->starlette) (3.7.4.3)\n",
            "Requirement already satisfied: sniffio>=1.1 in /usr/local/lib/python3.7/dist-packages (from anyio<4,>=3.0.0->starlette) (1.2.0)\n"
          ],
          "name": "stdout"
        }
      ]
    },
    {
      "cell_type": "markdown",
      "metadata": {
        "id": "3RLHAqAN0azv"
      },
      "source": [
        "<H1> Premières classifications </H1>"
      ]
    },
    {
      "cell_type": "markdown",
      "metadata": {
        "id": "byvbK8uU0azv"
      },
      "source": [
        "Le but de ce notebook est de faire ses premiers pas en classification supervisée, i.e. lorsque les données d'apprentissage disposent de classes labelisées. Pour cela nous utiliserons un jeu de données très connu dans la communauté : IRIS.\n",
        "\n",
        "Dans un premier temps, nous présentons une première classification pour apprendre à utiliser un classifieur et à prédire une valeur. Les jeux de données d'apprentissage et de de test sont présentés par la suite. Nous présentons ensuite différentes mesures pour évaluer un modèle.   \n",
        "Etant donné qu'il n'est pas possible d'avoir un classifieur universel (NO FREE LUNCH THEOREM), nous verrons comment utiliser différents classifieurs et comment rechercher les meilleurs paramètres d'un classifieur. Enfin nous verrons comment sauvegarder et ré-utiliser un modèle appris.\n"
      ]
    },
    {
      "cell_type": "markdown",
      "metadata": {
        "id": "OcGJYrR_NuJj"
      },
      "source": [
        "## Installation\n"
      ]
    },
    {
      "cell_type": "markdown",
      "metadata": {
        "id": "4D4tLftX0azw"
      },
      "source": [
        "\n",
        "\n",
        "\n",
        "Avant de commencer, il est nécessaire de déjà posséder dans son environnement toutes les librairies utiles. Dans la seconde cellule nous importons toutes les librairies qui seront utiles à ce notebook. Il se peut que, lorsque vous lanciez l'éxecution de cette cellule, une soit absente. Dans ce cas il est nécessaire de l'installer. Pour cela dans la cellule suivante utiliser la commande :  \n",
        "\n",
        "*! pip install nom_librairie*  \n",
        "\n",
        "**Attention :** il est fortement conseillé lorsque l'une des librairies doit être installer de relancer le kernel de votre notebook.\n",
        "\n",
        "**Remarque :** même si toutes les librairies sont importées dès le début, les librairies utiles pour des fonctions présentées au cours de ce notebook sont ré-importées de manière à indiquer d'où elles viennent et ainsi faciliter la réutilisation de la fonction dans un autre projet.\n",
        " "
      ]
    },
    {
      "cell_type": "code",
      "metadata": {
        "id": "npE-hmfW0azw"
      },
      "source": [
        "# utiliser cette cellule pour installer les librairies manquantes\n",
        "# pour cela il suffit de taper dans cette cellule : !pip install nom_librairie_manquante\n",
        "# d'exécuter la cellule et de relancer la cellule suivante pour voir si tout se passe bien\n",
        "# recommencer tant que toutes les librairies ne sont pas installées ...\n",
        "\n",
        "\n",
        "#!pip install MyNLPUtilities\n",
        "\n",
        "# ne pas oublier de relancer le kernel du notebook"
      ],
      "execution_count": null,
      "outputs": []
    },
    {
      "cell_type": "code",
      "metadata": {
        "id": "Kb-GSeSF0azx"
      },
      "source": [
        "# Importation des différentes librairies utiles pour le notebook\n",
        "\n",
        "#Sickit learn met régulièrement à jour des versions et \n",
        "#indique des futurs warnings. \n",
        "#ces deux lignes permettent de ne pas les afficher.\n",
        "import warnings\n",
        "warnings.filterwarnings(\"ignore\", category=FutureWarning)\n",
        "\n",
        "# librairies générales\n",
        "import pickle \n",
        "import pandas as pd\n",
        "from scipy.stats import randint\n",
        "import numpy as np\n",
        "import string\n",
        "import time\n",
        "import base64\n",
        "\n",
        "\n",
        "# librairie affichage\n",
        "import matplotlib.pyplot as plt\n",
        "import seaborn as sns\n",
        "\n",
        "\n",
        "# librairies scikit learn\n",
        "import sklearn\n",
        "from sklearn.naive_bayes import GaussianNB\n",
        "from sklearn.metrics import accuracy_score\n",
        "from sklearn.model_selection import train_test_split \n",
        "from sklearn.metrics import confusion_matrix\n",
        "from sklearn.metrics import classification_report\n",
        "from sklearn.metrics import precision_recall_fscore_support as score\n",
        "from sklearn.preprocessing import StandardScaler\n",
        "from sklearn.linear_model import LogisticRegression\n",
        "from sklearn.tree import DecisionTreeClassifier\n",
        "from sklearn.neighbors import KNeighborsClassifier\n",
        "from sklearn.naive_bayes import GaussianNB\n",
        "from sklearn.svm import SVC\n",
        "from sklearn.model_selection import KFold\n",
        "from sklearn.model_selection import cross_val_score\n",
        "from sklearn.tree import DecisionTreeClassifier\n",
        "from sklearn.model_selection import GridSearchCV\n",
        "from sklearn.model_selection import RandomizedSearchCV\n",
        "from sklearn.decomposition import PCA\n",
        "from sklearn.pipeline import Pipeline\n",
        "from sklearn.tree import DecisionTreeClassifier\n",
        "from sklearn.preprocessing import LabelEncoder\n",
        "from sklearn.preprocessing import MinMaxScaler\n",
        "from sklearn import datasets\n",
        "\n"
      ],
      "execution_count": null,
      "outputs": []
    },
    {
      "cell_type": "markdown",
      "metadata": {
        "id": "RPhPWGMm00hV"
      },
      "source": [
        "Pour pouvoir sauvegarder sur votre répertoire Google Drive, il est nécessaire de fournir une autorisation. Pour cela il suffit d'éxecuter la ligne suivante et de saisir le code donné par Google."
      ]
    },
    {
      "cell_type": "code",
      "metadata": {
        "id": "eHeivmJ30pPr",
        "colab": {
          "base_uri": "https://localhost:8080/"
        },
        "outputId": "3cd06e96-d676-40dc-ce57-33fbdd9ca003"
      },
      "source": [
        "# pour monter son drive Google Drive local\n",
        "from google.colab import drive\n",
        "drive.mount('/content/gdrive')"
      ],
      "execution_count": null,
      "outputs": [
        {
          "output_type": "stream",
          "text": [
            "Drive already mounted at /content/gdrive; to attempt to forcibly remount, call drive.mount(\"/content/gdrive\", force_remount=True).\n"
          ],
          "name": "stdout"
        }
      ]
    },
    {
      "cell_type": "markdown",
      "metadata": {
        "id": "2HWmMsQw0_g1"
      },
      "source": [
        "Corriger éventuellement la ligne ci-dessous pour mettre le chemin vers un répertoire spécifique dans votre répertoire Google Drive : \n"
      ]
    },
    {
      "cell_type": "code",
      "metadata": {
        "colab": {
          "base_uri": "https://localhost:8080/"
        },
        "id": "t48QvcpB5DsW",
        "outputId": "2c21464d-c4f4-4a0a-b96c-17ebc5c8f568"
      },
      "source": [
        "import os\n",
        "os.listdir() "
      ],
      "execution_count": null,
      "outputs": [
        {
          "output_type": "execute_result",
          "data": {
            "text/plain": [
              "['.config', 'gdrive', 'sample_data']"
            ]
          },
          "metadata": {
            "tags": []
          },
          "execution_count": 3
        }
      ]
    },
    {
      "cell_type": "code",
      "metadata": {
        "id": "ytAQgNFJ1Hs5",
        "colab": {
          "base_uri": "https://localhost:8080/"
        },
        "outputId": "8bb2cee6-fddc-4f2c-a65b-425cdcb3fbaf"
      },
      "source": [
        "%cd /content/gdrive/My Drive/Colab Notebooks/EGC2021/\n",
        "#\n",
        "# pour une utilisation sur une machine locale changer le chemin ci-dessous et décommenter la ligne\n",
        "#%cd ./"
      ],
      "execution_count": null,
      "outputs": [
        {
          "output_type": "stream",
          "text": [
            "/content/gdrive/My Drive/Colab Notebooks/EGC2021\n"
          ],
          "name": "stdout"
        }
      ]
    },
    {
      "cell_type": "markdown",
      "metadata": {
        "id": "4QMzV6u00azx"
      },
      "source": [
        "##Le jeu de données IRIS\n"
      ]
    },
    {
      "cell_type": "code",
      "metadata": {
        "id": "-i07BWpWSXGd"
      },
      "source": [
        "# fonctions utilities (affichage, confusion, etc.)\n",
        "from MyNLPUtilities import *\n",
        "import SolClassificationDeDonnees "
      ],
      "execution_count": null,
      "outputs": []
    },
    {
      "cell_type": "markdown",
      "metadata": {
        "id": "ndfjJjxd0azx"
      },
      "source": [
        "IRIS est un jeu de données multivariées qui a été présenté la première fois par R. Fisher en 1936 (R. Fisher, \"The use of multiple measurements in taxonomic problems\", Annals Eugen. 7 (1936) 179-188). Introduit tout d'abord comme exemple d'application de l'analyse discriminante linéaire, il a été très largement utilisé par la communauté de l'apprentissage automatique.   \n",
        "\n",
        "Le jeu de données est constitué de 3 classes correspondant à des espèces différentes d'Iris : 'Iris Setosa', 'Iris Virginica' et 'Iris Versicolor' et possède 4 caractéristiques correspondant à : la longueur et largeur des sépales et des pétales en centimètres. \n",
        "\n",
        "<IMG SRC=\"http://www.lirmm.fr/~poncelet/EGC2021/Iris.png\" align=\"center\" >  \n",
        "    \n",
        "tiré de : https://www.datacamp.com/community/tutorials/machine-learning-in-r  \n",
        "    \n",
        "    \n",
        "Tout au long de ce notebook, nous illustrerons les principales notions à l'aide de ce jeu de données. \n"
      ]
    },
    {
      "cell_type": "code",
      "metadata": {
        "ExecuteTime": {
          "end_time": "2020-10-10T08:41:03.304830Z",
          "start_time": "2020-10-10T08:40:59.751610Z"
        },
        "id": "k3J5hx-20azx",
        "colab": {
          "base_uri": "https://localhost:8080/",
          "height": 289
        },
        "outputId": "d8118bd6-af6b-4c81-a820-c823be2d9748"
      },
      "source": [
        "import pandas as pd\n",
        "import numpy as np\n",
        "\n",
        "# Le jeu de données est disponible sur le site de l'UCI\n",
        "# https://archive.ics.uci.edu/ml/machine-learning-databases/iris/iris.data\n",
        "\n",
        "# chargement du jeu de données à partir de l'URL\n",
        "url=\"https://archive.ics.uci.edu/ml/machine-learning-databases/iris/iris.data\"\n",
        "names = ['SepalLengthCm', 'SepalWidthCm', \n",
        "         'PetalLengthCm', 'PetalWidthCm', \n",
        "         'Species']\n",
        "\n",
        "# creation d'un dataframe pour récupérer les données\n",
        "df_iris = pd.read_csv(url, names=names)\n",
        "\n",
        "# affichage des 5 premières lignes du jeu de données\n",
        "display(df_iris.head())\n",
        "\n",
        "# affichage du nombre de classes et de val\n",
        "print (\"Nombre d'occurrences par classe : \\n\",df_iris['Species'].value_counts())"
      ],
      "execution_count": null,
      "outputs": [
        {
          "output_type": "display_data",
          "data": {
            "text/html": [
              "<div>\n",
              "<style scoped>\n",
              "    .dataframe tbody tr th:only-of-type {\n",
              "        vertical-align: middle;\n",
              "    }\n",
              "\n",
              "    .dataframe tbody tr th {\n",
              "        vertical-align: top;\n",
              "    }\n",
              "\n",
              "    .dataframe thead th {\n",
              "        text-align: right;\n",
              "    }\n",
              "</style>\n",
              "<table border=\"1\" class=\"dataframe\">\n",
              "  <thead>\n",
              "    <tr style=\"text-align: right;\">\n",
              "      <th></th>\n",
              "      <th>SepalLengthCm</th>\n",
              "      <th>SepalWidthCm</th>\n",
              "      <th>PetalLengthCm</th>\n",
              "      <th>PetalWidthCm</th>\n",
              "      <th>Species</th>\n",
              "    </tr>\n",
              "  </thead>\n",
              "  <tbody>\n",
              "    <tr>\n",
              "      <th>0</th>\n",
              "      <td>5.1</td>\n",
              "      <td>3.5</td>\n",
              "      <td>1.4</td>\n",
              "      <td>0.2</td>\n",
              "      <td>Iris-setosa</td>\n",
              "    </tr>\n",
              "    <tr>\n",
              "      <th>1</th>\n",
              "      <td>4.9</td>\n",
              "      <td>3.0</td>\n",
              "      <td>1.4</td>\n",
              "      <td>0.2</td>\n",
              "      <td>Iris-setosa</td>\n",
              "    </tr>\n",
              "    <tr>\n",
              "      <th>2</th>\n",
              "      <td>4.7</td>\n",
              "      <td>3.2</td>\n",
              "      <td>1.3</td>\n",
              "      <td>0.2</td>\n",
              "      <td>Iris-setosa</td>\n",
              "    </tr>\n",
              "    <tr>\n",
              "      <th>3</th>\n",
              "      <td>4.6</td>\n",
              "      <td>3.1</td>\n",
              "      <td>1.5</td>\n",
              "      <td>0.2</td>\n",
              "      <td>Iris-setosa</td>\n",
              "    </tr>\n",
              "    <tr>\n",
              "      <th>4</th>\n",
              "      <td>5.0</td>\n",
              "      <td>3.6</td>\n",
              "      <td>1.4</td>\n",
              "      <td>0.2</td>\n",
              "      <td>Iris-setosa</td>\n",
              "    </tr>\n",
              "  </tbody>\n",
              "</table>\n",
              "</div>"
            ],
            "text/plain": [
              "   SepalLengthCm  SepalWidthCm  PetalLengthCm  PetalWidthCm      Species\n",
              "0            5.1           3.5            1.4           0.2  Iris-setosa\n",
              "1            4.9           3.0            1.4           0.2  Iris-setosa\n",
              "2            4.7           3.2            1.3           0.2  Iris-setosa\n",
              "3            4.6           3.1            1.5           0.2  Iris-setosa\n",
              "4            5.0           3.6            1.4           0.2  Iris-setosa"
            ]
          },
          "metadata": {
            "tags": []
          }
        },
        {
          "output_type": "stream",
          "text": [
            "Nombre d'occurrences par classe : \n",
            " Iris-setosa        50\n",
            "Iris-virginica     50\n",
            "Iris-versicolor    50\n",
            "Name: Species, dtype: int64\n"
          ],
          "name": "stdout"
        }
      ]
    },
    {
      "cell_type": "markdown",
      "metadata": {
        "id": "hGHzLNqF0azz"
      },
      "source": [
        "## Toute première classification"
      ]
    },
    {
      "cell_type": "markdown",
      "metadata": {
        "id": "_HeayHGT0azz"
      },
      "source": [
        "La classification supervisée considère les données sous la forme ($X$,$Y$) où $X$ correspond aux variables prédictives et $Y$ est le résultat d'une observation, i.e. la variable à prédire. \n",
        "En se basant sur un jeu d'apprentissage, un algorithme de classification supervisée cherche une fonction mathématique $F$ qui permet de transformer (au mieux) $X$ vers $Y$, i.e. $F(X) \\approx Y$.  \n",
        "\n",
        "Convention : les variables prédictives sont celles associées aux objets, généralement stockées sous la forme d'une matrice aussi, par convention, elles sont souvent notées en majuscule (notation d'une matrice). Les variables à prédire sont généralement stockées dans un vecteur et sont souvent notées avec une lettre majuscule (notation d'un vecteur).  \n",
        "\n",
        "Autrement il est tout à fait possible d'utiliser des noms de variables significatives comme data, target."
      ]
    },
    {
      "cell_type": "code",
      "metadata": {
        "ExecuteTime": {
          "end_time": "2020-10-10T08:41:03.320002Z",
          "start_time": "2020-10-10T08:41:03.307827Z"
        },
        "id": "_wTX6dK70azz"
      },
      "source": [
        "# Conversion du dataframe\n",
        "array = df_iris.values #necessité de convertir le dataframe en numpy\n",
        "\n",
        "# Récupération des différentes colonnes\n",
        "#X matrice représentant les variables prédictives \n",
        "X = array[:,0:4] \n",
        "#y vecteur : représentant la variable à prédire\n",
        "y = array[:,4]\n"
      ],
      "execution_count": null,
      "outputs": []
    },
    {
      "cell_type": "markdown",
      "metadata": {
        "id": "Xts7Doja0azz"
      },
      "source": [
        "Pour apprendre un modèle la première chose à faire est de lui créer un estimateur. Scikit-learn, permet de faire le faire en appelant la méthode *fit(X, y)*.  \n",
        "\n",
        "Pour une première illustration, nous utilisons un classifieur naïve Bayes (https://scikit-learn.org/stable/modules/naive_bayes.html)."
      ]
    },
    {
      "cell_type": "code",
      "metadata": {
        "ExecuteTime": {
          "end_time": "2020-10-10T08:41:05.012545Z",
          "start_time": "2020-10-10T08:41:03.323048Z"
        },
        "id": "I_SaM3ka0az0",
        "colab": {
          "base_uri": "https://localhost:8080/"
        },
        "outputId": "2b12f03c-02f9-482c-e717-038d5799cb57"
      },
      "source": [
        "import sklearn\n",
        "from sklearn.naive_bayes import GaussianNB\n",
        "\n",
        "clf = GaussianNB()\n",
        "\n",
        "# création de l'estimateur \n",
        "clf.fit(X, y) "
      ],
      "execution_count": null,
      "outputs": [
        {
          "output_type": "execute_result",
          "data": {
            "text/plain": [
              "GaussianNB(priors=None, var_smoothing=1e-09)"
            ]
          },
          "metadata": {
            "tags": []
          },
          "execution_count": 8
        }
      ]
    },
    {
      "cell_type": "markdown",
      "metadata": {
        "id": "J6R1NXTL0az0"
      },
      "source": [
        "Il est possible d'obtenir les hyperparamètres d'un classifieur à l'aide de *get_params*."
      ]
    },
    {
      "cell_type": "code",
      "metadata": {
        "ExecuteTime": {
          "end_time": "2020-10-10T08:41:05.026189Z",
          "start_time": "2020-10-10T08:41:05.018137Z"
        },
        "id": "v3GzcY7U0az0",
        "colab": {
          "base_uri": "https://localhost:8080/"
        },
        "outputId": "b0853a70-48dc-4ff0-84f1-aab135d155d8"
      },
      "source": [
        "clf.get_params()"
      ],
      "execution_count": null,
      "outputs": [
        {
          "output_type": "execute_result",
          "data": {
            "text/plain": [
              "{'priors': None, 'var_smoothing': 1e-09}"
            ]
          },
          "metadata": {
            "tags": []
          },
          "execution_count": 9
        }
      ]
    },
    {
      "cell_type": "markdown",
      "metadata": {
        "id": "MEBl7mNS0az1"
      },
      "source": [
        "Pour prédire la classe d'une valeur, il suffit d'appliquer la méthode *predict* sur des variables prédictives. Par exemple, nous savons que les valeurs du 5ième IRIS sont 5.0,\t3.6,\t1.4,\t0.2 et qu'il appartient à la classe Iris-setosa."
      ]
    },
    {
      "cell_type": "code",
      "metadata": {
        "ExecuteTime": {
          "end_time": "2020-10-10T08:41:05.040410Z",
          "start_time": "2020-10-10T08:41:05.032333Z"
        },
        "id": "Y6D6GPJr0az1",
        "colab": {
          "base_uri": "https://localhost:8080/"
        },
        "outputId": "0b27fdf4-4ce5-4c4f-d121-af3460b3f042"
      },
      "source": [
        "#Prediction du résultat\n",
        "\n",
        "result = clf.predict([[ 5.0,  3.6,  1.4,  0.2]])\n",
        "print ('La prédiction du modèle pour [ 5.0,  3.6,  1.4,  0.2] est', \n",
        "       result)"
      ],
      "execution_count": null,
      "outputs": [
        {
          "output_type": "stream",
          "text": [
            "La prédiction du modèle pour [ 5.0,  3.6,  1.4,  0.2] est ['Iris-setosa']\n"
          ],
          "name": "stdout"
        }
      ]
    },
    {
      "cell_type": "markdown",
      "metadata": {
        "id": "a6g6s4S50az2"
      },
      "source": [
        "Et si nous appliquions notre modèle sur ..... nos données d'apprentissage. Bien sûr cela n'a aucune sens ! l'objectif ici est de voir un peu comment notre modèle se comporte."
      ]
    },
    {
      "cell_type": "code",
      "metadata": {
        "ExecuteTime": {
          "end_time": "2020-10-10T08:41:05.054064Z",
          "start_time": "2020-10-10T08:41:05.043919Z"
        },
        "id": "t4uWhR0J0az2",
        "colab": {
          "base_uri": "https://localhost:8080/"
        },
        "outputId": "fdb09484-eca6-41b1-bab9-00ab4d429c81"
      },
      "source": [
        "result = clf.predict(X)\n",
        "print (result)"
      ],
      "execution_count": null,
      "outputs": [
        {
          "output_type": "stream",
          "text": [
            "['Iris-setosa' 'Iris-setosa' 'Iris-setosa' 'Iris-setosa' 'Iris-setosa'\n",
            " 'Iris-setosa' 'Iris-setosa' 'Iris-setosa' 'Iris-setosa' 'Iris-setosa'\n",
            " 'Iris-setosa' 'Iris-setosa' 'Iris-setosa' 'Iris-setosa' 'Iris-setosa'\n",
            " 'Iris-setosa' 'Iris-setosa' 'Iris-setosa' 'Iris-setosa' 'Iris-setosa'\n",
            " 'Iris-setosa' 'Iris-setosa' 'Iris-setosa' 'Iris-setosa' 'Iris-setosa'\n",
            " 'Iris-setosa' 'Iris-setosa' 'Iris-setosa' 'Iris-setosa' 'Iris-setosa'\n",
            " 'Iris-setosa' 'Iris-setosa' 'Iris-setosa' 'Iris-setosa' 'Iris-setosa'\n",
            " 'Iris-setosa' 'Iris-setosa' 'Iris-setosa' 'Iris-setosa' 'Iris-setosa'\n",
            " 'Iris-setosa' 'Iris-setosa' 'Iris-setosa' 'Iris-setosa' 'Iris-setosa'\n",
            " 'Iris-setosa' 'Iris-setosa' 'Iris-setosa' 'Iris-setosa' 'Iris-setosa'\n",
            " 'Iris-versicolor' 'Iris-versicolor' 'Iris-virginica' 'Iris-versicolor'\n",
            " 'Iris-versicolor' 'Iris-versicolor' 'Iris-versicolor' 'Iris-versicolor'\n",
            " 'Iris-versicolor' 'Iris-versicolor' 'Iris-versicolor' 'Iris-versicolor'\n",
            " 'Iris-versicolor' 'Iris-versicolor' 'Iris-versicolor' 'Iris-versicolor'\n",
            " 'Iris-versicolor' 'Iris-versicolor' 'Iris-versicolor' 'Iris-versicolor'\n",
            " 'Iris-virginica' 'Iris-versicolor' 'Iris-versicolor' 'Iris-versicolor'\n",
            " 'Iris-versicolor' 'Iris-versicolor' 'Iris-versicolor' 'Iris-virginica'\n",
            " 'Iris-versicolor' 'Iris-versicolor' 'Iris-versicolor' 'Iris-versicolor'\n",
            " 'Iris-versicolor' 'Iris-versicolor' 'Iris-versicolor' 'Iris-versicolor'\n",
            " 'Iris-versicolor' 'Iris-versicolor' 'Iris-versicolor' 'Iris-versicolor'\n",
            " 'Iris-versicolor' 'Iris-versicolor' 'Iris-versicolor' 'Iris-versicolor'\n",
            " 'Iris-versicolor' 'Iris-versicolor' 'Iris-versicolor' 'Iris-versicolor'\n",
            " 'Iris-versicolor' 'Iris-versicolor' 'Iris-virginica' 'Iris-virginica'\n",
            " 'Iris-virginica' 'Iris-virginica' 'Iris-virginica' 'Iris-virginica'\n",
            " 'Iris-versicolor' 'Iris-virginica' 'Iris-virginica' 'Iris-virginica'\n",
            " 'Iris-virginica' 'Iris-virginica' 'Iris-virginica' 'Iris-virginica'\n",
            " 'Iris-virginica' 'Iris-virginica' 'Iris-virginica' 'Iris-virginica'\n",
            " 'Iris-virginica' 'Iris-versicolor' 'Iris-virginica' 'Iris-virginica'\n",
            " 'Iris-virginica' 'Iris-virginica' 'Iris-virginica' 'Iris-virginica'\n",
            " 'Iris-virginica' 'Iris-virginica' 'Iris-virginica' 'Iris-virginica'\n",
            " 'Iris-virginica' 'Iris-virginica' 'Iris-virginica' 'Iris-versicolor'\n",
            " 'Iris-virginica' 'Iris-virginica' 'Iris-virginica' 'Iris-virginica'\n",
            " 'Iris-virginica' 'Iris-virginica' 'Iris-virginica' 'Iris-virginica'\n",
            " 'Iris-virginica' 'Iris-virginica' 'Iris-virginica' 'Iris-virginica'\n",
            " 'Iris-virginica' 'Iris-virginica' 'Iris-virginica' 'Iris-virginica']\n"
          ],
          "name": "stdout"
        }
      ]
    },
    {
      "cell_type": "markdown",
      "metadata": {
        "id": "4JFyXsav0az2"
      },
      "source": [
        "Une première évaluation de la qualité de la prédiction peut se faire avec le calcul de l'*accuracy* (pourcentage de prédictions correctes). "
      ]
    },
    {
      "cell_type": "code",
      "metadata": {
        "ExecuteTime": {
          "end_time": "2020-10-10T08:41:05.102021Z",
          "start_time": "2020-10-10T08:41:05.057579Z"
        },
        "id": "Ld2INCGL0az3",
        "colab": {
          "base_uri": "https://localhost:8080/"
        },
        "outputId": "f3d3e96b-5ef6-4c41-cf9e-35f895e5c0ce"
      },
      "source": [
        "from sklearn.metrics import accuracy_score\n",
        "\n",
        "print ('accuracy: ',accuracy_score(result, y))"
      ],
      "execution_count": null,
      "outputs": [
        {
          "output_type": "stream",
          "text": [
            "accuracy:  0.96\n"
          ],
          "name": "stdout"
        }
      ]
    },
    {
      "cell_type": "markdown",
      "metadata": {
        "id": "vC8XhDYK0az3"
      },
      "source": [
        "Comme nous pouvons le constater, même sur le jeu d'apprentissage il y a des erreurs dans le modèle appris.\n",
        "Pour connaître les objets mal classés :"
      ]
    },
    {
      "cell_type": "code",
      "metadata": {
        "ExecuteTime": {
          "end_time": "2020-10-10T08:41:05.131921Z",
          "start_time": "2020-10-10T08:41:05.105281Z"
        },
        "id": "UPHZhOEV0az3",
        "colab": {
          "base_uri": "https://localhost:8080/"
        },
        "outputId": "2a606118-1ce8-4e16-88cb-78c7a8c3e61e"
      },
      "source": [
        "y = np.asarray(y)\n",
        "misclassified = np.where(y != clf.predict(X))\n",
        "\n",
        "print('Les objets mal classés sont :')\n",
        "\n",
        "i=0\n",
        "for i in misclassified:\n",
        "    print('\\n',df_iris.iloc[i,:]['Species'])\n",
        "\n",
        "\n",
        "print (\"ils sont classés respectivement en :\")\n",
        "for i in misclassified: \n",
        "    print ('\\n', i,'classé en ',clf.predict(X)[i],'\\n')\n",
        "    print ('\\n')"
      ],
      "execution_count": null,
      "outputs": [
        {
          "output_type": "stream",
          "text": [
            "Les objets mal classés sont :\n",
            "\n",
            " 52     Iris-versicolor\n",
            "70     Iris-versicolor\n",
            "77     Iris-versicolor\n",
            "106     Iris-virginica\n",
            "119     Iris-virginica\n",
            "133     Iris-virginica\n",
            "Name: Species, dtype: object\n",
            "ils sont classés respectivement en :\n",
            "\n",
            " [ 52  70  77 106 119 133] classé en  ['Iris-virginica' 'Iris-virginica' 'Iris-virginica' 'Iris-versicolor'\n",
            " 'Iris-versicolor' 'Iris-versicolor'] \n",
            "\n",
            "\n",
            "\n"
          ],
          "name": "stdout"
        }
      ]
    },
    {
      "cell_type": "markdown",
      "metadata": {
        "id": "RCYmE17Z0az4"
      },
      "source": [
        "## Jeu d'apprentissage et de test "
      ]
    },
    {
      "cell_type": "markdown",
      "metadata": {
        "id": "XY0fytcn0az4"
      },
      "source": [
        "En classification, il est indispensable de créer un jeu d'apprentissage sur lequel un modèle est appris et un jeu de test pour évaluer le modèle.\n",
        "La fonction *train_test_split* permet de décomposer le jeu de données en 2 groupes : les données pour l'apprentissage et les données pour les tests.\n",
        "\n",
        "Le paramètre *train_size* indique la taille du jeu d'apprentissage qui sera utilisé.  \n",
        "le paramètre *random_state* spécifie un entier germe du nombre aléatoire pour le tirage. S'il n'est pas spécifié sickit learn utilise un générateur de nombre aléatoire à partir de np.random.   \n",
        "\n",
        "\n",
        "\n",
        "\n",
        "Dans notre exemple nous prenons 30% du jeu de données comme jeu de test.\n",
        "\n",
        "\n"
      ]
    },
    {
      "cell_type": "code",
      "metadata": {
        "ExecuteTime": {
          "end_time": "2020-10-10T08:41:05.952224Z",
          "start_time": "2020-10-10T08:41:05.922499Z"
        },
        "id": "rdn6sbxp0az4"
      },
      "source": [
        "from sklearn.model_selection import train_test_split \n",
        "\n",
        "validation_size=0.3 #30% du jeu de données pour le test\n",
        "\n",
        "testsize= 1-validation_size\n",
        "seed=30\n",
        "X_train,X_test,y_train,y_test=train_test_split(X, \n",
        "                                               y, \n",
        "                                               train_size=validation_size, \n",
        "                                               random_state=seed,\n",
        "                                               test_size=testsize)\n"
      ],
      "execution_count": null,
      "outputs": []
    },
    {
      "cell_type": "markdown",
      "metadata": {
        "id": "nDwr9C-c0az5"
      },
      "source": [
        "L'apprentissage du modèle se fait comme précédemment"
      ]
    },
    {
      "cell_type": "code",
      "metadata": {
        "ExecuteTime": {
          "end_time": "2020-10-10T08:41:05.963978Z",
          "start_time": "2020-10-10T08:41:05.954421Z"
        },
        "id": "-a8RhSaO0az5",
        "colab": {
          "base_uri": "https://localhost:8080/"
        },
        "outputId": "9c1b75dc-861c-4ea4-fa14-e35987757ee7"
      },
      "source": [
        "clf = GaussianNB()\n",
        "clf.fit(X_train, y_train)\n"
      ],
      "execution_count": null,
      "outputs": [
        {
          "output_type": "execute_result",
          "data": {
            "text/plain": [
              "GaussianNB(priors=None, var_smoothing=1e-09)"
            ]
          },
          "metadata": {
            "tags": []
          },
          "execution_count": 15
        }
      ]
    },
    {
      "cell_type": "markdown",
      "metadata": {
        "id": "wP8EtWOR0az5"
      },
      "source": [
        "De même pour la prédiction"
      ]
    },
    {
      "cell_type": "code",
      "metadata": {
        "ExecuteTime": {
          "end_time": "2020-10-10T08:41:05.978619Z",
          "start_time": "2020-10-10T08:41:05.966887Z"
        },
        "id": "nuKTUMd00az6",
        "colab": {
          "base_uri": "https://localhost:8080/"
        },
        "outputId": "211bfe97-ec82-4bb3-cfa6-33cbf1903362"
      },
      "source": [
        "from sklearn.metrics import accuracy_score\n",
        "\n",
        "y_pred = clf.predict(X_test)\n",
        "print('\\n accuracy : %0.3f'%(accuracy_score(y_pred, y_test)),'\\n')\n"
      ],
      "execution_count": null,
      "outputs": [
        {
          "output_type": "stream",
          "text": [
            "\n",
            " accuracy : 0.943 \n",
            "\n"
          ],
          "name": "stdout"
        }
      ]
    },
    {
      "cell_type": "markdown",
      "metadata": {
        "id": "4LqiEb7i0az6"
      },
      "source": [
        "Le problème essentiel de cette approche est que le modèle est appris sur un seul jeu de données et qu'en fonction de la sélection les résultats peuvent être très différents.\n",
        "La bonne solution consiste à utiliser la **cross validation**.\n",
        "Dans notre cas, nous allons utiliser une 10-fold cross validation pour évaluer la qualité. \n",
        "Le jeu de données sera découpé en 10 parties, entrainé sur 9, testé sur 1 et cela sera répété pour toutes les combinaisons du découpage. "
      ]
    },
    {
      "cell_type": "code",
      "metadata": {
        "ExecuteTime": {
          "end_time": "2020-10-10T08:41:05.990960Z",
          "start_time": "2020-10-10T08:41:05.982247Z"
        },
        "id": "lQeBnfcH0az6"
      },
      "source": [
        "from sklearn.model_selection import KFold\n",
        "from sklearn.model_selection import cross_val_score\n",
        "seed=7\n",
        "k_fold = KFold(n_splits=10, shuffle=True, random_state=seed)"
      ],
      "execution_count": null,
      "outputs": []
    },
    {
      "cell_type": "code",
      "metadata": {
        "ExecuteTime": {
          "end_time": "2020-10-10T08:41:06.039780Z",
          "start_time": "2020-10-10T08:41:05.994022Z"
        },
        "id": "NweryR900az6",
        "colab": {
          "base_uri": "https://localhost:8080/"
        },
        "outputId": "4a4afb96-4236-440a-b347-eaefdd3e31df"
      },
      "source": [
        "clf = GaussianNB()\n",
        "\n",
        "scoring = 'accuracy'\n",
        "score = cross_val_score(clf, X, y, cv=k_fold, scoring=scoring)\n",
        "\n",
        "print('Les différentes accuracy pour les 10 évaluations sont : \\n',\n",
        "      score,'\\n')\n",
        "print ('Accuracy moyenne : %0.3f'%(score.mean()), \n",
        "       ' standard deviation %0.3f'%(score.std()))\n"
      ],
      "execution_count": null,
      "outputs": [
        {
          "output_type": "stream",
          "text": [
            "Les différentes accuracy pour les 10 évaluations sont : \n",
            " [0.8        0.86666667 1.         1.         0.93333333 1.\n",
            " 1.         1.         0.93333333 1.        ] \n",
            "\n",
            "Accuracy moyenne : 0.953  standard deviation 0.067\n"
          ],
          "name": "stdout"
        }
      ]
    },
    {
      "cell_type": "markdown",
      "metadata": {
        "id": "nHmPi0ts0az8"
      },
      "source": [
        "L'écart type est très important car il montre les grandes variations qui peuvent exister par rapport aux jeux de données."
      ]
    },
    {
      "cell_type": "markdown",
      "metadata": {
        "id": "lZM_dkuT0az8"
      },
      "source": [
        "## Plus loin sur l'évaluation d'un modèle "
      ]
    },
    {
      "cell_type": "markdown",
      "metadata": {
        "id": "-hWopg-M0az9"
      },
      "source": [
        "L'accuracy (nombre d'objets correctement classés) est la métrique la plus simple pour comprendre le \n",
        "résultat de la classification mais ne tient pas du tout compte de la distribution des données et ne permet pas d'indiquer les erreurs. Par exemple avec des classes très déséquilibrées (1 vs 99), nous pouvons avoir un modèle avec une accuracy de 99%.  \n",
        "\n",
        "Par la suite, par simplification, nous reprenons une classification réalisée sans cross validation mais le principe est évidemment le même avec cross validation. Nous introduisons la matrice de correlation et les différentes mesures : precision, rappel et F1-score."
      ]
    },
    {
      "cell_type": "code",
      "metadata": {
        "ExecuteTime": {
          "end_time": "2020-10-10T08:41:06.809699Z",
          "start_time": "2020-10-10T08:41:06.043336Z"
        },
        "id": "3EpI54rb0az9",
        "colab": {
          "base_uri": "https://localhost:8080/"
        },
        "outputId": "4c6dbc6a-f460-4441-e12d-271f22ffed71"
      },
      "source": [
        "\n",
        "array = df_iris.values\n",
        "X = array[:,0:4] \n",
        "y = array[:,4]\n",
        "\n",
        "validation_size=0.3 #30% du jeu de données pour le test\n",
        "\n",
        "testsize= 1-validation_size\n",
        "seed=30\n",
        "X_train,X_test,y_train,y_test=train_test_split(X, y, \n",
        "                                               train_size=validation_size, \n",
        "                                               random_state=seed,\n",
        "                                               test_size=testsize)\n",
        "clf = GaussianNB()\n",
        "clf.fit(X_train, y_train)\n",
        "y_pred = clf.predict(X_test)\n",
        "\n",
        "print('\\n accuracy : %0.3f'%(accuracy_score(y_pred, y_test)),'\\n')"
      ],
      "execution_count": null,
      "outputs": [
        {
          "output_type": "stream",
          "text": [
            "\n",
            " accuracy : 0.943 \n",
            "\n"
          ],
          "name": "stdout"
        }
      ]
    },
    {
      "cell_type": "markdown",
      "metadata": {
        "id": "yNqMIaAV0az9"
      },
      "source": [
        "La matrice de confusion permet de connaître les objets bien ou mal classés. Il suffit d'utiliser la fonction *confusion_matrix*. Nous visualisons également cette matrice."
      ]
    },
    {
      "cell_type": "code",
      "metadata": {
        "ExecuteTime": {
          "end_time": "2020-10-10T08:41:06.827767Z",
          "start_time": "2020-10-10T08:41:06.812613Z"
        },
        "id": "MoAYANGX0az9",
        "colab": {
          "base_uri": "https://localhost:8080/",
          "height": 490
        },
        "outputId": "172663bc-0430-4457-86de-dc9111657503"
      },
      "source": [
        "from sklearn.metrics import confusion_matrix\n",
        "\n",
        "conf = confusion_matrix(y_test, y_pred)\n",
        "print ('\\n matrice de confusion \\n',conf)\n",
        "plot_confusion_matrix(conf, ['Iris-setosa','Iris-versicolor','Iris-virginica'])"
      ],
      "execution_count": null,
      "outputs": [
        {
          "output_type": "stream",
          "text": [
            "\n",
            " matrice de confusion \n",
            " [[34  0  0]\n",
            " [ 0 33  5]\n",
            " [ 0  1 32]]\n"
          ],
          "name": "stdout"
        },
        {
          "output_type": "display_data",
          "data": {
            "image/png": "[encoded data removed]",
            "text/plain": [
              "<Figure size 576x360 with 2 Axes>"
            ]
          },
          "metadata": {
            "tags": []
          }
        }
      ]
    },
    {
      "cell_type": "markdown",
      "metadata": {
        "id": "Gk9ClMeG0az-"
      },
      "source": [
        "Il est possible d'obtenir plus d'information : *precision*, *recall* et  *f1-measure* à l'aide de *classification_report*."
      ]
    },
    {
      "cell_type": "code",
      "metadata": {
        "ExecuteTime": {
          "end_time": "2020-10-10T08:41:06.849757Z",
          "start_time": "2020-10-10T08:41:06.830916Z"
        },
        "id": "yLLmzfWg0az-",
        "colab": {
          "base_uri": "https://localhost:8080/"
        },
        "outputId": "39693abd-3d94-4002-f993-c21058dc87bc"
      },
      "source": [
        "from sklearn.metrics import classification_report\n",
        "conf = confusion_matrix(y_test, y_pred)\n",
        "print ('\\n matrice de confusion \\n',conf)\n",
        "print ('\\n',classification_report(y_test, y_pred))"
      ],
      "execution_count": null,
      "outputs": [
        {
          "output_type": "stream",
          "text": [
            "\n",
            " matrice de confusion \n",
            " [[34  0  0]\n",
            " [ 0 33  5]\n",
            " [ 0  1 32]]\n",
            "\n",
            "                  precision    recall  f1-score   support\n",
            "\n",
            "    Iris-setosa       1.00      1.00      1.00        34\n",
            "Iris-versicolor       0.97      0.87      0.92        38\n",
            " Iris-virginica       0.86      0.97      0.91        33\n",
            "\n",
            "       accuracy                           0.94       105\n",
            "      macro avg       0.95      0.95      0.94       105\n",
            "   weighted avg       0.95      0.94      0.94       105\n",
            "\n"
          ],
          "name": "stdout"
        }
      ]
    },
    {
      "cell_type": "markdown",
      "metadata": {
        "id": "FysPKZJ9RUYE"
      },
      "source": [
        "Par la suite, pour afficher les résultats de classification : rapport de classification et matrice de confusion, nous utilisons la fonction suivante : \n"
      ]
    },
    {
      "cell_type": "code",
      "metadata": {
        "id": "KP7O0eRmRiQQ",
        "colab": {
          "base_uri": "https://localhost:8080/",
          "height": 609
        },
        "outputId": "5a3590fd-a942-417f-c15c-56e2fbc51aa0"
      },
      "source": [
        "# fonction qui affiche le classification report et la matrice de confusion\n",
        "def MyshowAllScores(y_test,y_pred):\n",
        "  classes= np.unique(y_test)\n",
        "  print(\"Accuracy : %0.3f\"%(accuracy_score(y_test,y_pred)))\n",
        "  print(\"Classification Report\")\n",
        "  print(classification_report(y_test,y_pred,digits=5))    \n",
        "  cnf_matrix = confusion_matrix(y_test,y_pred)\n",
        "  plot_confusion_matrix(cnf_matrix, classes)\n",
        "\n",
        "MyshowAllScores(y_test,y_pred)"
      ],
      "execution_count": null,
      "outputs": [
        {
          "output_type": "stream",
          "text": [
            "Accuracy : 0.943\n",
            "Classification Report\n",
            "                 precision    recall  f1-score   support\n",
            "\n",
            "    Iris-setosa    1.00000   1.00000   1.00000        34\n",
            "Iris-versicolor    0.97059   0.86842   0.91667        38\n",
            " Iris-virginica    0.86486   0.96970   0.91429        33\n",
            "\n",
            "       accuracy                        0.94286       105\n",
            "      macro avg    0.94515   0.94604   0.94365       105\n",
            "   weighted avg    0.94688   0.94286   0.94290       105\n",
            "\n"
          ],
          "name": "stdout"
        },
        {
          "output_type": "display_data",
          "data": {
            "image/png": "[encoded data removed]",
            "text/plain": [
              "<Figure size 576x360 with 2 Axes>"
            ]
          },
          "metadata": {
            "tags": []
          }
        }
      ]
    },
    {
      "cell_type": "markdown",
      "metadata": {
        "id": "ims7_s3j0az-"
      },
      "source": [
        "**Rappel** :  \n",
        "Considérons une matrice de confusion dans un cas binaire. Par exemple présence de SPAM ou non dans des mails.   \n",
        "\n",
        "  $$  \\begin{array}{|c|c|c|}\n",
        "  \\hline\n",
        "  N= & {\\bf PREDIT} & {\\bf PREDIT}  \\\\\n",
        "  115& {\\bf NON} & {\\bf OUI} \\\\\n",
        "  \\hline\n",
        "  {\\bf REEL} & 60 & 10 \\\\\n",
        "  {\\bf NON} & & \\\\\n",
        "  \\hline\n",
        " {\\bf REEL} & 5 & 40 \\\\\n",
        "  {\\bf OUI} & & \\\\\n",
        "  \\hline\n",
        "\\end{array}$$\n",
        "\n",
        "La matrice nous permet de voir qu'il y a deux classes prédites (OUI ou NON). Le classifieur fait un total de 115 prédictions. Sur ces 115 cas, le classifieur a prédit  OUI 50 fois et NON 65 fois. En fait 45 documents sont des SPAMS et 70 ne le sont pas. \n",
        "\n",
        "\n",
        "**TP** (True positive) : il s'agit des objets qui étaient prédits OUI (il s'agit de SPAM) et qui sont effectivement des SPAM.  \n",
        "**TN** (True negative) : il s'agit des objets qui étaient prédits NON (il ne s'agit pas de SPAM) et qui effectivement ne sont pas des SPAM.  \n",
        "**FP** (False positive) : il s'agit des objets qui étaient prédits comme SPAM mais qui en fait n'étaient pas des SPAM.  \n",
        "**FN** (False negative) : il s'agit des objets qui étaient prédits comme non SPAM qui en fait s'avèrent être des SPAM.  \n",
        "Dans la matrice ci-dessous ces éléments sont reportés :  \n",
        "\n",
        "$$  \\begin{array}{|c|c|c|c|}\n",
        "  \\hline\n",
        "  N= & {\\bf PREDIT} & {\\bf PREDIT} & \\\\\n",
        "  115& {\\bf NON} & {\\bf OUI} & \\\\\n",
        "  \\hline\n",
        "  {\\bf REEL} & TN=60 & FP=10 & 70\\\\\n",
        "  {\\bf NON} & & \\\\\n",
        "  \\hline\n",
        " {\\bf REEL} & FN=5 & TP=40 & 45\\\\\n",
        "  {\\bf OUI} & & \\\\\n",
        "  \\hline\n",
        "  & 65 & 50 &\\\\\n",
        "  \\hline\n",
        "\\end{array}$$\n",
        "\n",
        "L'**accuracy**  correspond au pourcentage de prédiction correcte. Elle est définie par \n",
        "$$\\frac{TP+TN}{TN+FP+FN+TP}=\\frac{40+60}{60+10+5+40}=0.86.$$  \n",
        "Le **recall** (ou sensitivity ou True Positive Rate ou rappel) correspond au nombre d' objets pertinents retrouvés par rapport aux nombres d'objets pertinents du jeu de données. Dans notre cas, pour tous les OUI présents combien de fois le OUI a t'il été prédit ?\n",
        "\n",
        "$$recall=\\frac{Nombre\\ de\\ SPAM\\ correctement\\ reconnus}{Nombre\\ total\\ de\\ SPAM\\ dans\\ le\\ jeu\\ de\\ données} = \\frac{TP}{FN+TP}=\\frac{40}{40+5}=0.88.$$  \n",
        "La **precision** correspond à la proportion d'objets pertinents parmi les objets sélectionné. Tous les objets retournés non pertinents constituent du bruit. \n",
        "$$precision=\\frac{Nombre\\ de\\ SPAM\\ correctement\\ reconnus}{Nombre\\ de\\ fois\\ où\\ un\\ objet\\ a\\ été\\ prédit\\ SPAM} = \\frac{TP}{TP+FP}=\\frac{40}{40+10}=0.8.$$  \n",
        "\n",
        "Le **f1-score** (ou f-measure) est la moyenne harmonique du rappel et de la précision.\n",
        "$$f1-score=2\\times\\frac{precision \\times recall}{precision + recall}=2\\times\\frac{0.8 \\times 0.88}{0.8+0.88}.$$  \n",
        "\n",
        "Dans le cas d'une classification multiclasse, à partir de la matrice de confusion, la precision est calculée, pour une colonne $i$, par :  \n",
        "$$precision_i = \\frac{M_{ii}}{\\sum_j M_{ji}}$$\n",
        "et le recall par : \n",
        "$$ recall_i = \\frac{M_{ii}}{\\sum_j M_{ij}}$$  \n",
        "\n",
        "Pour la matrice de confusion suivante : \n",
        "\\begin{array}{cccc}\n",
        "Iris-setosa &34 & 0 & 0\\\\\n",
        "Iris-versicolor & 0 &33 & 5\\\\\n",
        "Iris-virginica & 0 & 1 &32\\\\\n",
        "\\end{array}\n",
        "\n",
        "classification_report retourne le résultat suivant :  \n",
        "\n",
        " \\begin{array}{ccccc}\n",
        "           &   precision  &  recall & f1-score &  support\\\\\n",
        "\\\\\n",
        "    Iris-setosa    &   1.00  &    1.00  &    1.00   &     34\\\\\n",
        "Iris-versicolor   &    0.97 &     0.87  &    0.92  &      38\\\\\n",
        " Iris-virginica   &    0.86  &    0.97  &    0.91  &      33\\\\\n",
        "\\\\\n",
        "    avg / total    &   0.95  &    0.94  &    0.94   &    105\\\\\n",
        "\\end{array}    \n",
        "\n",
        "La precision d'Iris-versicolor est obtenue par : \n",
        "$$precision_i = \\frac{M_{ii}}{\\sum_j M_{ji}}=\\frac{33}{33+1}=0.97.$$\n",
        "Le rappel d'Iris-versicolor est obtenue par : \n",
        "$$ recall_i = \\frac{M_{ii}}{\\sum_j M_{ij}}=\\frac{33}{33+5}=0.87.$$\n",
        "La precision d'Iris-virginica est obtenue par : \n",
        "$$precision_i = \\frac{M_{ii}}{\\sum_j M_{ji}}=\\frac{32}{32+5}=0.86.$$\n",
        "Le rappel d'Iris-versicolor est obtenue par : \n",
        "$$ recall_i = \\frac{M_{ii}}{\\sum_j M_{ij}}=\\frac{32}{32+1}=0.96.$$"
      ]
    },
    {
      "cell_type": "markdown",
      "metadata": {
        "id": "Bm_kQhcJ0az-"
      },
      "source": [
        "Les métriques peuvent être appelées indépendamment :"
      ]
    },
    {
      "cell_type": "code",
      "metadata": {
        "ExecuteTime": {
          "end_time": "2020-10-10T08:41:08.039515Z",
          "start_time": "2020-10-10T08:41:08.025607Z"
        },
        "id": "9ifLUTKI0az_",
        "colab": {
          "base_uri": "https://localhost:8080/"
        },
        "outputId": "cde85094-c334-4235-e35b-df757c112391"
      },
      "source": [
        "from sklearn.metrics import precision_recall_fscore_support as score\n",
        "\n",
        "precision, recall, fscore, support = score(y_test, y_pred)\n",
        "\n",
        "print('precision: {}'.format(precision))\n",
        "print('recall: {}'.format(recall))\n",
        "print('fscore: {}'.format(fscore))\n",
        "print('support: {}'.format(support))"
      ],
      "execution_count": null,
      "outputs": [
        {
          "output_type": "stream",
          "text": [
            "precision: [1.         0.97058824 0.86486486]\n",
            "recall: [1.         0.86842105 0.96969697]\n",
            "fscore: [1.         0.91666667 0.91428571]\n",
            "support: [34 38 33]\n"
          ],
          "name": "stdout"
        }
      ]
    },
    {
      "cell_type": "markdown",
      "metadata": {
        "id": "eECxiAmW0az_"
      },
      "source": [
        "**Remarque :** il existe, bien entendu, d'autres mesures pour évaluer un classifieur. Par exemple, la sensiblité, la spécificité, l’air sous la courbe roc (AUC), l’indice de Gini, etc. "
      ]
    },
    {
      "cell_type": "markdown",
      "metadata": {
        "id": "mbotcSto0az_"
      },
      "source": [
        "## Utiliser plusieurs classifiers"
      ]
    },
    {
      "cell_type": "markdown",
      "metadata": {
        "id": "9EtPh_wb0az_"
      },
      "source": [
        "Comme l'indique le NO FREE LUNCH THEOREM il n'existe pas un classifieur universel et en fonction des données il est souvent nécessaire d'en évaluer plusieurs pour retenir le plus efficace. Le principe est similaire au précédent, il suffit de les mettre dans une structure et de boucler dessus.  \n",
        "\n",
        "Dans cette section, nous transformons très légérement nos données. Si nous regardons les différentes valeurs associées aux caractéristiques nous voyons que celles-ci sont assez grandes (e.g. 5.9 cm). Cela peut fortement impacter les différents classifiers (e.g. SVM), aussi nous allons normaliser les données de manière à ce qu'elles soient dans un intervalle de valeur. Pour cela, nous utilisons *StandardScaler* qui va transformer les données telles que la distribution aura une valeur moyenne de 0 et un écart type de 1.  \n",
        "\n",
        "Comme vous pouvez le constater dans la cellule suivante, le principe pour cette transformation est assez similaire à ce que nous avons vu précédemment : application d'un estimateur (ici le changement de distribution) et transformation des données. "
      ]
    },
    {
      "cell_type": "code",
      "metadata": {
        "ExecuteTime": {
          "end_time": "2020-10-10T08:41:09.039381Z",
          "start_time": "2020-10-10T08:41:08.042326Z"
        },
        "id": "Spu0r-tE0a0A"
      },
      "source": [
        "\n",
        "from sklearn.preprocessing import StandardScaler\n",
        "\n",
        "\n",
        "\n",
        "# Certains algorithmes, notamment SVM qui résout simplement un problème d'optimisation quadratique ou bien LR, \n",
        "# sont très sensibles et ne peuvent pas converger si les valeurs ne sont pas normalisées.\n",
        "# Normalisation en utilisant StandardScaler qui transforme les caractéristiques (xi) \n",
        "# en valeurs entre [-1 .. 1]. \n",
        "# Cette plage de valeurs peut être changée via les parametres feature_range=(min, max). \n",
        "\n",
        "# creation d'un objet de la classe StandardScaler\n",
        "standardscaler = StandardScaler()\n",
        "\n",
        "# application du changement de distribution aux variables descriptives\n",
        "\n",
        "X_standardscale = standardscaler.fit_transform(X)\n",
        "\n",
        "\n",
        "X=X_standardscale\n",
        "\n",
        "validation_size=0.3 \n",
        "\n",
        "testsize= 1-validation_size\n",
        "seed=30\n",
        "X_train, X_test, y_train, y_test = train_test_split(X, y, train_size=validation_size, random_state=seed,test_size=testsize)\n"
      ],
      "execution_count": null,
      "outputs": []
    },
    {
      "cell_type": "markdown",
      "metadata": {
        "id": "XBj5k9Sp0a0A"
      },
      "source": [
        "Dans la suite de la section, nous utilisons différents types de classifier :  'LogisticRegression', 'DecisionTree','KNeighbors', 'GaussianNB' et 'SVM'.   \n",
        "Les paramètres utilisés pour chacune des approches sont ceux par défaut. \n",
        "Pour chaque approche nous faisons une cross validation de 10."
      ]
    },
    {
      "cell_type": "code",
      "metadata": {
        "ExecuteTime": {
          "end_time": "2020-10-10T08:41:09.044716Z",
          "start_time": "2020-10-10T08:40:59.845Z"
        },
        "id": "QL0Z_0a30a0A",
        "colab": {
          "base_uri": "https://localhost:8080/"
        },
        "outputId": "f3270f18-fa11-40d8-a1ea-7e6e0f3cbdbc"
      },
      "source": [
        "from sklearn.linear_model import LogisticRegression\n",
        "from sklearn.tree import DecisionTreeClassifier\n",
        "from sklearn.neighbors import KNeighborsClassifier\n",
        "from sklearn.naive_bayes import GaussianNB\n",
        "from sklearn.svm import SVC\n",
        "\n",
        "seed = 7\n",
        "scoring = 'accuracy'\n",
        "models = []\n",
        "models.append(('LR', LogisticRegression(solver='lbfgs')))\n",
        "models.append(('KNN', KNeighborsClassifier()))\n",
        "models.append(('CART', DecisionTreeClassifier()))\n",
        "models.append(('NB', GaussianNB()))\n",
        "models.append(('SVM', SVC(gamma='auto')))\n",
        "\n",
        "models"
      ],
      "execution_count": null,
      "outputs": [
        {
          "output_type": "execute_result",
          "data": {
            "text/plain": [
              "[('LR',\n",
              "  LogisticRegression(C=1.0, class_weight=None, dual=False, fit_intercept=True,\n",
              "                     intercept_scaling=1, l1_ratio=None, max_iter=100,\n",
              "                     multi_class='auto', n_jobs=None, penalty='l2',\n",
              "                     random_state=None, solver='lbfgs', tol=0.0001, verbose=0,\n",
              "                     warm_start=False)),\n",
              " ('KNN',\n",
              "  KNeighborsClassifier(algorithm='auto', leaf_size=30, metric='minkowski',\n",
              "                       metric_params=None, n_jobs=None, n_neighbors=5, p=2,\n",
              "                       weights='uniform')),\n",
              " ('CART',\n",
              "  DecisionTreeClassifier(ccp_alpha=0.0, class_weight=None, criterion='gini',\n",
              "                         max_depth=None, max_features=None, max_leaf_nodes=None,\n",
              "                         min_impurity_decrease=0.0, min_impurity_split=None,\n",
              "                         min_samples_leaf=1, min_samples_split=2,\n",
              "                         min_weight_fraction_leaf=0.0, presort='deprecated',\n",
              "                         random_state=None, splitter='best')),\n",
              " ('NB', GaussianNB(priors=None, var_smoothing=1e-09)),\n",
              " ('SVM',\n",
              "  SVC(C=1.0, break_ties=False, cache_size=200, class_weight=None, coef0=0.0,\n",
              "      decision_function_shape='ovr', degree=3, gamma='auto', kernel='rbf',\n",
              "      max_iter=-1, probability=False, random_state=None, shrinking=True,\n",
              "      tol=0.001, verbose=False))]"
            ]
          },
          "metadata": {
            "tags": []
          },
          "execution_count": 26
        }
      ]
    },
    {
      "cell_type": "markdown",
      "metadata": {
        "id": "9F8cfExE0a0A"
      },
      "source": [
        "Une fois les modèles définis, il suffit de boucler en faisant une cross validation"
      ]
    },
    {
      "cell_type": "code",
      "metadata": {
        "ExecuteTime": {
          "end_time": "2020-10-10T08:41:09.046317Z",
          "start_time": "2020-10-10T08:40:59.849Z"
        },
        "id": "ONBVwpKf0a0A",
        "colab": {
          "base_uri": "https://localhost:8080/"
        },
        "outputId": "ebb7e133-9685-40e1-e987-12792e44b45c"
      },
      "source": [
        "from sklearn.model_selection import KFold\n",
        "from sklearn.model_selection import cross_val_score\n",
        "import time\n",
        "results = []\n",
        "names = []\n",
        "for name,model in models:\n",
        "    kfold = KFold(n_splits=10, random_state=seed)\n",
        "    start_time = time.time()\n",
        "    cv_results = cross_val_score(model, X, y, cv=kfold, scoring=scoring)\n",
        "    #pour avoir les paramètres utilisés dans le modèle enlever commentaire ligne suivante\n",
        "    #print (model.get_params())\n",
        "    print (\"Time pour\",name,\" %0.5f\"%(time.time() - start_time),'s')\n",
        "    results.append(cv_results)\n",
        "    names.append(name)\n",
        "    msg = \"%s: %0.3f (%0.3f)\" % (name, cv_results.mean(), cv_results.std())\n",
        "    print(msg)       "
      ],
      "execution_count": null,
      "outputs": [
        {
          "output_type": "stream",
          "text": [
            "Time pour LR  0.12030 s\n",
            "LR: 0.947 (0.065)\n",
            "Time pour KNN  0.03628 s\n",
            "KNN: 0.927 (0.081)\n",
            "Time pour CART  0.01307 s\n",
            "CART: 0.940 (0.070)\n",
            "Time pour NB  0.02169 s\n",
            "NB: 0.947 (0.058)\n",
            "Time pour SVM  0.01862 s\n",
            "SVM: 0.947 (0.058)\n"
          ],
          "name": "stdout"
        }
      ]
    },
    {
      "cell_type": "code",
      "metadata": {
        "ExecuteTime": {
          "end_time": "2020-10-10T08:41:09.047712Z",
          "start_time": "2020-10-10T08:40:59.854Z"
        },
        "id": "MzxZJpOm0a0A",
        "colab": {
          "base_uri": "https://localhost:8080/",
          "height": 387
        },
        "outputId": "ead609ad-d548-462c-86af-74d5744405f5"
      },
      "source": [
        "fig = plt.figure()\n",
        "fig.suptitle('Comparaison des algorithmes')\n",
        "ax = fig.add_subplot(111)\n",
        "plt.boxplot(results)\n",
        "ax.set_xticklabels(names)"
      ],
      "execution_count": null,
      "outputs": [
        {
          "output_type": "execute_result",
          "data": {
            "text/plain": [
              "[Text(0, 0, 'LR'),\n",
              " Text(0, 0, 'KNN'),\n",
              " Text(0, 0, 'CART'),\n",
              " Text(0, 0, 'NB'),\n",
              " Text(0, 0, 'SVM')]"
            ]
          },
          "metadata": {
            "tags": []
          },
          "execution_count": 28
        },
        {
          "output_type": "display_data",
          "data": {
            "image/png": "[encoded data removed]",
            "text/plain": [
              "<Figure size 432x288 with 1 Axes>"
            ]
          },
          "metadata": {
            "tags": []
          }
        }
      ]
    },
    {
      "cell_type": "markdown",
      "metadata": {
        "id": "L2f7rrn70a0A"
      },
      "source": [
        "SVM et NB donnent sensiblement les mêmes résultats. Par la suite, nous utilisons SVM comme modèle de prédiction."
      ]
    },
    {
      "cell_type": "code",
      "metadata": {
        "ExecuteTime": {
          "end_time": "2020-10-10T08:41:09.049303Z",
          "start_time": "2020-10-10T08:40:59.946Z"
        },
        "scrolled": true,
        "id": "uQWLp0Qq0a0B",
        "colab": {
          "base_uri": "https://localhost:8080/",
          "height": 609
        },
        "outputId": "cfd68229-00ec-493e-e524-d0c43e2c20c5"
      },
      "source": [
        "\n",
        "clf = SVC(gamma='auto')\n",
        "clf.fit(X_train, y_train)\n",
        "y_pred = clf.predict(X_test)\n",
        "MyshowAllScores(y_test,y_pred)\n"
      ],
      "execution_count": null,
      "outputs": [
        {
          "output_type": "stream",
          "text": [
            "Accuracy : 0.952\n",
            "Classification Report\n",
            "                 precision    recall  f1-score   support\n",
            "\n",
            "    Iris-setosa    1.00000   1.00000   1.00000        34\n",
            "Iris-versicolor    0.97143   0.89474   0.93151        38\n",
            " Iris-virginica    0.88889   0.96970   0.92754        33\n",
            "\n",
            "       accuracy                        0.95238       105\n",
            "      macro avg    0.95344   0.95481   0.95301       105\n",
            "   weighted avg    0.95474   0.95238   0.95244       105\n",
            "\n"
          ],
          "name": "stdout"
        },
        {
          "output_type": "display_data",
          "data": {
            "image/png": "[encoded data removed]",
            "text/plain": [
              "<Figure size 576x360 with 2 Axes>"
            ]
          },
          "metadata": {
            "tags": []
          }
        }
      ]
    },
    {
      "cell_type": "markdown",
      "metadata": {
        "id": "xGk1tOt60a0B"
      },
      "source": [
        "## Les hyperparamètres\n"
      ]
    },
    {
      "cell_type": "markdown",
      "metadata": {
        "id": "8xoTgzPf0a0B"
      },
      "source": [
        "Dans l'approche précédente nous avons pris les valeurs par défaut pour les différents classifieurs. Cependant en fonction des paramètres du classifieur les résultats peuvent être complétement différents (choix du noyeau SVM, nombre de K dans KNeighbors, etc. ). Scikit learn permet de pouvoir faire une recherche exhaustive (grid search) pour trouver les paramètres les plus pertinents pour un classifieur."
      ]
    },
    {
      "cell_type": "code",
      "metadata": {
        "ExecuteTime": {
          "end_time": "2020-10-10T08:41:09.050780Z",
          "start_time": "2020-10-10T08:40:59.951Z"
        },
        "id": "5_FpVvGt0a0B"
      },
      "source": [
        "\n",
        "array = df_iris.values\n",
        "X = array[:,0:4] \n",
        "y = array[:,4]\n",
        "\n",
        "standardscaler = StandardScaler()\n",
        "X_standardscale = standardscaler.fit_transform(X)\n",
        "X=X_standardscale\n",
        "\n",
        "validation_size=0.3 \n",
        "\n",
        "testsize= 1-validation_size\n",
        "seed=30\n",
        "X_train, X_test, y_train, y_test = train_test_split(X, y, \n",
        "                                                    train_size=validation_size, \n",
        "                                                    random_state=seed,\n",
        "                                                    test_size=testsize)\n",
        "\n"
      ],
      "execution_count": null,
      "outputs": []
    },
    {
      "cell_type": "markdown",
      "metadata": {
        "id": "xOVaCV7D0a0B"
      },
      "source": [
        "Considérons un arbre de décision. Les principaux paramètres sont le critère pour découper (gini ou entropy), la profondeur maximale de l'arbre, et le nombre d'échantillons par feuille. Il faut, dans un premier temps, initialiser les variables à tester dans un dictionnaire.  \n",
        "Le test de toutes les valeurs se fait à l'aide de la fonction *GridSearchCV*.\n",
        "Ele prend comme paramètre le classifieur, le dictionnaire des paramètres, le type de scoring, le nombre de crossvalidation.  \n",
        "\n",
        "Quelques paramètres souvent utilisés :  \n",
        "-  *n_jobs* : (par défaut 1) nombre de coeurs à utiliser pour effectuer les calculs, dépend du cpu. Si la machine possède plusieurs coeurs, il est possible d'indiquer de tous les utiliser en mettant *n_jobs=-1*  \n",
        "-  *verbose* : affichage du déroulement des calculs, 0 = silent.\n",
        "- *random_state* : si le classifieur utilisé utilise de l'aléatoire, random_state permet de fixer le générateur pour reproduire les résultats.   \n",
        "\n",
        "\n",
        "Un grid search est long à obtenir dans la mesure où il faut essayer l'ensemble des cas. La possibilité de répartir sur plusieurs processeur permet de faire gagner beaucoup de temps. "
      ]
    },
    {
      "cell_type": "code",
      "metadata": {
        "ExecuteTime": {
          "end_time": "2020-10-10T08:41:09.052352Z",
          "start_time": "2020-10-10T08:40:59.956Z"
        },
        "id": "Jv2NCwDq0a0B",
        "colab": {
          "base_uri": "https://localhost:8080/"
        },
        "outputId": "334ee559-f491-4bca-94ad-e4bfaffe503c"
      },
      "source": [
        "from sklearn.tree import DecisionTreeClassifier\n",
        "from sklearn.model_selection import GridSearchCV\n",
        "\n",
        "grid_param = {  \n",
        "    'max_depth': [1,2,3,4,5,6,7,8,9,10],\n",
        "    'criterion': ['gini', 'entropy'],\n",
        "    'min_samples_leaf': [1,2,3,4,5,6,7,8,9,10]\n",
        "}\n",
        "\n",
        "\n",
        "gd_sr = GridSearchCV(estimator=DecisionTreeClassifier(),  \n",
        "                     param_grid=grid_param,\n",
        "                     scoring='accuracy',\n",
        "                     cv=5,\n",
        "                     n_jobs=-1,\n",
        "                    iid=True,\n",
        "                    return_train_score=True)\n",
        "\n",
        "gd_sr.fit(X_train, y_train)  \n",
        "\n"
      ],
      "execution_count": null,
      "outputs": [
        {
          "output_type": "execute_result",
          "data": {
            "text/plain": [
              "GridSearchCV(cv=5, error_score=nan,\n",
              "             estimator=DecisionTreeClassifier(ccp_alpha=0.0, class_weight=None,\n",
              "                                              criterion='gini', max_depth=None,\n",
              "                                              max_features=None,\n",
              "                                              max_leaf_nodes=None,\n",
              "                                              min_impurity_decrease=0.0,\n",
              "                                              min_impurity_split=None,\n",
              "                                              min_samples_leaf=1,\n",
              "                                              min_samples_split=2,\n",
              "                                              min_weight_fraction_leaf=0.0,\n",
              "                                              presort='deprecated',\n",
              "                                              random_state=None,\n",
              "                                              splitter='best'),\n",
              "             iid=True, n_jobs=-1,\n",
              "             param_grid={'criterion': ['gini', 'entropy'],\n",
              "                         'max_depth': [1, 2, 3, 4, 5, 6, 7, 8, 9, 10],\n",
              "                         'min_samples_leaf': [1, 2, 3, 4, 5, 6, 7, 8, 9, 10]},\n",
              "             pre_dispatch='2*n_jobs', refit=True, return_train_score=True,\n",
              "             scoring='accuracy', verbose=0)"
            ]
          },
          "metadata": {
            "tags": []
          },
          "execution_count": 32
        }
      ]
    },
    {
      "cell_type": "markdown",
      "metadata": {
        "id": "ee2uJDe_0a0B"
      },
      "source": [
        "Pour connaître les meilleures conditions : "
      ]
    },
    {
      "cell_type": "code",
      "metadata": {
        "ExecuteTime": {
          "end_time": "2020-10-10T08:41:09.053853Z",
          "start_time": "2020-10-10T08:40:59.960Z"
        },
        "id": "IC50K3JU0a0C",
        "colab": {
          "base_uri": "https://localhost:8080/"
        },
        "outputId": "2184c421-42ff-4bdf-ca9e-994dbbf035fc"
      },
      "source": [
        "print ('meilleur score %0.3f'%(gd_sr.best_score_),'\\n')\n",
        "print ('meilleurs paramètres', gd_sr.best_params_,'\\n')\n",
        "print ('meilleur estimateur',gd_sr.best_estimator_,'\\n')"
      ],
      "execution_count": null,
      "outputs": [
        {
          "output_type": "stream",
          "text": [
            "meilleur score 0.956 \n",
            "\n",
            "meilleurs paramètres {'criterion': 'gini', 'max_depth': 2, 'min_samples_leaf': 1} \n",
            "\n",
            "meilleur estimateur DecisionTreeClassifier(ccp_alpha=0.0, class_weight=None, criterion='gini',\n",
            "                       max_depth=2, max_features=None, max_leaf_nodes=None,\n",
            "                       min_impurity_decrease=0.0, min_impurity_split=None,\n",
            "                       min_samples_leaf=1, min_samples_split=2,\n",
            "                       min_weight_fraction_leaf=0.0, presort='deprecated',\n",
            "                       random_state=None, splitter='best') \n",
            "\n"
          ],
          "name": "stdout"
        }
      ]
    },
    {
      "cell_type": "markdown",
      "metadata": {
        "id": "zp4f5ykB0a0C"
      },
      "source": [
        "Avec KNeighborsClassifier"
      ]
    },
    {
      "cell_type": "code",
      "metadata": {
        "ExecuteTime": {
          "end_time": "2020-10-10T08:41:09.055480Z",
          "start_time": "2020-10-10T08:40:59.966Z"
        },
        "id": "x_YL2IpJ0a0C",
        "colab": {
          "base_uri": "https://localhost:8080/"
        },
        "outputId": "a672c5ad-d1c1-4456-899b-6754f66f3ef0"
      },
      "source": [
        "from sklearn.neighbors import KNeighborsClassifier\n",
        "grid_param = {  \n",
        "    'n_neighbors': list(range(1,15)),\n",
        "    'metric': ['minkowski','euclidean','manhattan']\n",
        "}\n",
        "                        \n",
        "gd_sr = GridSearchCV(estimator=KNeighborsClassifier(),  \n",
        "                     param_grid=grid_param,\n",
        "                     scoring='accuracy',\n",
        "                     cv=5,\n",
        "                     n_jobs=-1,\n",
        "                    iid=True,\n",
        "                    return_train_score=True)\n",
        "\n",
        "gd_sr.fit(X_train, y_train)  \n",
        "\n",
        "print ('meilleur score %0.3f'%(gd_sr.best_score_),'\\n')\n",
        "print ('meilleurs paramètres', gd_sr.best_params_,'\\n')\n",
        "print ('meilleur estimateur',gd_sr.best_estimator_,'\\n')\n"
      ],
      "execution_count": null,
      "outputs": [
        {
          "output_type": "stream",
          "text": [
            "meilleur score 1.000 \n",
            "\n",
            "meilleurs paramètres {'metric': 'manhattan', 'n_neighbors': 9} \n",
            "\n",
            "meilleur estimateur KNeighborsClassifier(algorithm='auto', leaf_size=30, metric='manhattan',\n",
            "                     metric_params=None, n_jobs=None, n_neighbors=9, p=2,\n",
            "                     weights='uniform') \n",
            "\n"
          ],
          "name": "stdout"
        }
      ]
    },
    {
      "cell_type": "markdown",
      "metadata": {
        "id": "pC6QJf7U0a0C"
      },
      "source": [
        "Avec SVM "
      ]
    },
    {
      "cell_type": "code",
      "metadata": {
        "ExecuteTime": {
          "end_time": "2020-10-10T08:41:09.057066Z",
          "start_time": "2020-10-10T08:40:59.972Z"
        },
        "id": "7rHwGu8R0a0C",
        "colab": {
          "base_uri": "https://localhost:8080/"
        },
        "outputId": "eef98095-9295-4c9a-fabf-b7cc3777e3a9"
      },
      "source": [
        "from sklearn.svm import SVC\n",
        "grid_param = {\n",
        "    'C': [0.001, 0.01, 0.1, 1, 10], \n",
        "    'gamma' : [0.001, 0.01, 0.1, 1], \n",
        "    'kernel': ['linear','rbf']}\n",
        "\n",
        "gd_sr = GridSearchCV(estimator=SVC(),  \n",
        "                     param_grid=grid_param,\n",
        "                     scoring='accuracy',\n",
        "                     cv=5,\n",
        "                     n_jobs=1,\n",
        "                     iid=True,\n",
        "                    return_train_score=True)\n",
        "\n",
        "gd_sr.fit(X_train, y_train)  \n",
        "\n",
        "print ('meilleur score %0.3f'%(gd_sr.best_score_),'\\n')\n",
        "print ('meilleurs paramètres', gd_sr.best_params_,'\\n')\n",
        "print ('meilleur estimateur',gd_sr.best_estimator_,'\\n')\n"
      ],
      "execution_count": null,
      "outputs": [
        {
          "output_type": "stream",
          "text": [
            "meilleur score 1.000 \n",
            "\n",
            "meilleurs paramètres {'C': 1, 'gamma': 0.001, 'kernel': 'linear'} \n",
            "\n",
            "meilleur estimateur SVC(C=1, break_ties=False, cache_size=200, class_weight=None, coef0=0.0,\n",
            "    decision_function_shape='ovr', degree=3, gamma=0.001, kernel='linear',\n",
            "    max_iter=-1, probability=False, random_state=None, shrinking=True,\n",
            "    tol=0.001, verbose=False) \n",
            "\n"
          ],
          "name": "stdout"
        }
      ]
    },
    {
      "cell_type": "markdown",
      "metadata": {
        "id": "oLK62ORn0a0C"
      },
      "source": [
        "Pour voir l'ensemble des évaluations effectuées par GridSearchCV : "
      ]
    },
    {
      "cell_type": "code",
      "metadata": {
        "ExecuteTime": {
          "end_time": "2020-10-10T08:41:09.059060Z",
          "start_time": "2020-10-10T08:40:59.977Z"
        },
        "id": "U75TNekD0a0C",
        "colab": {
          "base_uri": "https://localhost:8080/",
          "height": 649
        },
        "outputId": "4c9fe2ef-21eb-4035-dc8f-87fb5b7d58b8"
      },
      "source": [
        "\n",
        "# convertion en DataFrame\n",
        "results = pd.DataFrame(gd_sr.cv_results_) \n",
        "# Affichage des 5 premières lignes\n",
        "display(results.head())\n"
      ],
      "execution_count": null,
      "outputs": [
        {
          "output_type": "display_data",
          "data": {
            "text/html": [
              "<div>\n",
              "<style scoped>\n",
              "    .dataframe tbody tr th:only-of-type {\n",
              "        vertical-align: middle;\n",
              "    }\n",
              "\n",
              "    .dataframe tbody tr th {\n",
              "        vertical-align: top;\n",
              "    }\n",
              "\n",
              "    .dataframe thead th {\n",
              "        text-align: right;\n",
              "    }\n",
              "</style>\n",
              "<table border=\"1\" class=\"dataframe\">\n",
              "  <thead>\n",
              "    <tr style=\"text-align: right;\">\n",
              "      <th></th>\n",
              "      <th>mean_fit_time</th>\n",
              "      <th>std_fit_time</th>\n",
              "      <th>mean_score_time</th>\n",
              "      <th>std_score_time</th>\n",
              "      <th>param_C</th>\n",
              "      <th>param_gamma</th>\n",
              "      <th>param_kernel</th>\n",
              "      <th>params</th>\n",
              "      <th>split0_test_score</th>\n",
              "      <th>split1_test_score</th>\n",
              "      <th>split2_test_score</th>\n",
              "      <th>split3_test_score</th>\n",
              "      <th>split4_test_score</th>\n",
              "      <th>mean_test_score</th>\n",
              "      <th>std_test_score</th>\n",
              "      <th>rank_test_score</th>\n",
              "      <th>split0_train_score</th>\n",
              "      <th>split1_train_score</th>\n",
              "      <th>split2_train_score</th>\n",
              "      <th>split3_train_score</th>\n",
              "      <th>split4_train_score</th>\n",
              "      <th>mean_train_score</th>\n",
              "      <th>std_train_score</th>\n",
              "    </tr>\n",
              "  </thead>\n",
              "  <tbody>\n",
              "    <tr>\n",
              "      <th>0</th>\n",
              "      <td>0.000574</td>\n",
              "      <td>0.000088</td>\n",
              "      <td>0.000431</td>\n",
              "      <td>0.000153</td>\n",
              "      <td>0.001</td>\n",
              "      <td>0.001</td>\n",
              "      <td>linear</td>\n",
              "      <td>{'C': 0.001, 'gamma': 0.001, 'kernel': 'linear'}</td>\n",
              "      <td>0.333333</td>\n",
              "      <td>0.777778</td>\n",
              "      <td>0.777778</td>\n",
              "      <td>0.333333</td>\n",
              "      <td>0.333333</td>\n",
              "      <td>0.511111</td>\n",
              "      <td>0.217732</td>\n",
              "      <td>26</td>\n",
              "      <td>0.388889</td>\n",
              "      <td>0.722222</td>\n",
              "      <td>0.722222</td>\n",
              "      <td>0.388889</td>\n",
              "      <td>0.388889</td>\n",
              "      <td>0.522222</td>\n",
              "      <td>0.163299</td>\n",
              "    </tr>\n",
              "    <tr>\n",
              "      <th>1</th>\n",
              "      <td>0.000881</td>\n",
              "      <td>0.000349</td>\n",
              "      <td>0.000456</td>\n",
              "      <td>0.000111</td>\n",
              "      <td>0.001</td>\n",
              "      <td>0.001</td>\n",
              "      <td>rbf</td>\n",
              "      <td>{'C': 0.001, 'gamma': 0.001, 'kernel': 'rbf'}</td>\n",
              "      <td>0.333333</td>\n",
              "      <td>0.777778</td>\n",
              "      <td>0.777778</td>\n",
              "      <td>0.333333</td>\n",
              "      <td>0.333333</td>\n",
              "      <td>0.511111</td>\n",
              "      <td>0.217732</td>\n",
              "      <td>26</td>\n",
              "      <td>0.388889</td>\n",
              "      <td>0.722222</td>\n",
              "      <td>0.722222</td>\n",
              "      <td>0.388889</td>\n",
              "      <td>0.388889</td>\n",
              "      <td>0.522222</td>\n",
              "      <td>0.163299</td>\n",
              "    </tr>\n",
              "    <tr>\n",
              "      <th>2</th>\n",
              "      <td>0.000533</td>\n",
              "      <td>0.000077</td>\n",
              "      <td>0.000356</td>\n",
              "      <td>0.000025</td>\n",
              "      <td>0.001</td>\n",
              "      <td>0.01</td>\n",
              "      <td>linear</td>\n",
              "      <td>{'C': 0.001, 'gamma': 0.01, 'kernel': 'linear'}</td>\n",
              "      <td>0.333333</td>\n",
              "      <td>0.777778</td>\n",
              "      <td>0.777778</td>\n",
              "      <td>0.333333</td>\n",
              "      <td>0.333333</td>\n",
              "      <td>0.511111</td>\n",
              "      <td>0.217732</td>\n",
              "      <td>26</td>\n",
              "      <td>0.388889</td>\n",
              "      <td>0.722222</td>\n",
              "      <td>0.722222</td>\n",
              "      <td>0.388889</td>\n",
              "      <td>0.388889</td>\n",
              "      <td>0.522222</td>\n",
              "      <td>0.163299</td>\n",
              "    </tr>\n",
              "    <tr>\n",
              "      <th>3</th>\n",
              "      <td>0.000837</td>\n",
              "      <td>0.000334</td>\n",
              "      <td>0.000380</td>\n",
              "      <td>0.000054</td>\n",
              "      <td>0.001</td>\n",
              "      <td>0.01</td>\n",
              "      <td>rbf</td>\n",
              "      <td>{'C': 0.001, 'gamma': 0.01, 'kernel': 'rbf'}</td>\n",
              "      <td>0.333333</td>\n",
              "      <td>0.777778</td>\n",
              "      <td>0.777778</td>\n",
              "      <td>0.333333</td>\n",
              "      <td>0.333333</td>\n",
              "      <td>0.511111</td>\n",
              "      <td>0.217732</td>\n",
              "      <td>26</td>\n",
              "      <td>0.388889</td>\n",
              "      <td>0.722222</td>\n",
              "      <td>0.722222</td>\n",
              "      <td>0.388889</td>\n",
              "      <td>0.388889</td>\n",
              "      <td>0.522222</td>\n",
              "      <td>0.163299</td>\n",
              "    </tr>\n",
              "    <tr>\n",
              "      <th>4</th>\n",
              "      <td>0.000607</td>\n",
              "      <td>0.000169</td>\n",
              "      <td>0.000436</td>\n",
              "      <td>0.000170</td>\n",
              "      <td>0.001</td>\n",
              "      <td>0.1</td>\n",
              "      <td>linear</td>\n",
              "      <td>{'C': 0.001, 'gamma': 0.1, 'kernel': 'linear'}</td>\n",
              "      <td>0.333333</td>\n",
              "      <td>0.777778</td>\n",
              "      <td>0.777778</td>\n",
              "      <td>0.333333</td>\n",
              "      <td>0.333333</td>\n",
              "      <td>0.511111</td>\n",
              "      <td>0.217732</td>\n",
              "      <td>26</td>\n",
              "      <td>0.388889</td>\n",
              "      <td>0.722222</td>\n",
              "      <td>0.722222</td>\n",
              "      <td>0.388889</td>\n",
              "      <td>0.388889</td>\n",
              "      <td>0.522222</td>\n",
              "      <td>0.163299</td>\n",
              "    </tr>\n",
              "  </tbody>\n",
              "</table>\n",
              "</div>"
            ],
            "text/plain": [
              "   mean_fit_time  std_fit_time  ...  mean_train_score  std_train_score\n",
              "0       0.000574      0.000088  ...          0.522222         0.163299\n",
              "1       0.000881      0.000349  ...          0.522222         0.163299\n",
              "2       0.000533      0.000077  ...          0.522222         0.163299\n",
              "3       0.000837      0.000334  ...          0.522222         0.163299\n",
              "4       0.000607      0.000169  ...          0.522222         0.163299\n",
              "\n",
              "[5 rows x 23 columns]"
            ]
          },
          "metadata": {
            "tags": []
          }
        }
      ]
    },
    {
      "cell_type": "markdown",
      "metadata": {
        "id": "uoxQgwlJ0a0C"
      },
      "source": [
        "L'avantage de GridSearchCV est qu'il va parcourir toutes les conditions et retourner celles qui sont les meilleures pour la ou les mesures de scoring recherchée (dans notre cas nous avons privilégié l'accuracy).\n",
        "Cela est très pratique mais est malheureusement impossible dans certains cas car beaucoup trop long à mettre en place.\n",
        "Une solution possible est d'utiliser *RandomizedSearchCV* qui parcourt de manière aléatoire l'espace de recherche. \n",
        "Il suffit dans ce cas de spécifier des tirages aléatoires pour les valeurs possibles des paramètres et de préciser le nombre d'itérations voulues.\n",
        "Le second usage de *RandomizedSearchCV* est, lorsque l'on n'a pas une très bonne idée de ce que cela peut donner ou des paramètres à utiliser de faire appel à lui pour avoir des valeurs qui peuvent être significatives et de faire suivre à partir de ces valeurs une recherche via *GridSearchCV*.\n",
        "\n",
        "\n"
      ]
    },
    {
      "cell_type": "code",
      "metadata": {
        "colab": {
          "base_uri": "https://localhost:8080/"
        },
        "id": "Sujnfa_b_C5x",
        "outputId": "eedae877-7087-4108-e57d-f6f20cebad58"
      },
      "source": [
        "randint(1, 20)"
      ],
      "execution_count": null,
      "outputs": [
        {
          "output_type": "execute_result",
          "data": {
            "text/plain": [
              "<scipy.stats._distn_infrastructure.rv_frozen at 0x7f4f26830048>"
            ]
          },
          "metadata": {
            "tags": []
          },
          "execution_count": 37
        }
      ]
    },
    {
      "cell_type": "code",
      "metadata": {
        "ExecuteTime": {
          "end_time": "2020-10-10T08:41:09.060747Z",
          "start_time": "2020-10-10T08:40:59.982Z"
        },
        "id": "al9R9Ve40a0C",
        "colab": {
          "base_uri": "https://localhost:8080/",
          "height": 700
        },
        "outputId": "b807cc6e-2cd6-4578-cb4b-de5d002148ba"
      },
      "source": [
        "\n",
        "from sklearn.model_selection import RandomizedSearchCV\n",
        "from scipy.stats import randint\n",
        "\n",
        "rand_param = {  \n",
        "    'max_depth': randint(1, 20),\n",
        "    'criterion': ['gini', 'entropy'],\n",
        "    'min_samples_leaf': randint(1, 20)\n",
        "}\n",
        "\n",
        "\n",
        "rand_sr = RandomizedSearchCV(estimator=DecisionTreeClassifier(), \n",
        "                             param_distributions = rand_param, \n",
        "                             random_state=1, \n",
        "                             n_iter=20, \n",
        "                             cv=3, \n",
        "                             n_jobs=-1,\n",
        "                             scoring='accuracy',\n",
        "                             iid=True,\n",
        "                             return_train_score=True)\n",
        "\n",
        "rand_sr.fit(X_train, y_train)  \n",
        "\n",
        "\n",
        "print ('meilleur score %0.3f'%(rand_sr.best_score_),'\\n')\n",
        "print ('meilleurs paramètres', rand_sr.best_params_,'\\n')\n",
        "print ('meilleur estimateur',rand_sr.best_estimator_,'\\n')\n",
        "\n",
        "# convertion en DataFrame\n",
        "results = pd.DataFrame(rand_sr.cv_results_) \n",
        "# Affichage des 5 premières lignes\n",
        "display(results.head())\n",
        "\n"
      ],
      "execution_count": null,
      "outputs": [
        {
          "output_type": "stream",
          "text": [
            "meilleur score 0.956 \n",
            "\n",
            "meilleurs paramètres {'criterion': 'entropy', 'max_depth': 16, 'min_samples_leaf': 1} \n",
            "\n",
            "meilleur estimateur DecisionTreeClassifier(ccp_alpha=0.0, class_weight=None, criterion='entropy',\n",
            "                       max_depth=16, max_features=None, max_leaf_nodes=None,\n",
            "                       min_impurity_decrease=0.0, min_impurity_split=None,\n",
            "                       min_samples_leaf=1, min_samples_split=2,\n",
            "                       min_weight_fraction_leaf=0.0, presort='deprecated',\n",
            "                       random_state=None, splitter='best') \n",
            "\n"
          ],
          "name": "stdout"
        },
        {
          "output_type": "display_data",
          "data": {
            "text/html": [
              "<div>\n",
              "<style scoped>\n",
              "    .dataframe tbody tr th:only-of-type {\n",
              "        vertical-align: middle;\n",
              "    }\n",
              "\n",
              "    .dataframe tbody tr th {\n",
              "        vertical-align: top;\n",
              "    }\n",
              "\n",
              "    .dataframe thead th {\n",
              "        text-align: right;\n",
              "    }\n",
              "</style>\n",
              "<table border=\"1\" class=\"dataframe\">\n",
              "  <thead>\n",
              "    <tr style=\"text-align: right;\">\n",
              "      <th></th>\n",
              "      <th>mean_fit_time</th>\n",
              "      <th>std_fit_time</th>\n",
              "      <th>mean_score_time</th>\n",
              "      <th>std_score_time</th>\n",
              "      <th>param_criterion</th>\n",
              "      <th>param_max_depth</th>\n",
              "      <th>param_min_samples_leaf</th>\n",
              "      <th>params</th>\n",
              "      <th>split0_test_score</th>\n",
              "      <th>split1_test_score</th>\n",
              "      <th>split2_test_score</th>\n",
              "      <th>mean_test_score</th>\n",
              "      <th>std_test_score</th>\n",
              "      <th>rank_test_score</th>\n",
              "      <th>split0_train_score</th>\n",
              "      <th>split1_train_score</th>\n",
              "      <th>split2_train_score</th>\n",
              "      <th>mean_train_score</th>\n",
              "      <th>std_train_score</th>\n",
              "    </tr>\n",
              "  </thead>\n",
              "  <tbody>\n",
              "    <tr>\n",
              "      <th>0</th>\n",
              "      <td>0.002688</td>\n",
              "      <td>0.002826</td>\n",
              "      <td>0.000493</td>\n",
              "      <td>0.000153</td>\n",
              "      <td>entropy</td>\n",
              "      <td>12</td>\n",
              "      <td>13</td>\n",
              "      <td>{'criterion': 'entropy', 'max_depth': 12, 'min...</td>\n",
              "      <td>0.733333</td>\n",
              "      <td>0.733333</td>\n",
              "      <td>0.733333</td>\n",
              "      <td>0.733333</td>\n",
              "      <td>0.000000</td>\n",
              "      <td>9</td>\n",
              "      <td>0.733333</td>\n",
              "      <td>0.733333</td>\n",
              "      <td>0.733333</td>\n",
              "      <td>0.733333</td>\n",
              "      <td>0.0</td>\n",
              "    </tr>\n",
              "    <tr>\n",
              "      <th>1</th>\n",
              "      <td>0.000553</td>\n",
              "      <td>0.000122</td>\n",
              "      <td>0.000555</td>\n",
              "      <td>0.000280</td>\n",
              "      <td>gini</td>\n",
              "      <td>10</td>\n",
              "      <td>12</td>\n",
              "      <td>{'criterion': 'gini', 'max_depth': 10, 'min_sa...</td>\n",
              "      <td>0.666667</td>\n",
              "      <td>0.733333</td>\n",
              "      <td>0.733333</td>\n",
              "      <td>0.711111</td>\n",
              "      <td>0.031427</td>\n",
              "      <td>13</td>\n",
              "      <td>0.733333</td>\n",
              "      <td>0.733333</td>\n",
              "      <td>0.733333</td>\n",
              "      <td>0.733333</td>\n",
              "      <td>0.0</td>\n",
              "    </tr>\n",
              "    <tr>\n",
              "      <th>2</th>\n",
              "      <td>0.000685</td>\n",
              "      <td>0.000147</td>\n",
              "      <td>0.000424</td>\n",
              "      <td>0.000018</td>\n",
              "      <td>entropy</td>\n",
              "      <td>16</td>\n",
              "      <td>1</td>\n",
              "      <td>{'criterion': 'entropy', 'max_depth': 16, 'min...</td>\n",
              "      <td>0.933333</td>\n",
              "      <td>0.933333</td>\n",
              "      <td>1.000000</td>\n",
              "      <td>0.955556</td>\n",
              "      <td>0.031427</td>\n",
              "      <td>1</td>\n",
              "      <td>1.000000</td>\n",
              "      <td>1.000000</td>\n",
              "      <td>1.000000</td>\n",
              "      <td>1.000000</td>\n",
              "      <td>0.0</td>\n",
              "    </tr>\n",
              "    <tr>\n",
              "      <th>3</th>\n",
              "      <td>0.001894</td>\n",
              "      <td>0.001750</td>\n",
              "      <td>0.000491</td>\n",
              "      <td>0.000063</td>\n",
              "      <td>gini</td>\n",
              "      <td>2</td>\n",
              "      <td>13</td>\n",
              "      <td>{'criterion': 'gini', 'max_depth': 2, 'min_sam...</td>\n",
              "      <td>0.733333</td>\n",
              "      <td>0.733333</td>\n",
              "      <td>0.733333</td>\n",
              "      <td>0.733333</td>\n",
              "      <td>0.000000</td>\n",
              "      <td>9</td>\n",
              "      <td>0.733333</td>\n",
              "      <td>0.733333</td>\n",
              "      <td>0.733333</td>\n",
              "      <td>0.733333</td>\n",
              "      <td>0.0</td>\n",
              "    </tr>\n",
              "    <tr>\n",
              "      <th>4</th>\n",
              "      <td>0.000653</td>\n",
              "      <td>0.000129</td>\n",
              "      <td>0.000733</td>\n",
              "      <td>0.000461</td>\n",
              "      <td>entropy</td>\n",
              "      <td>14</td>\n",
              "      <td>7</td>\n",
              "      <td>{'criterion': 'entropy', 'max_depth': 14, 'min...</td>\n",
              "      <td>0.933333</td>\n",
              "      <td>0.933333</td>\n",
              "      <td>1.000000</td>\n",
              "      <td>0.955556</td>\n",
              "      <td>0.031427</td>\n",
              "      <td>1</td>\n",
              "      <td>1.000000</td>\n",
              "      <td>1.000000</td>\n",
              "      <td>1.000000</td>\n",
              "      <td>1.000000</td>\n",
              "      <td>0.0</td>\n",
              "    </tr>\n",
              "  </tbody>\n",
              "</table>\n",
              "</div>"
            ],
            "text/plain": [
              "   mean_fit_time  std_fit_time  ...  mean_train_score  std_train_score\n",
              "0       0.002688      0.002826  ...          0.733333              0.0\n",
              "1       0.000553      0.000122  ...          0.733333              0.0\n",
              "2       0.000685      0.000147  ...          1.000000              0.0\n",
              "3       0.001894      0.001750  ...          0.733333              0.0\n",
              "4       0.000653      0.000129  ...          1.000000              0.0\n",
              "\n",
              "[5 rows x 19 columns]"
            ]
          },
          "metadata": {
            "tags": []
          }
        }
      ]
    },
    {
      "cell_type": "markdown",
      "metadata": {
        "id": "crmXZfx60a0D"
      },
      "source": [
        "## GridsearchCV et plusieurs classifieurs"
      ]
    },
    {
      "cell_type": "markdown",
      "metadata": {
        "id": "KsDNOrVf0a0D"
      },
      "source": [
        "Il est tout à fait possible d'utiliser GridsearchCV\n",
        " avec plusieurs classifieurs. Il suffit pour cela d'initaliser les classifieurs dans un dictionnaire et faire de même pour les paramètres."
      ]
    },
    {
      "cell_type": "code",
      "metadata": {
        "ExecuteTime": {
          "end_time": "2020-10-10T08:41:09.062388Z",
          "start_time": "2020-10-10T08:40:59.988Z"
        },
        "id": "nUwVQSya0a0D"
      },
      "source": [
        "\n",
        "\n",
        "classifiers = {\n",
        "    'KNeighborsClassifier': KNeighborsClassifier(),\n",
        "    'DecisionTreeClassifier': DecisionTreeClassifier(),\n",
        "    'SVC': SVC()\n",
        "}\n",
        "\n",
        "params = {'KNeighborsClassifier' : [{'n_neighbors': list(range(1,15))},\n",
        "    {'metric': ['minkowski','euclidean','manhattan']}],\n",
        "           'DecisionTreeClassifier': [{'max_depth': [1,2,3,4,5,6,7,8,9,10]},\n",
        "    {'criterion': ['gini', 'entropy']},\n",
        "    {'min_samples_leaf': [1,2,3,4,5,6,7,8,9,10]}],\n",
        "       'SVC':[{'C': [0.001, 0.01, 0.1, 1, 10], \n",
        "    'gamma' : [0.001, 0.01, 0.1, 1], \n",
        "    'kernel': ['linear','rbf']}]  }\n",
        "\n"
      ],
      "execution_count": null,
      "outputs": []
    },
    {
      "cell_type": "code",
      "metadata": {
        "ExecuteTime": {
          "end_time": "2020-10-10T08:41:09.063780Z",
          "start_time": "2020-10-10T08:40:59.994Z"
        },
        "id": "kB75xCuB0a0D",
        "colab": {
          "base_uri": "https://localhost:8080/"
        },
        "outputId": "cf43022d-b647-440f-b6f5-972504a49f1a"
      },
      "source": [
        "class Result_Parameters:\n",
        "     def __init__(self,name, score, parameters):\n",
        "         self.name = name\n",
        "         self.score = score\n",
        "         self.parameters = parameters\n",
        "     def __repr__(self):\n",
        "         return repr((self.name, self.score, self.parameters))\n",
        "\n",
        "       \n",
        "results = []\n",
        "for key,value in classifiers.items():\n",
        "    gd_sr = GridSearchCV(estimator=value,  \n",
        "                     param_grid=params[key],\n",
        "                     scoring='accuracy',\n",
        "                     cv=5,\n",
        "                     n_jobs=1,\n",
        "                     iid=True)\n",
        "    gd_sr.fit(X_train, y_train)  \n",
        "    result=Result_Parameters(key,gd_sr.best_score_,gd_sr.best_estimator_)\n",
        "    results.append(result)   \n",
        "    \n",
        "    \n",
        "    \n",
        "results=sorted(results, key=lambda result: result.score, reverse=True) \n",
        "\n",
        "print ('Le meilleur resultat : \\n')\n",
        "print ('Classifier : ',results[0].name, \n",
        "       ' score %0.3f' %results[0].score, \n",
        "       ' avec ',results[0].parameters,'\\n')\n",
        "\n",
        "print ('Tous les résultats : \\n')\n",
        "for result in results:\n",
        "    print ('Classifier : ',result.name, \n",
        "           ' score %0.3f' %result.score, \n",
        "           ' avec ',result.parameters,'\\n')\n",
        "    \n"
      ],
      "execution_count": null,
      "outputs": [
        {
          "output_type": "stream",
          "text": [
            "Le meilleur resultat : \n",
            "\n",
            "Classifier :  SVC  score 1.000  avec  SVC(C=1, break_ties=False, cache_size=200, class_weight=None, coef0=0.0,\n",
            "    decision_function_shape='ovr', degree=3, gamma=0.001, kernel='linear',\n",
            "    max_iter=-1, probability=False, random_state=None, shrinking=True,\n",
            "    tol=0.001, verbose=False) \n",
            "\n",
            "Tous les résultats : \n",
            "\n",
            "Classifier :  SVC  score 1.000  avec  SVC(C=1, break_ties=False, cache_size=200, class_weight=None, coef0=0.0,\n",
            "    decision_function_shape='ovr', degree=3, gamma=0.001, kernel='linear',\n",
            "    max_iter=-1, probability=False, random_state=None, shrinking=True,\n",
            "    tol=0.001, verbose=False) \n",
            "\n",
            "Classifier :  KNeighborsClassifier  score 0.978  avec  KNeighborsClassifier(algorithm='auto', leaf_size=30, metric='minkowski',\n",
            "                     metric_params=None, n_jobs=None, n_neighbors=6, p=2,\n",
            "                     weights='uniform') \n",
            "\n",
            "Classifier :  DecisionTreeClassifier  score 0.956  avec  DecisionTreeClassifier(ccp_alpha=0.0, class_weight=None, criterion='gini',\n",
            "                       max_depth=2, max_features=None, max_leaf_nodes=None,\n",
            "                       min_impurity_decrease=0.0, min_impurity_split=None,\n",
            "                       min_samples_leaf=1, min_samples_split=2,\n",
            "                       min_weight_fraction_leaf=0.0, presort='deprecated',\n",
            "                       random_state=None, splitter='best') \n",
            "\n"
          ],
          "name": "stdout"
        }
      ]
    },
    {
      "cell_type": "markdown",
      "metadata": {
        "id": "ZP_DLOML0a0D"
      },
      "source": [
        "## Les pipelines "
      ]
    },
    {
      "cell_type": "markdown",
      "metadata": {
        "id": "qMtU8u3w0a0D"
      },
      "source": [
        "Il peut arriver que différentes combinaisons de pré-traitements puissent être utilisées. Par exemple il est possible d'utiliser du changement d'échelle, du PCA (projection sur un nombre différent de dimensions), de faire du remplacement de valeurs manquantes ...  \n",
        "\n",
        "L'objectif du pipeline est de pouvoir regrouper l'ensemble de ces prétraitements et de pouvoir les faire suivre par le classifier.\n",
        "Le principe consiste à d'abord mettre la chaîne de pré-traitement, d'ensuite mettre le classifier et d'utiliser directement le pipeline.\n",
        "\n",
        "**Attention :** les pipelines sont très importants lorsque l'on sauvegarde un modèle. En effet comme ils prennent en compte les pré-traitements tout est sauvegardé. Cela veut dire que dans le cas de nouvelles données à évaluer avec un modèle lors de la prédiction les données seront automatiquement transformées. (Voir partie utiliser de nouvelles données plus bas).\n",
        "\n",
        "L'exemple suivant illustre un pipeline où un standard scaling est réalisé puis un PCA et enfin un DecisionTree est appliqué."
      ]
    },
    {
      "cell_type": "code",
      "metadata": {
        "ExecuteTime": {
          "end_time": "2020-10-10T08:41:09.069311Z",
          "start_time": "2020-10-10T08:40:59.999Z"
        },
        "id": "_ZFBmsLt0a0D",
        "colab": {
          "base_uri": "https://localhost:8080/",
          "height": 603
        },
        "outputId": "43f0e13e-41c1-457d-b5d6-85c8199c090c"
      },
      "source": [
        "\n",
        "from sklearn.preprocessing import LabelEncoder\n",
        "\n",
        "\n",
        "url = \"https://archive.ics.uci.edu/ml/machine-learning-databases/iris/iris.data\"\n",
        "names = ['SepalLengthCm', 'SepalWidthCm', \n",
        "         'PetalLengthCm', 'PetalWidthCm', 'Species']\n",
        "df_iris = pd.read_csv(url, names=names)\n",
        "\n",
        "#transformation de Species via LabelEncoder\n",
        "class_label_encoder = LabelEncoder()\n",
        "df_iris['Species']=class_label_encoder.fit_transform(df_iris['Species'].values)\n",
        "\n",
        "\n",
        "array = df_iris.values\n",
        "X = array[:,0:4] \n",
        "y = array[:,4]\n",
        "\n",
        "\n",
        "print ('Création du pipeline \\n')\n",
        "pipeline = Pipeline([('scl', StandardScaler()),\n",
        "                    ('pca', PCA(n_components=2)),\n",
        "                    ('clf', DecisionTreeClassifier(random_state=42))])\n",
        "\n",
        "validation_size=0.3 \n",
        "\n",
        "testsize= 1-validation_size\n",
        "seed=30\n",
        "X_train,X_test,y_train,y_test=train_test_split(X, y, \n",
        "                                               train_size=validation_size, \n",
        "                                               random_state=seed,\n",
        "                                               test_size=testsize)\n",
        "\n",
        "\n",
        "pipeline.fit(X_train, y_train)\n",
        "y_pred = pipeline.predict(X_test)\n",
        "MyshowAllScores(y_test,y_pred)\n",
        "\n"
      ],
      "execution_count": null,
      "outputs": [
        {
          "output_type": "stream",
          "text": [
            "Création du pipeline \n",
            "\n",
            "Accuracy : 0.914\n",
            "Classification Report\n",
            "              precision    recall  f1-score   support\n",
            "\n",
            "         0.0    1.00000   1.00000   1.00000        34\n",
            "         1.0    0.91429   0.84211   0.87671        38\n",
            "         2.0    0.83333   0.90909   0.86957        33\n",
            "\n",
            "    accuracy                        0.91429       105\n",
            "   macro avg    0.91587   0.91707   0.91543       105\n",
            "weighted avg    0.91660   0.91429   0.91439       105\n",
            "\n"
          ],
          "name": "stdout"
        },
        {
          "output_type": "display_data",
          "data": {
            "image/png": "[encoded data removed]",
            "text/plain": [
              "<Figure size 576x360 with 2 Axes>"
            ]
          },
          "metadata": {
            "tags": []
          }
        }
      ]
    },
    {
      "cell_type": "markdown",
      "metadata": {
        "id": "GdMVfhO80a0D"
      },
      "source": [
        "Il est possible d'utiliser GridSearchCV pour chercher les meilleures valeurs dans un pré-traitement."
      ]
    },
    {
      "cell_type": "code",
      "metadata": {
        "ExecuteTime": {
          "end_time": "2020-10-10T08:41:09.070802Z",
          "start_time": "2020-10-10T08:41:00.006Z"
        },
        "id": "olaEgbsL0a0D",
        "colab": {
          "base_uri": "https://localhost:8080/"
        },
        "outputId": "b9cf4a58-66dc-465a-fa03-8815a895bcbb"
      },
      "source": [
        "from sklearn.model_selection import GridSearchCV\n",
        "print ('Création du pipeline \\n')\n",
        "pipeline = Pipeline([('pca', PCA()),\n",
        "                    ('clf', DecisionTreeClassifier(random_state=42))])\n",
        "\n",
        "grid_param = {\n",
        "    'pca__n_components': [2,3]\n",
        "}\n",
        "\n",
        "\n",
        "gd_sr = GridSearchCV(pipeline,  \n",
        "                     param_grid=grid_param,\n",
        "                     scoring='accuracy',\n",
        "                     cv=5,\n",
        "                     n_jobs=1,\n",
        "                     iid=True,\n",
        "                    return_train_score=True)\n",
        "\n",
        "gd_sr.fit(X_train, y_train)  \n",
        "\n",
        "print ('meilleur score %0.3f'%(gd_sr.best_score_),'\\n')\n",
        "print ('meilleurs paramètres', gd_sr.best_params_,'\\n')\n",
        "print ('meilleur estimateur',gd_sr.best_estimator_,'\\n')"
      ],
      "execution_count": null,
      "outputs": [
        {
          "output_type": "stream",
          "text": [
            "Création du pipeline \n",
            "\n",
            "meilleur score 0.956 \n",
            "\n",
            "meilleurs paramètres {'pca__n_components': 2} \n",
            "\n",
            "meilleur estimateur Pipeline(memory=None,\n",
            "         steps=[('pca',\n",
            "                 PCA(copy=True, iterated_power='auto', n_components=2,\n",
            "                     random_state=None, svd_solver='auto', tol=0.0,\n",
            "                     whiten=False)),\n",
            "                ('clf',\n",
            "                 DecisionTreeClassifier(ccp_alpha=0.0, class_weight=None,\n",
            "                                        criterion='gini', max_depth=None,\n",
            "                                        max_features=None, max_leaf_nodes=None,\n",
            "                                        min_impurity_decrease=0.0,\n",
            "                                        min_impurity_split=None,\n",
            "                                        min_samples_leaf=1, min_samples_split=2,\n",
            "                                        min_weight_fraction_leaf=0.0,\n",
            "                                        presort='deprecated', random_state=42,\n",
            "                                        splitter='best'))],\n",
            "         verbose=False) \n",
            "\n"
          ],
          "name": "stdout"
        }
      ]
    },
    {
      "cell_type": "markdown",
      "metadata": {
        "id": "YPFVz6fo0a0E"
      },
      "source": [
        "Ou bien de faire les deux en même temps. "
      ]
    },
    {
      "cell_type": "code",
      "metadata": {
        "ExecuteTime": {
          "end_time": "2020-10-10T08:41:09.072168Z",
          "start_time": "2020-10-10T08:41:00.011Z"
        },
        "id": "M9omToOP0a0E",
        "colab": {
          "base_uri": "https://localhost:8080/"
        },
        "outputId": "4d06edc7-1626-4a60-880e-0287d879493f"
      },
      "source": [
        "\n",
        "url = \"https://archive.ics.uci.edu/ml/machine-learning-databases/iris/iris.data\"\n",
        "names = ['SepalLengthCm', 'SepalWidthCm', \n",
        "         'PetalLengthCm', 'PetalWidthCm', 'Species']\n",
        "df_iris = pd.read_csv(url, names=names)\n",
        "\n",
        "#transformation de Species en float pour StantardScaler\n",
        "class_label_encoder = LabelEncoder()\n",
        "df_iris['Species']=class_label_encoder.fit_transform(df_iris['Species'].values)\n",
        "\n",
        "\n",
        "array = df_iris.values\n",
        "X = array[:,0:4] \n",
        "y = array[:,4]\n",
        "\n",
        "pipeline = Pipeline([('pca', PCA()),\n",
        "                    ('clf', DecisionTreeClassifier())])\n",
        "\n",
        "\n",
        "\n",
        "grid_param = [{'pca__n_components': [2,3]},\n",
        "                {'clf': [DecisionTreeClassifier()],\n",
        "                 'clf__max_depth': [1,2,3,4,5,6,7,8,9,10],\n",
        "                 'clf__criterion': ['gini', 'entropy'],\n",
        "                 'clf__min_samples_leaf': [1,2,3,4,5,6,7,8,9,10]\n",
        "                }]\n",
        "\n",
        "\n",
        "\n",
        "gd_sr = GridSearchCV(estimator=pipeline,  \n",
        "                     param_grid=grid_param,\n",
        "                     scoring='accuracy',\n",
        "                     cv=5,\n",
        "                     n_jobs=-1,\n",
        "                    iid=True,\n",
        "                    return_train_score=True)\n",
        "\n",
        "gd_sr.fit(X_train, y_train)  \n",
        "print ('meilleur score %0.3f'%(gd_sr.best_score_),'\\n')\n",
        "print ('meilleurs paramètres', gd_sr.best_params_,'\\n')\n",
        "print ('meilleur estimateur',gd_sr.best_estimator_,'\\n')"
      ],
      "execution_count": null,
      "outputs": [
        {
          "output_type": "stream",
          "text": [
            "meilleur score 0.978 \n",
            "\n",
            "meilleurs paramètres {'pca__n_components': 2} \n",
            "\n",
            "meilleur estimateur Pipeline(memory=None,\n",
            "         steps=[('pca',\n",
            "                 PCA(copy=True, iterated_power='auto', n_components=2,\n",
            "                     random_state=None, svd_solver='auto', tol=0.0,\n",
            "                     whiten=False)),\n",
            "                ('clf',\n",
            "                 DecisionTreeClassifier(ccp_alpha=0.0, class_weight=None,\n",
            "                                        criterion='gini', max_depth=None,\n",
            "                                        max_features=None, max_leaf_nodes=None,\n",
            "                                        min_impurity_decrease=0.0,\n",
            "                                        min_impurity_split=None,\n",
            "                                        min_samples_leaf=1, min_samples_split=2,\n",
            "                                        min_weight_fraction_leaf=0.0,\n",
            "                                        presort='deprecated', random_state=None,\n",
            "                                        splitter='best'))],\n",
            "         verbose=False) \n",
            "\n"
          ],
          "name": "stdout"
        }
      ]
    },
    {
      "cell_type": "markdown",
      "metadata": {
        "id": "99TEkLbF0a0E"
      },
      "source": [
        "## Sauvegarder le modèle appris "
      ]
    },
    {
      "cell_type": "markdown",
      "metadata": {
        "id": "hC4mEV0X0a0E"
      },
      "source": [
        "Une fois un modèle appris il est possible de le sauvegarder pour pouvoir lui appliquer d'autres données à prédire. Il existe différentes librairies comme pickle ou joblib.    \n",
        "Dans ce notebook nous utilisons pickle qui est la librairie Python standard pour sérialiser-désérialiser des objets.  "
      ]
    },
    {
      "cell_type": "code",
      "metadata": {
        "ExecuteTime": {
          "end_time": "2020-10-10T08:41:09.073517Z",
          "start_time": "2020-10-10T08:41:00.016Z"
        },
        "id": "TWU3wD3K0a0E",
        "colab": {
          "base_uri": "https://localhost:8080/"
        },
        "outputId": "85a95df2-a6d4-42cc-c6a1-5ac317be1a3d"
      },
      "source": [
        "#preparation des données\n",
        "url = \"https://archive.ics.uci.edu/ml/machine-learning-databases/iris/iris.data\"\n",
        "names = ['SepalLengthCm', 'SepalWidthCm', \n",
        "         'PetalLengthCm', 'PetalWidthCm', 'Species']\n",
        "df_iris = pd.read_csv(url, names=names)\n",
        "array = df_iris.values\n",
        "X = array[:,0:4] \n",
        "y = array[:,4]\n",
        "\n",
        "validation_size=0.3 \n",
        "\n",
        "testsize= 1-validation_size\n",
        "seed=30\n",
        "X_train,X_test,y_train,y_test=train_test_split(X, \n",
        "                                               y, \n",
        "                                               train_size=validation_size, \n",
        "                                               random_state=seed,\n",
        "                                               test_size=testsize)\n",
        "\n",
        "clf = GaussianNB()\n",
        "clf.fit(X_train, y_train)\n"
      ],
      "execution_count": null,
      "outputs": [
        {
          "output_type": "execute_result",
          "data": {
            "text/plain": [
              "GaussianNB(priors=None, var_smoothing=1e-09)"
            ]
          },
          "metadata": {
            "tags": []
          },
          "execution_count": 48
        }
      ]
    },
    {
      "cell_type": "markdown",
      "metadata": {
        "id": "dc--x89x0a0E"
      },
      "source": [
        "**pickle**"
      ]
    },
    {
      "cell_type": "markdown",
      "metadata": {
        "id": "gjf-92WX0a0E"
      },
      "source": [
        "Pour sérialiser et sauvegarder le modèle appris :"
      ]
    },
    {
      "cell_type": "code",
      "metadata": {
        "ExecuteTime": {
          "end_time": "2020-10-10T08:41:09.075092Z",
          "start_time": "2020-10-10T08:41:00.023Z"
        },
        "id": "RcHKLyCP0a0F"
      },
      "source": [
        "import pickle\n",
        "filename = 'pkl_modelNB.sav'\n",
        "pickle.dump(clf, open(filename, 'wb'))"
      ],
      "execution_count": null,
      "outputs": []
    },
    {
      "cell_type": "markdown",
      "metadata": {
        "id": "c7bIMEns0a0F"
      },
      "source": [
        "Pour utiliser le modèle sauvegardé : "
      ]
    },
    {
      "cell_type": "code",
      "metadata": {
        "ExecuteTime": {
          "end_time": "2020-10-10T08:41:09.076800Z",
          "start_time": "2020-10-10T08:41:00.028Z"
        },
        "id": "Kw31NMCl0a0F",
        "colab": {
          "base_uri": "https://localhost:8080/",
          "height": 677
        },
        "outputId": "e9fe8da3-a245-46cd-e3f8-b94f1341c124"
      },
      "source": [
        "filename = 'pkl_modelNB.sav'\n",
        "clf_loaded = pickle.load(open(filename, 'rb'))\n",
        "print ('Modèle chargé',clf_loaded,'\\n')\n",
        "\n",
        "# application sur les données de test obtenues précédemment\n",
        "y_pred = clf_loaded.predict(X_test)\n",
        "MyshowAllScores(y_test,y_pred)\n",
        "\n",
        "result = clf_loaded.predict([[ 5.0,  3.6,  1.4,  0.2]])\n",
        "print ('\\nLa prédiction du modèle pour [ 5.0,  3.6,  1.4,  0.2] est', \n",
        "       result)"
      ],
      "execution_count": null,
      "outputs": [
        {
          "output_type": "stream",
          "text": [
            "Modèle chargé GaussianNB(priors=None, var_smoothing=1e-09) \n",
            "\n",
            "Accuracy : 0.943\n",
            "Classification Report\n",
            "                 precision    recall  f1-score   support\n",
            "\n",
            "    Iris-setosa    1.00000   1.00000   1.00000        34\n",
            "Iris-versicolor    0.97059   0.86842   0.91667        38\n",
            " Iris-virginica    0.86486   0.96970   0.91429        33\n",
            "\n",
            "       accuracy                        0.94286       105\n",
            "      macro avg    0.94515   0.94604   0.94365       105\n",
            "   weighted avg    0.94688   0.94286   0.94290       105\n",
            "\n"
          ],
          "name": "stdout"
        },
        {
          "output_type": "display_data",
          "data": {
            "image/png": "[encoded data removed]",
            "text/plain": [
              "<Figure size 576x360 with 2 Axes>"
            ]
          },
          "metadata": {
            "tags": []
          }
        },
        {
          "output_type": "stream",
          "text": [
            "\n",
            "La prédiction du modèle pour [ 5.0,  3.6,  1.4,  0.2] est ['Iris-setosa']\n"
          ],
          "name": "stdout"
        }
      ]
    },
    {
      "cell_type": "markdown",
      "metadata": {
        "id": "c2VcWirN0a0F"
      },
      "source": [
        "## Utiliser de nouvelles données "
      ]
    },
    {
      "cell_type": "markdown",
      "metadata": {
        "id": "T1t06qy20a0F"
      },
      "source": [
        "A partir d'un modèle sauvegardé, il est donc possible d'appliquer la fonction predict pour connaître la prédiction du modèle.   \n",
        "\n",
        "Dans le cas de nouvelles données il faut faire attention car des pré-traitements ont sans doute été effectués avec les données initiales (changement d'échelle, normalisation, etc) et une matrice a été obtenue pour apprendre un modèle.   \n",
        "\n",
        "Il est impératif que les nouvelles données suivent le même traitement. Nous présentons par la suite un exemple d'utilisation à l'aide des données IRIS. Cette fois-ci nous utilisons iris qui est disponible directement dans scikit learn."
      ]
    },
    {
      "cell_type": "markdown",
      "metadata": {
        "id": "ISqh4Mux0a0F"
      },
      "source": [
        "Lecture de la base iris et utilisation de SVM comme classifieur"
      ]
    },
    {
      "cell_type": "code",
      "metadata": {
        "ExecuteTime": {
          "end_time": "2020-10-10T08:41:09.084428Z",
          "start_time": "2020-10-10T08:41:00.048Z"
        },
        "id": "qjlvAk3b0a0F"
      },
      "source": [
        "from sklearn import datasets\n",
        "clf = SVC(gamma='scale')\n",
        "iris = datasets.load_iris()\n"
      ],
      "execution_count": null,
      "outputs": []
    },
    {
      "cell_type": "markdown",
      "metadata": {
        "id": "BXXaMyZr0a0F"
      },
      "source": [
        "Dans un premier temps nous ajoutons du bruit dans la base iris en mettant pour trois colonnes des valeurs supérieures à 1000. L'objectif ici est de montrer que les valeurs sont trop différentes pour obtenir de bons résultats de classification. SVM est très sensible à la standardisation."
      ]
    },
    {
      "cell_type": "code",
      "metadata": {
        "ExecuteTime": {
          "end_time": "2020-10-10T08:41:09.085788Z",
          "start_time": "2020-10-10T08:41:00.054Z"
        },
        "id": "Hi9pqOMW0a0F"
      },
      "source": [
        "for i in range (len(iris.data)):\n",
        "    for j in range (0,2):\n",
        "        val = iris.data[i][j]\n",
        "        value = val*1000\n",
        "        iris.data[i][j]=value"
      ],
      "execution_count": null,
      "outputs": []
    },
    {
      "cell_type": "markdown",
      "metadata": {
        "id": "swV7-ud_0a0G"
      },
      "source": [
        "Définition de X et de y"
      ]
    },
    {
      "cell_type": "code",
      "metadata": {
        "ExecuteTime": {
          "end_time": "2020-10-10T08:41:09.087089Z",
          "start_time": "2020-10-10T08:41:00.058Z"
        },
        "id": "1_XVBNoL0a0G"
      },
      "source": [
        "X = iris.data\n",
        "y = iris.target"
      ],
      "execution_count": null,
      "outputs": []
    },
    {
      "cell_type": "code",
      "metadata": {
        "ExecuteTime": {
          "end_time": "2020-10-10T08:41:09.088636Z",
          "start_time": "2020-10-10T08:41:00.064Z"
        },
        "id": "2CtalykL0a0G"
      },
      "source": [
        "validation_size=0.3 \n",
        "\n",
        "testsize= 1-validation_size\n",
        "seed=30\n",
        "X_train,X_test,y_train,y_test=train_test_split(X, \n",
        "                                               y, \n",
        "                                               train_size=validation_size, \n",
        "                                               random_state=seed,\n",
        "                                               test_size=testsize)"
      ],
      "execution_count": null,
      "outputs": []
    },
    {
      "cell_type": "markdown",
      "metadata": {
        "id": "Xk6sKc4c0a0G"
      },
      "source": [
        "Fonction de comptage pour voir combien d'instances sont mal classés après la classification."
      ]
    },
    {
      "cell_type": "code",
      "metadata": {
        "ExecuteTime": {
          "end_time": "2020-10-10T08:41:09.094391Z",
          "start_time": "2020-10-10T08:41:00.072Z"
        },
        "id": "bTUCWtlK0a0G"
      },
      "source": [
        "def cpt_mal_classes(y_test,result):\n",
        "    nb=0\n",
        "    for i in range(len(y_test)):\n",
        "        if y_test[i] != result [i]:\n",
        "            nb=nb+1\n",
        "    return nb       \n",
        "\n",
        "def print_nb_classes (taille,nb):\n",
        "    print (\"Taille des données à tester\",\n",
        "       taille, \n",
        "       \" - mal classées : \",nb)    "
      ],
      "execution_count": null,
      "outputs": []
    },
    {
      "cell_type": "markdown",
      "metadata": {
        "id": "hFH0GI0Q0a0G"
      },
      "source": [
        "Première classification avec SVM. L'objectif ici est de montrer que SVM est très sensible à la standardisation. Il suffit de regarder l'accuracy pour s'en convaincre."
      ]
    },
    {
      "cell_type": "code",
      "metadata": {
        "ExecuteTime": {
          "end_time": "2020-10-10T08:41:09.095884Z",
          "start_time": "2020-10-10T08:41:00.077Z"
        },
        "id": "x1oV22LD0a0G",
        "colab": {
          "base_uri": "https://localhost:8080/",
          "height": 632
        },
        "outputId": "8c93dc79-5c6f-439e-f5ed-62b672f1a1c4"
      },
      "source": [
        "clf.fit(X_train, y_train)\n",
        "\n",
        "y_pred = clf.predict(X_test)\n",
        "nb=cpt_mal_classes(y_test,y_pred)\n",
        "taille=len(y_test)\n",
        "print_nb_classes (len(y_test),nb)\n",
        "MyshowAllScores(y_test,y_pred)\n"
      ],
      "execution_count": null,
      "outputs": [
        {
          "output_type": "stream",
          "text": [
            "Taille des données à tester 105  - mal classées :  39\n",
            "Accuracy : 0.629\n",
            "Classification Report\n",
            "              precision    recall  f1-score   support\n",
            "\n",
            "           0    0.82927   1.00000   0.90667        34\n",
            "           1    0.00000   0.00000   0.00000        38\n",
            "           2    0.50000   0.96970   0.65979        33\n",
            "\n",
            "    accuracy                        0.62857       105\n",
            "   macro avg    0.44309   0.65657   0.52215       105\n",
            "weighted avg    0.42567   0.62857   0.50095       105\n",
            "\n"
          ],
          "name": "stdout"
        },
        {
          "output_type": "stream",
          "text": [
            "/usr/local/lib/python3.6/dist-packages/sklearn/metrics/_classification.py:1272: UndefinedMetricWarning: Precision and F-score are ill-defined and being set to 0.0 in labels with no predicted samples. Use `zero_division` parameter to control this behavior.\n",
            "  _warn_prf(average, modifier, msg_start, len(result))\n"
          ],
          "name": "stderr"
        },
        {
          "output_type": "display_data",
          "data": {
            "image/png": "[encoded data removed]",
            "text/plain": [
              "<Figure size 576x360 with 2 Axes>"
            ]
          },
          "metadata": {
            "tags": []
          }
        }
      ]
    },
    {
      "cell_type": "markdown",
      "metadata": {
        "id": "fSS9YwJl0a0G"
      },
      "source": [
        "Par la suite nous allons donc utiliser MinMaxScaler () pour standardiser les données.   \n",
        "\n",
        "Nous sauvegardons également le jeu de test (X_save=X_test.copy()). L'objectif est de sauvegarder le modèle pour évaluer en le rechargeant si le nombre d'instances bien classées est le même que celui qui a été prédit lors de l'apprentissage. "
      ]
    },
    {
      "cell_type": "code",
      "metadata": {
        "ExecuteTime": {
          "end_time": "2020-10-10T08:41:09.097297Z",
          "start_time": "2020-10-10T08:41:00.083Z"
        },
        "id": "_oiLxT6N0a0H"
      },
      "source": [
        "validation_size=0.3 \n",
        "\n",
        "testsize= 1-validation_size\n",
        "seed=30\n",
        "X_train,X_test,y_train,y_test=train_test_split(X, \n",
        "                                               y, \n",
        "                                               train_size=validation_size, \n",
        "                                               random_state=seed,\n",
        "                                               test_size=testsize)"
      ],
      "execution_count": null,
      "outputs": []
    },
    {
      "cell_type": "markdown",
      "metadata": {
        "id": "-AoRzD890a0H"
      },
      "source": [
        " \n",
        "\n",
        "La standardisation a été faite car les valeurs du jeu de données ne permettait pas de pouvoir utiliser le classifieur directement. En sauvegardant le jeu avant la standardisation nous simulons le fait que nous arrivons avec un nouveau jeu de données d'iris."
      ]
    },
    {
      "cell_type": "code",
      "metadata": {
        "ExecuteTime": {
          "end_time": "2020-10-10T08:41:09.098675Z",
          "start_time": "2020-10-10T08:41:00.088Z"
        },
        "id": "MJp7Twnz0a0H"
      },
      "source": [
        "from sklearn.preprocessing import MinMaxScaler\n",
        "scaler = MinMaxScaler()\n",
        "X_train = scaler.fit_transform(X_train)\n",
        "X_save=X_test.copy()\n",
        "X_test = scaler.fit_transform(X_test)"
      ],
      "execution_count": null,
      "outputs": []
    },
    {
      "cell_type": "code",
      "metadata": {
        "ExecuteTime": {
          "end_time": "2020-10-10T08:41:09.100201Z",
          "start_time": "2020-10-10T08:41:00.093Z"
        },
        "id": "QzzeNmbA0a0H",
        "colab": {
          "base_uri": "https://localhost:8080/",
          "height": 578
        },
        "outputId": "c53e67c7-fd7a-45cb-fd72-eaa07e89010c"
      },
      "source": [
        "clf.fit(X_train, y_train)\n",
        "\n",
        "y_pred = clf.predict(X_test)\n",
        "nb=cpt_mal_classes(y_test,y_pred)\n",
        "taille=len(y_test)\n",
        "print_nb_classes (len(y_test),nb)\n",
        "MyshowAllScores(y_test,y_pred)"
      ],
      "execution_count": null,
      "outputs": [
        {
          "output_type": "stream",
          "text": [
            "Taille des données à tester 105  - mal classées :  4\n",
            "Accuracy : 0.962\n",
            "Classification Report\n",
            "              precision    recall  f1-score   support\n",
            "\n",
            "           0    1.00000   1.00000   1.00000        34\n",
            "           1    0.97222   0.92105   0.94595        38\n",
            "           2    0.91429   0.96970   0.94118        33\n",
            "\n",
            "    accuracy                        0.96190       105\n",
            "   macro avg    0.96217   0.96358   0.96237       105\n",
            "weighted avg    0.96301   0.96190   0.96195       105\n",
            "\n"
          ],
          "name": "stdout"
        },
        {
          "output_type": "display_data",
          "data": {
            "image/png": "[encoded data removed]",
            "text/plain": [
              "<Figure size 576x360 with 2 Axes>"
            ]
          },
          "metadata": {
            "tags": []
          }
        }
      ]
    },
    {
      "cell_type": "markdown",
      "metadata": {
        "id": "Ga0fksGR0a0H"
      },
      "source": [
        "Sauvegarde du modèle appris"
      ]
    },
    {
      "cell_type": "code",
      "metadata": {
        "ExecuteTime": {
          "end_time": "2020-10-10T08:41:09.101734Z",
          "start_time": "2020-10-10T08:41:00.098Z"
        },
        "id": "RfC8V3fw0a0H",
        "colab": {
          "base_uri": "https://localhost:8080/"
        },
        "outputId": "e7fca4a1-8ace-4bb1-a6b2-22af5ea801c3"
      },
      "source": [
        "print(\"\\nSauvegarde du modèle\") \n",
        "filename = 'firstmodel.pkl'\n",
        "pickle.dump(clf, open(filename, 'wb'))\n",
        "\n"
      ],
      "execution_count": null,
      "outputs": [
        {
          "output_type": "stream",
          "text": [
            "\n",
            "Sauvegarde du modèle\n"
          ],
          "name": "stdout"
        }
      ]
    },
    {
      "cell_type": "markdown",
      "metadata": {
        "id": "v9ldkyo10a0H"
      },
      "source": [
        "Ouverture du modèle pour le tester. Ici nous reprenons le jeu de test qui n'a pas eu l'étape de standardisation comme nouvelles données, i.e. nous avons de nouveaux IRIS. Si le modèle est bien appris le nombre d'objets mal classés devrait être le même."
      ]
    },
    {
      "cell_type": "code",
      "metadata": {
        "ExecuteTime": {
          "end_time": "2020-10-10T08:41:09.103230Z",
          "start_time": "2020-10-10T08:41:00.103Z"
        },
        "id": "4wdjOKzU0a0H",
        "colab": {
          "base_uri": "https://localhost:8080/",
          "height": 666
        },
        "outputId": "a8275491-e78d-409e-b18e-1bf18a8bf1f0"
      },
      "source": [
        "print (\"Chargement du modèle \\n\")\n",
        "filename = 'firstmodel.pkl'\n",
        "clf_loaded = pickle.load(open(filename, 'rb'))\n",
        "\n",
        "y_pred=clf_loaded.predict(X_save)\n",
        "\n",
        "nb=cpt_mal_classes(y_test,y_pred)\n",
        "taille=len(y_test)\n",
        "print_nb_classes (len(y_test),nb)\n",
        "MyshowAllScores(y_test,y_pred)"
      ],
      "execution_count": null,
      "outputs": [
        {
          "output_type": "stream",
          "text": [
            "Chargement du modèle \n",
            "\n",
            "Taille des données à tester 105  - mal classées :  72\n",
            "Accuracy : 0.314\n",
            "Classification Report\n",
            "              precision    recall  f1-score   support\n",
            "\n",
            "           0    0.00000   0.00000   0.00000        34\n",
            "           1    0.00000   0.00000   0.00000        38\n",
            "           2    0.31429   1.00000   0.47826        33\n",
            "\n",
            "    accuracy                        0.31429       105\n",
            "   macro avg    0.10476   0.33333   0.15942       105\n",
            "weighted avg    0.09878   0.31429   0.15031       105\n",
            "\n"
          ],
          "name": "stdout"
        },
        {
          "output_type": "stream",
          "text": [
            "/usr/local/lib/python3.6/dist-packages/sklearn/metrics/_classification.py:1272: UndefinedMetricWarning: Precision and F-score are ill-defined and being set to 0.0 in labels with no predicted samples. Use `zero_division` parameter to control this behavior.\n",
            "  _warn_prf(average, modifier, msg_start, len(result))\n"
          ],
          "name": "stderr"
        },
        {
          "output_type": "display_data",
          "data": {
            "image/png": "[encoded data removed]",
            "text/plain": [
              "<Figure size 576x360 with 2 Axes>"
            ]
          },
          "metadata": {
            "tags": []
          }
        }
      ]
    },
    {
      "cell_type": "markdown",
      "metadata": {
        "id": "GfCFV6qG0a0H"
      },
      "source": [
        "Nous pouvons constater qu'il y a presque plus d'objets mal classés. Comme nous avons fait une standardisation dans les étapes précédentes celle là n'a pas pu être faite pour les nouvelles données. La standardisation doit donc être faite pour les nouvelles données mais elle nécessite de pouvoir récupérer les anciennes valeurs pour tout standardiser.   \n",
        "\n",
        "Les pipelines sont donc utiles\n",
        "pour pouvoir tout sauvegarder (l'étape de standardisation et l'application du modèle). "
      ]
    },
    {
      "cell_type": "code",
      "metadata": {
        "ExecuteTime": {
          "end_time": "2020-10-10T08:41:09.105319Z",
          "start_time": "2020-10-10T08:41:00.108Z"
        },
        "id": "N07r0JMR0a0H",
        "colab": {
          "base_uri": "https://localhost:8080/",
          "height": 612
        },
        "outputId": "dbd48feb-121e-4900-9dc0-92c6bfc92573"
      },
      "source": [
        "pipeline = Pipeline([('vect', MinMaxScaler()),\n",
        "                ('clf', SVC(gamma='scale')),\n",
        "               ])\n",
        "\n",
        "\n",
        "\n",
        "\n",
        "X=iris.data\n",
        "y=iris.target\n",
        "\n",
        "\n",
        "X_train,X_test,y_train,y_test=train_test_split(X, \n",
        "                                               y, \n",
        "                                               train_size=validation_size, \n",
        "                                               random_state=seed,\n",
        "                                               test_size=testsize)\n",
        "\n",
        "X_save=X_test.copy()\n",
        "\n",
        "pipeline.fit(X_train, y_train)\n",
        "\n",
        "y_pred = pipeline.predict(X_test)\n",
        "\n",
        "nb=cpt_mal_classes(y_test,y_pred)\n",
        "taille=len(y_test)\n",
        "print_nb_classes (len(y_test),nb)\n",
        "MyshowAllScores(y_test,y_pred)\n",
        "\n",
        "\n",
        "\n",
        "print(\"\\nSauvegarde du pipeline \") \n",
        "filename = 'avecscaler.pkl'\n",
        "pickle.dump(pipeline, open(filename, 'wb'))"
      ],
      "execution_count": null,
      "outputs": [
        {
          "output_type": "stream",
          "text": [
            "Taille des données à tester 105  - mal classées :  5\n",
            "Accuracy : 0.952\n",
            "Classification Report\n",
            "              precision    recall  f1-score   support\n",
            "\n",
            "           0    1.00000   1.00000   1.00000        34\n",
            "           1    0.97143   0.89474   0.93151        38\n",
            "           2    0.88889   0.96970   0.92754        33\n",
            "\n",
            "    accuracy                        0.95238       105\n",
            "   macro avg    0.95344   0.95481   0.95301       105\n",
            "weighted avg    0.95474   0.95238   0.95244       105\n",
            "\n"
          ],
          "name": "stdout"
        },
        {
          "output_type": "display_data",
          "data": {
            "image/png": "[encoded data removed]",
            "text/plain": [
              "<Figure size 576x360 with 2 Axes>"
            ]
          },
          "metadata": {
            "tags": []
          }
        },
        {
          "output_type": "stream",
          "text": [
            "\n",
            "Sauvegarde du pipeline \n"
          ],
          "name": "stdout"
        }
      ]
    },
    {
      "cell_type": "code",
      "metadata": {
        "ExecuteTime": {
          "end_time": "2020-10-10T08:41:09.106719Z",
          "start_time": "2020-10-10T08:41:00.113Z"
        },
        "id": "ZLRq3N1k0a0H",
        "colab": {
          "base_uri": "https://localhost:8080/",
          "height": 612
        },
        "outputId": "cffd009b-08a7-4233-c3bd-cf3f0f2a066a"
      },
      "source": [
        "print (\"Chargement du modèle \\n\")\n",
        "filename = 'avecscaler.pkl'\n",
        "clf_loaded = pickle.load(open(filename, 'rb'))\n",
        "\n",
        "y_pred=clf_loaded.predict(X_save)\n",
        "nb=cpt_mal_classes(y_test,y_pred)\n",
        "taille=len(y_test)\n",
        "print_nb_classes (len(y_test),nb)\n",
        "\n",
        "MyshowAllScores(y_test,y_pred)"
      ],
      "execution_count": null,
      "outputs": [
        {
          "output_type": "stream",
          "text": [
            "Chargement du modèle \n",
            "\n",
            "Taille des données à tester 105  - mal classées :  5\n",
            "Accuracy : 0.952\n",
            "Classification Report\n",
            "              precision    recall  f1-score   support\n",
            "\n",
            "           0    1.00000   1.00000   1.00000        34\n",
            "           1    0.97143   0.89474   0.93151        38\n",
            "           2    0.88889   0.96970   0.92754        33\n",
            "\n",
            "    accuracy                        0.95238       105\n",
            "   macro avg    0.95344   0.95481   0.95301       105\n",
            "weighted avg    0.95474   0.95238   0.95244       105\n",
            "\n"
          ],
          "name": "stdout"
        },
        {
          "output_type": "display_data",
          "data": {
            "image/png": "[encoded data removed]",
            "text/plain": [
              "<Figure size 576x360 with 2 Axes>"
            ]
          },
          "metadata": {
            "tags": []
          }
        }
      ]
    },
    {
      "cell_type": "markdown",
      "metadata": {
        "id": "3zDKNRxR0a0I"
      },
      "source": [
        "**Attention :** si vous testez ce modèle sauvegardé sous ce notebook il fonctionnera. Si, par exemple, vous ouvrez un fichier à part et lancer le code précédent cela fonctionnera, sans doute, encore$^*$ mais .....   \n",
        "Imaginer que l'on réalise un traitement particulier, via une fonction f () dans nos données, qui soit appelée dans le pipeline :  \n",
        "*pipeline = Pipeline([('vect', f()),*  \n",
        "Si maintenant vous utilisez dans votre autre notebook ou dans un programme extérieur votre modèle. Alors qu'il fonctionnait bien dans votre notebook précédent, vous verrez afficher un message d'erreur du type : *Can't get attribute 'f'*   \n",
        "En fait, pickle sauvegarde une référence à la fonction f. Dans le premier cas, votre notebook initial, cette fonction a été définie et donc pickle va pouvoir exécuter le code de cette fonction. Dans l'autre notebook, il va rechercher le code à exécuter et donc ... il ne le trouvera pas.   \n",
        "\n",
        "Il est possible d'utiliser *Drill* qui se comporte exactement de la même manière que *pickle* mais qui lui sauvegarde aussi la fonction. Alors la solution est-elle d'utiliser *Drill* ? C'est tout à fait déconseillé. Bien sûr pour votre modèle avec votre fonction il n'y aura pas de problèmes mais souvent on va utiliser des modèles définis par quelqu'un d'autre .... et pour des raisons de sécurités évidentes (on ne sait pas ce que fait la fonction cachée !!!) ... on évite cette approche. La solution consiste tout simplement à sauvegarder le modèle et les fonctions nécessaires pour son fonctionnement et de faire un import de celles-ci là où le modèle est utilisé. \n",
        "\n"
      ]
    },
    {
      "cell_type": "markdown",
      "metadata": {
        "id": "vUgEbCVt0a0I"
      },
      "source": [
        "## Une petite mise en  pratique\n",
        "\n"
      ]
    },
    {
      "cell_type": "markdown",
      "metadata": {
        "id": "2ZzCx3ruNDt6"
      },
      "source": [
        "Jusqu'à présent vous n'avez que vu (ou revu) les principes généraux de la classification. Avant de s'attaquer aux données textuelles, voici un petit exercice pour mettre en oeuvre les concepts introduits dans ce notebook. Les IRIS est connu, très connu ... alors changeons de domaine pour ... les pingouins\n",
        "\n",
        "\n",
        "    \n",
        "De nombreux jeux de données ont été proposés en alternative à Iris qui est très (trop ?) utilisé. Le jeu de données que nous allons utiliser possède des caractéristiques assez similaires à IRIS mais concerne les espèces de pingouins. Il est disponible ici : https://allisonhorst.github.io/palmerpenguins/  \n",
        "    \n",
        "<IMG SRC=\"http://www.lirmm.fr/~poncelet/EGC2021/pinguins.png\" align=\"center\" >  \n",
        "    \n",
        "Il contient à l'origine 17 caractéristiques différentes ('studyName', 'Sample Number', 'Species', 'Region', 'Island', 'Stage','Individual ID', 'Clutch Completion', 'Date Egg', 'Culmen Length (mm)','Culmen Depth (mm)', 'Flipper Length (mm)', 'Body Mass (g)', 'Sex','Delta 15 N (o/oo)', 'Delta 13 C (o/oo)', 'Comments') et concerne 3 espèces de pingouins différentes ('Adelie Penguin (Pygoscelis adeliae)', 'Gentoo penguin (Pygoscelis papua)', 'Chinstrap penguin (Pygoscelis antarctica)'). L'un des objectifs est à partir des différentes caractéristiques de prédire l'espèce de pingouins.   \n",
        "Le jeu de données d'origine contient de nombreuses valeurs manquantes, des données à la fois catégorielles, numériques, etc. Aussi nous en proposons une version nettoyée que vous pouvez récupérer : "
      ]
    },
    {
      "cell_type": "code",
      "metadata": {
        "id": "FsIJqLRs0a0I",
        "colab": {
          "base_uri": "https://localhost:8080/"
        },
        "outputId": "bfdb463e-61f1-4547-9f4f-405bb7525f69"
      },
      "source": [
        "!wget https://www.lirmm.fr/~poncelet/EGC2021/penguins.csv"
      ],
      "execution_count": null,
      "outputs": [
        {
          "output_type": "stream",
          "text": [
            "--2021-01-25 10:10:29--  https://www.lirmm.fr/~poncelet/EGC2021/penguins.csv\n",
            "Resolving www.lirmm.fr (www.lirmm.fr)... 193.49.104.251\n",
            "Connecting to www.lirmm.fr (www.lirmm.fr)|193.49.104.251|:443... connected.\n",
            "HTTP request sent, awaiting response... 200 OK\n",
            "Length: 27042 (26K) [text/csv]\n",
            "Saving to: ‘penguins.csv.1’\n",
            "\n",
            "penguins.csv.1      100%[===================>]  26.41K  --.-KB/s    in 0.03s   \n",
            "\n",
            "2021-01-25 10:10:29 (921 KB/s) - ‘penguins.csv.1’ saved [27042/27042]\n",
            "\n"
          ],
          "name": "stdout"
        }
      ]
    },
    {
      "cell_type": "markdown",
      "metadata": {
        "id": "B5zxSrwl0a0I"
      },
      "source": [
        "<font color=red>Exercice :</font> la cellule suivante permet de charger le dossier et d'avoir quelques informations sur les données manipulées. En outre, il propose d'appliquer un standardScaler sur les données prédictives. L'objectif à présent est de proposer un classifier qui soit capable de prédire le mieux possible l'espèce de pingouin.  \n",
        "\n",
        "**Indication :** SVM se comporte bien sur ce jeu de données."
      ]
    },
    {
      "cell_type": "code",
      "metadata": {
        "id": "F3Y-uKCL0a0I",
        "colab": {
          "base_uri": "https://localhost:8080/"
        },
        "outputId": "78bf0360-f217-49a1-c547-0ad55c58df6b"
      },
      "source": [
        "# lecture du fichier\n",
        "df_penguins=pd.read_csv(\"penguins.csv\", encoding='utf8')\n",
        "\n",
        "# les premières lignes\n",
        "print (df_penguins.head())\n",
        "\n",
        "# les différentes colonnes\n",
        "print (df_penguins.columns)\n",
        "\n",
        "# le nombre d'enregistrements\n",
        "print (df_penguins.shape)\n",
        "\n",
        "# la répartition du nombre de pingouins\n",
        "print (\"répartition des espèces de pingouins :\\n\",df_penguins['Species'].value_counts())\n",
        "\n",
        "# selection des variables prédictives et à prédire\n",
        "array = df_penguins.values\n",
        "X = array[:,0:6] \n",
        "y = array[:,6]\n",
        "\n",
        "# attention étant donné la différence entre les valeurs il est nécessaire de normaliser\n",
        "standardscaler = StandardScaler()\n",
        "X_standardscale = standardscaler.fit_transform(X)\n",
        "X=X_standardscale"
      ],
      "execution_count": null,
      "outputs": [
        {
          "output_type": "stream",
          "text": [
            "   Culmen Length (mm)  ...                              Species\n",
            "0                39.5  ...  Adelie Penguin (Pygoscelis adeliae)\n",
            "1                40.3  ...  Adelie Penguin (Pygoscelis adeliae)\n",
            "2                36.7  ...  Adelie Penguin (Pygoscelis adeliae)\n",
            "3                39.3  ...  Adelie Penguin (Pygoscelis adeliae)\n",
            "4                38.9  ...  Adelie Penguin (Pygoscelis adeliae)\n",
            "\n",
            "[5 rows x 7 columns]\n",
            "Index(['Culmen Length (mm)', 'Culmen Depth (mm)', 'Flipper Length (mm)',\n",
            "       'Body Mass (g)', 'Delta 15 N (o/oo)', 'Delta 13 C (o/oo)', 'Species'],\n",
            "      dtype='object')\n",
            "(330, 7)\n",
            "répartition des espèces de pingouins :\n",
            " Adelie Penguin (Pygoscelis adeliae)          141\n",
            "Gentoo penguin (Pygoscelis papua)            122\n",
            "Chinstrap penguin (Pygoscelis antarctica)     67\n",
            "Name: Species, dtype: int64\n"
          ],
          "name": "stdout"
        }
      ]
    },
    {
      "cell_type": "code",
      "metadata": {
        "ExecuteTime": {
          "end_time": "2020-10-10T08:41:09.062388Z",
          "start_time": "2020-10-10T08:40:59.988Z"
        },
        "id": "90LYPlrnCe73"
      },
      "source": [
        "\n",
        "\n",
        "classifiers = {\n",
        "    'KNeighborsClassifier': KNeighborsClassifier(),\n",
        "    'DecisionTreeClassifier': DecisionTreeClassifier(),\n",
        "    'SVC': SVC()\n",
        "}\n",
        "\n",
        "params = {'KNeighborsClassifier' : [{'n_neighbors': list(range(1,15))},\n",
        "    {'metric': ['minkowski','euclidean','manhattan']}],\n",
        "           'DecisionTreeClassifier': [{'max_depth': [1,2,3,4,5,6,7,8,9,10]},\n",
        "    {'criterion': ['gini', 'entropy']},\n",
        "    {'min_samples_leaf': [1,2,3,4,5,6,7,8,9,10]}],\n",
        "       'SVC':[{'C': [0.001, 0.01, 0.1, 1, 10], \n",
        "    'gamma' : [0.001, 0.01, 0.1, 1], \n",
        "    'kernel': ['linear','rbf']}]  }\n",
        "\n"
      ],
      "execution_count": null,
      "outputs": []
    },
    {
      "cell_type": "code",
      "metadata": {
        "ExecuteTime": {
          "end_time": "2020-10-10T08:41:09.063780Z",
          "start_time": "2020-10-10T08:40:59.994Z"
        },
        "colab": {
          "base_uri": "https://localhost:8080/"
        },
        "id": "Bit14649Ce75",
        "outputId": "b3e5fb78-71b9-4c5b-b24b-fcf81e2f76b0"
      },
      "source": [
        "class Result_Parameters:\n",
        "     def __init__(self,name, score, parameters):\n",
        "         self.name = name\n",
        "         self.score = score\n",
        "         self.parameters = parameters\n",
        "     def __repr__(self):\n",
        "         return repr((self.name, self.score, self.parameters))\n",
        "\n",
        "       \n",
        "results = []\n",
        "for key,value in classifiers.items():\n",
        "    gd_sr = GridSearchCV(estimator=value,  \n",
        "                     param_grid=params[key],\n",
        "                     scoring='accuracy',\n",
        "                     cv=5,\n",
        "                     n_jobs=1,\n",
        "                     iid=True)\n",
        "    gd_sr.fit(X, y)  \n",
        "    result=Result_Parameters(key,gd_sr.best_score_,gd_sr.best_estimator_)\n",
        "    results.append(result)   \n",
        "    \n",
        "    \n",
        "    results=sorted(results, key=lambda result: result.score, reverse=True) \n",
        "\n",
        "print ('Le meilleur resultat : \\n')\n",
        "print ('Classifier : ',results[0].name, \n",
        "       ' score %0.3f' %results[0].score, \n",
        "       ' avec ',results[0].parameters,'\\n')\n",
        "\n",
        "print ('Tous les résultats : \\n')\n",
        "for result in results:\n",
        "    print ('Classifier : ',result.name, \n",
        "           ' score %0.3f' %result.score, \n",
        "           ' avec ',result.parameters,'\\n')\n",
        "\n",
        "    \n"
      ],
      "execution_count": null,
      "outputs": [
        {
          "output_type": "stream",
          "text": [
            "Le meilleur resultat : \n",
            "\n",
            "Classifier :  SVC  score 1.000  avec  SVC(C=1, break_ties=False, cache_size=200, class_weight=None, coef0=0.0,\n",
            "    decision_function_shape='ovr', degree=3, gamma=0.001, kernel='linear',\n",
            "    max_iter=-1, probability=False, random_state=None, shrinking=True,\n",
            "    tol=0.001, verbose=False) \n",
            "\n",
            "Tous les résultats : \n",
            "\n",
            "Classifier :  SVC  score 1.000  avec  SVC(C=1, break_ties=False, cache_size=200, class_weight=None, coef0=0.0,\n",
            "    decision_function_shape='ovr', degree=3, gamma=0.001, kernel='linear',\n",
            "    max_iter=-1, probability=False, random_state=None, shrinking=True,\n",
            "    tol=0.001, verbose=False) \n",
            "\n",
            "Classifier :  KNeighborsClassifier  score 0.997  avec  KNeighborsClassifier(algorithm='auto', leaf_size=30, metric='minkowski',\n",
            "                     metric_params=None, n_jobs=None, n_neighbors=3, p=2,\n",
            "                     weights='uniform') \n",
            "\n",
            "Classifier :  DecisionTreeClassifier  score 0.967  avec  DecisionTreeClassifier(ccp_alpha=0.0, class_weight=None, criterion='gini',\n",
            "                       max_depth=4, max_features=None, max_leaf_nodes=None,\n",
            "                       min_impurity_decrease=0.0, min_impurity_split=None,\n",
            "                       min_samples_leaf=1, min_samples_split=2,\n",
            "                       min_weight_fraction_leaf=0.0, presort='deprecated',\n",
            "                       random_state=None, splitter='best') \n",
            "\n"
          ],
          "name": "stdout"
        }
      ]
    },
    {
      "cell_type": "markdown",
      "metadata": {
        "id": "g3eAuRqa0a0J"
      },
      "source": [
        "<font color=blue>Solution :</font> "
      ]
    },
    {
      "cell_type": "code",
      "metadata": {
        "id": "WuXblG1H-dKe",
        "colab": {
          "base_uri": "https://localhost:8080/"
        },
        "outputId": "4f50cf2c-5871-4b7b-a88e-fc85be70fd33"
      },
      "source": [
        "# executer la cellule pour voir et executer la solution\n",
        "sol_1=base64.b64decode(SolClassificationDeDonnees.sol_1).decode(\"utf-8\")\n",
        "print (sol_1)\n",
        "exec (sol_1)"
      ],
      "execution_count": null,
      "outputs": [
        {
          "output_type": "stream",
          "text": [
            "\n",
            "# il suffit d'appliquer les approches précédentes. \n",
            "# D'abord on peut comparer des algorithmes de classification \n",
            "# puis après sélectionner le meilleur et rechercher ses hyperparamètres.\n",
            "\n",
            "\n",
            "seed = 7\n",
            "scoring = 'accuracy'\n",
            "models = []\n",
            "models.append(('LR', LogisticRegression(solver='lbfgs')))\n",
            "models.append(('KNN', KNeighborsClassifier()))\n",
            "models.append(('CART', DecisionTreeClassifier()))\n",
            "models.append(('NB', GaussianNB()))\n",
            "models.append(('SVM', SVC(gamma='auto')))\n",
            "\n",
            "results = []\n",
            "names = []\n",
            "for name,model in models:\n",
            "    kfold = KFold(n_splits=10, random_state=seed)\n",
            "    start_time = time.time()\n",
            "    cv_results = cross_val_score(model, X, y, cv=kfold, scoring=scoring)\n",
            "    #pour avoir les paramètres utilisés dans le modèle enlever commentaire ligne suivante\n",
            "    #print (model.get_params())\n",
            "    print (\"Time pour\",name,\" %0.5f\"%(time.time() - start_time),'s')\n",
            "    results.append(cv_results)\n",
            "    names.append(name)\n",
            "    msg = \"%s: %0.3f (%0.3f)\" % (name, cv_results.mean(), cv_results.std())\n",
            "    print(msg)       \n",
            "\n",
            "\n",
            "# SVC a le meilleur score\n",
            "classifiers = {\n",
            "    'SVC': SVC()\n",
            "}\n",
            "\n",
            "params = {'SVC':[{'C': [0.001, 0.01, 0.1, 1, 10], \n",
            "    'gamma' : [0.001, 0.01, 0.1, 1], \n",
            "    'kernel': ['linear','rbf']}]  }\n",
            "\n",
            "\n",
            "\n",
            "       \n",
            "results = []\n",
            "for key,value in classifiers.items():\n",
            "    gd_sr = GridSearchCV(estimator=value,  \n",
            "                     param_grid=params[key],\n",
            "                     scoring='accuracy',\n",
            "                     cv=5,\n",
            "                     n_jobs=1,\n",
            "                     iid=True)\n",
            "    gd_sr.fit(X, y)  \n",
            "    result=Result_Parameters(key,gd_sr.best_score_,gd_sr.best_estimator_)\n",
            "    results.append(result)   \n",
            "    \n",
            "    \n",
            "    \n",
            "results=sorted(results, key=lambda result: result.score, reverse=True) \n",
            "\n",
            "print ('Le meilleur resultat :  ')\n",
            "print ('Classifier : ',results[0].name, \n",
            "       ' score %0.2f' %results[0].score, \n",
            "       ' avec ',results[0].parameters,' ')\n",
            "\n",
            "print ('Tous les résultats : ')\n",
            "for result in results:\n",
            "    print ('Classifier : ',result.name, \n",
            "           ' score %0.2f' %result.score, \n",
            "           ' avec ',result.parameters,' ')\n",
            "    \n",
            "\n",
            "Time pour LR  0.10858 s\n",
            "LR: 0.988 (0.028)\n",
            "Time pour KNN  0.04215 s\n",
            "KNN: 0.985 (0.031)\n",
            "Time pour CART  0.02446 s\n",
            "CART: 0.939 (0.057)\n",
            "Time pour NB  0.02904 s\n",
            "NB: 0.973 (0.063)\n",
            "Time pour SVM  0.02420 s\n",
            "SVM: 0.991 (0.019)\n",
            "Le meilleur resultat :  \n",
            "Classifier :  SVC  score 1.00  avec  SVC(C=1, break_ties=False, cache_size=200, class_weight=None, coef0=0.0,\n",
            "    decision_function_shape='ovr', degree=3, gamma=0.001, kernel='linear',\n",
            "    max_iter=-1, probability=False, random_state=None, shrinking=True,\n",
            "    tol=0.001, verbose=False)  \n",
            "Tous les résultats : \n",
            "Classifier :  SVC  score 1.00  avec  SVC(C=1, break_ties=False, cache_size=200, class_weight=None, coef0=0.0,\n",
            "    decision_function_shape='ovr', degree=3, gamma=0.001, kernel='linear',\n",
            "    max_iter=-1, probability=False, random_state=None, shrinking=True,\n",
            "    tol=0.001, verbose=False)  \n"
          ],
          "name": "stdout"
        }
      ]
    },
    {
      "cell_type": "markdown",
      "metadata": {
        "id": "xhlX3vTn0a0J"
      },
      "source": [
        "Maintenant que nous avons vu comment mettre en place un classifier et l'évaluer, nous abordons les données textuelles .... dans le notebook \"**2 - Ingénierie des données textuelles**\""
      ]
    }
  ]
}