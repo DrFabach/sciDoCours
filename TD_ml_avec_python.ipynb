{
  "nbformat": 4,
  "nbformat_minor": 0,
  "metadata": {
    "kernelspec": {
      "display_name": "Python 3",
      "language": "python",
      "name": "python3"
    },
    "language_info": {
      "codemirror_mode": {
        "name": "ipython",
        "version": 3
      },
      "file_extension": ".py",
      "mimetype": "text/x-python",
      "name": "python",
      "nbconvert_exporter": "python",
      "pygments_lexer": "ipython3",
      "version": "3.8.5"
    },
    "toc": {
      "base_numbering": 1,
      "nav_menu": {},
      "number_sections": true,
      "sideBar": true,
      "skip_h1_title": false,
      "title_cell": "Table of Contents",
      "title_sidebar": "Contents",
      "toc_cell": false,
      "toc_position": {},
      "toc_section_display": true,
      "toc_window_display": false
    },
    "colab": {
      "provenance": [],
      "include_colab_link": true
    }
  },
  "cells": [
    {
      "cell_type": "markdown",
      "metadata": {
        "id": "view-in-github",
        "colab_type": "text"
      },
      "source": [
        "<a href=\"https://colab.research.google.com/github/DrFabach/sciDoCours/blob/master/TD_ml_avec_python.ipynb\" target=\"_parent\"><img src=\"https://colab.research.google.com/assets/colab-badge.svg\" alt=\"Open In Colab\"/></a>"
      ]
    },
    {
      "cell_type": "markdown",
      "metadata": {
        "id": "3RLHAqAN0azv"
      },
      "source": [
        "<H1> Premières classifications </H1>"
      ]
    },
    {
      "cell_type": "markdown",
      "metadata": {
        "id": "byvbK8uU0azv"
      },
      "source": [
        "Le but de ce notebook est de faire ses premiers pas en classification supervisée, i.e. lorsque les données d'apprentissage disposent de classes labelisées. Pour cela nous utiliserons un jeu de données très connu dans la communauté : IRIS.\n",
        "\n",
        "Dans un premier temps, nous présentons une première classification pour apprendre à utiliser un classifieur et à prédire une valeur. Les jeux de données d'apprentissage et de de test sont présentés par la suite. Nous présentons ensuite différentes mesures pour évaluer un modèle.   \n",
        "Etant donné qu'il n'est pas possible d'avoir un classifieur universel (NO FREE LUNCH THEOREM), nous verrons comment utiliser différents classifieurs et comment rechercher les meilleurs paramètres d'un classifieur. Enfin nous verrons comment sauvegarder et ré-utiliser un modèle appris.\n"
      ]
    },
    {
      "cell_type": "markdown",
      "metadata": {
        "id": "OcGJYrR_NuJj"
      },
      "source": [
        "## Installation\n"
      ]
    },
    {
      "cell_type": "markdown",
      "metadata": {
        "id": "4D4tLftX0azw"
      },
      "source": [
        "\n",
        "\n",
        "\n",
        "Avant de commencer, il est nécessaire de déjà posséder dans son environnement toutes les librairies utiles. Dans la seconde cellule nous importons toutes les librairies qui seront utiles à ce notebook. Il se peut que, lorsque vous lanciez l'éxecution de cette cellule, une soit absente. Dans ce cas il est nécessaire de l'installer. Pour cela dans la cellule suivante utiliser la commande :  \n",
        "\n",
        "*! pip install nom_librairie*  \n",
        "\n",
        "**Attention :** il est fortement conseillé lorsque l'une des librairies doit être installer de relancer le kernel de votre notebook.\n",
        "\n",
        "**Remarque :** même si toutes les librairies sont importées dès le début, les librairies utiles pour des fonctions présentées au cours de ce notebook sont ré-importées de manière à indiquer d'où elles viennent et ainsi faciliter la réutilisation de la fonction dans un autre projet.\n",
        " "
      ]
    },
    {
      "cell_type": "code",
      "metadata": {
        "id": "npE-hmfW0azw"
      },
      "source": [
        "# utiliser cette cellule pour installer les librairies manquantes\n",
        "# pour cela il suffit de taper dans cette cellule : !pip install nom_librairie_manquante\n",
        "# d'exécuter la cellule et de relancer la cellule suivante pour voir si tout se passe bien\n",
        "# recommencer tant que toutes les librairies ne sont pas installées ...\n",
        "\n",
        "\n",
        "#!pip install MyNLPUtilities\n",
        "\n",
        "# ne pas oublier de relancer le kernel du notebook"
      ],
      "execution_count": 1,
      "outputs": []
    },
    {
      "cell_type": "code",
      "metadata": {
        "id": "Kb-GSeSF0azx"
      },
      "source": [
        "# Importation des différentes librairies utiles pour le notebook\n",
        "\n",
        "#Sickit learn met régulièrement à jour des versions et \n",
        "#indique des futurs warnings. \n",
        "#ces deux lignes permettent de ne pas les afficher.\n",
        "import warnings\n",
        "warnings.filterwarnings(\"ignore\", category=FutureWarning)\n",
        "\n",
        "# librairies générales\n",
        "import pickle \n",
        "import pandas as pd\n",
        "from scipy.stats import randint\n",
        "import numpy as np\n",
        "import string\n",
        "import time\n",
        "import base64\n",
        "\n",
        "\n",
        "# librairie affichage\n",
        "import matplotlib.pyplot as plt\n",
        "import seaborn as sns\n",
        "\n",
        "\n",
        "# librairies scikit learn\n",
        "import sklearn\n",
        "from sklearn.naive_bayes import GaussianNB\n",
        "from sklearn.metrics import accuracy_score\n",
        "from sklearn.model_selection import train_test_split \n",
        "from sklearn.metrics import confusion_matrix\n",
        "from sklearn.metrics import classification_report\n",
        "from sklearn.metrics import precision_recall_fscore_support as score\n",
        "from sklearn.preprocessing import StandardScaler\n",
        "from sklearn.linear_model import LogisticRegression\n",
        "from sklearn.tree import DecisionTreeClassifier\n",
        "from sklearn.neighbors import KNeighborsClassifier\n",
        "from sklearn.naive_bayes import GaussianNB\n",
        "from sklearn.svm import SVC\n",
        "from sklearn.model_selection import KFold\n",
        "from sklearn.model_selection import cross_val_score\n",
        "from sklearn.tree import DecisionTreeClassifier\n",
        "from sklearn.model_selection import GridSearchCV\n",
        "from sklearn.model_selection import RandomizedSearchCV\n",
        "from sklearn.decomposition import PCA\n",
        "from sklearn.pipeline import Pipeline\n",
        "from sklearn.tree import DecisionTreeClassifier\n",
        "from sklearn.preprocessing import LabelEncoder\n",
        "from sklearn.preprocessing import MinMaxScaler\n",
        "from sklearn import datasets\n",
        "\n"
      ],
      "execution_count": 2,
      "outputs": []
    },
    {
      "cell_type": "markdown",
      "metadata": {
        "id": "4QMzV6u00azx"
      },
      "source": [
        "##Le jeu de données IRIS\n"
      ]
    },
    {
      "cell_type": "markdown",
      "metadata": {
        "id": "ndfjJjxd0azx"
      },
      "source": [
        "IRIS est un jeu de données multivariées qui a été présenté la première fois par R. Fisher en 1936 (R. Fisher, \"The use of multiple measurements in taxonomic problems\", Annals Eugen. 7 (1936) 179-188). Introduit tout d'abord comme exemple d'application de l'analyse discriminante linéaire, il a été très largement utilisé par la communauté de l'apprentissage automatique.   \n",
        "\n",
        "Le jeu de données est constitué de 3 classes correspondant à des espèces différentes d'Iris : 'Iris Setosa', 'Iris Virginica' et 'Iris Versicolor' et possède 4 caractéristiques correspondant à : la longueur et largeur des sépales et des pétales en centimètres. \n",
        "\n",
        "<IMG SRC=\"http://www.lirmm.fr/~poncelet/EGC2021/Iris.png\" align=\"center\" >  \n",
        "    \n",
        "tiré de : https://www.datacamp.com/community/tutorials/machine-learning-in-r  \n",
        "    \n",
        "    \n",
        "Tout au long de ce notebook, nous illustrerons les principales notions à l'aide de ce jeu de données. \n"
      ]
    },
    {
      "cell_type": "code",
      "metadata": {
        "ExecuteTime": {
          "end_time": "2020-10-10T08:41:03.304830Z",
          "start_time": "2020-10-10T08:40:59.751610Z"
        },
        "id": "k3J5hx-20azx",
        "colab": {
          "base_uri": "https://localhost:8080/",
          "height": 296
        },
        "outputId": "39e3bf28-f74c-4533-b9cd-e2ddc2d5525d"
      },
      "source": [
        "import pandas as pd\n",
        "import numpy as np\n",
        "\n",
        "# Le jeu de données est disponible sur le site de l'UCI\n",
        "# https://archive.ics.uci.edu/ml/machine-learning-databases/iris/iris.data\n",
        "\n",
        "# chargement du jeu de données à partir de l'URL\n",
        "url=\"https://archive.ics.uci.edu/ml/machine-learning-databases/iris/iris.data\"\n",
        "names = ['SepalLengthCm', 'SepalWidthCm', \n",
        "         'PetalLengthCm', 'PetalWidthCm', \n",
        "         'Species']\n",
        "\n",
        "# creation d'un dataframe pour récupérer les données\n",
        "df_iris = pd.read_csv(url, names=names)\n",
        "\n",
        "# affichage des 5 premières lignes du jeu de données\n",
        "display(df_iris.head())\n",
        "\n",
        "# affichage du nombre de classes et de val\n",
        "print (\"Nombre d'occurrences par classe : \\n\",df_iris['Species'].value_counts())"
      ],
      "execution_count": 4,
      "outputs": [
        {
          "output_type": "display_data",
          "data": {
            "text/plain": [
              "   SepalLengthCm  SepalWidthCm  PetalLengthCm  PetalWidthCm      Species\n",
              "0            5.1           3.5            1.4           0.2  Iris-setosa\n",
              "1            4.9           3.0            1.4           0.2  Iris-setosa\n",
              "2            4.7           3.2            1.3           0.2  Iris-setosa\n",
              "3            4.6           3.1            1.5           0.2  Iris-setosa\n",
              "4            5.0           3.6            1.4           0.2  Iris-setosa"
            ],
            "text/html": [
              "\n",
              "  <div id=\"df-3d97ff57-8ed9-4da4-bf67-f68c08212f4d\">\n",
              "    <div class=\"colab-df-container\">\n",
              "      <div>\n",
              "<style scoped>\n",
              "    .dataframe tbody tr th:only-of-type {\n",
              "        vertical-align: middle;\n",
              "    }\n",
              "\n",
              "    .dataframe tbody tr th {\n",
              "        vertical-align: top;\n",
              "    }\n",
              "\n",
              "    .dataframe thead th {\n",
              "        text-align: right;\n",
              "    }\n",
              "</style>\n",
              "<table border=\"1\" class=\"dataframe\">\n",
              "  <thead>\n",
              "    <tr style=\"text-align: right;\">\n",
              "      <th></th>\n",
              "      <th>SepalLengthCm</th>\n",
              "      <th>SepalWidthCm</th>\n",
              "      <th>PetalLengthCm</th>\n",
              "      <th>PetalWidthCm</th>\n",
              "      <th>Species</th>\n",
              "    </tr>\n",
              "  </thead>\n",
              "  <tbody>\n",
              "    <tr>\n",
              "      <th>0</th>\n",
              "      <td>5.1</td>\n",
              "      <td>3.5</td>\n",
              "      <td>1.4</td>\n",
              "      <td>0.2</td>\n",
              "      <td>Iris-setosa</td>\n",
              "    </tr>\n",
              "    <tr>\n",
              "      <th>1</th>\n",
              "      <td>4.9</td>\n",
              "      <td>3.0</td>\n",
              "      <td>1.4</td>\n",
              "      <td>0.2</td>\n",
              "      <td>Iris-setosa</td>\n",
              "    </tr>\n",
              "    <tr>\n",
              "      <th>2</th>\n",
              "      <td>4.7</td>\n",
              "      <td>3.2</td>\n",
              "      <td>1.3</td>\n",
              "      <td>0.2</td>\n",
              "      <td>Iris-setosa</td>\n",
              "    </tr>\n",
              "    <tr>\n",
              "      <th>3</th>\n",
              "      <td>4.6</td>\n",
              "      <td>3.1</td>\n",
              "      <td>1.5</td>\n",
              "      <td>0.2</td>\n",
              "      <td>Iris-setosa</td>\n",
              "    </tr>\n",
              "    <tr>\n",
              "      <th>4</th>\n",
              "      <td>5.0</td>\n",
              "      <td>3.6</td>\n",
              "      <td>1.4</td>\n",
              "      <td>0.2</td>\n",
              "      <td>Iris-setosa</td>\n",
              "    </tr>\n",
              "  </tbody>\n",
              "</table>\n",
              "</div>\n",
              "      <button class=\"colab-df-convert\" onclick=\"convertToInteractive('df-3d97ff57-8ed9-4da4-bf67-f68c08212f4d')\"\n",
              "              title=\"Convert this dataframe to an interactive table.\"\n",
              "              style=\"display:none;\">\n",
              "        \n",
              "  <svg xmlns=\"http://www.w3.org/2000/svg\" height=\"24px\"viewBox=\"0 0 24 24\"\n",
              "       width=\"24px\">\n",
              "    <path d=\"M0 0h24v24H0V0z\" fill=\"none\"/>\n",
              "    <path d=\"M18.56 5.44l.94 2.06.94-2.06 2.06-.94-2.06-.94-.94-2.06-.94 2.06-2.06.94zm-11 1L8.5 8.5l.94-2.06 2.06-.94-2.06-.94L8.5 2.5l-.94 2.06-2.06.94zm10 10l.94 2.06.94-2.06 2.06-.94-2.06-.94-.94-2.06-.94 2.06-2.06.94z\"/><path d=\"M17.41 7.96l-1.37-1.37c-.4-.4-.92-.59-1.43-.59-.52 0-1.04.2-1.43.59L10.3 9.45l-7.72 7.72c-.78.78-.78 2.05 0 2.83L4 21.41c.39.39.9.59 1.41.59.51 0 1.02-.2 1.41-.59l7.78-7.78 2.81-2.81c.8-.78.8-2.07 0-2.86zM5.41 20L4 18.59l7.72-7.72 1.47 1.35L5.41 20z\"/>\n",
              "  </svg>\n",
              "      </button>\n",
              "      \n",
              "  <style>\n",
              "    .colab-df-container {\n",
              "      display:flex;\n",
              "      flex-wrap:wrap;\n",
              "      gap: 12px;\n",
              "    }\n",
              "\n",
              "    .colab-df-convert {\n",
              "      background-color: #E8F0FE;\n",
              "      border: none;\n",
              "      border-radius: 50%;\n",
              "      cursor: pointer;\n",
              "      display: none;\n",
              "      fill: #1967D2;\n",
              "      height: 32px;\n",
              "      padding: 0 0 0 0;\n",
              "      width: 32px;\n",
              "    }\n",
              "\n",
              "    .colab-df-convert:hover {\n",
              "      background-color: #E2EBFA;\n",
              "      box-shadow: 0px 1px 2px rgba(60, 64, 67, 0.3), 0px 1px 3px 1px rgba(60, 64, 67, 0.15);\n",
              "      fill: #174EA6;\n",
              "    }\n",
              "\n",
              "    [theme=dark] .colab-df-convert {\n",
              "      background-color: #3B4455;\n",
              "      fill: #D2E3FC;\n",
              "    }\n",
              "\n",
              "    [theme=dark] .colab-df-convert:hover {\n",
              "      background-color: #434B5C;\n",
              "      box-shadow: 0px 1px 3px 1px rgba(0, 0, 0, 0.15);\n",
              "      filter: drop-shadow(0px 1px 2px rgba(0, 0, 0, 0.3));\n",
              "      fill: #FFFFFF;\n",
              "    }\n",
              "  </style>\n",
              "\n",
              "      <script>\n",
              "        const buttonEl =\n",
              "          document.querySelector('#df-3d97ff57-8ed9-4da4-bf67-f68c08212f4d button.colab-df-convert');\n",
              "        buttonEl.style.display =\n",
              "          google.colab.kernel.accessAllowed ? 'block' : 'none';\n",
              "\n",
              "        async function convertToInteractive(key) {\n",
              "          const element = document.querySelector('#df-3d97ff57-8ed9-4da4-bf67-f68c08212f4d');\n",
              "          const dataTable =\n",
              "            await google.colab.kernel.invokeFunction('convertToInteractive',\n",
              "                                                     [key], {});\n",
              "          if (!dataTable) return;\n",
              "\n",
              "          const docLinkHtml = 'Like what you see? Visit the ' +\n",
              "            '<a target=\"_blank\" href=https://colab.research.google.com/notebooks/data_table.ipynb>data table notebook</a>'\n",
              "            + ' to learn more about interactive tables.';\n",
              "          element.innerHTML = '';\n",
              "          dataTable['output_type'] = 'display_data';\n",
              "          await google.colab.output.renderOutput(dataTable, element);\n",
              "          const docLink = document.createElement('div');\n",
              "          docLink.innerHTML = docLinkHtml;\n",
              "          element.appendChild(docLink);\n",
              "        }\n",
              "      </script>\n",
              "    </div>\n",
              "  </div>\n",
              "  "
            ]
          },
          "metadata": {}
        },
        {
          "output_type": "stream",
          "name": "stdout",
          "text": [
            "Nombre d'occurrences par classe : \n",
            " Iris-setosa        50\n",
            "Iris-versicolor    50\n",
            "Iris-virginica     50\n",
            "Name: Species, dtype: int64\n"
          ]
        }
      ]
    },
    {
      "cell_type": "markdown",
      "metadata": {
        "id": "hGHzLNqF0azz"
      },
      "source": [
        "## Toute première classification"
      ]
    },
    {
      "cell_type": "markdown",
      "metadata": {
        "id": "_HeayHGT0azz"
      },
      "source": [
        "La classification supervisée considère les données sous la forme ($X$,$Y$) où $X$ correspond aux variables prédictives et $Y$ est le résultat d'une observation, i.e. la variable à prédire. \n",
        "En se basant sur un jeu d'apprentissage, un algorithme de classification supervisée cherche une fonction mathématique $F$ qui permet de transformer (au mieux) $X$ vers $Y$, i.e. $F(X) \\approx Y$.  \n",
        "\n",
        "Convention : les variables prédictives sont celles associées aux objets, généralement stockées sous la forme d'une matrice aussi, par convention, elles sont souvent notées en majuscule (notation d'une matrice). Les variables à prédire sont généralement stockées dans un vecteur et sont souvent notées avec une lettre majuscule (notation d'un vecteur).  \n",
        "\n",
        "Autrement il est tout à fait possible d'utiliser des noms de variables significatives comme data, target."
      ]
    },
    {
      "cell_type": "code",
      "metadata": {
        "ExecuteTime": {
          "end_time": "2020-10-10T08:41:03.320002Z",
          "start_time": "2020-10-10T08:41:03.307827Z"
        },
        "id": "_wTX6dK70azz"
      },
      "source": [
        "# Conversion du dataframe\n",
        "array = df_iris.values #necessité de convertir le dataframe en numpy\n",
        "\n",
        "# Récupération des différentes colonnes\n",
        "#X matrice représentant les variables prédictives \n",
        "X = array[:,0:4] \n",
        "#y vecteur : représentant la variable à prédire\n",
        "y = array[:,4]\n"
      ],
      "execution_count": 5,
      "outputs": []
    },
    {
      "cell_type": "markdown",
      "metadata": {
        "id": "Xts7Doja0azz"
      },
      "source": [
        "Pour apprendre un modèle la première chose à faire est de lui créer un estimateur. Scikit-learn, permet de faire le faire en appelant la méthode *fit(X, y)*.  \n",
        "\n",
        "Pour une première illustration, nous utilisons un classifieur naïve Bayes (https://scikit-learn.org/stable/modules/naive_bayes.html)."
      ]
    },
    {
      "cell_type": "code",
      "metadata": {
        "ExecuteTime": {
          "end_time": "2020-10-10T08:41:05.012545Z",
          "start_time": "2020-10-10T08:41:03.323048Z"
        },
        "id": "I_SaM3ka0az0",
        "colab": {
          "base_uri": "https://localhost:8080/"
        },
        "outputId": "2d84ee3d-d31f-4a9b-8b7c-fd9662d44017"
      },
      "source": [
        "import sklearn\n",
        "from sklearn.naive_bayes import GaussianNB\n",
        "\n",
        "clf = GaussianNB()\n",
        "\n",
        "# création de l'estimateur \n",
        "clf.fit(X, y) "
      ],
      "execution_count": 6,
      "outputs": [
        {
          "output_type": "execute_result",
          "data": {
            "text/plain": [
              "GaussianNB()"
            ]
          },
          "metadata": {},
          "execution_count": 6
        }
      ]
    },
    {
      "cell_type": "markdown",
      "metadata": {
        "id": "J6R1NXTL0az0"
      },
      "source": [
        "Il est possible d'obtenir les hyperparamètres d'un classifieur à l'aide de *get_params*."
      ]
    },
    {
      "cell_type": "code",
      "metadata": {
        "ExecuteTime": {
          "end_time": "2020-10-10T08:41:05.026189Z",
          "start_time": "2020-10-10T08:41:05.018137Z"
        },
        "id": "v3GzcY7U0az0",
        "colab": {
          "base_uri": "https://localhost:8080/"
        },
        "outputId": "9fa4be31-9de4-4b2a-fbd1-378b13ddf5c3"
      },
      "source": [
        "clf.get_params()"
      ],
      "execution_count": 7,
      "outputs": [
        {
          "output_type": "execute_result",
          "data": {
            "text/plain": [
              "{'priors': None, 'var_smoothing': 1e-09}"
            ]
          },
          "metadata": {},
          "execution_count": 7
        }
      ]
    },
    {
      "cell_type": "markdown",
      "metadata": {
        "id": "MEBl7mNS0az1"
      },
      "source": [
        "Pour prédire la classe d'une valeur, il suffit d'appliquer la méthode *predict* sur des variables prédictives. Par exemple, nous savons que les valeurs du 5ième IRIS sont 5.0,\t3.6,\t1.4,\t0.2 et qu'il appartient à la classe Iris-setosa."
      ]
    },
    {
      "cell_type": "code",
      "metadata": {
        "ExecuteTime": {
          "end_time": "2020-10-10T08:41:05.040410Z",
          "start_time": "2020-10-10T08:41:05.032333Z"
        },
        "id": "Y6D6GPJr0az1",
        "colab": {
          "base_uri": "https://localhost:8080/"
        },
        "outputId": "13195461-a4c7-40bb-ad43-afbb5c69717f"
      },
      "source": [
        "#Prediction du résultat\n",
        "\n",
        "result = clf.predict([[ 5.0,  3.6,  1.4,  0.2]])\n",
        "print ('La prédiction du modèle pour [ 5.0,  3.6,  1.4,  0.2] est', \n",
        "       result)"
      ],
      "execution_count": 8,
      "outputs": [
        {
          "output_type": "stream",
          "name": "stdout",
          "text": [
            "La prédiction du modèle pour [ 5.0,  3.6,  1.4,  0.2] est ['Iris-setosa']\n"
          ]
        }
      ]
    },
    {
      "cell_type": "markdown",
      "metadata": {
        "id": "a6g6s4S50az2"
      },
      "source": [
        "Et si nous appliquions notre modèle sur ..... nos données d'apprentissage. Bien sûr cela n'a aucune sens ! l'objectif ici est de voir un peu comment notre modèle se comporte."
      ]
    },
    {
      "cell_type": "code",
      "metadata": {
        "ExecuteTime": {
          "end_time": "2020-10-10T08:41:05.054064Z",
          "start_time": "2020-10-10T08:41:05.043919Z"
        },
        "id": "t4uWhR0J0az2",
        "colab": {
          "base_uri": "https://localhost:8080/"
        },
        "outputId": "cfbee682-8755-4c0a-9fb5-eed7b73b49dd"
      },
      "source": [
        "result = clf.predict(X)\n",
        "print (result)"
      ],
      "execution_count": 9,
      "outputs": [
        {
          "output_type": "stream",
          "name": "stdout",
          "text": [
            "['Iris-setosa' 'Iris-setosa' 'Iris-setosa' 'Iris-setosa' 'Iris-setosa'\n",
            " 'Iris-setosa' 'Iris-setosa' 'Iris-setosa' 'Iris-setosa' 'Iris-setosa'\n",
            " 'Iris-setosa' 'Iris-setosa' 'Iris-setosa' 'Iris-setosa' 'Iris-setosa'\n",
            " 'Iris-setosa' 'Iris-setosa' 'Iris-setosa' 'Iris-setosa' 'Iris-setosa'\n",
            " 'Iris-setosa' 'Iris-setosa' 'Iris-setosa' 'Iris-setosa' 'Iris-setosa'\n",
            " 'Iris-setosa' 'Iris-setosa' 'Iris-setosa' 'Iris-setosa' 'Iris-setosa'\n",
            " 'Iris-setosa' 'Iris-setosa' 'Iris-setosa' 'Iris-setosa' 'Iris-setosa'\n",
            " 'Iris-setosa' 'Iris-setosa' 'Iris-setosa' 'Iris-setosa' 'Iris-setosa'\n",
            " 'Iris-setosa' 'Iris-setosa' 'Iris-setosa' 'Iris-setosa' 'Iris-setosa'\n",
            " 'Iris-setosa' 'Iris-setosa' 'Iris-setosa' 'Iris-setosa' 'Iris-setosa'\n",
            " 'Iris-versicolor' 'Iris-versicolor' 'Iris-virginica' 'Iris-versicolor'\n",
            " 'Iris-versicolor' 'Iris-versicolor' 'Iris-versicolor' 'Iris-versicolor'\n",
            " 'Iris-versicolor' 'Iris-versicolor' 'Iris-versicolor' 'Iris-versicolor'\n",
            " 'Iris-versicolor' 'Iris-versicolor' 'Iris-versicolor' 'Iris-versicolor'\n",
            " 'Iris-versicolor' 'Iris-versicolor' 'Iris-versicolor' 'Iris-versicolor'\n",
            " 'Iris-virginica' 'Iris-versicolor' 'Iris-versicolor' 'Iris-versicolor'\n",
            " 'Iris-versicolor' 'Iris-versicolor' 'Iris-versicolor' 'Iris-virginica'\n",
            " 'Iris-versicolor' 'Iris-versicolor' 'Iris-versicolor' 'Iris-versicolor'\n",
            " 'Iris-versicolor' 'Iris-versicolor' 'Iris-versicolor' 'Iris-versicolor'\n",
            " 'Iris-versicolor' 'Iris-versicolor' 'Iris-versicolor' 'Iris-versicolor'\n",
            " 'Iris-versicolor' 'Iris-versicolor' 'Iris-versicolor' 'Iris-versicolor'\n",
            " 'Iris-versicolor' 'Iris-versicolor' 'Iris-versicolor' 'Iris-versicolor'\n",
            " 'Iris-versicolor' 'Iris-versicolor' 'Iris-virginica' 'Iris-virginica'\n",
            " 'Iris-virginica' 'Iris-virginica' 'Iris-virginica' 'Iris-virginica'\n",
            " 'Iris-versicolor' 'Iris-virginica' 'Iris-virginica' 'Iris-virginica'\n",
            " 'Iris-virginica' 'Iris-virginica' 'Iris-virginica' 'Iris-virginica'\n",
            " 'Iris-virginica' 'Iris-virginica' 'Iris-virginica' 'Iris-virginica'\n",
            " 'Iris-virginica' 'Iris-versicolor' 'Iris-virginica' 'Iris-virginica'\n",
            " 'Iris-virginica' 'Iris-virginica' 'Iris-virginica' 'Iris-virginica'\n",
            " 'Iris-virginica' 'Iris-virginica' 'Iris-virginica' 'Iris-virginica'\n",
            " 'Iris-virginica' 'Iris-virginica' 'Iris-virginica' 'Iris-versicolor'\n",
            " 'Iris-virginica' 'Iris-virginica' 'Iris-virginica' 'Iris-virginica'\n",
            " 'Iris-virginica' 'Iris-virginica' 'Iris-virginica' 'Iris-virginica'\n",
            " 'Iris-virginica' 'Iris-virginica' 'Iris-virginica' 'Iris-virginica'\n",
            " 'Iris-virginica' 'Iris-virginica' 'Iris-virginica' 'Iris-virginica']\n"
          ]
        }
      ]
    },
    {
      "cell_type": "markdown",
      "metadata": {
        "id": "4JFyXsav0az2"
      },
      "source": [
        "Une première évaluation de la qualité de la prédiction peut se faire avec le calcul de l'*accuracy* (pourcentage de prédictions correctes). "
      ]
    },
    {
      "cell_type": "code",
      "metadata": {
        "ExecuteTime": {
          "end_time": "2020-10-10T08:41:05.102021Z",
          "start_time": "2020-10-10T08:41:05.057579Z"
        },
        "id": "Ld2INCGL0az3",
        "colab": {
          "base_uri": "https://localhost:8080/"
        },
        "outputId": "342e4290-1a02-48b3-b6e7-c9a653f7689a"
      },
      "source": [
        "from sklearn.metrics import accuracy_score\n",
        "\n",
        "print ('accuracy: ',accuracy_score(result, y))"
      ],
      "execution_count": 10,
      "outputs": [
        {
          "output_type": "stream",
          "name": "stdout",
          "text": [
            "accuracy:  0.96\n"
          ]
        }
      ]
    },
    {
      "cell_type": "markdown",
      "metadata": {
        "id": "vC8XhDYK0az3"
      },
      "source": [
        "Comme nous pouvons le constater, même sur le jeu d'apprentissage il y a des erreurs dans le modèle appris.\n",
        "Pour connaître les objets mal classés :"
      ]
    },
    {
      "cell_type": "code",
      "metadata": {
        "ExecuteTime": {
          "end_time": "2020-10-10T08:41:05.131921Z",
          "start_time": "2020-10-10T08:41:05.105281Z"
        },
        "id": "UPHZhOEV0az3",
        "colab": {
          "base_uri": "https://localhost:8080/"
        },
        "outputId": "6599059f-12dd-4688-89d2-706e213111c2"
      },
      "source": [
        "y = np.asarray(y)\n",
        "misclassified = np.where(y != clf.predict(X))\n",
        "\n",
        "print('Les objets mal classés sont :')\n",
        "\n",
        "i=0\n",
        "for i in misclassified:\n",
        "    print('\\n',df_iris.iloc[i,:]['Species'])\n",
        "\n",
        "\n",
        "print (\"ils sont classés respectivement en :\")\n",
        "for i in misclassified: \n",
        "    print ('\\n', i,'classé en ',clf.predict(X)[i],'\\n')\n",
        "    print ('\\n')"
      ],
      "execution_count": 11,
      "outputs": [
        {
          "output_type": "stream",
          "name": "stdout",
          "text": [
            "Les objets mal classés sont :\n",
            "\n",
            " 52     Iris-versicolor\n",
            "70     Iris-versicolor\n",
            "77     Iris-versicolor\n",
            "106     Iris-virginica\n",
            "119     Iris-virginica\n",
            "133     Iris-virginica\n",
            "Name: Species, dtype: object\n",
            "ils sont classés respectivement en :\n",
            "\n",
            " [ 52  70  77 106 119 133] classé en  ['Iris-virginica' 'Iris-virginica' 'Iris-virginica' 'Iris-versicolor'\n",
            " 'Iris-versicolor' 'Iris-versicolor'] \n",
            "\n",
            "\n",
            "\n"
          ]
        }
      ]
    },
    {
      "cell_type": "markdown",
      "metadata": {
        "id": "RCYmE17Z0az4"
      },
      "source": [
        "## Jeu d'apprentissage et de test "
      ]
    },
    {
      "cell_type": "markdown",
      "metadata": {
        "id": "XY0fytcn0az4"
      },
      "source": [
        "En classification, il est indispensable de créer un jeu d'apprentissage sur lequel un modèle est appris et un jeu de test pour évaluer le modèle.\n",
        "La fonction *train_test_split* permet de décomposer le jeu de données en 2 groupes : les données pour l'apprentissage et les données pour les tests.\n",
        "\n",
        "Le paramètre *train_size* indique la taille du jeu d'apprentissage qui sera utilisé.  \n",
        "le paramètre *random_state* spécifie un entier germe du nombre aléatoire pour le tirage. S'il n'est pas spécifié sickit learn utilise un générateur de nombre aléatoire à partir de np.random.   \n",
        "\n",
        "\n",
        "\n",
        "\n",
        "Dans notre exemple nous prenons 30% du jeu de données comme jeu de test.\n",
        "\n",
        "\n"
      ]
    },
    {
      "cell_type": "code",
      "metadata": {
        "ExecuteTime": {
          "end_time": "2020-10-10T08:41:05.952224Z",
          "start_time": "2020-10-10T08:41:05.922499Z"
        },
        "id": "rdn6sbxp0az4"
      },
      "source": [
        "from sklearn.model_selection import train_test_split \n",
        "\n",
        "validation_size=0.3 #30% du jeu de données pour le test\n",
        "\n",
        "testsize= 1-validation_size\n",
        "seed=30\n",
        "X_train,X_test,y_train,y_test=train_test_split(X, \n",
        "                                               y, \n",
        "                                               train_size=validation_size, \n",
        "                                               random_state=seed,\n",
        "                                               test_size=testsize)\n"
      ],
      "execution_count": 12,
      "outputs": []
    },
    {
      "cell_type": "markdown",
      "metadata": {
        "id": "nDwr9C-c0az5"
      },
      "source": [
        "L'apprentissage du modèle se fait comme précédemment"
      ]
    },
    {
      "cell_type": "code",
      "metadata": {
        "ExecuteTime": {
          "end_time": "2020-10-10T08:41:05.963978Z",
          "start_time": "2020-10-10T08:41:05.954421Z"
        },
        "id": "-a8RhSaO0az5",
        "colab": {
          "base_uri": "https://localhost:8080/"
        },
        "outputId": "59478c58-dbce-468f-971b-039b1980dfe1"
      },
      "source": [
        "clf = GaussianNB()\n",
        "clf.fit(X_train, y_train)\n"
      ],
      "execution_count": 13,
      "outputs": [
        {
          "output_type": "execute_result",
          "data": {
            "text/plain": [
              "GaussianNB()"
            ]
          },
          "metadata": {},
          "execution_count": 13
        }
      ]
    },
    {
      "cell_type": "markdown",
      "metadata": {
        "id": "wP8EtWOR0az5"
      },
      "source": [
        "De même pour la prédiction"
      ]
    },
    {
      "cell_type": "code",
      "metadata": {
        "ExecuteTime": {
          "end_time": "2020-10-10T08:41:05.978619Z",
          "start_time": "2020-10-10T08:41:05.966887Z"
        },
        "id": "nuKTUMd00az6",
        "colab": {
          "base_uri": "https://localhost:8080/"
        },
        "outputId": "33992985-33fd-4375-f1b4-eeeb2d39a9e5"
      },
      "source": [
        "from sklearn.metrics import accuracy_score\n",
        "\n",
        "y_pred = clf.predict(X_test)\n",
        "print('\\n accuracy : %0.3f'%(accuracy_score(y_pred, y_test)),'\\n')\n"
      ],
      "execution_count": 14,
      "outputs": [
        {
          "output_type": "stream",
          "name": "stdout",
          "text": [
            "\n",
            " accuracy : 0.943 \n",
            "\n"
          ]
        }
      ]
    },
    {
      "cell_type": "markdown",
      "metadata": {
        "id": "4LqiEb7i0az6"
      },
      "source": [
        "Le problème essentiel de cette approche est que le modèle est appris sur un seul jeu de données et qu'en fonction de la sélection les résultats peuvent être très différents.\n",
        "La bonne solution consiste à utiliser la **cross validation**.\n",
        "Dans notre cas, nous allons utiliser une 10-fold cross validation pour évaluer la qualité. \n",
        "Le jeu de données sera découpé en 10 parties, entrainé sur 9, testé sur 1 et cela sera répété pour toutes les combinaisons du découpage. "
      ]
    },
    {
      "cell_type": "code",
      "metadata": {
        "ExecuteTime": {
          "end_time": "2020-10-10T08:41:05.990960Z",
          "start_time": "2020-10-10T08:41:05.982247Z"
        },
        "id": "lQeBnfcH0az6"
      },
      "source": [
        "from sklearn.model_selection import KFold\n",
        "from sklearn.model_selection import cross_val_score\n",
        "seed=7\n",
        "k_fold = KFold(n_splits=10, shuffle=True, random_state=seed)"
      ],
      "execution_count": 15,
      "outputs": []
    },
    {
      "cell_type": "code",
      "metadata": {
        "ExecuteTime": {
          "end_time": "2020-10-10T08:41:06.039780Z",
          "start_time": "2020-10-10T08:41:05.994022Z"
        },
        "id": "NweryR900az6",
        "colab": {
          "base_uri": "https://localhost:8080/"
        },
        "outputId": "26783d76-46b2-40d6-ad9c-93d4ab193039"
      },
      "source": [
        "clf = GaussianNB()\n",
        "\n",
        "scoring = 'accuracy'\n",
        "score = cross_val_score(clf, X, y, cv=k_fold, scoring=scoring)\n",
        "\n",
        "print('Les différentes accuracy pour les 10 évaluations sont : \\n',\n",
        "      score,'\\n')\n",
        "print ('Accuracy moyenne : %0.3f'%(score.mean()), \n",
        "       ' standard deviation %0.3f'%(score.std()))\n"
      ],
      "execution_count": 16,
      "outputs": [
        {
          "output_type": "stream",
          "name": "stdout",
          "text": [
            "Les différentes accuracy pour les 10 évaluations sont : \n",
            " [0.8        0.86666667 1.         1.         0.93333333 1.\n",
            " 1.         1.         0.93333333 1.        ] \n",
            "\n",
            "Accuracy moyenne : 0.953  standard deviation 0.067\n"
          ]
        }
      ]
    },
    {
      "cell_type": "markdown",
      "metadata": {
        "id": "nHmPi0ts0az8"
      },
      "source": [
        "L'écart type est très important car il montre les grandes variations qui peuvent exister par rapport aux jeux de données."
      ]
    },
    {
      "cell_type": "markdown",
      "metadata": {
        "id": "lZM_dkuT0az8"
      },
      "source": [
        "## Plus loin sur l'évaluation d'un modèle "
      ]
    },
    {
      "cell_type": "markdown",
      "metadata": {
        "id": "-hWopg-M0az9"
      },
      "source": [
        "L'accuracy (nombre d'objets correctement classés) est la métrique la plus simple pour comprendre le \n",
        "résultat de la classification mais ne tient pas du tout compte de la distribution des données et ne permet pas d'indiquer les erreurs. Par exemple avec des classes très déséquilibrées (1 vs 99), nous pouvons avoir un modèle avec une accuracy de 99%.  \n",
        "\n",
        "Par la suite, par simplification, nous reprenons une classification réalisée sans cross validation mais le principe est évidemment le même avec cross validation. Nous introduisons la matrice de correlation et les différentes mesures : precision, rappel et F1-score."
      ]
    },
    {
      "cell_type": "code",
      "metadata": {
        "ExecuteTime": {
          "end_time": "2020-10-10T08:41:06.809699Z",
          "start_time": "2020-10-10T08:41:06.043336Z"
        },
        "id": "3EpI54rb0az9",
        "colab": {
          "base_uri": "https://localhost:8080/"
        },
        "outputId": "cb955b6a-dec8-40bf-eb0e-ac51e8010844"
      },
      "source": [
        "\n",
        "array = df_iris.values\n",
        "X = array[:,0:4] \n",
        "y = array[:,4]\n",
        "\n",
        "validation_size=0.3 #30% du jeu de données pour le test\n",
        "\n",
        "testsize= 1-validation_size\n",
        "seed=30\n",
        "X_train,X_test,y_train,y_test=train_test_split(X, y, \n",
        "                                               train_size=validation_size, \n",
        "                                               random_state=seed,\n",
        "                                               test_size=testsize)\n",
        "clf = GaussianNB()\n",
        "clf.fit(X_train, y_train)\n",
        "y_pred = clf.predict(X_test)\n",
        "\n",
        "print('\\n accuracy : %0.3f'%(accuracy_score(y_pred, y_test)),'\\n')"
      ],
      "execution_count": 17,
      "outputs": [
        {
          "output_type": "stream",
          "name": "stdout",
          "text": [
            "\n",
            " accuracy : 0.943 \n",
            "\n"
          ]
        }
      ]
    },
    {
      "cell_type": "markdown",
      "metadata": {
        "id": "yNqMIaAV0az9"
      },
      "source": [
        "La matrice de confusion permet de connaître les objets bien ou mal classés. Il suffit d'utiliser la fonction *confusion_matrix*. Nous visualisons également cette matrice."
      ]
    },
    {
      "cell_type": "code",
      "metadata": {
        "ExecuteTime": {
          "end_time": "2020-10-10T08:41:06.827767Z",
          "start_time": "2020-10-10T08:41:06.812613Z"
        },
        "id": "MoAYANGX0az9",
        "colab": {
          "base_uri": "https://localhost:8080/",
          "height": 386
        },
        "outputId": "ca42ef5a-db8f-45f4-d945-040e85493aa4"
      },
      "source": [
        "from sklearn.metrics import confusion_matrix,ConfusionMatrixDisplay\n",
        "\n",
        "conf = confusion_matrix(y_test, y_pred)\n",
        "print ('\\n matrice de confusion \\n',conf)\n",
        "disp = ConfusionMatrixDisplay(conf, display_labels=['Iris-setosa','Iris-versicolor','Iris-virginica'])\n",
        "disp.plot()"
      ],
      "execution_count": 22,
      "outputs": [
        {
          "output_type": "stream",
          "name": "stdout",
          "text": [
            "\n",
            " matrice de confusion \n",
            " [[34  0  0]\n",
            " [ 0 33  5]\n",
            " [ 0  1 32]]\n"
          ]
        },
        {
          "output_type": "execute_result",
          "data": {
            "text/plain": [
              "<sklearn.metrics._plot.confusion_matrix.ConfusionMatrixDisplay at 0x7fca2280fcd0>"
            ]
          },
          "metadata": {},
          "execution_count": 22
        },
        {
          "output_type": "display_data",
          "data": {
            "text/plain": [
              "<Figure size 432x288 with 2 Axes>"
            ],
            "image/png": "[encoded data removed]"
          },
          "metadata": {
            "needs_background": "light"
          }
        }
      ]
    },
    {
      "cell_type": "markdown",
      "metadata": {
        "id": "Gk9ClMeG0az-"
      },
      "source": [
        "Il est possible d'obtenir plus d'information : *precision*, *recall* et  *f1-measure* à l'aide de *classification_report*."
      ]
    },
    {
      "cell_type": "code",
      "metadata": {
        "ExecuteTime": {
          "end_time": "2020-10-10T08:41:06.849757Z",
          "start_time": "2020-10-10T08:41:06.830916Z"
        },
        "id": "yLLmzfWg0az-",
        "colab": {
          "base_uri": "https://localhost:8080/"
        },
        "outputId": "608d2346-05eb-4f3c-b572-8b3c137e0a26"
      },
      "source": [
        "from sklearn.metrics import classification_report\n",
        "conf = confusion_matrix(y_test, y_pred)\n",
        "print ('\\n matrice de confusion \\n',conf)\n",
        "print ('\\n',classification_report(y_test, y_pred))"
      ],
      "execution_count": 23,
      "outputs": [
        {
          "output_type": "stream",
          "name": "stdout",
          "text": [
            "\n",
            " matrice de confusion \n",
            " [[34  0  0]\n",
            " [ 0 33  5]\n",
            " [ 0  1 32]]\n",
            "\n",
            "                  precision    recall  f1-score   support\n",
            "\n",
            "    Iris-setosa       1.00      1.00      1.00        34\n",
            "Iris-versicolor       0.97      0.87      0.92        38\n",
            " Iris-virginica       0.86      0.97      0.91        33\n",
            "\n",
            "       accuracy                           0.94       105\n",
            "      macro avg       0.95      0.95      0.94       105\n",
            "   weighted avg       0.95      0.94      0.94       105\n",
            "\n"
          ]
        }
      ]
    },
    {
      "cell_type": "markdown",
      "metadata": {
        "id": "FysPKZJ9RUYE"
      },
      "source": [
        "Par la suite, pour afficher les résultats de classification : rapport de classification et matrice de confusion, nous utilisons la fonction suivante : \n"
      ]
    },
    {
      "cell_type": "code",
      "metadata": {
        "id": "KP7O0eRmRiQQ",
        "colab": {
          "base_uri": "https://localhost:8080/",
          "height": 493
        },
        "outputId": "18359d2c-f0af-4e1d-ce70-93dc56146df5"
      },
      "source": [
        "# fonction qui affiche le classification report et la matrice de confusion\n",
        "def MyshowAllScores(y_test,y_pred):\n",
        "  classes= np.unique(y_test)\n",
        "  print(\"Accuracy : %0.3f\"%(accuracy_score(y_test,y_pred)))\n",
        "  print(\"Classification Report\")\n",
        "  print(classification_report(y_test,y_pred,digits=5))    \n",
        "  cnf_matrix = confusion_matrix(y_test,y_pred)\n",
        "\n",
        "  disp = ConfusionMatrixDisplay(cnf_matrix, display_labels=classes)\n",
        "  disp.plot()\n",
        "\n",
        "MyshowAllScores(y_test,y_pred)"
      ],
      "execution_count": 24,
      "outputs": [
        {
          "output_type": "stream",
          "name": "stdout",
          "text": [
            "Accuracy : 0.943\n",
            "Classification Report\n",
            "                 precision    recall  f1-score   support\n",
            "\n",
            "    Iris-setosa    1.00000   1.00000   1.00000        34\n",
            "Iris-versicolor    0.97059   0.86842   0.91667        38\n",
            " Iris-virginica    0.86486   0.96970   0.91429        33\n",
            "\n",
            "       accuracy                        0.94286       105\n",
            "      macro avg    0.94515   0.94604   0.94365       105\n",
            "   weighted avg    0.94688   0.94286   0.94290       105\n",
            "\n"
          ]
        },
        {
          "output_type": "display_data",
          "data": {
            "text/plain": [
              "<Figure size 432x288 with 2 Axes>"
            ],
            "image/png": "[encoded data removed]"
          },
          "metadata": {
            "needs_background": "light"
          }
        }
      ]
    },
    {
      "cell_type": "markdown",
      "metadata": {
        "id": "ims7_s3j0az-"
      },
      "source": [
        "**Rappel** :  \n",
        "Considérons une matrice de confusion dans un cas binaire. Par exemple présence de SPAM ou non dans des mails.   \n",
        "\n",
        "  $$  \\begin{array}{|c|c|c|}\n",
        "  \\hline\n",
        "  N= & {\\bf PREDIT} & {\\bf PREDIT}  \\\\\n",
        "  115& {\\bf NON} & {\\bf OUI} \\\\\n",
        "  \\hline\n",
        "  {\\bf REEL} & 60 & 10 \\\\\n",
        "  {\\bf NON} & & \\\\\n",
        "  \\hline\n",
        " {\\bf REEL} & 5 & 40 \\\\\n",
        "  {\\bf OUI} & & \\\\\n",
        "  \\hline\n",
        "\\end{array}$$\n",
        "\n",
        "La matrice nous permet de voir qu'il y a deux classes prédites (OUI ou NON). Le classifieur fait un total de 115 prédictions. Sur ces 115 cas, le classifieur a prédit  OUI 50 fois et NON 65 fois. En fait 45 documents sont des SPAMS et 70 ne le sont pas. \n",
        "\n",
        "\n",
        "**TP** (True positive) : il s'agit des objets qui étaient prédits OUI (il s'agit de SPAM) et qui sont effectivement des SPAM.  \n",
        "**TN** (True negative) : il s'agit des objets qui étaient prédits NON (il ne s'agit pas de SPAM) et qui effectivement ne sont pas des SPAM.  \n",
        "**FP** (False positive) : il s'agit des objets qui étaient prédits comme SPAM mais qui en fait n'étaient pas des SPAM.  \n",
        "**FN** (False negative) : il s'agit des objets qui étaient prédits comme non SPAM qui en fait s'avèrent être des SPAM.  \n",
        "Dans la matrice ci-dessous ces éléments sont reportés :  \n",
        "\n",
        "$$  \\begin{array}{|c|c|c|c|}\n",
        "  \\hline\n",
        "  N= & {\\bf PREDIT} & {\\bf PREDIT} & \\\\\n",
        "  115& {\\bf NON} & {\\bf OUI} & \\\\\n",
        "  \\hline\n",
        "  {\\bf REEL} & TN=60 & FP=10 & 70\\\\\n",
        "  {\\bf NON} & & \\\\\n",
        "  \\hline\n",
        " {\\bf REEL} & FN=5 & TP=40 & 45\\\\\n",
        "  {\\bf OUI} & & \\\\\n",
        "  \\hline\n",
        "  & 65 & 50 &\\\\\n",
        "  \\hline\n",
        "\\end{array}$$\n",
        "\n",
        "L'**accuracy**  correspond au pourcentage de prédiction correcte. Elle est définie par \n",
        "$$\\frac{TP+TN}{TN+FP+FN+TP}=\\frac{40+60}{60+10+5+40}=0.86.$$  \n",
        "Le **recall** (ou sensitivity ou True Positive Rate ou rappel) correspond au nombre d' objets pertinents retrouvés par rapport aux nombres d'objets pertinents du jeu de données. Dans notre cas, pour tous les OUI présents combien de fois le OUI a t'il été prédit ?\n",
        "\n",
        "$$recall=\\frac{Nombre\\ de\\ SPAM\\ correctement\\ reconnus}{Nombre\\ total\\ de\\ SPAM\\ dans\\ le\\ jeu\\ de\\ données} = \\frac{TP}{FN+TP}=\\frac{40}{40+5}=0.88.$$  \n",
        "La **precision** correspond à la proportion d'objets pertinents parmi les objets sélectionné. Tous les objets retournés non pertinents constituent du bruit. \n",
        "$$precision=\\frac{Nombre\\ de\\ SPAM\\ correctement\\ reconnus}{Nombre\\ de\\ fois\\ où\\ un\\ objet\\ a\\ été\\ prédit\\ SPAM} = \\frac{TP}{TP+FP}=\\frac{40}{40+10}=0.8.$$  \n",
        "\n",
        "Le **f1-score** (ou f-measure) est la moyenne harmonique du rappel et de la précision.\n",
        "$$f1-score=2\\times\\frac{precision \\times recall}{precision + recall}=2\\times\\frac{0.8 \\times 0.88}{0.8+0.88}.$$  \n",
        "\n",
        "Dans le cas d'une classification multiclasse, à partir de la matrice de confusion, la precision est calculée, pour une colonne $i$, par :  \n",
        "$$precision_i = \\frac{M_{ii}}{\\sum_j M_{ji}}$$\n",
        "et le recall par : \n",
        "$$ recall_i = \\frac{M_{ii}}{\\sum_j M_{ij}}$$  \n",
        "\n",
        "Pour la matrice de confusion suivante : \n",
        "\\begin{array}{cccc}\n",
        "Iris-setosa &34 & 0 & 0\\\\\n",
        "Iris-versicolor & 0 &33 & 5\\\\\n",
        "Iris-virginica & 0 & 1 &32\\\\\n",
        "\\end{array}\n",
        "\n",
        "classification_report retourne le résultat suivant :  \n",
        "\n",
        " \\begin{array}{ccccc}\n",
        "           &   precision  &  recall & f1-score &  support\\\\\n",
        "\\\\\n",
        "    Iris-setosa    &   1.00  &    1.00  &    1.00   &     34\\\\\n",
        "Iris-versicolor   &    0.97 &     0.87  &    0.92  &      38\\\\\n",
        " Iris-virginica   &    0.86  &    0.97  &    0.91  &      33\\\\\n",
        "\\\\\n",
        "    avg / total    &   0.95  &    0.94  &    0.94   &    105\\\\\n",
        "\\end{array}    \n",
        "\n",
        "La precision d'Iris-versicolor est obtenue par : \n",
        "$$precision_i = \\frac{M_{ii}}{\\sum_j M_{ji}}=\\frac{33}{33+1}=0.97.$$\n",
        "Le rappel d'Iris-versicolor est obtenue par : \n",
        "$$ recall_i = \\frac{M_{ii}}{\\sum_j M_{ij}}=\\frac{33}{33+5}=0.87.$$\n",
        "La precision d'Iris-virginica est obtenue par : \n",
        "$$precision_i = \\frac{M_{ii}}{\\sum_j M_{ji}}=\\frac{32}{32+5}=0.86.$$\n",
        "Le rappel d'Iris-versicolor est obtenue par : \n",
        "$$ recall_i = \\frac{M_{ii}}{\\sum_j M_{ij}}=\\frac{32}{32+1}=0.96.$$"
      ]
    },
    {
      "cell_type": "markdown",
      "metadata": {
        "id": "Bm_kQhcJ0az-"
      },
      "source": [
        "Les métriques peuvent être appelées indépendamment :"
      ]
    },
    {
      "cell_type": "code",
      "metadata": {
        "ExecuteTime": {
          "end_time": "2020-10-10T08:41:08.039515Z",
          "start_time": "2020-10-10T08:41:08.025607Z"
        },
        "id": "9ifLUTKI0az_",
        "colab": {
          "base_uri": "https://localhost:8080/"
        },
        "outputId": "b4f1e9f8-43b2-4ac4-9a81-6ea6c76e6229"
      },
      "source": [
        "from sklearn.metrics import precision_recall_fscore_support as score\n",
        "\n",
        "precision, recall, fscore, support = score(y_test, y_pred)\n",
        "\n",
        "print('precision: {}'.format(precision))\n",
        "print('recall: {}'.format(recall))\n",
        "print('fscore: {}'.format(fscore))\n",
        "print('support: {}'.format(support))"
      ],
      "execution_count": 25,
      "outputs": [
        {
          "output_type": "stream",
          "name": "stdout",
          "text": [
            "precision: [1.         0.97058824 0.86486486]\n",
            "recall: [1.         0.86842105 0.96969697]\n",
            "fscore: [1.         0.91666667 0.91428571]\n",
            "support: [34 38 33]\n"
          ]
        }
      ]
    },
    {
      "cell_type": "markdown",
      "metadata": {
        "id": "eECxiAmW0az_"
      },
      "source": [
        "**Remarque :** il existe, bien entendu, d'autres mesures pour évaluer un classifieur. Par exemple, la sensiblité, la spécificité, l’air sous la courbe roc (AUC), l’indice de Gini, etc. "
      ]
    },
    {
      "cell_type": "markdown",
      "metadata": {
        "id": "mbotcSto0az_"
      },
      "source": [
        "## Utiliser plusieurs classifiers"
      ]
    },
    {
      "cell_type": "markdown",
      "metadata": {
        "id": "9EtPh_wb0az_"
      },
      "source": [
        "Comme l'indique le NO FREE LUNCH THEOREM il n'existe pas un classifieur universel et en fonction des données il est souvent nécessaire d'en évaluer plusieurs pour retenir le plus efficace. Le principe est similaire au précédent, il suffit de les mettre dans une structure et de boucler dessus.  \n",
        "\n",
        "Dans cette section, nous transformons très légérement nos données. Si nous regardons les différentes valeurs associées aux caractéristiques nous voyons que celles-ci sont assez grandes (e.g. 5.9 cm). Cela peut fortement impacter les différents classifiers (e.g. SVM), aussi nous allons normaliser les données de manière à ce qu'elles soient dans un intervalle de valeur. Pour cela, nous utilisons *StandardScaler* qui va transformer les données telles que la distribution aura une valeur moyenne de 0 et un écart type de 1.  \n",
        "\n",
        "Comme vous pouvez le constater dans la cellule suivante, le principe pour cette transformation est assez similaire à ce que nous avons vu précédemment : application d'un estimateur (ici le changement de distribution) et transformation des données. "
      ]
    },
    {
      "cell_type": "code",
      "metadata": {
        "ExecuteTime": {
          "end_time": "2020-10-10T08:41:09.039381Z",
          "start_time": "2020-10-10T08:41:08.042326Z"
        },
        "id": "Spu0r-tE0a0A"
      },
      "source": [
        "\n",
        "from sklearn.preprocessing import StandardScaler\n",
        "\n",
        "\n",
        "\n",
        "# Certains algorithmes, notamment SVM qui résout simplement un problème d'optimisation quadratique ou bien LR, \n",
        "# sont très sensibles et ne peuvent pas converger si les valeurs ne sont pas normalisées.\n",
        "# Normalisation en utilisant StandardScaler qui transforme les caractéristiques (xi) \n",
        "# en valeurs entre [-1 .. 1]. \n",
        "# Cette plage de valeurs peut être changée via les parametres feature_range=(min, max). \n",
        "\n",
        "# creation d'un objet de la classe StandardScaler\n",
        "standardscaler = StandardScaler()\n",
        "\n",
        "# application du changement de distribution aux variables descriptives\n",
        "\n",
        "X_standardscale = standardscaler.fit_transform(X)\n",
        "\n",
        "\n",
        "X=X_standardscale\n",
        "\n",
        "validation_size=0.3 \n",
        "\n",
        "testsize= 1-validation_size\n",
        "seed=30\n",
        "X_train, X_test, y_train, y_test = train_test_split(X, y, train_size=validation_size, random_state=seed,test_size=testsize)\n"
      ],
      "execution_count": 26,
      "outputs": []
    },
    {
      "cell_type": "markdown",
      "metadata": {
        "id": "XBj5k9Sp0a0A"
      },
      "source": [
        "Dans la suite de la section, nous utilisons différents types de classifier :  'LogisticRegression', 'DecisionTree','KNeighbors', 'GaussianNB' et 'SVM'.   \n",
        "Les paramètres utilisés pour chacune des approches sont ceux par défaut. \n",
        "Pour chaque approche nous faisons une cross validation de 10."
      ]
    },
    {
      "cell_type": "code",
      "metadata": {
        "ExecuteTime": {
          "end_time": "2020-10-10T08:41:09.044716Z",
          "start_time": "2020-10-10T08:40:59.845Z"
        },
        "id": "QL0Z_0a30a0A",
        "colab": {
          "base_uri": "https://localhost:8080/"
        },
        "outputId": "ed54a93a-5670-432e-f369-961992731064"
      },
      "source": [
        "from sklearn.linear_model import LogisticRegression\n",
        "from sklearn.tree import DecisionTreeClassifier\n",
        "from sklearn.neighbors import KNeighborsClassifier\n",
        "from sklearn.naive_bayes import GaussianNB\n",
        "from sklearn.svm import SVC\n",
        "\n",
        "seed = 7\n",
        "scoring = 'accuracy'\n",
        "models = []\n",
        "models.append(('LR', LogisticRegression(solver='lbfgs')))\n",
        "models.append(('KNN', KNeighborsClassifier()))\n",
        "models.append(('CART', DecisionTreeClassifier()))\n",
        "models.append(('NB', GaussianNB()))\n",
        "models.append(('SVM', SVC(gamma='auto')))\n",
        "\n",
        "models"
      ],
      "execution_count": 27,
      "outputs": [
        {
          "output_type": "execute_result",
          "data": {
            "text/plain": [
              "[('LR', LogisticRegression()),\n",
              " ('KNN', KNeighborsClassifier()),\n",
              " ('CART', DecisionTreeClassifier()),\n",
              " ('NB', GaussianNB()),\n",
              " ('SVM', SVC(gamma='auto'))]"
            ]
          },
          "metadata": {},
          "execution_count": 27
        }
      ]
    },
    {
      "cell_type": "markdown",
      "metadata": {
        "id": "9F8cfExE0a0A"
      },
      "source": [
        "Une fois les modèles définis, il suffit de boucler en faisant une cross validation"
      ]
    },
    {
      "cell_type": "code",
      "metadata": {
        "ExecuteTime": {
          "end_time": "2020-10-10T08:41:09.046317Z",
          "start_time": "2020-10-10T08:40:59.849Z"
        },
        "id": "ONBVwpKf0a0A",
        "colab": {
          "base_uri": "https://localhost:8080/"
        },
        "outputId": "3139da0d-03bb-47c2-d26c-4e5e123c0129"
      },
      "source": [
        "from sklearn.model_selection import KFold\n",
        "from sklearn.model_selection import cross_val_score\n",
        "import time\n",
        "results = []\n",
        "names = []\n",
        "for name,model in models:\n",
        "    kfold = KFold(n_splits=10, random_state=seed, shuffle=True)\n",
        "    start_time = time.time()\n",
        "    cv_results = cross_val_score(model, X, y, cv=kfold, scoring=scoring)\n",
        "    #pour avoir les paramètres utilisés dans le modèle enlever commentaire ligne suivante\n",
        "    #print (model.get_params())\n",
        "    print (\"Time pour\",name,\" %0.5f\"%(time.time() - start_time),'s')\n",
        "    results.append(cv_results)\n",
        "    names.append(name)\n",
        "    msg = \"%s: %0.3f (%0.3f)\" % (name, cv_results.mean(), cv_results.std())\n",
        "    print(msg)       "
      ],
      "execution_count": 29,
      "outputs": [
        {
          "output_type": "stream",
          "name": "stdout",
          "text": [
            "Time pour LR  0.11458 s\n",
            "LR: 0.953 (0.052)\n",
            "Time pour KNN  0.03185 s\n",
            "KNN: 0.953 (0.043)\n",
            "Time pour CART  0.01621 s\n",
            "CART: 0.940 (0.063)\n",
            "Time pour NB  0.01765 s\n",
            "NB: 0.953 (0.067)\n",
            "Time pour SVM  0.03114 s\n",
            "SVM: 0.960 (0.044)\n"
          ]
        }
      ]
    },
    {
      "cell_type": "code",
      "metadata": {
        "ExecuteTime": {
          "end_time": "2020-10-10T08:41:09.047712Z",
          "start_time": "2020-10-10T08:40:59.854Z"
        },
        "id": "MzxZJpOm0a0A",
        "colab": {
          "base_uri": "https://localhost:8080/",
          "height": 383
        },
        "outputId": "3edd0f02-62c3-4f6d-995f-1e930e47e39d"
      },
      "source": [
        "fig = plt.figure()\n",
        "fig.suptitle('Comparaison des algorithmes')\n",
        "ax = fig.add_subplot(111)\n",
        "plt.boxplot(results)\n",
        "ax.set_xticklabels(names)"
      ],
      "execution_count": 30,
      "outputs": [
        {
          "output_type": "execute_result",
          "data": {
            "text/plain": [
              "[Text(0, 0, 'LR'),\n",
              " Text(0, 0, 'KNN'),\n",
              " Text(0, 0, 'CART'),\n",
              " Text(0, 0, 'NB'),\n",
              " Text(0, 0, 'SVM')]"
            ]
          },
          "metadata": {},
          "execution_count": 30
        },
        {
          "output_type": "display_data",
          "data": {
            "text/plain": [
              "<Figure size 432x288 with 1 Axes>"
            ],
            "image/png": "[encoded data removed]"
          },
          "metadata": {
            "needs_background": "light"
          }
        }
      ]
    },
    {
      "cell_type": "markdown",
      "metadata": {
        "id": "L2f7rrn70a0A"
      },
      "source": [
        " Par la suite, nous utilisons SVM comme modèle de prédiction."
      ]
    },
    {
      "cell_type": "code",
      "metadata": {
        "ExecuteTime": {
          "end_time": "2020-10-10T08:41:09.049303Z",
          "start_time": "2020-10-10T08:40:59.946Z"
        },
        "scrolled": true,
        "id": "uQWLp0Qq0a0B",
        "colab": {
          "base_uri": "https://localhost:8080/",
          "height": 493
        },
        "outputId": "371498f6-348b-427e-b670-494d6139b90c"
      },
      "source": [
        "\n",
        "clf = SVC(gamma='auto')\n",
        "clf.fit(X_train, y_train)\n",
        "y_pred = clf.predict(X_test)\n",
        "MyshowAllScores(y_test,y_pred)\n"
      ],
      "execution_count": 31,
      "outputs": [
        {
          "output_type": "stream",
          "name": "stdout",
          "text": [
            "Accuracy : 0.952\n",
            "Classification Report\n",
            "                 precision    recall  f1-score   support\n",
            "\n",
            "    Iris-setosa    1.00000   1.00000   1.00000        34\n",
            "Iris-versicolor    0.97143   0.89474   0.93151        38\n",
            " Iris-virginica    0.88889   0.96970   0.92754        33\n",
            "\n",
            "       accuracy                        0.95238       105\n",
            "      macro avg    0.95344   0.95481   0.95301       105\n",
            "   weighted avg    0.95474   0.95238   0.95244       105\n",
            "\n"
          ]
        },
        {
          "output_type": "display_data",
          "data": {
            "text/plain": [
              "<Figure size 432x288 with 2 Axes>"
            ],
            "image/png": "[encoded data removed]"
          },
          "metadata": {
            "needs_background": "light"
          }
        }
      ]
    },
    {
      "cell_type": "markdown",
      "metadata": {
        "id": "xGk1tOt60a0B"
      },
      "source": [
        "## Les hyperparamètres\n"
      ]
    },
    {
      "cell_type": "markdown",
      "metadata": {
        "id": "8xoTgzPf0a0B"
      },
      "source": [
        "Dans l'approche précédente nous avons pris les valeurs par défaut pour les différents classifieurs. Cependant en fonction des paramètres du classifieur les résultats peuvent être complétement différents (choix du noyeau SVM, nombre de K dans KNeighbors, etc. ). Scikit learn permet de pouvoir faire une recherche exhaustive (grid search) pour trouver les paramètres les plus pertinents pour un classifieur."
      ]
    },
    {
      "cell_type": "code",
      "metadata": {
        "ExecuteTime": {
          "end_time": "2020-10-10T08:41:09.050780Z",
          "start_time": "2020-10-10T08:40:59.951Z"
        },
        "id": "5_FpVvGt0a0B"
      },
      "source": [
        "\n",
        "array = df_iris.values\n",
        "X = array[:,0:4] \n",
        "y = array[:,4]\n",
        "\n",
        "standardscaler = StandardScaler()\n",
        "X_standardscale = standardscaler.fit_transform(X)\n",
        "X=X_standardscale\n",
        "\n",
        "validation_size=0.3 \n",
        "\n",
        "testsize= 1-validation_size\n",
        "seed=30\n",
        "X_train, X_test, y_train, y_test = train_test_split(X, y, \n",
        "                                                    train_size=validation_size, \n",
        "                                                    random_state=seed,\n",
        "                                                    test_size=testsize)\n",
        "\n"
      ],
      "execution_count": 32,
      "outputs": []
    },
    {
      "cell_type": "markdown",
      "metadata": {
        "id": "xOVaCV7D0a0B"
      },
      "source": [
        "Considérons un arbre de décision. Les principaux paramètres sont le critère pour découper (gini ou entropy), la profondeur maximale de l'arbre, et le nombre d'échantillons par feuille. Il faut, dans un premier temps, initialiser les variables à tester dans un dictionnaire.  \n",
        "Le test de toutes les valeurs se fait à l'aide de la fonction *GridSearchCV*.\n",
        "Ele prend comme paramètre le classifieur, le dictionnaire des paramètres, le type de scoring, le nombre de crossvalidation.  \n",
        "\n",
        "Quelques paramètres souvent utilisés :  \n",
        "-  *n_jobs* : (par défaut 1) nombre de coeurs à utiliser pour effectuer les calculs, dépend du cpu. Si la machine possède plusieurs coeurs, il est possible d'indiquer de tous les utiliser en mettant *n_jobs=-1*  \n",
        "-  *verbose* : affichage du déroulement des calculs, 0 = silent.\n",
        "- *random_state* : si le classifieur utilisé utilise de l'aléatoire, random_state permet de fixer le générateur pour reproduire les résultats.   \n",
        "\n",
        "\n",
        "Un grid search est long à obtenir dans la mesure où il faut essayer l'ensemble des cas. La possibilité de répartir sur plusieurs processeur permet de faire gagner beaucoup de temps. "
      ]
    },
    {
      "cell_type": "code",
      "metadata": {
        "ExecuteTime": {
          "end_time": "2020-10-10T08:41:09.052352Z",
          "start_time": "2020-10-10T08:40:59.956Z"
        },
        "id": "Jv2NCwDq0a0B",
        "colab": {
          "base_uri": "https://localhost:8080/"
        },
        "outputId": "5b621d63-4a8d-4a8b-fbfe-97b54778891f"
      },
      "source": [
        "from sklearn.tree import DecisionTreeClassifier\n",
        "from sklearn.model_selection import GridSearchCV\n",
        "\n",
        "grid_param = {  \n",
        "    'max_depth': [1,2,3,4,5,6,7,8,9,10],\n",
        "    'criterion': ['gini', 'entropy'],\n",
        "    'min_samples_leaf': [1,2,3,4,5,6,7,8,9,10]\n",
        "}\n",
        "\n",
        "\n",
        "gd_sr = GridSearchCV(DecisionTreeClassifier(),  \n",
        "                     param_grid=grid_param,\n",
        "                     scoring='accuracy',\n",
        "                     cv=5,\n",
        "                     n_jobs=-1,\n",
        "                  \n",
        "                    return_train_score=True)\n",
        "\n",
        "gd_sr.fit(X_train, y_train)  \n",
        "\n"
      ],
      "execution_count": 39,
      "outputs": [
        {
          "output_type": "execute_result",
          "data": {
            "text/plain": [
              "GridSearchCV(cv=5, estimator=DecisionTreeClassifier(), n_jobs=-1,\n",
              "             param_grid={'criterion': ['gini', 'entropy'],\n",
              "                         'max_depth': [1, 2, 3, 4, 5, 6, 7, 8, 9, 10],\n",
              "                         'min_samples_leaf': [1, 2, 3, 4, 5, 6, 7, 8, 9, 10]},\n",
              "             return_train_score=True, scoring='accuracy')"
            ]
          },
          "metadata": {},
          "execution_count": 39
        }
      ]
    },
    {
      "cell_type": "markdown",
      "metadata": {
        "id": "ee2uJDe_0a0B"
      },
      "source": [
        "Pour connaître les meilleures conditions : "
      ]
    },
    {
      "cell_type": "code",
      "metadata": {
        "ExecuteTime": {
          "end_time": "2020-10-10T08:41:09.053853Z",
          "start_time": "2020-10-10T08:40:59.960Z"
        },
        "id": "IC50K3JU0a0C",
        "colab": {
          "base_uri": "https://localhost:8080/"
        },
        "outputId": "580af9ff-465f-4045-eb66-655043d73a3d"
      },
      "source": [
        "print ('meilleur score %0.3f'%(gd_sr.best_score_),'\\n')\n",
        "print ('meilleurs paramètres', gd_sr.best_params_,'\\n')\n",
        "print ('meilleur estimateur',gd_sr.best_estimator_,'\\n')"
      ],
      "execution_count": 40,
      "outputs": [
        {
          "output_type": "stream",
          "name": "stdout",
          "text": [
            "meilleur score 0.956 \n",
            "\n",
            "meilleurs paramètres {'criterion': 'gini', 'max_depth': 2, 'min_samples_leaf': 1} \n",
            "\n",
            "meilleur estimateur DecisionTreeClassifier(max_depth=2) \n",
            "\n"
          ]
        }
      ]
    },
    {
      "cell_type": "markdown",
      "metadata": {
        "id": "zp4f5ykB0a0C"
      },
      "source": [
        "Avec KNeighborsClassifier"
      ]
    },
    {
      "cell_type": "code",
      "metadata": {
        "ExecuteTime": {
          "end_time": "2020-10-10T08:41:09.055480Z",
          "start_time": "2020-10-10T08:40:59.966Z"
        },
        "id": "x_YL2IpJ0a0C",
        "colab": {
          "base_uri": "https://localhost:8080/"
        },
        "outputId": "9205dd0b-5f1d-4423-a40d-8add44f0413e"
      },
      "source": [
        "from sklearn.neighbors import KNeighborsClassifier\n",
        "grid_param = {  \n",
        "    'n_neighbors': list(range(1,15)),\n",
        "    'metric': ['minkowski','euclidean','manhattan']\n",
        "}\n",
        "                        \n",
        "gd_sr = GridSearchCV(estimator=KNeighborsClassifier(),  \n",
        "                     param_grid=grid_param,\n",
        "                     scoring='accuracy',\n",
        "                     cv=5,\n",
        "                     n_jobs=-1,\n",
        "                    return_train_score=True)\n",
        "\n",
        "gd_sr.fit(X_train, y_train)  \n",
        "\n",
        "print ('meilleur score %0.3f'%(gd_sr.best_score_),'\\n')\n",
        "print ('meilleurs paramètres', gd_sr.best_params_,'\\n')\n",
        "print ('meilleur estimateur',gd_sr.best_estimator_,'\\n')\n"
      ],
      "execution_count": 41,
      "outputs": [
        {
          "output_type": "stream",
          "name": "stdout",
          "text": [
            "meilleur score 1.000 \n",
            "\n",
            "meilleurs paramètres {'metric': 'manhattan', 'n_neighbors': 9} \n",
            "\n",
            "meilleur estimateur KNeighborsClassifier(metric='manhattan', n_neighbors=9) \n",
            "\n"
          ]
        }
      ]
    },
    {
      "cell_type": "markdown",
      "metadata": {
        "id": "pC6QJf7U0a0C"
      },
      "source": [
        "Avec SVM "
      ]
    },
    {
      "cell_type": "code",
      "metadata": {
        "ExecuteTime": {
          "end_time": "2020-10-10T08:41:09.057066Z",
          "start_time": "2020-10-10T08:40:59.972Z"
        },
        "id": "7rHwGu8R0a0C",
        "colab": {
          "base_uri": "https://localhost:8080/"
        },
        "outputId": "216ece17-baae-4b1b-e535-3961c30b59f9"
      },
      "source": [
        "from sklearn.svm import SVC\n",
        "grid_param = {\n",
        "    'C': [0.001, 0.01, 0.1, 1, 10], \n",
        "    'gamma' : [0.001, 0.01, 0.1, 1], \n",
        "    'kernel': ['linear','rbf']}\n",
        "\n",
        "gd_sr = GridSearchCV(estimator=SVC(),  \n",
        "                     param_grid=grid_param,\n",
        "                     scoring='accuracy',\n",
        "                     cv=5,\n",
        "                     n_jobs=1,\n",
        "                \n",
        "                    return_train_score=True)\n",
        "\n",
        "gd_sr.fit(X_train, y_train)  \n",
        "\n",
        "print ('meilleur score %0.3f'%(gd_sr.best_score_),'\\n')\n",
        "print ('meilleurs paramètres', gd_sr.best_params_,'\\n')\n",
        "print ('meilleur estimateur',gd_sr.best_estimator_,'\\n')\n"
      ],
      "execution_count": 43,
      "outputs": [
        {
          "output_type": "stream",
          "name": "stdout",
          "text": [
            "meilleur score 1.000 \n",
            "\n",
            "meilleurs paramètres {'C': 1, 'gamma': 0.001, 'kernel': 'linear'} \n",
            "\n",
            "meilleur estimateur SVC(C=1, gamma=0.001, kernel='linear') \n",
            "\n"
          ]
        }
      ]
    },
    {
      "cell_type": "markdown",
      "metadata": {
        "id": "oLK62ORn0a0C"
      },
      "source": [
        "Pour voir l'ensemble des évaluations effectuées par GridSearchCV : "
      ]
    },
    {
      "cell_type": "code",
      "metadata": {
        "ExecuteTime": {
          "end_time": "2020-10-10T08:41:09.059060Z",
          "start_time": "2020-10-10T08:40:59.977Z"
        },
        "id": "U75TNekD0a0C",
        "colab": {
          "base_uri": "https://localhost:8080/",
          "height": 734
        },
        "outputId": "b0adcd1a-15dc-49e5-ce5f-43151f7d1374"
      },
      "source": [
        "\n",
        "# convertion en DataFrame\n",
        "results = pd.DataFrame(gd_sr.cv_results_) \n",
        "# Affichage des 5 premières lignes\n",
        "display(results.head())\n"
      ],
      "execution_count": 44,
      "outputs": [
        {
          "output_type": "display_data",
          "data": {
            "text/plain": [
              "   mean_fit_time  std_fit_time  mean_score_time  std_score_time param_C  \\\n",
              "0       0.002067      0.001190         0.000876        0.000249   0.001   \n",
              "1       0.001075      0.000440         0.000655        0.000272   0.001   \n",
              "2       0.001147      0.000438         0.000689        0.000252   0.001   \n",
              "3       0.001694      0.000671         0.001081        0.000381   0.001   \n",
              "4       0.001168      0.000505         0.000622        0.000327   0.001   \n",
              "\n",
              "  param_gamma param_kernel                                            params  \\\n",
              "0       0.001       linear  {'C': 0.001, 'gamma': 0.001, 'kernel': 'linear'}   \n",
              "1       0.001          rbf     {'C': 0.001, 'gamma': 0.001, 'kernel': 'rbf'}   \n",
              "2        0.01       linear   {'C': 0.001, 'gamma': 0.01, 'kernel': 'linear'}   \n",
              "3        0.01          rbf      {'C': 0.001, 'gamma': 0.01, 'kernel': 'rbf'}   \n",
              "4         0.1       linear    {'C': 0.001, 'gamma': 0.1, 'kernel': 'linear'}   \n",
              "\n",
              "   split0_test_score  split1_test_score  ...  mean_test_score  std_test_score  \\\n",
              "0           0.333333           0.777778  ...         0.511111        0.217732   \n",
              "1           0.333333           0.777778  ...         0.511111        0.217732   \n",
              "2           0.333333           0.777778  ...         0.511111        0.217732   \n",
              "3           0.333333           0.777778  ...         0.511111        0.217732   \n",
              "4           0.333333           0.777778  ...         0.511111        0.217732   \n",
              "\n",
              "   rank_test_score  split0_train_score  split1_train_score  \\\n",
              "0               26            0.388889            0.722222   \n",
              "1               26            0.388889            0.722222   \n",
              "2               26            0.388889            0.722222   \n",
              "3               26            0.388889            0.722222   \n",
              "4               26            0.388889            0.722222   \n",
              "\n",
              "   split2_train_score  split3_train_score  split4_train_score  \\\n",
              "0            0.722222            0.388889            0.388889   \n",
              "1            0.722222            0.388889            0.388889   \n",
              "2            0.722222            0.388889            0.388889   \n",
              "3            0.722222            0.388889            0.388889   \n",
              "4            0.722222            0.388889            0.388889   \n",
              "\n",
              "   mean_train_score  std_train_score  \n",
              "0          0.522222         0.163299  \n",
              "1          0.522222         0.163299  \n",
              "2          0.522222         0.163299  \n",
              "3          0.522222         0.163299  \n",
              "4          0.522222         0.163299  \n",
              "\n",
              "[5 rows x 23 columns]"
            ],
            "text/html": [
              "\n",
              "  <div id=\"df-a57b33b1-c5c3-402a-a097-11a5e72f2813\">\n",
              "    <div class=\"colab-df-container\">\n",
              "      <div>\n",
              "<style scoped>\n",
              "    .dataframe tbody tr th:only-of-type {\n",
              "        vertical-align: middle;\n",
              "    }\n",
              "\n",
              "    .dataframe tbody tr th {\n",
              "        vertical-align: top;\n",
              "    }\n",
              "\n",
              "    .dataframe thead th {\n",
              "        text-align: right;\n",
              "    }\n",
              "</style>\n",
              "<table border=\"1\" class=\"dataframe\">\n",
              "  <thead>\n",
              "    <tr style=\"text-align: right;\">\n",
              "      <th></th>\n",
              "      <th>mean_fit_time</th>\n",
              "      <th>std_fit_time</th>\n",
              "      <th>mean_score_time</th>\n",
              "      <th>std_score_time</th>\n",
              "      <th>param_C</th>\n",
              "      <th>param_gamma</th>\n",
              "      <th>param_kernel</th>\n",
              "      <th>params</th>\n",
              "      <th>split0_test_score</th>\n",
              "      <th>split1_test_score</th>\n",
              "      <th>...</th>\n",
              "      <th>mean_test_score</th>\n",
              "      <th>std_test_score</th>\n",
              "      <th>rank_test_score</th>\n",
              "      <th>split0_train_score</th>\n",
              "      <th>split1_train_score</th>\n",
              "      <th>split2_train_score</th>\n",
              "      <th>split3_train_score</th>\n",
              "      <th>split4_train_score</th>\n",
              "      <th>mean_train_score</th>\n",
              "      <th>std_train_score</th>\n",
              "    </tr>\n",
              "  </thead>\n",
              "  <tbody>\n",
              "    <tr>\n",
              "      <th>0</th>\n",
              "      <td>0.002067</td>\n",
              "      <td>0.001190</td>\n",
              "      <td>0.000876</td>\n",
              "      <td>0.000249</td>\n",
              "      <td>0.001</td>\n",
              "      <td>0.001</td>\n",
              "      <td>linear</td>\n",
              "      <td>{'C': 0.001, 'gamma': 0.001, 'kernel': 'linear'}</td>\n",
              "      <td>0.333333</td>\n",
              "      <td>0.777778</td>\n",
              "      <td>...</td>\n",
              "      <td>0.511111</td>\n",
              "      <td>0.217732</td>\n",
              "      <td>26</td>\n",
              "      <td>0.388889</td>\n",
              "      <td>0.722222</td>\n",
              "      <td>0.722222</td>\n",
              "      <td>0.388889</td>\n",
              "      <td>0.388889</td>\n",
              "      <td>0.522222</td>\n",
              "      <td>0.163299</td>\n",
              "    </tr>\n",
              "    <tr>\n",
              "      <th>1</th>\n",
              "      <td>0.001075</td>\n",
              "      <td>0.000440</td>\n",
              "      <td>0.000655</td>\n",
              "      <td>0.000272</td>\n",
              "      <td>0.001</td>\n",
              "      <td>0.001</td>\n",
              "      <td>rbf</td>\n",
              "      <td>{'C': 0.001, 'gamma': 0.001, 'kernel': 'rbf'}</td>\n",
              "      <td>0.333333</td>\n",
              "      <td>0.777778</td>\n",
              "      <td>...</td>\n",
              "      <td>0.511111</td>\n",
              "      <td>0.217732</td>\n",
              "      <td>26</td>\n",
              "      <td>0.388889</td>\n",
              "      <td>0.722222</td>\n",
              "      <td>0.722222</td>\n",
              "      <td>0.388889</td>\n",
              "      <td>0.388889</td>\n",
              "      <td>0.522222</td>\n",
              "      <td>0.163299</td>\n",
              "    </tr>\n",
              "    <tr>\n",
              "      <th>2</th>\n",
              "      <td>0.001147</td>\n",
              "      <td>0.000438</td>\n",
              "      <td>0.000689</td>\n",
              "      <td>0.000252</td>\n",
              "      <td>0.001</td>\n",
              "      <td>0.01</td>\n",
              "      <td>linear</td>\n",
              "      <td>{'C': 0.001, 'gamma': 0.01, 'kernel': 'linear'}</td>\n",
              "      <td>0.333333</td>\n",
              "      <td>0.777778</td>\n",
              "      <td>...</td>\n",
              "      <td>0.511111</td>\n",
              "      <td>0.217732</td>\n",
              "      <td>26</td>\n",
              "      <td>0.388889</td>\n",
              "      <td>0.722222</td>\n",
              "      <td>0.722222</td>\n",
              "      <td>0.388889</td>\n",
              "      <td>0.388889</td>\n",
              "      <td>0.522222</td>\n",
              "      <td>0.163299</td>\n",
              "    </tr>\n",
              "    <tr>\n",
              "      <th>3</th>\n",
              "      <td>0.001694</td>\n",
              "      <td>0.000671</td>\n",
              "      <td>0.001081</td>\n",
              "      <td>0.000381</td>\n",
              "      <td>0.001</td>\n",
              "      <td>0.01</td>\n",
              "      <td>rbf</td>\n",
              "      <td>{'C': 0.001, 'gamma': 0.01, 'kernel': 'rbf'}</td>\n",
              "      <td>0.333333</td>\n",
              "      <td>0.777778</td>\n",
              "      <td>...</td>\n",
              "      <td>0.511111</td>\n",
              "      <td>0.217732</td>\n",
              "      <td>26</td>\n",
              "      <td>0.388889</td>\n",
              "      <td>0.722222</td>\n",
              "      <td>0.722222</td>\n",
              "      <td>0.388889</td>\n",
              "      <td>0.388889</td>\n",
              "      <td>0.522222</td>\n",
              "      <td>0.163299</td>\n",
              "    </tr>\n",
              "    <tr>\n",
              "      <th>4</th>\n",
              "      <td>0.001168</td>\n",
              "      <td>0.000505</td>\n",
              "      <td>0.000622</td>\n",
              "      <td>0.000327</td>\n",
              "      <td>0.001</td>\n",
              "      <td>0.1</td>\n",
              "      <td>linear</td>\n",
              "      <td>{'C': 0.001, 'gamma': 0.1, 'kernel': 'linear'}</td>\n",
              "      <td>0.333333</td>\n",
              "      <td>0.777778</td>\n",
              "      <td>...</td>\n",
              "      <td>0.511111</td>\n",
              "      <td>0.217732</td>\n",
              "      <td>26</td>\n",
              "      <td>0.388889</td>\n",
              "      <td>0.722222</td>\n",
              "      <td>0.722222</td>\n",
              "      <td>0.388889</td>\n",
              "      <td>0.388889</td>\n",
              "      <td>0.522222</td>\n",
              "      <td>0.163299</td>\n",
              "    </tr>\n",
              "  </tbody>\n",
              "</table>\n",
              "<p>5 rows × 23 columns</p>\n",
              "</div>\n",
              "      <button class=\"colab-df-convert\" onclick=\"convertToInteractive('df-a57b33b1-c5c3-402a-a097-11a5e72f2813')\"\n",
              "              title=\"Convert this dataframe to an interactive table.\"\n",
              "              style=\"display:none;\">\n",
              "        \n",
              "  <svg xmlns=\"http://www.w3.org/2000/svg\" height=\"24px\"viewBox=\"0 0 24 24\"\n",
              "       width=\"24px\">\n",
              "    <path d=\"M0 0h24v24H0V0z\" fill=\"none\"/>\n",
              "    <path d=\"M18.56 5.44l.94 2.06.94-2.06 2.06-.94-2.06-.94-.94-2.06-.94 2.06-2.06.94zm-11 1L8.5 8.5l.94-2.06 2.06-.94-2.06-.94L8.5 2.5l-.94 2.06-2.06.94zm10 10l.94 2.06.94-2.06 2.06-.94-2.06-.94-.94-2.06-.94 2.06-2.06.94z\"/><path d=\"M17.41 7.96l-1.37-1.37c-.4-.4-.92-.59-1.43-.59-.52 0-1.04.2-1.43.59L10.3 9.45l-7.72 7.72c-.78.78-.78 2.05 0 2.83L4 21.41c.39.39.9.59 1.41.59.51 0 1.02-.2 1.41-.59l7.78-7.78 2.81-2.81c.8-.78.8-2.07 0-2.86zM5.41 20L4 18.59l7.72-7.72 1.47 1.35L5.41 20z\"/>\n",
              "  </svg>\n",
              "      </button>\n",
              "      \n",
              "  <style>\n",
              "    .colab-df-container {\n",
              "      display:flex;\n",
              "      flex-wrap:wrap;\n",
              "      gap: 12px;\n",
              "    }\n",
              "\n",
              "    .colab-df-convert {\n",
              "      background-color: #E8F0FE;\n",
              "      border: none;\n",
              "      border-radius: 50%;\n",
              "      cursor: pointer;\n",
              "      display: none;\n",
              "      fill: #1967D2;\n",
              "      height: 32px;\n",
              "      padding: 0 0 0 0;\n",
              "      width: 32px;\n",
              "    }\n",
              "\n",
              "    .colab-df-convert:hover {\n",
              "      background-color: #E2EBFA;\n",
              "      box-shadow: 0px 1px 2px rgba(60, 64, 67, 0.3), 0px 1px 3px 1px rgba(60, 64, 67, 0.15);\n",
              "      fill: #174EA6;\n",
              "    }\n",
              "\n",
              "    [theme=dark] .colab-df-convert {\n",
              "      background-color: #3B4455;\n",
              "      fill: #D2E3FC;\n",
              "    }\n",
              "\n",
              "    [theme=dark] .colab-df-convert:hover {\n",
              "      background-color: #434B5C;\n",
              "      box-shadow: 0px 1px 3px 1px rgba(0, 0, 0, 0.15);\n",
              "      filter: drop-shadow(0px 1px 2px rgba(0, 0, 0, 0.3));\n",
              "      fill: #FFFFFF;\n",
              "    }\n",
              "  </style>\n",
              "\n",
              "      <script>\n",
              "        const buttonEl =\n",
              "          document.querySelector('#df-a57b33b1-c5c3-402a-a097-11a5e72f2813 button.colab-df-convert');\n",
              "        buttonEl.style.display =\n",
              "          google.colab.kernel.accessAllowed ? 'block' : 'none';\n",
              "\n",
              "        async function convertToInteractive(key) {\n",
              "          const element = document.querySelector('#df-a57b33b1-c5c3-402a-a097-11a5e72f2813');\n",
              "          const dataTable =\n",
              "            await google.colab.kernel.invokeFunction('convertToInteractive',\n",
              "                                                     [key], {});\n",
              "          if (!dataTable) return;\n",
              "\n",
              "          const docLinkHtml = 'Like what you see? Visit the ' +\n",
              "            '<a target=\"_blank\" href=https://colab.research.google.com/notebooks/data_table.ipynb>data table notebook</a>'\n",
              "            + ' to learn more about interactive tables.';\n",
              "          element.innerHTML = '';\n",
              "          dataTable['output_type'] = 'display_data';\n",
              "          await google.colab.output.renderOutput(dataTable, element);\n",
              "          const docLink = document.createElement('div');\n",
              "          docLink.innerHTML = docLinkHtml;\n",
              "          element.appendChild(docLink);\n",
              "        }\n",
              "      </script>\n",
              "    </div>\n",
              "  </div>\n",
              "  "
            ]
          },
          "metadata": {}
        }
      ]
    },
    {
      "cell_type": "markdown",
      "metadata": {
        "id": "uoxQgwlJ0a0C"
      },
      "source": [
        "L'avantage de GridSearchCV est qu'il va parcourir toutes les conditions et retourner celles qui sont les meilleures pour la ou les mesures de scoring recherchée (dans notre cas nous avons privilégié l'accuracy).\n",
        "Cela est très pratique mais est malheureusement impossible dans certains cas car beaucoup trop long à mettre en place.\n",
        "Une solution possible est d'utiliser *RandomizedSearchCV* qui parcourt de manière aléatoire l'espace de recherche. \n",
        "Il suffit dans ce cas de spécifier des tirages aléatoires pour les valeurs possibles des paramètres et de préciser le nombre d'itérations voulues.\n",
        "Le second usage de *RandomizedSearchCV* est, lorsque l'on n'a pas une très bonne idée de ce que cela peut donner ou des paramètres à utiliser de faire appel à lui pour avoir des valeurs qui peuvent être significatives et de faire suivre à partir de ces valeurs une recherche via *GridSearchCV*.\n",
        "\n",
        "\n"
      ]
    },
    {
      "cell_type": "code",
      "metadata": {
        "colab": {
          "base_uri": "https://localhost:8080/"
        },
        "id": "Sujnfa_b_C5x",
        "outputId": "308d52bc-7478-4cb1-cb49-b77c3af056c8"
      },
      "source": [
        "randint(1, 20)"
      ],
      "execution_count": 45,
      "outputs": [
        {
          "output_type": "execute_result",
          "data": {
            "text/plain": [
              "<scipy.stats._distn_infrastructure.rv_frozen at 0x7fca0eab37c0>"
            ]
          },
          "metadata": {},
          "execution_count": 45
        }
      ]
    },
    {
      "cell_type": "code",
      "metadata": {
        "ExecuteTime": {
          "end_time": "2020-10-10T08:41:09.060747Z",
          "start_time": "2020-10-10T08:40:59.982Z"
        },
        "id": "al9R9Ve40a0C",
        "colab": {
          "base_uri": "https://localhost:8080/",
          "height": 673
        },
        "outputId": "d10f025e-4f61-473e-dd67-65a115d6b64d"
      },
      "source": [
        "\n",
        "from sklearn.model_selection import RandomizedSearchCV\n",
        "from scipy.stats import randint\n",
        "\n",
        "rand_param = {  \n",
        "    'max_depth': randint(1, 20),\n",
        "    'criterion': ['gini', 'entropy'],\n",
        "    'min_samples_leaf': randint(1, 20)\n",
        "}\n",
        "\n",
        "\n",
        "rand_sr = RandomizedSearchCV(estimator=DecisionTreeClassifier(), \n",
        "                             param_distributions = rand_param, \n",
        "                             random_state=1, \n",
        "                             n_iter=20, \n",
        "                             cv=3, \n",
        "                             n_jobs=-1,\n",
        "                             scoring='accuracy',\n",
        "                     \n",
        "                             return_train_score=True)\n",
        "\n",
        "rand_sr.fit(X_train, y_train)  \n",
        "\n",
        "\n",
        "print ('meilleur score %0.3f'%(rand_sr.best_score_),'\\n')\n",
        "print ('meilleurs paramètres', rand_sr.best_params_,'\\n')\n",
        "print ('meilleur estimateur',rand_sr.best_estimator_,'\\n')\n",
        "\n",
        "# convertion en DataFrame\n",
        "results = pd.DataFrame(rand_sr.cv_results_) \n",
        "# Affichage des 5 premières lignes\n",
        "display(results.head())\n",
        "\n"
      ],
      "execution_count": 47,
      "outputs": [
        {
          "output_type": "stream",
          "name": "stdout",
          "text": [
            "meilleur score 0.956 \n",
            "\n",
            "meilleurs paramètres {'criterion': 'entropy', 'max_depth': 16, 'min_samples_leaf': 1} \n",
            "\n",
            "meilleur estimateur DecisionTreeClassifier(criterion='entropy', max_depth=16) \n",
            "\n"
          ]
        },
        {
          "output_type": "display_data",
          "data": {
            "text/plain": [
              "   mean_fit_time  std_fit_time  mean_score_time  std_score_time  \\\n",
              "0       0.001318      0.000622         0.000394        0.000058   \n",
              "1       0.000609      0.000162         0.000306        0.000049   \n",
              "2       0.002558      0.002678         0.000393        0.000107   \n",
              "3       0.005961      0.007723         0.000333        0.000039   \n",
              "4       0.001139      0.000974         0.000278        0.000022   \n",
              "\n",
              "  param_criterion param_max_depth param_min_samples_leaf  \\\n",
              "0         entropy              12                     13   \n",
              "1            gini              10                     12   \n",
              "2         entropy              16                      1   \n",
              "3            gini               2                     13   \n",
              "4         entropy              14                      7   \n",
              "\n",
              "                                              params  split0_test_score  \\\n",
              "0  {'criterion': 'entropy', 'max_depth': 12, 'min...           0.733333   \n",
              "1  {'criterion': 'gini', 'max_depth': 10, 'min_sa...           0.666667   \n",
              "2  {'criterion': 'entropy', 'max_depth': 16, 'min...           0.933333   \n",
              "3  {'criterion': 'gini', 'max_depth': 2, 'min_sam...           0.733333   \n",
              "4  {'criterion': 'entropy', 'max_depth': 14, 'min...           0.933333   \n",
              "\n",
              "   split1_test_score  split2_test_score  mean_test_score  std_test_score  \\\n",
              "0           0.733333           0.733333         0.733333        0.000000   \n",
              "1           0.666667           0.733333         0.688889        0.031427   \n",
              "2           0.933333           1.000000         0.955556        0.031427   \n",
              "3           0.733333           0.733333         0.733333        0.000000   \n",
              "4           0.933333           1.000000         0.955556        0.031427   \n",
              "\n",
              "   rank_test_score  split0_train_score  split1_train_score  \\\n",
              "0                9            0.733333            0.733333   \n",
              "1               14            0.733333            0.733333   \n",
              "2                1            1.000000            1.000000   \n",
              "3                9            0.733333            0.733333   \n",
              "4                1            1.000000            1.000000   \n",
              "\n",
              "   split2_train_score  mean_train_score  std_train_score  \n",
              "0            0.733333          0.733333              0.0  \n",
              "1            0.733333          0.733333              0.0  \n",
              "2            1.000000          1.000000              0.0  \n",
              "3            0.733333          0.733333              0.0  \n",
              "4            1.000000          1.000000              0.0  "
            ],
            "text/html": [
              "\n",
              "  <div id=\"df-d14737aa-a5ee-485f-b2de-6db8576108fd\">\n",
              "    <div class=\"colab-df-container\">\n",
              "      <div>\n",
              "<style scoped>\n",
              "    .dataframe tbody tr th:only-of-type {\n",
              "        vertical-align: middle;\n",
              "    }\n",
              "\n",
              "    .dataframe tbody tr th {\n",
              "        vertical-align: top;\n",
              "    }\n",
              "\n",
              "    .dataframe thead th {\n",
              "        text-align: right;\n",
              "    }\n",
              "</style>\n",
              "<table border=\"1\" class=\"dataframe\">\n",
              "  <thead>\n",
              "    <tr style=\"text-align: right;\">\n",
              "      <th></th>\n",
              "      <th>mean_fit_time</th>\n",
              "      <th>std_fit_time</th>\n",
              "      <th>mean_score_time</th>\n",
              "      <th>std_score_time</th>\n",
              "      <th>param_criterion</th>\n",
              "      <th>param_max_depth</th>\n",
              "      <th>param_min_samples_leaf</th>\n",
              "      <th>params</th>\n",
              "      <th>split0_test_score</th>\n",
              "      <th>split1_test_score</th>\n",
              "      <th>split2_test_score</th>\n",
              "      <th>mean_test_score</th>\n",
              "      <th>std_test_score</th>\n",
              "      <th>rank_test_score</th>\n",
              "      <th>split0_train_score</th>\n",
              "      <th>split1_train_score</th>\n",
              "      <th>split2_train_score</th>\n",
              "      <th>mean_train_score</th>\n",
              "      <th>std_train_score</th>\n",
              "    </tr>\n",
              "  </thead>\n",
              "  <tbody>\n",
              "    <tr>\n",
              "      <th>0</th>\n",
              "      <td>0.001318</td>\n",
              "      <td>0.000622</td>\n",
              "      <td>0.000394</td>\n",
              "      <td>0.000058</td>\n",
              "      <td>entropy</td>\n",
              "      <td>12</td>\n",
              "      <td>13</td>\n",
              "      <td>{'criterion': 'entropy', 'max_depth': 12, 'min...</td>\n",
              "      <td>0.733333</td>\n",
              "      <td>0.733333</td>\n",
              "      <td>0.733333</td>\n",
              "      <td>0.733333</td>\n",
              "      <td>0.000000</td>\n",
              "      <td>9</td>\n",
              "      <td>0.733333</td>\n",
              "      <td>0.733333</td>\n",
              "      <td>0.733333</td>\n",
              "      <td>0.733333</td>\n",
              "      <td>0.0</td>\n",
              "    </tr>\n",
              "    <tr>\n",
              "      <th>1</th>\n",
              "      <td>0.000609</td>\n",
              "      <td>0.000162</td>\n",
              "      <td>0.000306</td>\n",
              "      <td>0.000049</td>\n",
              "      <td>gini</td>\n",
              "      <td>10</td>\n",
              "      <td>12</td>\n",
              "      <td>{'criterion': 'gini', 'max_depth': 10, 'min_sa...</td>\n",
              "      <td>0.666667</td>\n",
              "      <td>0.666667</td>\n",
              "      <td>0.733333</td>\n",
              "      <td>0.688889</td>\n",
              "      <td>0.031427</td>\n",
              "      <td>14</td>\n",
              "      <td>0.733333</td>\n",
              "      <td>0.733333</td>\n",
              "      <td>0.733333</td>\n",
              "      <td>0.733333</td>\n",
              "      <td>0.0</td>\n",
              "    </tr>\n",
              "    <tr>\n",
              "      <th>2</th>\n",
              "      <td>0.002558</td>\n",
              "      <td>0.002678</td>\n",
              "      <td>0.000393</td>\n",
              "      <td>0.000107</td>\n",
              "      <td>entropy</td>\n",
              "      <td>16</td>\n",
              "      <td>1</td>\n",
              "      <td>{'criterion': 'entropy', 'max_depth': 16, 'min...</td>\n",
              "      <td>0.933333</td>\n",
              "      <td>0.933333</td>\n",
              "      <td>1.000000</td>\n",
              "      <td>0.955556</td>\n",
              "      <td>0.031427</td>\n",
              "      <td>1</td>\n",
              "      <td>1.000000</td>\n",
              "      <td>1.000000</td>\n",
              "      <td>1.000000</td>\n",
              "      <td>1.000000</td>\n",
              "      <td>0.0</td>\n",
              "    </tr>\n",
              "    <tr>\n",
              "      <th>3</th>\n",
              "      <td>0.005961</td>\n",
              "      <td>0.007723</td>\n",
              "      <td>0.000333</td>\n",
              "      <td>0.000039</td>\n",
              "      <td>gini</td>\n",
              "      <td>2</td>\n",
              "      <td>13</td>\n",
              "      <td>{'criterion': 'gini', 'max_depth': 2, 'min_sam...</td>\n",
              "      <td>0.733333</td>\n",
              "      <td>0.733333</td>\n",
              "      <td>0.733333</td>\n",
              "      <td>0.733333</td>\n",
              "      <td>0.000000</td>\n",
              "      <td>9</td>\n",
              "      <td>0.733333</td>\n",
              "      <td>0.733333</td>\n",
              "      <td>0.733333</td>\n",
              "      <td>0.733333</td>\n",
              "      <td>0.0</td>\n",
              "    </tr>\n",
              "    <tr>\n",
              "      <th>4</th>\n",
              "      <td>0.001139</td>\n",
              "      <td>0.000974</td>\n",
              "      <td>0.000278</td>\n",
              "      <td>0.000022</td>\n",
              "      <td>entropy</td>\n",
              "      <td>14</td>\n",
              "      <td>7</td>\n",
              "      <td>{'criterion': 'entropy', 'max_depth': 14, 'min...</td>\n",
              "      <td>0.933333</td>\n",
              "      <td>0.933333</td>\n",
              "      <td>1.000000</td>\n",
              "      <td>0.955556</td>\n",
              "      <td>0.031427</td>\n",
              "      <td>1</td>\n",
              "      <td>1.000000</td>\n",
              "      <td>1.000000</td>\n",
              "      <td>1.000000</td>\n",
              "      <td>1.000000</td>\n",
              "      <td>0.0</td>\n",
              "    </tr>\n",
              "  </tbody>\n",
              "</table>\n",
              "</div>\n",
              "      <button class=\"colab-df-convert\" onclick=\"convertToInteractive('df-d14737aa-a5ee-485f-b2de-6db8576108fd')\"\n",
              "              title=\"Convert this dataframe to an interactive table.\"\n",
              "              style=\"display:none;\">\n",
              "        \n",
              "  <svg xmlns=\"http://www.w3.org/2000/svg\" height=\"24px\"viewBox=\"0 0 24 24\"\n",
              "       width=\"24px\">\n",
              "    <path d=\"M0 0h24v24H0V0z\" fill=\"none\"/>\n",
              "    <path d=\"M18.56 5.44l.94 2.06.94-2.06 2.06-.94-2.06-.94-.94-2.06-.94 2.06-2.06.94zm-11 1L8.5 8.5l.94-2.06 2.06-.94-2.06-.94L8.5 2.5l-.94 2.06-2.06.94zm10 10l.94 2.06.94-2.06 2.06-.94-2.06-.94-.94-2.06-.94 2.06-2.06.94z\"/><path d=\"M17.41 7.96l-1.37-1.37c-.4-.4-.92-.59-1.43-.59-.52 0-1.04.2-1.43.59L10.3 9.45l-7.72 7.72c-.78.78-.78 2.05 0 2.83L4 21.41c.39.39.9.59 1.41.59.51 0 1.02-.2 1.41-.59l7.78-7.78 2.81-2.81c.8-.78.8-2.07 0-2.86zM5.41 20L4 18.59l7.72-7.72 1.47 1.35L5.41 20z\"/>\n",
              "  </svg>\n",
              "      </button>\n",
              "      \n",
              "  <style>\n",
              "    .colab-df-container {\n",
              "      display:flex;\n",
              "      flex-wrap:wrap;\n",
              "      gap: 12px;\n",
              "    }\n",
              "\n",
              "    .colab-df-convert {\n",
              "      background-color: #E8F0FE;\n",
              "      border: none;\n",
              "      border-radius: 50%;\n",
              "      cursor: pointer;\n",
              "      display: none;\n",
              "      fill: #1967D2;\n",
              "      height: 32px;\n",
              "      padding: 0 0 0 0;\n",
              "      width: 32px;\n",
              "    }\n",
              "\n",
              "    .colab-df-convert:hover {\n",
              "      background-color: #E2EBFA;\n",
              "      box-shadow: 0px 1px 2px rgba(60, 64, 67, 0.3), 0px 1px 3px 1px rgba(60, 64, 67, 0.15);\n",
              "      fill: #174EA6;\n",
              "    }\n",
              "\n",
              "    [theme=dark] .colab-df-convert {\n",
              "      background-color: #3B4455;\n",
              "      fill: #D2E3FC;\n",
              "    }\n",
              "\n",
              "    [theme=dark] .colab-df-convert:hover {\n",
              "      background-color: #434B5C;\n",
              "      box-shadow: 0px 1px 3px 1px rgba(0, 0, 0, 0.15);\n",
              "      filter: drop-shadow(0px 1px 2px rgba(0, 0, 0, 0.3));\n",
              "      fill: #FFFFFF;\n",
              "    }\n",
              "  </style>\n",
              "\n",
              "      <script>\n",
              "        const buttonEl =\n",
              "          document.querySelector('#df-d14737aa-a5ee-485f-b2de-6db8576108fd button.colab-df-convert');\n",
              "        buttonEl.style.display =\n",
              "          google.colab.kernel.accessAllowed ? 'block' : 'none';\n",
              "\n",
              "        async function convertToInteractive(key) {\n",
              "          const element = document.querySelector('#df-d14737aa-a5ee-485f-b2de-6db8576108fd');\n",
              "          const dataTable =\n",
              "            await google.colab.kernel.invokeFunction('convertToInteractive',\n",
              "                                                     [key], {});\n",
              "          if (!dataTable) return;\n",
              "\n",
              "          const docLinkHtml = 'Like what you see? Visit the ' +\n",
              "            '<a target=\"_blank\" href=https://colab.research.google.com/notebooks/data_table.ipynb>data table notebook</a>'\n",
              "            + ' to learn more about interactive tables.';\n",
              "          element.innerHTML = '';\n",
              "          dataTable['output_type'] = 'display_data';\n",
              "          await google.colab.output.renderOutput(dataTable, element);\n",
              "          const docLink = document.createElement('div');\n",
              "          docLink.innerHTML = docLinkHtml;\n",
              "          element.appendChild(docLink);\n",
              "        }\n",
              "      </script>\n",
              "    </div>\n",
              "  </div>\n",
              "  "
            ]
          },
          "metadata": {}
        }
      ]
    },
    {
      "cell_type": "markdown",
      "metadata": {
        "id": "crmXZfx60a0D"
      },
      "source": [
        "## GridsearchCV et plusieurs classifieurs"
      ]
    },
    {
      "cell_type": "markdown",
      "metadata": {
        "id": "KsDNOrVf0a0D"
      },
      "source": [
        "Il est tout à fait possible d'utiliser GridsearchCV\n",
        " avec plusieurs classifieurs. Il suffit pour cela d'initaliser les classifieurs dans un dictionnaire et faire de même pour les paramètres."
      ]
    },
    {
      "cell_type": "code",
      "metadata": {
        "ExecuteTime": {
          "end_time": "2020-10-10T08:41:09.062388Z",
          "start_time": "2020-10-10T08:40:59.988Z"
        },
        "id": "nUwVQSya0a0D"
      },
      "source": [
        "\n",
        "\n",
        "classifiers = {\n",
        "    'KNeighborsClassifier': KNeighborsClassifier(),\n",
        "    'DecisionTreeClassifier': DecisionTreeClassifier(),\n",
        "    'SVC': SVC()\n",
        "}\n",
        "\n",
        "params = {'KNeighborsClassifier' : [{'n_neighbors': list(range(1,15))},\n",
        "    {'metric': ['minkowski','euclidean','manhattan']}],\n",
        "           'DecisionTreeClassifier': [{'max_depth': [1,2,3,4,5,6,7,8,9,10]},\n",
        "    {'criterion': ['gini', 'entropy']},\n",
        "    {'min_samples_leaf': [1,2,3,4,5,6,7,8,9,10]}],\n",
        "       'SVC':[{'C': [0.001, 0.01, 0.1, 1, 10], \n",
        "    'gamma' : [0.001, 0.01, 0.1, 1], \n",
        "    'kernel': ['linear','rbf']}]  }\n",
        "\n"
      ],
      "execution_count": 48,
      "outputs": []
    },
    {
      "cell_type": "code",
      "metadata": {
        "ExecuteTime": {
          "end_time": "2020-10-10T08:41:09.063780Z",
          "start_time": "2020-10-10T08:40:59.994Z"
        },
        "id": "kB75xCuB0a0D",
        "colab": {
          "base_uri": "https://localhost:8080/"
        },
        "outputId": "06fa71ae-5ff7-493f-9d4f-81a629dbd886"
      },
      "source": [
        "class Result_Parameters:\n",
        "     def __init__(self,name, score, parameters):\n",
        "         self.name = name\n",
        "         self.score = score\n",
        "         self.parameters = parameters\n",
        "     def __repr__(self):\n",
        "         return repr((self.name, self.score, self.parameters))\n",
        "\n",
        "       \n",
        "results = []\n",
        "for key,value in classifiers.items():\n",
        "    gd_sr = GridSearchCV(estimator=value,  \n",
        "                     param_grid=params[key],\n",
        "                     scoring='accuracy',\n",
        "                     cv=5,\n",
        "                     n_jobs=1)\n",
        "    gd_sr.fit(X_train, y_train)  \n",
        "    result=Result_Parameters(key,gd_sr.best_score_,gd_sr.best_estimator_)\n",
        "    results.append(result)   \n",
        "    \n",
        "    \n",
        "    \n",
        "results=sorted(results, key=lambda result: result.score, reverse=True) \n",
        "\n",
        "print ('Le meilleur resultat : \\n')\n",
        "print ('Classifier : ',results[0].name, \n",
        "       ' score %0.3f' %results[0].score, \n",
        "       ' avec ',results[0].parameters,'\\n')\n",
        "\n",
        "print ('Tous les résultats : \\n')\n",
        "for result in results:\n",
        "    print ('Classifier : ',result.name, \n",
        "           ' score %0.3f' %result.score, \n",
        "           ' avec ',result.parameters,'\\n')\n",
        "    \n"
      ],
      "execution_count": 49,
      "outputs": [
        {
          "output_type": "stream",
          "name": "stdout",
          "text": [
            "Le meilleur resultat : \n",
            "\n",
            "Classifier :  SVC  score 1.000  avec  SVC(C=1, gamma=0.001, kernel='linear') \n",
            "\n",
            "Tous les résultats : \n",
            "\n",
            "Classifier :  SVC  score 1.000  avec  SVC(C=1, gamma=0.001, kernel='linear') \n",
            "\n",
            "Classifier :  KNeighborsClassifier  score 0.978  avec  KNeighborsClassifier(n_neighbors=6) \n",
            "\n",
            "Classifier :  DecisionTreeClassifier  score 0.956  avec  DecisionTreeClassifier(max_depth=2) \n",
            "\n"
          ]
        }
      ]
    },
    {
      "cell_type": "markdown",
      "metadata": {
        "id": "ZP_DLOML0a0D"
      },
      "source": [
        "## Les pipelines "
      ]
    },
    {
      "cell_type": "markdown",
      "metadata": {
        "id": "qMtU8u3w0a0D"
      },
      "source": [
        "Il peut arriver que différentes combinaisons de pré-traitements puissent être utilisées. Par exemple il est possible d'utiliser du changement d'échelle, du PCA (projection sur un nombre différent de dimensions), de faire du remplacement de valeurs manquantes ...  \n",
        "\n",
        "L'objectif du pipeline est de pouvoir regrouper l'ensemble de ces prétraitements et de pouvoir les faire suivre par le classifier.\n",
        "Le principe consiste à d'abord mettre la chaîne de pré-traitement, d'ensuite mettre le classifier et d'utiliser directement le pipeline.\n",
        "\n",
        "**Attention :** les pipelines sont très importants lorsque l'on sauvegarde un modèle. En effet comme ils prennent en compte les pré-traitements tout est sauvegardé. Cela veut dire que dans le cas de nouvelles données à évaluer avec un modèle lors de la prédiction les données seront automatiquement transformées. (Voir partie utiliser de nouvelles données plus bas).\n",
        "\n",
        "L'exemple suivant illustre un pipeline où un standard scaling est réalisé puis un PCA et enfin un DecisionTree est appliqué."
      ]
    },
    {
      "cell_type": "code",
      "metadata": {
        "ExecuteTime": {
          "end_time": "2020-10-10T08:41:09.069311Z",
          "start_time": "2020-10-10T08:40:59.999Z"
        },
        "id": "_ZFBmsLt0a0D",
        "colab": {
          "base_uri": "https://localhost:8080/",
          "height": 529
        },
        "outputId": "739262d8-0f70-4f09-f806-cb97c636f0a4"
      },
      "source": [
        "\n",
        "from sklearn.preprocessing import LabelEncoder\n",
        "\n",
        "\n",
        "url = \"https://archive.ics.uci.edu/ml/machine-learning-databases/iris/iris.data\"\n",
        "names = ['SepalLengthCm', 'SepalWidthCm', \n",
        "         'PetalLengthCm', 'PetalWidthCm', 'Species']\n",
        "df_iris = pd.read_csv(url, names=names)\n",
        "\n",
        "#transformation de Species via LabelEncoder\n",
        "class_label_encoder = LabelEncoder()\n",
        "df_iris['Species']=class_label_encoder.fit_transform(df_iris['Species'].values)\n",
        "\n",
        "\n",
        "array = df_iris.values\n",
        "X = array[:,0:4] \n",
        "y = array[:,4]\n",
        "\n",
        "\n",
        "print ('Création du pipeline \\n')\n",
        "pipeline = Pipeline([('scl', StandardScaler()),\n",
        "                    ('pca', PCA(n_components=2)),\n",
        "                    ('clf', DecisionTreeClassifier(random_state=42))])\n",
        "\n",
        "validation_size=0.3 \n",
        "\n",
        "testsize= 1-validation_size\n",
        "seed=30\n",
        "X_train,X_test,y_train,y_test=train_test_split(X, y, \n",
        "                                               train_size=validation_size, \n",
        "                                               random_state=seed,\n",
        "                                               test_size=testsize)\n",
        "\n",
        "\n",
        "pipeline.fit(X_train, y_train)\n",
        "y_pred = pipeline.predict(X_test)\n",
        "MyshowAllScores(y_test,y_pred)\n",
        "\n"
      ],
      "execution_count": 50,
      "outputs": [
        {
          "output_type": "stream",
          "name": "stdout",
          "text": [
            "Création du pipeline \n",
            "\n",
            "Accuracy : 0.914\n",
            "Classification Report\n",
            "              precision    recall  f1-score   support\n",
            "\n",
            "         0.0    1.00000   1.00000   1.00000        34\n",
            "         1.0    0.91429   0.84211   0.87671        38\n",
            "         2.0    0.83333   0.90909   0.86957        33\n",
            "\n",
            "    accuracy                        0.91429       105\n",
            "   macro avg    0.91587   0.91707   0.91543       105\n",
            "weighted avg    0.91660   0.91429   0.91439       105\n",
            "\n"
          ]
        },
        {
          "output_type": "display_data",
          "data": {
            "text/plain": [
              "<Figure size 432x288 with 2 Axes>"
            ],
            "image/png": "[encoded data removed]"
          },
          "metadata": {
            "needs_background": "light"
          }
        }
      ]
    },
    {
      "cell_type": "markdown",
      "metadata": {
        "id": "GdMVfhO80a0D"
      },
      "source": [
        "Il est possible d'utiliser GridSearchCV pour chercher les meilleures valeurs dans un pré-traitement."
      ]
    },
    {
      "cell_type": "code",
      "metadata": {
        "ExecuteTime": {
          "end_time": "2020-10-10T08:41:09.070802Z",
          "start_time": "2020-10-10T08:41:00.006Z"
        },
        "id": "olaEgbsL0a0D",
        "colab": {
          "base_uri": "https://localhost:8080/"
        },
        "outputId": "b7c840b4-d4a6-49ae-c23a-d100399baced"
      },
      "source": [
        "from sklearn.model_selection import GridSearchCV\n",
        "print ('Création du pipeline \\n')\n",
        "pipeline = Pipeline([('pca', PCA()),\n",
        "                    ('clf', DecisionTreeClassifier(random_state=42))])\n",
        "\n",
        "grid_param = {\n",
        "    'pca__n_components': [2,3]\n",
        "}\n",
        "\n",
        "\n",
        "gd_sr = GridSearchCV(pipeline,  \n",
        "                     param_grid=grid_param,\n",
        "                     scoring='accuracy',\n",
        "                     cv=5,\n",
        "                     n_jobs=1,\n",
        "                \n",
        "                    return_train_score=True)\n",
        "\n",
        "gd_sr.fit(X_train, y_train)  \n",
        "\n",
        "print ('meilleur score %0.3f'%(gd_sr.best_score_),'\\n')\n",
        "print ('meilleurs paramètres', gd_sr.best_params_,'\\n')\n",
        "print ('meilleur estimateur',gd_sr.best_estimator_,'\\n')"
      ],
      "execution_count": 52,
      "outputs": [
        {
          "output_type": "stream",
          "name": "stdout",
          "text": [
            "Création du pipeline \n",
            "\n",
            "meilleur score 0.956 \n",
            "\n",
            "meilleurs paramètres {'pca__n_components': 2} \n",
            "\n",
            "meilleur estimateur Pipeline(steps=[('pca', PCA(n_components=2)),\n",
            "                ('clf', DecisionTreeClassifier(random_state=42))]) \n",
            "\n"
          ]
        }
      ]
    },
    {
      "cell_type": "markdown",
      "metadata": {
        "id": "YPFVz6fo0a0E"
      },
      "source": [
        "Ou bien de faire les deux en même temps. "
      ]
    },
    {
      "cell_type": "code",
      "metadata": {
        "ExecuteTime": {
          "end_time": "2020-10-10T08:41:09.072168Z",
          "start_time": "2020-10-10T08:41:00.011Z"
        },
        "id": "M9omToOP0a0E",
        "colab": {
          "base_uri": "https://localhost:8080/"
        },
        "outputId": "a3be735b-ffbe-4fa2-a6b7-9674bcf3d67e"
      },
      "source": [
        "\n",
        "url = \"https://archive.ics.uci.edu/ml/machine-learning-databases/iris/iris.data\"\n",
        "names = ['SepalLengthCm', 'SepalWidthCm', \n",
        "         'PetalLengthCm', 'PetalWidthCm', 'Species']\n",
        "df_iris = pd.read_csv(url, names=names)\n",
        "\n",
        "#transformation de Species en float pour StantardScaler\n",
        "class_label_encoder = LabelEncoder()\n",
        "df_iris['Species']=class_label_encoder.fit_transform(df_iris['Species'].values)\n",
        "\n",
        "\n",
        "array = df_iris.values\n",
        "X = array[:,0:4] \n",
        "y = array[:,4]\n",
        "\n",
        "pipeline = Pipeline([('pca', PCA()),\n",
        "                    ('clf', DecisionTreeClassifier())])\n",
        "\n",
        "\n",
        "\n",
        "grid_param = [{'pca__n_components': [2,3]},\n",
        "                {'clf': [DecisionTreeClassifier()],\n",
        "                 'clf__max_depth': [1,2,3,4,5,6,7,8,9,10],\n",
        "                 'clf__criterion': ['gini', 'entropy'],\n",
        "                 'clf__min_samples_leaf': [1,2,3,4,5,6,7,8,9,10]\n",
        "                }]\n",
        "\n",
        "\n",
        "\n",
        "gd_sr = GridSearchCV(estimator=pipeline,  \n",
        "                     param_grid=grid_param,\n",
        "                     scoring='accuracy',\n",
        "                     cv=5,\n",
        "                     n_jobs=-1,\n",
        "                \n",
        "                    return_train_score=True)\n",
        "\n",
        "gd_sr.fit(X_train, y_train)  \n",
        "print ('meilleur score %0.3f'%(gd_sr.best_score_),'\\n')\n",
        "print ('meilleurs paramètres', gd_sr.best_params_,'\\n')\n",
        "print ('meilleur estimateur',gd_sr.best_estimator_,'\\n')"
      ],
      "execution_count": 54,
      "outputs": [
        {
          "output_type": "stream",
          "name": "stdout",
          "text": [
            "meilleur score 0.978 \n",
            "\n",
            "meilleurs paramètres {'pca__n_components': 2} \n",
            "\n",
            "meilleur estimateur Pipeline(steps=[('pca', PCA(n_components=2)),\n",
            "                ('clf', DecisionTreeClassifier())]) \n",
            "\n"
          ]
        }
      ]
    },
    {
      "cell_type": "markdown",
      "metadata": {
        "id": "vUgEbCVt0a0I"
      },
      "source": [
        "## Une petite mise en  pratique\n",
        "\n"
      ]
    },
    {
      "cell_type": "markdown",
      "metadata": {
        "id": "2ZzCx3ruNDt6"
      },
      "source": [
        "Jusqu'à présent vous n'avez que vu (ou revu) les principes généraux de la classification. Avant de s'attaquer aux données textuelles, voici un petit exercice pour mettre en oeuvre les concepts introduits dans ce notebook. Les IRIS est connu, très connu ... alors changeons de domaine pour ... les pingouins\n",
        "\n",
        "\n",
        "    \n",
        "De nombreux jeux de données ont été proposés en alternative à Iris qui est très (trop ?) utilisé. Le jeu de données que nous allons utiliser possède des caractéristiques assez similaires à IRIS mais concerne les espèces de pingouins. Il est disponible ici : https://allisonhorst.github.io/palmerpenguins/  \n",
        "    \n",
        "<IMG SRC=\"http://www.lirmm.fr/~poncelet/EGC2021/pinguins.png\" align=\"center\" >  \n",
        "    \n",
        "Il contient à l'origine 17 caractéristiques différentes ('studyName', 'Sample Number', 'Species', 'Region', 'Island', 'Stage','Individual ID', 'Clutch Completion', 'Date Egg', 'Culmen Length (mm)','Culmen Depth (mm)', 'Flipper Length (mm)', 'Body Mass (g)', 'Sex','Delta 15 N (o/oo)', 'Delta 13 C (o/oo)', 'Comments') et concerne 3 espèces de pingouins différentes ('Adelie Penguin (Pygoscelis adeliae)', 'Gentoo penguin (Pygoscelis papua)', 'Chinstrap penguin (Pygoscelis antarctica)'). L'un des objectifs est à partir des différentes caractéristiques de prédire l'espèce de pingouins.   \n",
        "Le jeu de données d'origine contient de nombreuses valeurs manquantes, des données à la fois catégorielles, numériques, etc. Aussi nous en proposons une version nettoyée que vous pouvez récupérer : "
      ]
    },
    {
      "cell_type": "code",
      "metadata": {
        "id": "FsIJqLRs0a0I",
        "colab": {
          "base_uri": "https://localhost:8080/"
        },
        "outputId": "b4bd66b0-77be-4189-f864-47c500a7bf9b"
      },
      "source": [
        "!wget https://www.lirmm.fr/~poncelet/EGC2021/penguins.csv"
      ],
      "execution_count": 55,
      "outputs": [
        {
          "output_type": "stream",
          "name": "stdout",
          "text": [
            "--2023-02-01 08:19:33--  https://www.lirmm.fr/~poncelet/EGC2021/penguins.csv\n",
            "Resolving www.lirmm.fr (www.lirmm.fr)... 193.49.104.251\n",
            "Connecting to www.lirmm.fr (www.lirmm.fr)|193.49.104.251|:443... connected.\n",
            "HTTP request sent, awaiting response... 200 OK\n",
            "Length: 27042 (26K) [text/csv]\n",
            "Saving to: ‘penguins.csv’\n",
            "\n",
            "penguins.csv        100%[===================>]  26.41K  --.-KB/s    in 0.09s   \n",
            "\n",
            "2023-02-01 08:19:34 (288 KB/s) - ‘penguins.csv’ saved [27042/27042]\n",
            "\n"
          ]
        }
      ]
    },
    {
      "cell_type": "markdown",
      "metadata": {
        "id": "B5zxSrwl0a0I"
      },
      "source": [
        "<font color=red>Exercice :</font> la cellule suivante permet de charger le dossier et d'avoir quelques informations sur les données manipulées. En outre, il propose d'appliquer un standardScaler sur les données prédictives. L'objectif à présent est de proposer un classifier qui soit capable de prédire le mieux possible l'espèce de pingouin.  \n",
        "\n",
        "**Indication :** SVM se comporte bien sur ce jeu de données."
      ]
    },
    {
      "cell_type": "code",
      "metadata": {
        "id": "F3Y-uKCL0a0I",
        "colab": {
          "base_uri": "https://localhost:8080/"
        },
        "outputId": "d9dcc693-ee90-4573-fb3f-c134aa0f4f13"
      },
      "source": [
        "# lecture du fichier\n",
        "df_penguins=pd.read_csv(\"penguins.csv\", encoding='utf8')\n",
        "\n",
        "# les premières lignes\n",
        "print (df_penguins.head())\n",
        "\n",
        "# les différentes colonnes\n",
        "print (df_penguins.columns)\n",
        "\n",
        "# le nombre d'enregistrements\n",
        "print (df_penguins.shape)\n",
        "\n",
        "# la répartition du nombre de pingouins\n",
        "print (\"répartition des espèces de pingouins :\\n\",df_penguins['Species'].value_counts())\n",
        "\n",
        "# selection des variables prédictives et à prédire\n",
        "array = df_penguins.values\n",
        "X = array[:,0:6] \n",
        "y = array[:,6]\n",
        "\n",
        "# attention étant donné la différence entre les valeurs il est nécessaire de normaliser\n",
        "standardscaler = StandardScaler()\n",
        "X_standardscale = standardscaler.fit_transform(X)\n",
        "X=X_standardscale"
      ],
      "execution_count": 56,
      "outputs": [
        {
          "output_type": "stream",
          "name": "stdout",
          "text": [
            "   Culmen Length (mm)  Culmen Depth (mm)  Flipper Length (mm)  Body Mass (g)  \\\n",
            "0                39.5               17.4                186.0         3800.0   \n",
            "1                40.3               18.0                195.0         3250.0   \n",
            "2                36.7               19.3                193.0         3450.0   \n",
            "3                39.3               20.6                190.0         3650.0   \n",
            "4                38.9               17.8                181.0         3625.0   \n",
            "\n",
            "   Delta 15 N (o/oo)  Delta 13 C (o/oo)                              Species  \n",
            "0            8.94956          -24.69454  Adelie Penguin (Pygoscelis adeliae)  \n",
            "1            8.36821          -25.33302  Adelie Penguin (Pygoscelis adeliae)  \n",
            "2            8.76651          -25.32426  Adelie Penguin (Pygoscelis adeliae)  \n",
            "3            8.66496          -25.29805  Adelie Penguin (Pygoscelis adeliae)  \n",
            "4            9.18718          -25.21799  Adelie Penguin (Pygoscelis adeliae)  \n",
            "Index(['Culmen Length (mm)', 'Culmen Depth (mm)', 'Flipper Length (mm)',\n",
            "       'Body Mass (g)', 'Delta 15 N (o/oo)', 'Delta 13 C (o/oo)', 'Species'],\n",
            "      dtype='object')\n",
            "(330, 7)\n",
            "répartition des espèces de pingouins :\n",
            " Adelie Penguin (Pygoscelis adeliae)          141\n",
            "Gentoo penguin (Pygoscelis papua)            122\n",
            "Chinstrap penguin (Pygoscelis antarctica)     67\n",
            "Name: Species, dtype: int64\n"
          ]
        }
      ]
    },
    {
      "cell_type": "code",
      "metadata": {
        "ExecuteTime": {
          "end_time": "2020-10-10T08:41:09.062388Z",
          "start_time": "2020-10-10T08:40:59.988Z"
        },
        "id": "90LYPlrnCe73"
      },
      "source": [
        "\n",
        "\n",
        "classifiers = {\n",
        "    'KNeighborsClassifier': KNeighborsClassifier(),\n",
        "    'DecisionTreeClassifier': DecisionTreeClassifier(),\n",
        "    'SVC': SVC()\n",
        "}\n",
        "\n",
        "params = {'KNeighborsClassifier' : [{'n_neighbors': list(range(1,15))},\n",
        "    {'metric': ['minkowski','euclidean','manhattan']}],\n",
        "           'DecisionTreeClassifier': [{'max_depth': [1,2,3,4,5,6,7,8,9,10]},\n",
        "    {'criterion': ['gini', 'entropy']},\n",
        "    {'min_samples_leaf': [1,2,3,4,5,6,7,8,9,10]}],\n",
        "       'SVC':[{'C': [0.001, 0.01, 0.1, 1, 10], \n",
        "    'gamma' : [0.001, 0.01, 0.1, 1], \n",
        "    'kernel': ['linear','rbf']}]  }\n",
        "\n"
      ],
      "execution_count": 57,
      "outputs": []
    },
    {
      "cell_type": "code",
      "metadata": {
        "ExecuteTime": {
          "end_time": "2020-10-10T08:41:09.063780Z",
          "start_time": "2020-10-10T08:40:59.994Z"
        },
        "colab": {
          "base_uri": "https://localhost:8080/"
        },
        "id": "Bit14649Ce75",
        "outputId": "b3e5fb78-71b9-4c5b-b24b-fcf81e2f76b0"
      },
      "source": [
        "class Result_Parameters:\n",
        "     def __init__(self,name, score, parameters):\n",
        "         self.name = name\n",
        "         self.score = score\n",
        "         self.parameters = parameters\n",
        "     def __repr__(self):\n",
        "         return repr((self.name, self.score, self.parameters))\n",
        "\n",
        "       \n",
        "results = []\n",
        "for key,value in classifiers.items():\n",
        "    gd_sr = GridSearchCV(estimator=value,  \n",
        "                     param_grid=params[key],\n",
        "                     scoring='accuracy',\n",
        "                     cv=5,\n",
        "                     n_jobs=1,\n",
        "                     iid=True)\n",
        "    gd_sr.fit(X, y)  \n",
        "    result=Result_Parameters(key,gd_sr.best_score_,gd_sr.best_estimator_)\n",
        "    results.append(result)   \n",
        "    \n",
        "    \n",
        "    results=sorted(results, key=lambda result: result.score, reverse=True) \n",
        "\n",
        "print ('Le meilleur resultat : \\n')\n",
        "print ('Classifier : ',results[0].name, \n",
        "       ' score %0.3f' %results[0].score, \n",
        "       ' avec ',results[0].parameters,'\\n')\n",
        "\n",
        "print ('Tous les résultats : \\n')\n",
        "for result in results:\n",
        "    print ('Classifier : ',result.name, \n",
        "           ' score %0.3f' %result.score, \n",
        "           ' avec ',result.parameters,'\\n')\n",
        "\n",
        "    \n"
      ],
      "execution_count": null,
      "outputs": [
        {
          "output_type": "stream",
          "text": [
            "Le meilleur resultat : \n",
            "\n",
            "Classifier :  SVC  score 1.000  avec  SVC(C=1, break_ties=False, cache_size=200, class_weight=None, coef0=0.0,\n",
            "    decision_function_shape='ovr', degree=3, gamma=0.001, kernel='linear',\n",
            "    max_iter=-1, probability=False, random_state=None, shrinking=True,\n",
            "    tol=0.001, verbose=False) \n",
            "\n",
            "Tous les résultats : \n",
            "\n",
            "Classifier :  SVC  score 1.000  avec  SVC(C=1, break_ties=False, cache_size=200, class_weight=None, coef0=0.0,\n",
            "    decision_function_shape='ovr', degree=3, gamma=0.001, kernel='linear',\n",
            "    max_iter=-1, probability=False, random_state=None, shrinking=True,\n",
            "    tol=0.001, verbose=False) \n",
            "\n",
            "Classifier :  KNeighborsClassifier  score 0.997  avec  KNeighborsClassifier(algorithm='auto', leaf_size=30, metric='minkowski',\n",
            "                     metric_params=None, n_jobs=None, n_neighbors=3, p=2,\n",
            "                     weights='uniform') \n",
            "\n",
            "Classifier :  DecisionTreeClassifier  score 0.967  avec  DecisionTreeClassifier(ccp_alpha=0.0, class_weight=None, criterion='gini',\n",
            "                       max_depth=4, max_features=None, max_leaf_nodes=None,\n",
            "                       min_impurity_decrease=0.0, min_impurity_split=None,\n",
            "                       min_samples_leaf=1, min_samples_split=2,\n",
            "                       min_weight_fraction_leaf=0.0, presort='deprecated',\n",
            "                       random_state=None, splitter='best') \n",
            "\n"
          ],
          "name": "stdout"
        }
      ]
    },
    {
      "cell_type": "markdown",
      "metadata": {
        "id": "g3eAuRqa0a0J"
      },
      "source": [
        "<font color=blue>Solution :</font> "
      ]
    },
    {
      "cell_type": "code",
      "metadata": {
        "id": "WuXblG1H-dKe",
        "colab": {
          "base_uri": "https://localhost:8080/",
          "height": 223
        },
        "outputId": "5d847b94-edaa-4bdf-8c00-525f508f18f6"
      },
      "source": [
        "# il suffit d'appliquer les approches précédentes. \n",
        "# D'abord on peut comparer des algorithmes de classification \n",
        "# puis après sélectionner le meilleur et rechercher ses hyperparamètres.\n",
        "\n",
        "\n",
        "seed = 7\n",
        "scoring = 'accuracy'\n",
        "models = []\n",
        "models.append(('LR', LogisticRegression(solver='lbfgs')))\n",
        "models.append(('KNN', KNeighborsClassifier()))\n",
        "models.append(('CART', DecisionTreeClassifier()))\n",
        "models.append(('NB', GaussianNB()))\n",
        "models.append(('SVM', SVC(gamma='auto')))\n",
        "\n",
        "results = []\n",
        "names = []\n",
        "for name,model in models:\n",
        "    kfold = KFold(n_splits=10, random_state=seed)\n",
        "    start_time = time.time()\n",
        "    cv_results = cross_val_score(model, X, y, cv=kfold, scoring=scoring)\n",
        "    #pour avoir les paramètres utilisés dans le modèle enlever commentaire ligne suivante\n",
        "    #print (model.get_params())\n",
        "    print (\"Time pour\",name,\" %0.5f\"%(time.time() - start_time),'s')\n",
        "    results.append(cv_results)\n",
        "    names.append(name)\n",
        "    msg = \"%s: %0.3f (%0.3f)\" % (name, cv_results.mean(), cv_results.std())\n",
        "    print(msg)       \n",
        "\n",
        "\n",
        "# SVC a le meilleur score\n",
        "classifiers = {\n",
        "    'SVC': SVC()\n",
        "}\n",
        "\n",
        "params = {'SVC':[{'C': [0.001, 0.01, 0.1, 1, 10], \n",
        "    'gamma' : [0.001, 0.01, 0.1, 1], \n",
        "    'kernel': ['linear','rbf']}]  }\n",
        "\n",
        "\n",
        "\n",
        "       \n",
        "results = []\n",
        "for key,value in classifiers.items():\n",
        "    gd_sr = GridSearchCV(estimator=value,  \n",
        "                     param_grid=params[key],\n",
        "                     scoring='accuracy',\n",
        "                     cv=5,\n",
        "                     n_jobs=1,\n",
        "                     iid=True)\n",
        "    gd_sr.fit(X, y)  \n",
        "    result=Result_Parameters(key,gd_sr.best_score_,gd_sr.best_estimator_)\n",
        "    results.append(result)   \n",
        "    \n",
        "    \n",
        "    \n",
        "results=sorted(results, key=lambda result: result.score, reverse=True) \n",
        "\n",
        "print ('Le meilleur resultat :  ')\n",
        "print ('Classifier : ',results[0].name, \n",
        "       ' score %0.2f' %results[0].score, \n",
        "       ' avec ',results[0].parameters,' ')\n",
        "\n",
        "print ('Tous les résultats : ')"
      ],
      "execution_count": 58,
      "outputs": [
        {
          "output_type": "error",
          "ename": "NameError",
          "evalue": "ignored",
          "traceback": [
            "\u001b[0;31m---------------------------------------------------------------------------\u001b[0m",
            "\u001b[0;31mNameError\u001b[0m                                 Traceback (most recent call last)",
            "\u001b[0;32m<ipython-input-58-73ffc2969da9>\u001b[0m in \u001b[0;36m<module>\u001b[0;34m\u001b[0m\n\u001b[1;32m      1\u001b[0m \u001b[0;31m# executer la cellule pour voir et executer la solution\u001b[0m\u001b[0;34m\u001b[0m\u001b[0;34m\u001b[0m\u001b[0;34m\u001b[0m\u001b[0m\n\u001b[0;32m----> 2\u001b[0;31m \u001b[0msol_1\u001b[0m\u001b[0;34m=\u001b[0m\u001b[0mbase64\u001b[0m\u001b[0;34m.\u001b[0m\u001b[0mb64decode\u001b[0m\u001b[0;34m(\u001b[0m\u001b[0mSolClassificationDeDonnees\u001b[0m\u001b[0;34m.\u001b[0m\u001b[0msol_1\u001b[0m\u001b[0;34m)\u001b[0m\u001b[0;34m.\u001b[0m\u001b[0mdecode\u001b[0m\u001b[0;34m(\u001b[0m\u001b[0;34m\"utf-8\"\u001b[0m\u001b[0;34m)\u001b[0m\u001b[0;34m\u001b[0m\u001b[0;34m\u001b[0m\u001b[0m\n\u001b[0m\u001b[1;32m      3\u001b[0m \u001b[0mprint\u001b[0m \u001b[0;34m(\u001b[0m\u001b[0msol_1\u001b[0m\u001b[0;34m)\u001b[0m\u001b[0;34m\u001b[0m\u001b[0;34m\u001b[0m\u001b[0m\n\u001b[1;32m      4\u001b[0m \u001b[0mexec\u001b[0m \u001b[0;34m(\u001b[0m\u001b[0msol_1\u001b[0m\u001b[0;34m)\u001b[0m\u001b[0;34m\u001b[0m\u001b[0;34m\u001b[0m\u001b[0m\n",
            "\u001b[0;31mNameError\u001b[0m: name 'SolClassificationDeDonnees' is not defined"
          ]
        }
      ]
    },
    {
      "cell_type": "markdown",
      "metadata": {
        "id": "xhlX3vTn0a0J"
      },
      "source": [
        "Maintenant que nous avons vu comment mettre en place un classifier et l'évaluer, nous abordons les données textuelles .... dans le notebook \"**2 - Ingénierie des données textuelles**\""
      ]
    }
  ]
}