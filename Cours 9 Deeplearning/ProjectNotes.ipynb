{
 "cells": [
  {
   "cell_type": "markdown",
   "metadata": {},
   "source": [
    "## Traitement de données tabulaires avec une couche dense\n"
   ]
  },
  {
   "cell_type": "code",
   "execution_count": 1,
   "metadata": {},
   "outputs": [],
   "source": [
    "import numpy as np\n",
    "import matplotlib.pyplot as plt\n",
    "import pandas\n",
    "\n",
    "import torch"
   ]
  },
  {
   "cell_type": "markdown",
   "metadata": {},
   "source": [
    "### 1 : chargement des données \n"
   ]
  },
  {
   "cell_type": "code",
   "execution_count": 2,
   "metadata": {},
   "outputs": [
    {
     "name": "stdout",
     "output_type": "stream",
     "text": [
      "['Mathematiques', 'Physique', 'Informatique', 'LV1', 'LV2', 'Biologie', 'Chimie']\n",
      "[[12.6 10.6 14.2 12.3 10.2  9.3  7.7]\n",
      " [13.9 12.9 17.9 12.8  8.8 12.  10.9]\n",
      " [11.3 10.2 10.6 10.4  5.4  9.4  7. ]\n",
      " [10.8 12.2  7.7 13.2  4.8 11.1 10.6]\n",
      " [11.8 11.3  9.6 11.7 10.4  9.9  7.6]\n",
      " [11.9 11.5 13.9 14.1  8.5  9.3 10.3]\n",
      " [11.  11.7 10.1 13.4 13.5  6.3  7.5]\n",
      " [10.4  9.2 12.8  6.8  5.1  6.7  7.3]\n",
      " [10.1  8.7 11.  16.2 13.2  9.4  6.3]\n",
      " [10.2  7.8 13.9 10.   3.6  9.4  8.2]\n",
      " [12.2 11.2 12.2 11.7  8.2 10.5  7.8]\n",
      " [ 9.8  7.9 13.1 13.4  9.4 11.8  9.2]\n",
      " [12.5 11.4 11.2 11.5 13.  10.7  7.4]\n",
      " [10.9  8.9 13.8 11.2  9.4 11.9  9.6]\n",
      " [10.8  8.2 14.4  9.6  8.8  5.8  5.3]\n",
      " [12.9 11.5 14.9 11.9  9.1  9.3  7.9]\n",
      " [12.7 14.5 10.2 10.3  8.3  9.6 12.2]\n",
      " [13.9 13.1 13.4  9.1  8.7  4.8  4.3]\n",
      " [12.2 10.9 13.5 13.3  9.1  6.4  6.4]\n",
      " [12.1 11.7 11.8 18.1 17.9  8.9  7.5]\n",
      " [13.8 12.7 12.8  9.1  7.9  9.8  8.4]\n",
      " [10.6  9.7 13.3 10.8 10.1  8.8 10.3]\n",
      " [13.  12.7 11.9 13.   9.   9.   8.1]\n",
      " [14.4 13.3 14.7 10.1  7.2  8.6  8.7]\n",
      " [11.  11.  11.9 14.1 10.3  8.7  8.5]\n",
      " [ 9.1  8.4  9.9 10.8 13.7 12.9 10. ]\n",
      " [11.5 11.3 12.1 11.4  7.1  8.9  8.2]\n",
      " [14.1 11.3 20.  13.  11.5 10.   9.5]\n",
      " [12.6 10.7 15.2 11.5 12.1  9.9  7.8]]\n"
     ]
    }
   ],
   "source": [
    "\n",
    "\n",
    "MyData=pandas.read_csv('notes.csv')\n",
    "MyData.pop('Eleve')\n",
    "\n",
    "Matieres=list(MyData.keys())\n",
    "print(Matieres)\n",
    "\n",
    "Notes=MyData.to_numpy()\n",
    "print(Notes)\n"
   ]
  },
  {
   "cell_type": "code",
   "execution_count": 3,
   "metadata": {},
   "outputs": [
    {
     "name": "stdout",
     "output_type": "stream",
     "text": [
      "tensor([[12.6000, 10.6000, 14.2000, 12.3000, 10.2000,  9.3000,  7.7000],\n",
      "        [13.9000, 12.9000, 17.9000, 12.8000,  8.8000, 12.0000, 10.9000],\n",
      "        [11.3000, 10.2000, 10.6000, 10.4000,  5.4000,  9.4000,  7.0000],\n",
      "        [10.8000, 12.2000,  7.7000, 13.2000,  4.8000, 11.1000, 10.6000],\n",
      "        [11.8000, 11.3000,  9.6000, 11.7000, 10.4000,  9.9000,  7.6000],\n",
      "        [11.9000, 11.5000, 13.9000, 14.1000,  8.5000,  9.3000, 10.3000],\n",
      "        [11.0000, 11.7000, 10.1000, 13.4000, 13.5000,  6.3000,  7.5000],\n",
      "        [10.4000,  9.2000, 12.8000,  6.8000,  5.1000,  6.7000,  7.3000],\n",
      "        [10.1000,  8.7000, 11.0000, 16.2000, 13.2000,  9.4000,  6.3000],\n",
      "        [10.2000,  7.8000, 13.9000, 10.0000,  3.6000,  9.4000,  8.2000],\n",
      "        [12.2000, 11.2000, 12.2000, 11.7000,  8.2000, 10.5000,  7.8000],\n",
      "        [ 9.8000,  7.9000, 13.1000, 13.4000,  9.4000, 11.8000,  9.2000],\n",
      "        [12.5000, 11.4000, 11.2000, 11.5000, 13.0000, 10.7000,  7.4000],\n",
      "        [10.9000,  8.9000, 13.8000, 11.2000,  9.4000, 11.9000,  9.6000],\n",
      "        [10.8000,  8.2000, 14.4000,  9.6000,  8.8000,  5.8000,  5.3000],\n",
      "        [12.9000, 11.5000, 14.9000, 11.9000,  9.1000,  9.3000,  7.9000],\n",
      "        [12.7000, 14.5000, 10.2000, 10.3000,  8.3000,  9.6000, 12.2000],\n",
      "        [13.9000, 13.1000, 13.4000,  9.1000,  8.7000,  4.8000,  4.3000],\n",
      "        [12.2000, 10.9000, 13.5000, 13.3000,  9.1000,  6.4000,  6.4000],\n",
      "        [12.1000, 11.7000, 11.8000, 18.1000, 17.9000,  8.9000,  7.5000],\n",
      "        [13.8000, 12.7000, 12.8000,  9.1000,  7.9000,  9.8000,  8.4000],\n",
      "        [10.6000,  9.7000, 13.3000, 10.8000, 10.1000,  8.8000, 10.3000],\n",
      "        [13.0000, 12.7000, 11.9000, 13.0000,  9.0000,  9.0000,  8.1000],\n",
      "        [14.4000, 13.3000, 14.7000, 10.1000,  7.2000,  8.6000,  8.7000],\n",
      "        [11.0000, 11.0000, 11.9000, 14.1000, 10.3000,  8.7000,  8.5000],\n",
      "        [ 9.1000,  8.4000,  9.9000, 10.8000, 13.7000, 12.9000, 10.0000],\n",
      "        [11.5000, 11.3000, 12.1000, 11.4000,  7.1000,  8.9000,  8.2000],\n",
      "        [14.1000, 11.3000, 20.0000, 13.0000, 11.5000, 10.0000,  9.5000],\n",
      "        [12.6000, 10.7000, 15.2000, 11.5000, 12.1000,  9.9000,  7.8000]],\n",
      "       dtype=torch.float64)\n"
     ]
    }
   ],
   "source": [
    "Notes_pt=torch.tensor(Notes,dtype=torch.float64)\n",
    "\n",
    "print(Notes_pt)"
   ]
  },
  {
   "cell_type": "markdown",
   "metadata": {},
   "source": [
    "### 2 : somme pondérée des données \n"
   ]
  },
  {
   "cell_type": "code",
   "execution_count": 4,
   "metadata": {},
   "outputs": [
    {
     "name": "stdout",
     "output_type": "stream",
     "text": [
      "tensor([[10.9857],\n",
      "        [12.7429],\n",
      "        [ 9.1857],\n",
      "        [10.0571],\n",
      "        [10.3286],\n",
      "        [11.3571],\n",
      "        [10.5000],\n",
      "        [ 8.3286],\n",
      "        [10.7000],\n",
      "        [ 9.0143],\n",
      "        [10.5429],\n",
      "        [10.6571],\n",
      "        [11.1000],\n",
      "        [10.8143],\n",
      "        [ 8.9857],\n",
      "        [11.0714],\n",
      "        [11.1143],\n",
      "        [ 9.6143],\n",
      "        [10.2571],\n",
      "        [12.5714],\n",
      "        [10.6429],\n",
      "        [10.5143],\n",
      "        [10.9571],\n",
      "        [11.0000],\n",
      "        [10.7857],\n",
      "        [10.6857],\n",
      "        [10.0714],\n",
      "        [12.7714],\n",
      "        [11.4000]], dtype=torch.float64, grad_fn=<MmBackward>)\n"
     ]
    }
   ],
   "source": [
    "\n",
    "lin_filter=torch.nn.Linear(7, 1, bias=False)\n",
    "\n",
    "wgt=1./7.\n",
    "\n",
    "lin_filter.weight.data = torch.tensor([[wgt,wgt,wgt,wgt,wgt,wgt,wgt]],dtype=torch.float64)\n",
    "\n",
    "filtered_data=lin_filter(Notes_pt)\n",
    "\n",
    "print(filtered_data)\n"
   ]
  },
  {
   "cell_type": "code",
   "execution_count": 5,
   "metadata": {},
   "outputs": [
    {
     "name": "stdout",
     "output_type": "stream",
     "text": [
      "tensor([[10.8800],\n",
      "        [13.5200],\n",
      "        [ 9.7000],\n",
      "        [10.4800],\n",
      "        [10.0400],\n",
      "        [11.3800],\n",
      "        [ 9.3200],\n",
      "        [ 9.2800],\n",
      "        [ 9.1000],\n",
      "        [ 9.9000]], dtype=torch.float64, grad_fn=<MmBackward>)\n"
     ]
    }
   ],
   "source": [
    "lin_filter=torch.nn.Linear(7, 1, bias=False)\n",
    "\n",
    "lin_filter.weight.data = torch.tensor([[0.2,0.2,0.2,0,0,0.2,0.2]],dtype=torch.float64)\n",
    "\n",
    "filtered_data=lin_filter(Notes_pt[:10,:])\n",
    "\n",
    "print(filtered_data)\n"
   ]
  },
  {
   "cell_type": "code",
   "execution_count": 6,
   "metadata": {},
   "outputs": [
    {
     "name": "stdout",
     "output_type": "stream",
     "text": [
      "tensor([[11.2500],\n",
      "        [10.8000],\n",
      "        [ 7.9000],\n",
      "        [ 9.0000],\n",
      "        [11.0500],\n",
      "        [11.3000],\n",
      "        [13.4500],\n",
      "        [ 5.9500],\n",
      "        [14.7000],\n",
      "        [ 6.8000]], dtype=torch.float64, grad_fn=<MmBackward>)\n"
     ]
    }
   ],
   "source": [
    "lin_filter=torch.nn.Linear(7, 1, bias=False)\n",
    "\n",
    "lin_filter.weight.data = torch.tensor([[0.0,0.0,0.0,0.5,0.5,0.0,0.0]],dtype=torch.float64)\n",
    "\n",
    "filtered_data=lin_filter(Notes_pt[:10,:])\n",
    "\n",
    "print(filtered_data)"
   ]
  },
  {
   "cell_type": "code",
   "execution_count": 7,
   "metadata": {},
   "outputs": [
    {
     "name": "stdout",
     "output_type": "stream",
     "text": [
      "tensor([[-1.6000],\n",
      "        [-4.0000],\n",
      "        [ 0.7000],\n",
      "        [ 3.1000],\n",
      "        [ 2.2000],\n",
      "        [-2.0000],\n",
      "        [ 0.9000],\n",
      "        [-2.4000],\n",
      "        [-0.9000],\n",
      "        [-3.7000]], dtype=torch.float64, grad_fn=<MmBackward>)\n"
     ]
    }
   ],
   "source": [
    "lin_filter=torch.nn.Linear(7, 1, bias=False)\n",
    "\n",
    "lin_filter.weight.data = torch.tensor([[1.0,0.0,-1.0,0.0,0.0,0.0,0.0]],dtype=torch.float64)\n",
    "\n",
    "filtered_data=lin_filter(Notes_pt[:10,:])\n",
    "\n",
    "print(filtered_data)"
   ]
  },
  {
   "cell_type": "markdown",
   "metadata": {},
   "source": [
    "### 3 : somme pondérée des données avec biais puis ReLU "
   ]
  },
  {
   "cell_type": "code",
   "execution_count": 8,
   "metadata": {},
   "outputs": [
    {
     "name": "stdout",
     "output_type": "stream",
     "text": [
      "tensor([[ 0.8800],\n",
      "        [ 3.5200],\n",
      "        [-0.3000],\n",
      "        [ 0.4800],\n",
      "        [ 0.0400],\n",
      "        [ 1.3800],\n",
      "        [-0.6800],\n",
      "        [-0.7200],\n",
      "        [-0.9000],\n",
      "        [-0.1000]], dtype=torch.float64, grad_fn=<AddmmBackward>)\n"
     ]
    }
   ],
   "source": [
    "lin_filter=torch.nn.Linear(7, 1, bias=True)\n",
    "\n",
    "lin_filter.weight.data = torch.tensor([[0.2,0.2,0.2,0,0,0.2,0.2]],dtype=torch.float64)\n",
    "\n",
    "lin_filter.bias.data = torch.tensor([-10],dtype=torch.float64)\n",
    "\n",
    "\n",
    "filtered_data=lin_filter(Notes_pt[:10,:])\n",
    "\n",
    "print(filtered_data)"
   ]
  },
  {
   "cell_type": "code",
   "execution_count": 9,
   "metadata": {},
   "outputs": [
    {
     "name": "stdout",
     "output_type": "stream",
     "text": [
      "tensor([[0.8800],\n",
      "        [3.5200],\n",
      "        [0.0000],\n",
      "        [0.4800],\n",
      "        [0.0400],\n",
      "        [1.3800],\n",
      "        [0.0000],\n",
      "        [0.0000],\n",
      "        [0.0000],\n",
      "        [0.0000]], dtype=torch.float64, grad_fn=<ReluBackward0>)\n"
     ]
    }
   ],
   "source": [
    "act_func_relu=torch.nn.ReLU()\n",
    "\n",
    "lin_filter=torch.nn.Linear(7, 1, bias=True)\n",
    "\n",
    "lin_filter.weight.data = torch.tensor([[0.2,0.2,0.2,0,0,0.2,0.2]],dtype=torch.float64)\n",
    "\n",
    "lin_filter.bias.data = torch.tensor([-10],dtype=torch.float64)\n",
    "\n",
    "\n",
    "filtered_data=act_func_relu(lin_filter(Notes_pt[:10,:]))\n",
    "\n",
    "print(filtered_data)"
   ]
  },
  {
   "cell_type": "code",
   "execution_count": 12,
   "metadata": {},
   "outputs": [
    {
     "name": "stdout",
     "output_type": "stream",
     "text": [
      "tensor([[0.8800, 1.2500],\n",
      "        [3.5200, 0.8000],\n",
      "        [0.0000, 0.0000],\n",
      "        [0.4800, 0.0000],\n",
      "        [0.0400, 1.0500],\n",
      "        [1.3800, 1.3000],\n",
      "        [0.0000, 3.4500],\n",
      "        [0.0000, 0.0000],\n",
      "        [0.0000, 4.7000],\n",
      "        [0.0000, 0.0000],\n",
      "        [0.7800, 0.0000],\n",
      "        [0.3600, 1.4000],\n",
      "        [0.6400, 2.2500],\n",
      "        [1.0200, 0.3000],\n",
      "        [0.0000, 0.0000],\n",
      "        [1.3000, 0.5000],\n",
      "        [1.8400, 0.0000],\n",
      "        [0.0000, 0.0000],\n",
      "        [0.0000, 1.2000],\n",
      "        [0.4000, 8.0000],\n",
      "        [1.5000, 0.0000],\n",
      "        [0.5400, 0.4500],\n",
      "        [0.9400, 1.0000],\n",
      "        [1.9400, 0.0000],\n",
      "        [0.2200, 2.2000],\n",
      "        [0.0600, 2.2500],\n",
      "        [0.4000, 0.0000],\n",
      "        [2.9800, 2.2500],\n",
      "        [1.2400, 1.8000]], dtype=torch.float64, grad_fn=<ReluBackward0>)\n"
     ]
    }
   ],
   "source": [
    "#definition de la fonction d'activation ReLU\n",
    "act_func_relu=torch.nn.ReLU()\n",
    "\n",
    "#definition de la couche dense et de ses parametres \n",
    "lin_filter=torch.nn.Linear(7, 2, bias=True)\n",
    "\n",
    "lin_filter.weight.data = torch.tensor([[0.2,0.2,0.2,0,0,0.2,0.2],\n",
    "                                       [0.0,0.0,0.0,0.5,0.5,0.,0.]],\n",
    "                                      dtype=torch.float64)\n",
    "\n",
    "lin_filter.bias.data = torch.tensor([-10,-10],dtype=torch.float64)\n",
    "\n",
    "\n",
    "#traitement des données \n",
    "filtered_data=act_func_relu(lin_filter(Notes_pt[:,:]))\n",
    "\n",
    "#résultat \n",
    "print(filtered_data)"
   ]
  },
  {
   "cell_type": "code",
   "execution_count": null,
   "metadata": {},
   "outputs": [],
   "source": []
  }
 ],
 "metadata": {
  "kernelspec": {
   "display_name": "Python 3 (ipykernel)",
   "language": "python",
   "name": "python3"
  },
  "language_info": {
   "codemirror_mode": {
    "name": "ipython",
    "version": 3
   },
   "file_extension": ".py",
   "mimetype": "text/x-python",
   "name": "python",
   "nbconvert_exporter": "python",
   "pygments_lexer": "ipython3",
   "version": "3.9.13"
  }
 },
 "nbformat": 4,
 "nbformat_minor": 4
}
