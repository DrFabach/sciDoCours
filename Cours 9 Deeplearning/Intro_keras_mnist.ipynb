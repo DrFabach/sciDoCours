{
 "cells": [
  {
   "cell_type": "code",
   "execution_count": 98,
   "metadata": {
    "scrolled": true
   },
   "outputs": [
    {
     "name": "stdout",
     "output_type": "stream",
     "text": [
      "Requirement already satisfied: tensorflow in c:\\users\\happy\\anaconda\\lib\\site-packages (2.11.0)Note: you may need to restart the kernel to use updated packages.\n",
      "\n",
      "Requirement already satisfied: tensorflow-intel==2.11.0 in c:\\users\\happy\\anaconda\\lib\\site-packages (from tensorflow) (2.11.0)\n",
      "Requirement already satisfied: flatbuffers>=2.0 in c:\\users\\happy\\anaconda\\lib\\site-packages (from tensorflow-intel==2.11.0->tensorflow) (23.1.21)\n",
      "Requirement already satisfied: setuptools in c:\\users\\happy\\anaconda\\lib\\site-packages (from tensorflow-intel==2.11.0->tensorflow) (63.4.1)\n",
      "Requirement already satisfied: termcolor>=1.1.0 in c:\\users\\happy\\anaconda\\lib\\site-packages (from tensorflow-intel==2.11.0->tensorflow) (2.2.0)\n",
      "Requirement already satisfied: packaging in c:\\users\\happy\\anaconda\\lib\\site-packages (from tensorflow-intel==2.11.0->tensorflow) (21.3)\n",
      "Requirement already satisfied: tensorboard<2.12,>=2.11 in c:\\users\\happy\\anaconda\\lib\\site-packages (from tensorflow-intel==2.11.0->tensorflow) (2.11.2)\n",
      "Requirement already satisfied: tensorflow-estimator<2.12,>=2.11.0 in c:\\users\\happy\\anaconda\\lib\\site-packages (from tensorflow-intel==2.11.0->tensorflow) (2.11.0)\n",
      "Requirement already satisfied: six>=1.12.0 in c:\\users\\happy\\anaconda\\lib\\site-packages (from tensorflow-intel==2.11.0->tensorflow) (1.16.0)\n",
      "Requirement already satisfied: keras<2.12,>=2.11.0 in c:\\users\\happy\\anaconda\\lib\\site-packages (from tensorflow-intel==2.11.0->tensorflow) (2.11.0)\n",
      "Requirement already satisfied: protobuf<3.20,>=3.9.2 in c:\\users\\happy\\anaconda\\lib\\site-packages (from tensorflow-intel==2.11.0->tensorflow) (3.19.6)\n",
      "Requirement already satisfied: astunparse>=1.6.0 in c:\\users\\happy\\anaconda\\lib\\site-packages (from tensorflow-intel==2.11.0->tensorflow) (1.6.3)\n",
      "Requirement already satisfied: h5py>=2.9.0 in c:\\users\\happy\\anaconda\\lib\\site-packages (from tensorflow-intel==2.11.0->tensorflow) (3.7.0)\n",
      "Requirement already satisfied: libclang>=13.0.0 in c:\\users\\happy\\anaconda\\lib\\site-packages (from tensorflow-intel==2.11.0->tensorflow) (15.0.6.1)\n",
      "Requirement already satisfied: grpcio<2.0,>=1.24.3 in c:\\users\\happy\\anaconda\\lib\\site-packages (from tensorflow-intel==2.11.0->tensorflow) (1.51.1)\n",
      "Requirement already satisfied: absl-py>=1.0.0 in c:\\users\\happy\\anaconda\\lib\\site-packages (from tensorflow-intel==2.11.0->tensorflow) (1.4.0)\n",
      "Requirement already satisfied: typing-extensions>=3.6.6 in c:\\users\\happy\\anaconda\\lib\\site-packages (from tensorflow-intel==2.11.0->tensorflow) (4.3.0)\n",
      "Requirement already satisfied: wrapt>=1.11.0 in c:\\users\\happy\\anaconda\\lib\\site-packages (from tensorflow-intel==2.11.0->tensorflow) (1.14.1)\n",
      "Requirement already satisfied: google-pasta>=0.1.1 in c:\\users\\happy\\anaconda\\lib\\site-packages (from tensorflow-intel==2.11.0->tensorflow) (0.2.0)\n",
      "Requirement already satisfied: numpy>=1.20 in c:\\users\\happy\\anaconda\\lib\\site-packages (from tensorflow-intel==2.11.0->tensorflow) (1.21.5)\n",
      "Requirement already satisfied: gast<=0.4.0,>=0.2.1 in c:\\users\\happy\\anaconda\\lib\\site-packages (from tensorflow-intel==2.11.0->tensorflow) (0.4.0)\n",
      "Requirement already satisfied: opt-einsum>=2.3.2 in c:\\users\\happy\\anaconda\\lib\\site-packages (from tensorflow-intel==2.11.0->tensorflow) (3.3.0)\n",
      "Requirement already satisfied: tensorflow-io-gcs-filesystem>=0.23.1 in c:\\users\\happy\\anaconda\\lib\\site-packages (from tensorflow-intel==2.11.0->tensorflow) (0.30.0)\n",
      "Requirement already satisfied: wheel<1.0,>=0.23.0 in c:\\users\\happy\\anaconda\\lib\\site-packages (from astunparse>=1.6.0->tensorflow-intel==2.11.0->tensorflow) (0.37.1)\n",
      "Requirement already satisfied: google-auth<3,>=1.6.3 in c:\\users\\happy\\anaconda\\lib\\site-packages (from tensorboard<2.12,>=2.11->tensorflow-intel==2.11.0->tensorflow) (2.16.0)\n",
      "Requirement already satisfied: google-auth-oauthlib<0.5,>=0.4.1 in c:\\users\\happy\\anaconda\\lib\\site-packages (from tensorboard<2.12,>=2.11->tensorflow-intel==2.11.0->tensorflow) (0.4.6)\n",
      "Requirement already satisfied: tensorboard-plugin-wit>=1.6.0 in c:\\users\\happy\\anaconda\\lib\\site-packages (from tensorboard<2.12,>=2.11->tensorflow-intel==2.11.0->tensorflow) (1.8.1)\n",
      "Requirement already satisfied: werkzeug>=1.0.1 in c:\\users\\happy\\anaconda\\lib\\site-packages (from tensorboard<2.12,>=2.11->tensorflow-intel==2.11.0->tensorflow) (2.0.3)\n",
      "Requirement already satisfied: requests<3,>=2.21.0 in c:\\users\\happy\\anaconda\\lib\\site-packages (from tensorboard<2.12,>=2.11->tensorflow-intel==2.11.0->tensorflow) (2.28.1)\n",
      "Requirement already satisfied: markdown>=2.6.8 in c:\\users\\happy\\anaconda\\lib\\site-packages (from tensorboard<2.12,>=2.11->tensorflow-intel==2.11.0->tensorflow) (3.3.4)\n",
      "Requirement already satisfied: tensorboard-data-server<0.7.0,>=0.6.0 in c:\\users\\happy\\anaconda\\lib\\site-packages (from tensorboard<2.12,>=2.11->tensorflow-intel==2.11.0->tensorflow) (0.6.1)\n",
      "Requirement already satisfied: pyparsing!=3.0.5,>=2.0.2 in c:\\users\\happy\\anaconda\\lib\\site-packages (from packaging->tensorflow-intel==2.11.0->tensorflow) (3.0.9)\n",
      "Requirement already satisfied: rsa<5,>=3.1.4 in c:\\users\\happy\\anaconda\\lib\\site-packages (from google-auth<3,>=1.6.3->tensorboard<2.12,>=2.11->tensorflow-intel==2.11.0->tensorflow) (4.9)\n",
      "Requirement already satisfied: cachetools<6.0,>=2.0.0 in c:\\users\\happy\\anaconda\\lib\\site-packages (from google-auth<3,>=1.6.3->tensorboard<2.12,>=2.11->tensorflow-intel==2.11.0->tensorflow) (5.3.0)\n",
      "Requirement already satisfied: pyasn1-modules>=0.2.1 in c:\\users\\happy\\anaconda\\lib\\site-packages (from google-auth<3,>=1.6.3->tensorboard<2.12,>=2.11->tensorflow-intel==2.11.0->tensorflow) (0.2.8)\n",
      "Requirement already satisfied: requests-oauthlib>=0.7.0 in c:\\users\\happy\\anaconda\\lib\\site-packages (from google-auth-oauthlib<0.5,>=0.4.1->tensorboard<2.12,>=2.11->tensorflow-intel==2.11.0->tensorflow) (1.3.1)\n",
      "Requirement already satisfied: idna<4,>=2.5 in c:\\users\\happy\\anaconda\\lib\\site-packages (from requests<3,>=2.21.0->tensorboard<2.12,>=2.11->tensorflow-intel==2.11.0->tensorflow) (3.3)\n",
      "Requirement already satisfied: certifi>=2017.4.17 in c:\\users\\happy\\anaconda\\lib\\site-packages (from requests<3,>=2.21.0->tensorboard<2.12,>=2.11->tensorflow-intel==2.11.0->tensorflow) (2022.9.14)\n",
      "Requirement already satisfied: urllib3<1.27,>=1.21.1 in c:\\users\\happy\\anaconda\\lib\\site-packages (from requests<3,>=2.21.0->tensorboard<2.12,>=2.11->tensorflow-intel==2.11.0->tensorflow) (1.26.11)\n",
      "Requirement already satisfied: charset-normalizer<3,>=2 in c:\\users\\happy\\anaconda\\lib\\site-packages (from requests<3,>=2.21.0->tensorboard<2.12,>=2.11->tensorflow-intel==2.11.0->tensorflow) (2.0.4)\n",
      "Requirement already satisfied: pyasn1<0.5.0,>=0.4.6 in c:\\users\\happy\\anaconda\\lib\\site-packages (from pyasn1-modules>=0.2.1->google-auth<3,>=1.6.3->tensorboard<2.12,>=2.11->tensorflow-intel==2.11.0->tensorflow) (0.4.8)\n",
      "Requirement already satisfied: oauthlib>=3.0.0 in c:\\users\\happy\\anaconda\\lib\\site-packages (from requests-oauthlib>=0.7.0->google-auth-oauthlib<0.5,>=0.4.1->tensorboard<2.12,>=2.11->tensorflow-intel==2.11.0->tensorflow) (3.2.2)\n"
     ]
    }
   ],
   "source": [
    "pip install tensorflow"
   ]
  },
  {
   "cell_type": "markdown",
   "metadata": {
    "id": "fsCmwyCe9sKA"
   },
   "source": [
    "# Introduction à keras\n",
    "\n"
   ]
  },
  {
   "cell_type": "code",
   "execution_count": 99,
   "metadata": {},
   "outputs": [],
   "source": [
    "\n",
    "import tensorflow as tf"
   ]
  },
  {
   "cell_type": "markdown",
   "metadata": {
    "id": "Spu95Qh09sKC"
   },
   "source": [
    "Le but de ce TP est d'introduire l'utilisation de la library Keras pour le deep-learning. Nous utiliserons cette library à travers 2 exemples de réseaux sur le dataset MNIST"
   ]
  },
  {
   "cell_type": "markdown",
   "metadata": {
    "id": "7ijW1kcq9sKE"
   },
   "source": [
    "## La tâche\n",
    "\n",
    "Construire un modèle de réseau de neurones artificiel pour classifier les chiffres manuscrits. \n",
    "Nous disposons du dataset MNIST qui contient 60,000 images pour le train et 10,000 images pour le test. \n"
   ]
  },
  {
   "cell_type": "markdown",
   "metadata": {
    "id": "-9vD4XJM9sKG"
   },
   "source": [
    "<img src=\"https://github.com/AviatorMoser/keras-mnist-tutorial/blob/master/mnist.png?raw=1\" >"
   ]
  },
  {
   "cell_type": "markdown",
   "metadata": {
    "id": "gRKSNKcM9sKH"
   },
   "source": [
    "### Import des modules python requis\n"
   ]
  },
  {
   "cell_type": "code",
   "execution_count": 100,
   "metadata": {
    "id": "moj5yGog9sKK"
   },
   "outputs": [],
   "source": [
    "import numpy as np                   \n",
    "import matplotlib.pyplot as plt     \n",
    "import random                       \n",
    "\n",
    "\n",
    "from sklearn.metrics import classification_report, confusion_matrix"
   ]
  },
  {
   "cell_type": "markdown",
   "metadata": {
    "id": "uQzsprIO9sKO"
   },
   "source": [
    "\n",
    "## Charger les datasets d'entrainement et de test\n",
    "\n",
    "Le dataset MNIST est un dataset jouet. Il est fourni directement dans keras. On peut donc le charger avec la 2 fonctions: `mnist = tf.keras.datasets.mnist` puis `mnist.load_data()`\n"
   ]
  },
  {
   "cell_type": "code",
   "execution_count": 101,
   "metadata": {
    "colab": {
     "base_uri": "https://localhost:8080/"
    },
    "id": "aQM5Noo29sKQ",
    "outputId": "03b1baaf-f815-46c5-ccb1-ae6bdf72b102"
   },
   "outputs": [
    {
     "name": "stdout",
     "output_type": "stream",
     "text": [
      "X_train shape (60000, 28, 28)\n",
      "y_train shape (60000,)\n",
      "X_test shape (10000, 28, 28)\n",
      "y_test shape (10000,)\n"
     ]
    }
   ],
   "source": [
    "# The MNIST data is split between 60,000 28 x 28 pixel training images and 10,000 28 x 28 pixel images\n",
    "mnist = tf.keras.datasets.mnist\n",
    "\n",
    "(X_train, Y_train), (X_test, Y_test) = mnist.load_data()\n",
    "\n",
    "print(\"X_train shape\", X_train.shape)\n",
    "print(\"y_train shape\", Y_train.shape)\n",
    "print(\"X_test shape\", X_test.shape)\n",
    "print(\"y_test shape\", Y_test.shape)"
   ]
  },
  {
   "cell_type": "markdown",
   "metadata": {
    "id": "BU8SzK7_9sKW"
   },
   "source": [
    "Avec matplotlib, on peut afficher quelques images d'exemple en utilisant la fonction ci-dessous:"
   ]
  },
  {
   "cell_type": "code",
   "execution_count": 102,
   "metadata": {
    "colab": {
     "base_uri": "https://localhost:8080/",
     "height": 657
    },
    "id": "GUWMD8IA9sKY",
    "outputId": "37250a0d-c71e-4222-9ffd-e41235073ee1"
   },
   "outputs": [
    {
     "data": {
      "image/png": "[encoded data removed]",
      "text/plain": [
       "<Figure size 900x900 with 9 Axes>"
      ]
     },
     "metadata": {},
     "output_type": "display_data"
    }
   ],
   "source": [
    "plt.rcParams['figure.figsize'] = (9,9) # pour que les images s'affichent en plus grand dans le notebook\n",
    "\n",
    "random.seed(3)\n",
    "nums = [random.randint(0, len(X_train)) for x in range(9)]\n",
    "\n",
    "for i, num in enumerate(nums):\n",
    "    plt.subplot(3,3,i+1)\n",
    "    plt.imshow(X_train[num], cmap='gray', interpolation='none')\n",
    "    plt.title(\"Class {}\".format(Y_train[num]))\n",
    "    \n",
    "plt.tight_layout()"
   ]
  },
  {
   "cell_type": "markdown",
   "metadata": {
    "id": "dNEaFqc29sKa"
   },
   "source": [
    "Affichons la matrice correspondant à un seul chiffre"
   ]
  },
  {
   "cell_type": "code",
   "execution_count": 103,
   "metadata": {
    "colab": {
     "base_uri": "https://localhost:8080/"
    },
    "id": "HnCQB5Nx9sKa",
    "outputId": "76f110e0-f094-432e-b705-0c21b1138bf3"
   },
   "outputs": [
    {
     "name": "stdout",
     "output_type": "stream",
     "text": [
      "0  0  0  0  0  0  0    0    0    0    0    0    0    0    0    0    0    0    0    0    0  0  0  0  0  0  0  0  \n",
      "0  0  0  0  0  0  0    0    0    0    0    0    0    0    0    0    0    0    0    0    0  0  0  0  0  0  0  0  \n",
      "0  0  0  0  0  0  0    0    0    0    0    0    0    0    0    0    0    0    0    0    0  0  0  0  0  0  0  0  \n",
      "0  0  0  0  0  0  0    0    0    0    0    0    0    0    0    0    0    0    0    0    0  0  0  0  0  0  0  0  \n",
      "0  0  0  0  0  0  0    0    0    0    0    0    0    0    0    0    0    0    0    0    0  0  0  0  0  0  0  0  \n",
      "0  0  0  0  0  0  0    0    0    0    0    0    0    0    0    0    0    0    0    0    0  0  0  0  0  0  0  0  \n",
      "0  0  0  0  0  0  0    0    0    0    0   49  138  191  244  138   55   15    0    0    0  0  0  0  0  0  0  0  \n",
      "0  0  0  0  0  0  0    0    0    5   68  228  252  252  253  252  252  219   15    0    0  0  0  0  0  0  0  0  \n",
      "0  0  0  0  0  0  0    0    0  138  252  252  153   69   69   90  202  252   54    0    0  0  0  0  0  0  0  0  \n",
      "0  0  0  0  0  0  0    0   95  253  252  101    9    0    0    0   44  236  179    0    0  0  0  0  0  0  0  0  \n",
      "0  0  0  0  0  0  0    0  220  253  157    6    0    0    0    0    0   61  242  106    0  0  0  0  0  0  0  0  \n",
      "0  0  0  0  0  0  0  104  253  231    0    0    0    0    0    0    0    0  231  255  154  0  0  0  0  0  0  0  \n",
      "0  0  0  0  0  0  0  207  252  209    0    0    0    0    0    0    0   60  244  253  185  0  0  0  0  0  0  0  \n",
      "0  0  0  0  0  0  0  207  252   32    0    0    0    0    0    0   83  209  252  253  123  0  0  0  0  0  0  0  \n",
      "0  0  0  0  0  0  0  207  252   43    0    0    0    0    0   81  240  218  202  253  164  0  0  0  0  0  0  0  \n",
      "0  0  0  0  0  0  0  207  252  116    0    0    0    0  127  244  136   14  168  253   92  0  0  0  0  0  0  0  \n",
      "0  0  0  0  0  0  0   85  251  244   65   24   66  138  252  135    0    0  231  242   42  0  0  0  0  0  0  0  \n",
      "0  0  0  0  0  0  0    0  135  253  252  252  252  231   84    0    0    0  230  230    0  0  0  0  0  0  0  0  \n",
      "0  0  0  0  0  0  0    0    0  131  183  183  141   37    0    0    0   26  236  230    0  0  0  0  0  0  0  0  \n",
      "0  0  0  0  0  0  0    0    0    0    0    0    0    0    0    0    0   93  252  230    0  0  0  0  0  0  0  0  \n",
      "0  0  0  0  0  0  0    0    0    0    0    0    0    0    0    0    0   93  252  178    0  0  0  0  0  0  0  0  \n",
      "0  0  0  0  0  0  0    0    0    0    0    0    0    0    0    0    0  155  253  116    0  0  0  0  0  0  0  0  \n",
      "0  0  0  0  0  0  0    0    0    0    0    0    0    0    0    0   45  236  252  116    0  0  0  0  0  0  0  0  \n",
      "0  0  0  0  0  0  0    0    0    0    0    0    0    0    0    0   70  252  252  116    0  0  0  0  0  0  0  0  \n",
      "0  0  0  0  0  0  0    0    0    0    0    0    0    0    0    0   44  236  252  116    0  0  0  0  0  0  0  0  \n",
      "0  0  0  0  0  0  0    0    0    0    0    0    0    0    0    0    0   61  189   63    0  0  0  0  0  0  0  0  \n",
      "0  0  0  0  0  0  0    0    0    0    0    0    0    0    0    0    0    0    0    0    0  0  0  0  0  0  0  0  \n",
      "0  0  0  0  0  0  0    0    0    0    0    0    0    0    0    0    0    0    0    0    0  0  0  0  0  0  0  0  \n"
     ]
    }
   ],
   "source": [
    "# une petite fonction pour afficher les matrices joliment\n",
    "def matprint(mat, fmt=\"g\"):\n",
    "    col_maxes = [max([len((\"{:\"+fmt+\"}\").format(x)) for x in col]) for col in mat.T]\n",
    "    for x in mat:\n",
    "        for i, y in enumerate(x):\n",
    "            print((\"{:\"+str(col_maxes[i])+fmt+\"}\").format(y), end=\"  \")\n",
    "        print(\"\")\n",
    "\n",
    "# now print!        \n",
    "matprint(X_train[nums[2]])"
   ]
  },
  {
   "cell_type": "markdown",
   "metadata": {
    "id": "CvLUvU2o9sKc"
   },
   "source": [
    "Chaque pixel est un 8-bit integer dans le range 0-255. 0 = Noir, 255 = Blanc."
   ]
  },
  {
   "cell_type": "markdown",
   "metadata": {
    "id": "5yVhiiDW9sKd"
   },
   "source": [
    "\n",
    "\n",
    "## Reformater l'input\n",
    "\n",
    "Pour simplifier l'architecture du réseau, nous allons reformater les images.\n",
    "\n",
    "Transformer les matrices 28 x 28 en vecteurs de taille 784.\n",
    "\n",
    "Puis normaliser les valeurs vers un range [0-1]\n"
   ]
  },
  {
   "cell_type": "markdown",
   "metadata": {
    "id": "BAVo-GXz9sKd"
   },
   "source": [
    "<img src='https://github.com/AviatorMoser/keras-mnist-tutorial/blob/master/flatten.png?raw=1' >"
   ]
  },
  {
   "cell_type": "code",
   "execution_count": 104,
   "metadata": {
    "colab": {
     "base_uri": "https://localhost:8080/"
    },
    "id": "X5gapPMJ9sKe",
    "outputId": "ac09960a-ba8b-46ce-d275-c8a441c83e9c"
   },
   "outputs": [
    {
     "name": "stdout",
     "output_type": "stream",
     "text": [
      "Training matrix shape (60000, 784)\n",
      "Testing matrix shape (10000, 784)\n"
     ]
    }
   ],
   "source": [
    "X_train = X_train.reshape(60000, 784) \n",
    "X_test = X_test.reshape(10000, 784)   \n",
    "\n",
    "X_train, X_test = X_train / 255.0, X_test / 255.0\n",
    "\n",
    "print(\"Training matrix shape\", X_train.shape)\n",
    "print(\"Testing matrix shape\", X_test.shape)"
   ]
  },
  {
   "cell_type": "markdown",
   "metadata": {
    "id": "n6SYKFevH--O"
   },
   "source": [
    "# Construisons un premier réseau\n"
   ]
  },
  {
   "cell_type": "markdown",
   "metadata": {
    "id": "jcQ5MYaSIM_z"
   },
   "source": [
    "## Initialiser le modèle avec `Sequential()`"
   ]
  },
  {
   "cell_type": "markdown",
   "metadata": {
    "id": "gZ4KizlzITqk"
   },
   "source": [
    "Sequential permet de construire des réseaux linéaires: une entrée - des traitements - une sortie.\n",
    "\n",
    "Pour des architectures plus complexes, il faut aller voir du côté de l'api `Functional` [Keras functional API](https://www.tensorflow.org/guide/keras/functional)\n",
    "\n"
   ]
  },
  {
   "cell_type": "code",
   "execution_count": 105,
   "metadata": {
    "id": "4BG0CL96L9Ag"
   },
   "outputs": [],
   "source": [
    "# PARAMETRES \n",
    "\n",
    "params = {'dense_size': 64, \n",
    "          'dense_layers':2}"
   ]
  },
  {
   "cell_type": "code",
   "execution_count": 106,
   "metadata": {
    "colab": {
     "base_uri": "https://localhost:8080/"
    },
    "id": "oj5av6gNMOiA",
    "outputId": "d414a282-61e5-4d24-e68f-22d08b7855a4"
   },
   "outputs": [
    {
     "data": {
      "text/plain": [
       "64"
      ]
     },
     "execution_count": 106,
     "metadata": {},
     "output_type": "execute_result"
    }
   ],
   "source": [
    "params['dense_size']"
   ]
  },
  {
   "cell_type": "code",
   "execution_count": 107,
   "metadata": {
    "id": "9n_-S8XqIJ-C"
   },
   "outputs": [],
   "source": [
    "model = tf.keras.models.Sequential()"
   ]
  },
  {
   "cell_type": "markdown",
   "metadata": {
    "id": "k5xD9KGZJA2v"
   },
   "source": [
    "## Ajouter des couches au modèle"
   ]
  },
  {
   "cell_type": "code",
   "execution_count": 108,
   "metadata": {
    "id": "yk4XmnaRJFgC"
   },
   "outputs": [],
   "source": [
    "model.add(\n",
    "    tf.keras.layers.Dense(params['dense_size'], input_shape=(784,))\n",
    "    ) # une couche dense (fully connected) de taille 64"
   ]
  },
  {
   "cell_type": "markdown",
   "metadata": {
    "id": "T9wdK4UWJ_9I"
   },
   "source": [
    "![Texte alternatif…](https://slugnet.jarrodkahn.com/_images/tikz-be0593f4dad31d763e7f8371668007610e7907c1.png)"
   ]
  },
  {
   "cell_type": "markdown",
   "metadata": {
    "id": "G5bAISjFJSV3"
   },
   "source": [
    "Notez que pour la première couche il faut préciser la forme des données. Ici, nous avons des données de dimension 1 (vecteurs) et de taille 784. (Si nous avions des données en dimension 2 nous aurions eu une valeur de shape du type `(28,28)`\n"
   ]
  },
  {
   "cell_type": "markdown",
   "metadata": {
    "id": "PcJA6VpnKOof"
   },
   "source": [
    "## Ajouter une activation (Relu)\n",
    "\n",
    "![Texte alternatif…](https://miro.medium.com/max/1192/1*4ZEDRpFuCIpUjNgjDdT2Lg.png)"
   ]
  },
  {
   "cell_type": "code",
   "execution_count": 109,
   "metadata": {
    "colab": {
     "base_uri": "https://localhost:8080/"
    },
    "id": "9-hBpMWiKNOH",
    "outputId": "51958b1c-ce7b-4019-bb24-8990b68683a1"
   },
   "outputs": [
    {
     "name": "stdout",
     "output_type": "stream",
     "text": [
      "Model: \"sequential_3\"\n",
      "_________________________________________________________________\n",
      " Layer (type)                Output Shape              Param #   \n",
      "=================================================================\n",
      " dense_8 (Dense)             (None, 64)                50240     \n",
      "                                                                 \n",
      " activation_12 (Activation)  (None, 64)                0         \n",
      "                                                                 \n",
      "=================================================================\n",
      "Total params: 50,240\n",
      "Trainable params: 50,240\n",
      "Non-trainable params: 0\n",
      "_________________________________________________________________\n"
     ]
    }
   ],
   "source": [
    "model.add(\n",
    "    tf.keras.layers.Activation('relu')\n",
    "    )\n",
    "\n",
    "model.summary()"
   ]
  },
  {
   "cell_type": "code",
   "execution_count": 110,
   "metadata": {
    "id": "vbe7ksN2gnlm"
   },
   "outputs": [],
   "source": [
    "for l in range(params['dense_layers']): \n",
    "  model.add(\n",
    "    tf.keras.layers.Dense(params['dense_size'])\n",
    "    )\n",
    "  model.add(\n",
    "      tf.keras.layers.Activation('relu')\n",
    "      )\n"
   ]
  },
  {
   "cell_type": "markdown",
   "metadata": {
    "id": "ptS9nRQFLIYE"
   },
   "source": [
    "## Ajouter une couche de Dropout\n",
    "\n",
    "Le dropout est une technique de régularisation qui permet d'éviter l'overfitting. Elle consiste à \"oublier\" aléatoirement un certain nombre de poids du réseau\n",
    "\n",
    "![Texte alternatif…](data:image/png;base64,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)"
   ]
  },
  {
   "cell_type": "code",
   "execution_count": 111,
   "metadata": {
    "id": "W1Tg8pUIOaxi"
   },
   "outputs": [],
   "source": [
    "model.add(\n",
    "    tf.keras.layers.Dropout(0.8))"
   ]
  },
  {
   "cell_type": "code",
   "execution_count": 112,
   "metadata": {
    "colab": {
     "base_uri": "https://localhost:8080/"
    },
    "id": "U16DnHsuLmrW",
    "outputId": "161996bc-f9fb-4a8c-ee39-df586e89b1d1"
   },
   "outputs": [
    {
     "name": "stdout",
     "output_type": "stream",
     "text": [
      "Model: \"sequential_3\"\n",
      "_________________________________________________________________\n",
      " Layer (type)                Output Shape              Param #   \n",
      "=================================================================\n",
      " dense_8 (Dense)             (None, 64)                50240     \n",
      "                                                                 \n",
      " activation_12 (Activation)  (None, 64)                0         \n",
      "                                                                 \n",
      " dense_9 (Dense)             (None, 64)                4160      \n",
      "                                                                 \n",
      " activation_13 (Activation)  (None, 64)                0         \n",
      "                                                                 \n",
      " dense_10 (Dense)            (None, 64)                4160      \n",
      "                                                                 \n",
      " activation_14 (Activation)  (None, 64)                0         \n",
      "                                                                 \n",
      " dropout_3 (Dropout)         (None, 64)                0         \n",
      "                                                                 \n",
      "=================================================================\n",
      "Total params: 58,560\n",
      "Trainable params: 58,560\n",
      "Non-trainable params: 0\n",
      "_________________________________________________________________\n"
     ]
    }
   ],
   "source": [
    "model.summary()"
   ]
  },
  {
   "cell_type": "markdown",
   "metadata": {
    "id": "yYsZtfTALuMS"
   },
   "source": [
    "## Ajouter le classifieur \n",
    "\n",
    "Pour le moment, nous avons encodé notre input à l'aide de nos premières couches mais il faut à présent projeter cette représentation dans l'espace des labels (cible) afin de faire un prédiction "
   ]
  },
  {
   "cell_type": "code",
   "execution_count": 113,
   "metadata": {
    "colab": {
     "base_uri": "https://localhost:8080/"
    },
    "id": "aswlmtlBL-7A",
    "outputId": "f0d1cf44-1a21-444c-e4d2-aeef659a00c6"
   },
   "outputs": [
    {
     "name": "stdout",
     "output_type": "stream",
     "text": [
      "Model: \"sequential_3\"\n",
      "_________________________________________________________________\n",
      " Layer (type)                Output Shape              Param #   \n",
      "=================================================================\n",
      " dense_8 (Dense)             (None, 64)                50240     \n",
      "                                                                 \n",
      " activation_12 (Activation)  (None, 64)                0         \n",
      "                                                                 \n",
      " dense_9 (Dense)             (None, 64)                4160      \n",
      "                                                                 \n",
      " activation_13 (Activation)  (None, 64)                0         \n",
      "                                                                 \n",
      " dense_10 (Dense)            (None, 64)                4160      \n",
      "                                                                 \n",
      " activation_14 (Activation)  (None, 64)                0         \n",
      "                                                                 \n",
      " dropout_3 (Dropout)         (None, 64)                0         \n",
      "                                                                 \n",
      " dense_11 (Dense)            (None, 13)                845       \n",
      "                                                                 \n",
      " activation_15 (Activation)  (None, 13)                0         \n",
      "                                                                 \n",
      "=================================================================\n",
      "Total params: 59,405\n",
      "Trainable params: 59,405\n",
      "Non-trainable params: 0\n",
      "_________________________________________________________________\n"
     ]
    }
   ],
   "source": [
    "model.add(\n",
    "    tf.keras.layers.Dense(13))\n",
    "model.add(\n",
    "    tf.keras.layers.Activation('softmax'))\n",
    "\n",
    "model.summary()"
   ]
  },
  {
   "cell_type": "code",
   "execution_count": 114,
   "metadata": {
    "colab": {
     "base_uri": "https://localhost:8080/",
     "height": 1000
    },
    "id": "acuRbSa_O9aD",
    "outputId": "a1df48c7-2781-4f1e-a06f-e96d2ed64637"
   },
   "outputs": [
    {
     "name": "stdout",
     "output_type": "stream",
     "text": [
      "You must install pydot (`pip install pydot`) and install graphviz (see instructions at https://graphviz.gitlab.io/download/) for plot_model to work.\n"
     ]
    }
   ],
   "source": [
    "tf.keras.utils.plot_model(model, 'model1.png', show_shapes=True)"
   ]
  },
  {
   "cell_type": "markdown",
   "metadata": {
    "id": "92PTa_t5PQYj"
   },
   "source": [
    "## Compiler le modèle pour obtenir un modèle executable\n",
    "Il faut préciser la fonction de coût à utiliser. C'est la fonction qui va être dérivée pour obtenir les gradients d'opitimisation. Elle dépend de la tâche. Ici nous cherchons à faire une classification à plusieurs catégories, il faut donc utiliser une `categorical_crossentropy`. Et comme nos Y sont codés en [1,2,3,...] il faut utiliser la fonction `sparse_categorical_crossentropy`. Pour plus d'info: [loss-and-loss-functions-for-training-deep-learning-neural-networks](https://machinelearningmastery.com/loss-and-loss-functions-for-training-deep-learning-neural-networks/)\n",
    "\n",
    "Il faut aussi préciser l'algorithme à utiliser pour optimiser les poids (des variantes de gradient descent), ici `adam`\n",
    "\n",
    "et enfin préciser la métrique d'évaluation, ici `accuracy`"
   ]
  },
  {
   "cell_type": "code",
   "execution_count": 115,
   "metadata": {
    "id": "E06u134TMcgB"
   },
   "outputs": [],
   "source": [
    "model.compile(loss='sparse_categorical_crossentropy', \n",
    "              optimizer='adam', \n",
    "              metrics=['accuracy'])"
   ]
  },
  {
   "cell_type": "markdown",
   "metadata": {
    "id": "kdE0vCJHQxnb"
   },
   "source": [
    "## Entrainer le modèle \n",
    "\n",
    "Nous pouvons enfin entrainer notre premier modèle\n"
   ]
  },
  {
   "cell_type": "code",
   "execution_count": 116,
   "metadata": {
    "colab": {
     "base_uri": "https://localhost:8080/"
    },
    "id": "yrYq_8_QMrXs",
    "outputId": "83f6180c-e80a-48ed-bb06-e08ce00930e5"
   },
   "outputs": [
    {
     "name": "stdout",
     "output_type": "stream",
     "text": [
      "Epoch 1/30\n",
      "469/469 [==============================] - 3s 3ms/step - loss: 1.0042 - accuracy: 0.6622\n",
      "Epoch 2/30\n",
      "469/469 [==============================] - 1s 3ms/step - loss: 0.5176 - accuracy: 0.8328\n",
      "Epoch 3/30\n",
      "469/469 [==============================] - 1s 3ms/step - loss: 0.4262 - accuracy: 0.8601\n",
      "Epoch 4/30\n",
      "469/469 [==============================] - 1s 3ms/step - loss: 0.3699 - accuracy: 0.8757\n",
      "Epoch 5/30\n",
      "469/469 [==============================] - 1s 3ms/step - loss: 0.3340 - accuracy: 0.8863\n",
      "Epoch 6/30\n",
      "469/469 [==============================] - 1s 3ms/step - loss: 0.3014 - accuracy: 0.8963\n",
      "Epoch 7/30\n",
      "469/469 [==============================] - 1s 3ms/step - loss: 0.2848 - accuracy: 0.8997\n",
      "Epoch 8/30\n",
      "469/469 [==============================] - 1s 3ms/step - loss: 0.2705 - accuracy: 0.9027\n",
      "Epoch 9/30\n",
      "469/469 [==============================] - 1s 3ms/step - loss: 0.2553 - accuracy: 0.9082\n",
      "Epoch 10/30\n",
      "469/469 [==============================] - 1s 3ms/step - loss: 0.2311 - accuracy: 0.9168\n",
      "Epoch 11/30\n",
      "469/469 [==============================] - 1s 3ms/step - loss: 0.2211 - accuracy: 0.9202\n",
      "Epoch 12/30\n",
      "469/469 [==============================] - 1s 3ms/step - loss: 0.2132 - accuracy: 0.9227\n",
      "Epoch 13/30\n",
      "469/469 [==============================] - 1s 3ms/step - loss: 0.2056 - accuracy: 0.9247\n",
      "Epoch 14/30\n",
      "469/469 [==============================] - 1s 3ms/step - loss: 0.1988 - accuracy: 0.9268\n",
      "Epoch 15/30\n",
      "469/469 [==============================] - 1s 3ms/step - loss: 0.1911 - accuracy: 0.9287\n",
      "Epoch 16/30\n",
      "469/469 [==============================] - 1s 3ms/step - loss: 0.1855 - accuracy: 0.9313\n",
      "Epoch 17/30\n",
      "469/469 [==============================] - 1s 3ms/step - loss: 0.1750 - accuracy: 0.9338\n",
      "Epoch 18/30\n",
      "469/469 [==============================] - 1s 3ms/step - loss: 0.1725 - accuracy: 0.9351\n",
      "Epoch 19/30\n",
      "469/469 [==============================] - 1s 3ms/step - loss: 0.1644 - accuracy: 0.9383\n",
      "Epoch 20/30\n",
      "469/469 [==============================] - 1s 3ms/step - loss: 0.1637 - accuracy: 0.9388\n",
      "Epoch 21/30\n",
      "469/469 [==============================] - 1s 3ms/step - loss: 0.1560 - accuracy: 0.9416\n",
      "Epoch 22/30\n",
      "469/469 [==============================] - 1s 3ms/step - loss: 0.1588 - accuracy: 0.9415\n",
      "Epoch 23/30\n",
      "469/469 [==============================] - 1s 3ms/step - loss: 0.1568 - accuracy: 0.9418\n",
      "Epoch 24/30\n",
      "469/469 [==============================] - 1s 3ms/step - loss: 0.1479 - accuracy: 0.9449\n",
      "Epoch 25/30\n",
      "469/469 [==============================] - 1s 3ms/step - loss: 0.1495 - accuracy: 0.9458\n",
      "Epoch 26/30\n",
      "469/469 [==============================] - 1s 3ms/step - loss: 0.1408 - accuracy: 0.9485\n",
      "Epoch 27/30\n",
      "469/469 [==============================] - 1s 3ms/step - loss: 0.1386 - accuracy: 0.9489\n",
      "Epoch 28/30\n",
      "469/469 [==============================] - 1s 3ms/step - loss: 0.1371 - accuracy: 0.9493\n",
      "Epoch 29/30\n",
      "469/469 [==============================] - 1s 3ms/step - loss: 0.1325 - accuracy: 0.9506\n",
      "Epoch 30/30\n",
      "469/469 [==============================] - 1s 3ms/step - loss: 0.1346 - accuracy: 0.9511\n"
     ]
    },
    {
     "data": {
      "text/plain": [
       "<keras.callbacks.History at 0x1297ae1ca00>"
      ]
     },
     "execution_count": 116,
     "metadata": {},
     "output_type": "execute_result"
    }
   ],
   "source": [
    "model.fit(X_train,        # input\n",
    "          Y_train,        # output\n",
    "          batch_size=128, # taille des minibatches\n",
    "          epochs=30,       # nombre d'epochs (passages sur les données )\n",
    "          verbose=1)      # option paramètrant la quantité d'informations à afficher pendant l'entrainement"
   ]
  },
  {
   "cell_type": "markdown",
   "metadata": {
    "id": "2F2yLwRARRvr"
   },
   "source": [
    "## Evaluer le modèle sur les données test"
   ]
  },
  {
   "cell_type": "code",
   "execution_count": 117,
   "metadata": {
    "colab": {
     "base_uri": "https://localhost:8080/"
    },
    "id": "kFlj3PUYNKgT",
    "outputId": "bf6c109c-921b-4101-bcc5-9262363f8314"
   },
   "outputs": [
    {
     "name": "stdout",
     "output_type": "stream",
     "text": [
      "313/313 [==============================] - 1s 2ms/step - loss: 0.2433 - accuracy: 0.9754\n",
      "Test score: 0.24325278401374817\n",
      "Test accuracy: 0.9753999710083008\n"
     ]
    }
   ],
   "source": [
    "score = model.evaluate(X_test, Y_test)\n",
    "print('Test score:', score[0])\n",
    "print('Test accuracy:', score[1])"
   ]
  },
  {
   "cell_type": "markdown",
   "metadata": {
    "id": "UG0VrFrcThXW"
   },
   "source": [
    "## Inspecter les résultats plus précisément avec `classification_report` et `confusion_matrix`"
   ]
  },
  {
   "cell_type": "code",
   "execution_count": 118,
   "metadata": {
    "colab": {
     "base_uri": "https://localhost:8080/"
    },
    "id": "OoWKvxj7SqBt",
    "outputId": "a0216e73-47a6-49ae-b517-88929d0fc3f6"
   },
   "outputs": [
    {
     "name": "stdout",
     "output_type": "stream",
     "text": [
      "313/313 [==============================] - 0s 1ms/step\n"
     ]
    },
    {
     "data": {
      "text/plain": [
       "array([[0.0000000e+00, 9.5575570e-22, 7.8528454e-13, ..., 0.0000000e+00,\n",
       "        0.0000000e+00, 0.0000000e+00],\n",
       "       [5.3704432e-33, 1.8566970e-19, 1.0000000e+00, ..., 0.0000000e+00,\n",
       "        0.0000000e+00, 0.0000000e+00],\n",
       "       [0.0000000e+00, 1.0000000e+00, 3.9414140e-16, ..., 0.0000000e+00,\n",
       "        0.0000000e+00, 0.0000000e+00],\n",
       "       ...,\n",
       "       [0.0000000e+00, 0.0000000e+00, 2.8121670e-36, ..., 0.0000000e+00,\n",
       "        0.0000000e+00, 0.0000000e+00],\n",
       "       [9.8882305e-27, 2.5530485e-19, 3.8028540e-20, ..., 0.0000000e+00,\n",
       "        0.0000000e+00, 0.0000000e+00],\n",
       "       [0.0000000e+00, 0.0000000e+00, 0.0000000e+00, ..., 0.0000000e+00,\n",
       "        0.0000000e+00, 0.0000000e+00]], dtype=float32)"
      ]
     },
     "execution_count": 118,
     "metadata": {},
     "output_type": "execute_result"
    }
   ],
   "source": [
    "from sklearn.metrics import classification_report, confusion_matrix\n",
    "\n",
    "predicted_classes = model.predict(X_test)\n",
    "predicted_classes\n"
   ]
  },
  {
   "cell_type": "code",
   "execution_count": 119,
   "metadata": {
    "colab": {
     "base_uri": "https://localhost:8080/"
    },
    "id": "YSNTN6LiS8pz",
    "outputId": "1978305e-779b-412c-8238-68a9111196fe"
   },
   "outputs": [
    {
     "name": "stdout",
     "output_type": "stream",
     "text": [
      "313/313 [==============================] - 0s 1ms/step\n",
      "[[ 968    0    3    1    0    1    1    3    3    0]\n",
      " [   0 1120    4    1    0    1    2    1    6    0]\n",
      " [   4    0 1002    5    3    0    2   11    3    2]\n",
      " [   0    0    3  994    0    4    0    5    2    2]\n",
      " [   2    0    2    0  964    0    3    1    1    9]\n",
      " [   4    0    0    9    2  867    2    2    4    2]\n",
      " [   4    2    0    0    8    8  930    0    6    0]\n",
      " [   0    2    7    4    1    0    0 1007    4    3]\n",
      " [   2    0    2    7    7    3    0    4  942    7]\n",
      " [   3    3    0    7   17    1    0   12    6  960]]\n",
      "              precision    recall  f1-score   support\n",
      "\n",
      "           0       0.98      0.99      0.98       980\n",
      "           1       0.99      0.99      0.99      1135\n",
      "           2       0.98      0.97      0.98      1032\n",
      "           3       0.97      0.98      0.98      1010\n",
      "           4       0.96      0.98      0.97       982\n",
      "           5       0.98      0.97      0.98       892\n",
      "           6       0.99      0.97      0.98       958\n",
      "           7       0.96      0.98      0.97      1028\n",
      "           8       0.96      0.97      0.97       974\n",
      "           9       0.97      0.95      0.96      1009\n",
      "\n",
      "    accuracy                           0.98     10000\n",
      "   macro avg       0.98      0.98      0.98     10000\n",
      "weighted avg       0.98      0.98      0.98     10000\n",
      "\n"
     ]
    }
   ],
   "source": [
    "predicted_classes = model.predict(X_test).argmax(axis=1)\n",
    "\n",
    "print(confusion_matrix(Y_test, predicted_classes))\n",
    "print(classification_report(Y_test, predicted_classes))\n"
   ]
  },
  {
   "cell_type": "markdown",
   "metadata": {
    "id": "EcL4XyNzRdhN"
   },
   "source": [
    "# TODO\n",
    "\n",
    "## Plot quelques exemples correctement et incorrectement classifiés\n",
    "\n",
    "## Faites varier les paramètres du réseau pour essayer d'obtenir de meilleurs résultats\n",
    "\n",
    "Ici les paramètres que l'on peut faire varier comprennent: \n",
    "- La taille de la couche dense\n",
    "- Le nombre de couches denses \n",
    "- La fonction d'activation de la/les couches denses\n",
    "- Les valeurs de Dropout \n",
    "- La taille des batchs \n",
    "- La fonction d'optimisation "
   ]
  },
  {
   "cell_type": "code",
   "execution_count": 120,
   "metadata": {
    "colab": {
     "base_uri": "https://localhost:8080/"
    },
    "id": "asvS2SU-LHCL",
    "outputId": "c9c82252-8b8c-4946-da3a-b15e602e2bf6"
   },
   "outputs": [
    {
     "data": {
      "text/plain": [
       "array([   8,   61,  104,  149,  217,  247,  259,  321,  381,  412,  445,\n",
       "        447,  495,  582,  619,  674,  684,  691,  720,  844,  924,  938,\n",
       "        947,  951,  956,  965, 1014, 1044, 1152, 1156, 1182, 1192, 1224,\n",
       "       1226, 1232, 1242, 1247, 1299, 1319, 1328, 1378, 1393, 1395, 1522,\n",
       "       1527, 1530, 1549, 1553, 1554, 1569, 1597, 1670, 1681, 1722, 1751,\n",
       "       1754, 1782, 1790, 1800, 1813, 1878, 1901, 1941, 1992, 2043, 2052,\n",
       "       2073, 2098, 2109, 2118, 2129, 2130, 2135, 2182, 2189, 2293, 2299,\n",
       "       2369, 2387, 2414, 2422, 2454, 2582, 2648, 2654, 2720, 2730, 2770,\n",
       "       2863, 2877, 2915, 2921, 2930, 2939, 2953, 2995, 3005, 3030, 3060,\n",
       "       3073, 3225, 3289, 3336, 3369, 3422, 3441, 3460, 3490, 3503, 3520,\n",
       "       3558, 3567, 3574, 3597, 3664, 3674, 3702, 3710, 3727, 3776, 3780,\n",
       "       3808, 3811, 3853, 3869, 3906, 3943, 3976, 3985, 4065, 4078, 4152,\n",
       "       4156, 4163, 4176, 4201, 4224, 4248, 4265, 4289, 4294, 4359, 4405,\n",
       "       4419, 4433, 4439, 4443, 4497, 4504, 4511, 4534, 4536, 4601, 4690,\n",
       "       4731, 4751, 4814, 4823, 4838, 4876, 4880, 4956, 5140, 5176, 5331,\n",
       "       5450, 5457, 5642, 5676, 5734, 5749, 5835, 5888, 5897, 5955, 5972,\n",
       "       5973, 5982, 6024, 6071, 6093, 6166, 6168, 6173, 6426, 6532, 6555,\n",
       "       6571, 6572, 6574, 6576, 6597, 6625, 6651, 6740, 6755, 6783, 6847,\n",
       "       6945, 7216, 7220, 7434, 7457, 7595, 7746, 7847, 7849, 7856, 7886,\n",
       "       7902, 7921, 7990, 8062, 8094, 8198, 8277, 8279, 8318, 8320, 8325,\n",
       "       8527, 9006, 9009, 9015, 9024, 9280, 9422, 9587, 9634, 9642, 9664,\n",
       "       9669, 9679, 9692, 9698, 9716, 9745, 9768, 9770, 9777, 9779, 9793,\n",
       "       9808, 9839, 9858, 9982], dtype=int64)"
      ]
     },
     "execution_count": 120,
     "metadata": {},
     "output_type": "execute_result"
    }
   ],
   "source": [
    "np.nonzero(predicted_classes != Y_test)[0]"
   ]
  },
  {
   "cell_type": "code",
   "execution_count": 121,
   "metadata": {
    "id": "pFF06-orULUy"
   },
   "outputs": [],
   "source": [
    "correct_indices = np.nonzero(predicted_classes == Y_test)[0]\n",
    "\n",
    "incorrect_indices = np.nonzero(predicted_classes != Y_test)[0]"
   ]
  },
  {
   "cell_type": "code",
   "execution_count": 122,
   "metadata": {
    "colab": {
     "base_uri": "https://localhost:8080/",
     "height": 1000
    },
    "id": "T0uhFquq9sK6",
    "outputId": "62cff246-4aaa-4c65-b365-ff7346c1027e"
   },
   "outputs": [
    {
     "data": {
      "image/png": "[encoded data removed]",
      "text/plain": [
       "<Figure size 900x900 with 9 Axes>"
      ]
     },
     "metadata": {},
     "output_type": "display_data"
    },
    {
     "data": {
      "image/png": "[encoded data removed]",
      "text/plain": [
       "<Figure size 900x900 with 9 Axes>"
      ]
     },
     "metadata": {},
     "output_type": "display_data"
    }
   ],
   "source": [
    "plt.figure()\n",
    "for i, correct in enumerate(correct_indices[:9]):\n",
    "    plt.subplot(3,3,i+1)\n",
    "    plt.imshow(X_test[correct].reshape(28,28), cmap='gray', interpolation='none')\n",
    "    plt.title(\"Predicted {}, Class {}\".format(predicted_classes[correct], Y_test[correct]))\n",
    "    \n",
    "plt.tight_layout()\n",
    "\n",
    "\n",
    "plt.figure()\n",
    "for i, incorrect in enumerate(incorrect_indices[:9]):\n",
    "    plt.subplot(3,3,i+1)\n",
    "    plt.imshow(X_test[incorrect].reshape(28,28), cmap='gray', interpolation='none')\n",
    "    plt.title(\"Predicted {}, Class {}\".format(predicted_classes[incorrect], Y_test[incorrect]))\n",
    "    \n",
    "plt.tight_layout()"
   ]
  },
  {
   "cell_type": "markdown",
   "metadata": {
    "id": "XM6Vza-S9sK7"
   },
   "source": [
    "# Passons à la convolution\n",
    "\n",
    "\n",
    "\n",
    "\n",
    "\n",
    "\n"
   ]
  },
  {
   "cell_type": "markdown",
   "metadata": {
    "id": "ZHmuehL79sK7"
   },
   "source": [
    "\n",
    "Le but de la convolution est de générer des cartes de features basées sur les pixels originaux mais permettant d'obtenir des informations plus riches (courbes, angles, côtés,...) "
   ]
  },
  {
   "cell_type": "markdown",
   "metadata": {
    "id": "ODKgWtX99sK7"
   },
   "source": [
    "![Texte alternatif…](https://miro.medium.com/max/2340/1*Fw-ehcNBR9byHtho-Rxbtw.gif)"
   ]
  },
  {
   "cell_type": "markdown",
   "metadata": {
    "id": "cSHEwvGl9sK7"
   },
   "source": [
    "Dans l'exemple ci-dessus, on part d'une matrice 5x5 et on fait passer un kernel de convolution de taille 3x3. Le résultat de la convolution est un dot product entre la matrice et le kernel. On déplace le kernel sur l'image afin la couvrir en totalité. "
   ]
  },
  {
   "cell_type": "markdown",
   "metadata": {
    "id": "hMjs4LIefSts"
   },
   "source": [
    "```python\n",
    "tf.keras.layers.Conv2D(32,                      # on crée 32 filtres\n",
    "                       (3, 3),                  # kernel de taille (3,3)\n",
    "                       input_shape=(28,28,1)))\n",
    "```\n"
   ]
  },
  {
   "cell_type": "markdown",
   "metadata": {
    "id": "M4p7w6Ac9sK8"
   },
   "source": [
    "Les convolutions sont appliquées avec ensuite une couche de **max-pooling** (cf illustration ci-dessous)"
   ]
  },
  {
   "cell_type": "markdown",
   "metadata": {
    "id": "EUsU37K39sK8"
   },
   "source": [
    "![Texte alternatif…](https://developers.google.com/machine-learning/practica/image-classification/images/maxpool_animation.gif)"
   ]
  },
  {
   "cell_type": "markdown",
   "metadata": {
    "id": "3HkcxLf0e9Iq"
   },
   "source": [
    "```python\n",
    "tf.keras.layers.MaxPooling2D(pool_size=(2,2))\n",
    "```"
   ]
  },
  {
   "cell_type": "markdown",
   "metadata": {
    "id": "HAjNr8hshMU8"
   },
   "source": [
    "En général les modules de convolution se présentent comme cela: \n",
    "\n",
    "```\n",
    "Convolution \n",
    "Activation\n",
    "Convolution\n",
    "Activation\n",
    "Pooling\n",
    "```\n",
    "\n",
    "On peut mettre autant de modules que l'on veut\n"
   ]
  },
  {
   "cell_type": "markdown",
   "metadata": {
    "id": "77Vh2FSPfcGw"
   },
   "source": [
    "A la fin d'une série de convolutions/pooling, il faut applanir l'output avant de le faire passer dans une couche dense. Pour cela, la fonction `tf.keras.Flatten` est utile"
   ]
  },
  {
   "cell_type": "markdown",
   "metadata": {
    "id": "pCRgd2iq9sK9"
   },
   "source": [
    "## Preprocessing pour le réseau de convolution"
   ]
  },
  {
   "cell_type": "markdown",
   "metadata": {
    "id": "PWZqgcKaXmr6"
   },
   "source": [
    "### Recharger le dataset"
   ]
  },
  {
   "cell_type": "code",
   "execution_count": 123,
   "metadata": {
    "id": "v9OkDCj99sK-"
   },
   "outputs": [],
   "source": [
    "# Recharger le dataset\n",
    "(X_train, Y_train), (X_test, Y_test) = mnist.load_data()"
   ]
  },
  {
   "cell_type": "markdown",
   "metadata": {
    "id": "6w4rzqyxXqHw"
   },
   "source": [
    "### Reformater les inputs vers (n_sample,28,28,1) et normaliser\n",
    "n_sample = nombre d'exemples dans le dataset\n",
    "28x28 = taille de la matrice\n",
    "1 = nombre de couches (ici ce sont des images en noir et blanc, donc une seule couche) "
   ]
  },
  {
   "cell_type": "code",
   "execution_count": 138,
   "metadata": {
    "colab": {
     "base_uri": "https://localhost:8080/"
    },
    "id": "tekOawnX9sK_",
    "outputId": "b3e42e17-ac6f-4991-c7aa-646721f98c7b"
   },
   "outputs": [
    {
     "name": "stdout",
     "output_type": "stream",
     "text": [
      "Training matrix shape (60000, 28, 28, 1)\n",
      "Testing matrix shape (10000, 28, 28, 1)\n"
     ]
    }
   ],
   "source": [
    "X_train = X_train.reshape(60000, 28, 28, 1) # Ajouter une dimension supplémentaire pour représenter la couche unique\n",
    "X_test = X_test.reshape(10000, 28, 28, 1)\n",
    "\n",
    "X_train, X_test = X_train / 255.0, X_test / 255.0\n",
    "\n",
    "print(\"Training matrix shape\", X_train.shape)\n",
    "print(\"Testing matrix shape\", X_test.shape)"
   ]
  },
  {
   "cell_type": "code",
   "execution_count": 139,
   "metadata": {
    "id": "TySQMZdbab0e"
   },
   "outputs": [],
   "source": [
    "model = tf.keras.models.Sequential()                                 \n",
    "\n",
    "# Convolution Layer 1\n",
    "model.add(\n",
    "    tf.keras.layers.Conv2D(64, (3, 3), input_shape=(28,28,1)))            \n",
    "model.add(\n",
    "    tf.keras.layers.Activation('relu') )                   \n",
    "\n",
    "# Convolution Layer 2\n",
    "model.add(\n",
    "    tf.keras.layers.Conv2D(64, (3, 3)))                                    \n",
    "model.add(\n",
    "    tf.keras.layers.Activation('relu'))                         \n",
    "model.add(\n",
    "    tf.keras.layers.MaxPooling2D(pool_size=(2,2)))         \n",
    "\n",
    "model.add(\n",
    "    tf.keras.layers.Flatten())                                \n",
    "\n",
    "# Fully Connected Layer 5\n",
    "model.add(\n",
    "    tf.keras.layers.Dense(64))                                               \n",
    "model.add(\n",
    "    tf.keras.layers.Activation('relu'))                      \n",
    "\n",
    "# Fully Connected Layer 6                       \n",
    "model.add(\n",
    "    tf.keras.layers.Dropout(0.5))                            \n",
    "model.add(\n",
    "    tf.keras.layers.Dense(13))                                \n",
    "model.add(\n",
    "    tf.keras.layers.Activation('softmax'))     "
   ]
  },
  {
   "cell_type": "code",
   "execution_count": 140,
   "metadata": {
    "colab": {
     "base_uri": "https://localhost:8080/"
    },
    "id": "kg3nNvI_bO6b",
    "outputId": "0bb2e10b-aa04-4c22-b549-ee4dff08a091"
   },
   "outputs": [
    {
     "name": "stdout",
     "output_type": "stream",
     "text": [
      "Epoch 1/5\n",
      "1875/1875 [==============================] - 119s 63ms/step - loss: 1.2459 - accuracy: 0.5437\n",
      "Epoch 2/5\n",
      "1875/1875 [==============================] - 141s 75ms/step - loss: 0.7705 - accuracy: 0.7185\n",
      "Epoch 3/5\n",
      "1875/1875 [==============================] - 139s 74ms/step - loss: 0.5771 - accuracy: 0.7906\n",
      "Epoch 4/5\n",
      "1875/1875 [==============================] - 139s 74ms/step - loss: 0.4233 - accuracy: 0.8567\n",
      "Epoch 5/5\n",
      "1875/1875 [==============================] - 140s 75ms/step - loss: 0.3415 - accuracy: 0.8862\n",
      "313/313 [==============================] - 6s 20ms/step\n",
      "[[ 967    0    5    0    0    0    5    1    2    0]\n",
      " [   0 1120    1    6    1    0    3    1    3    0]\n",
      " [   1    1 1015    3    2    0    1    4    5    0]\n",
      " [   0    0    5  991    0    4    0    4    6    0]\n",
      " [   1    0    3    0  963    0    6    0    2    7]\n",
      " [   2    0    0    7    0  876    4    0    2    1]\n",
      " [   3    2    1    0    3    6  941    0    2    0]\n",
      " [   1    1   19    1    1    0    0  996    1    8]\n",
      " [   4    0    9    4    2    4    1    4  942    4]\n",
      " [   3    5    1    9    9    6    0    6    6  964]]\n",
      "              precision    recall  f1-score   support\n",
      "\n",
      "           0       0.98      0.99      0.99       980\n",
      "           1       0.99      0.99      0.99      1135\n",
      "           2       0.96      0.98      0.97      1032\n",
      "           3       0.97      0.98      0.98      1010\n",
      "           4       0.98      0.98      0.98       982\n",
      "           5       0.98      0.98      0.98       892\n",
      "           6       0.98      0.98      0.98       958\n",
      "           7       0.98      0.97      0.97      1028\n",
      "           8       0.97      0.97      0.97       974\n",
      "           9       0.98      0.96      0.97      1009\n",
      "\n",
      "    accuracy                           0.98     10000\n",
      "   macro avg       0.98      0.98      0.98     10000\n",
      "weighted avg       0.98      0.98      0.98     10000\n",
      "\n"
     ]
    }
   ],
   "source": [
    "model.compile(loss='sparse_categorical_crossentropy', optimizer='adam', metrics=['accuracy'])\n",
    "model.fit(X_train, Y_train,  epochs=5, verbose=1)\n",
    "predicted_classes = model.predict(X_test).argmax(axis=1)\n",
    "\n",
    "print(confusion_matrix(Y_test, predicted_classes))\n",
    "print(classification_report(Y_test, predicted_classes))"
   ]
  },
  {
   "cell_type": "code",
   "execution_count": 141,
   "metadata": {
    "colab": {
     "base_uri": "https://localhost:8080/",
     "height": 1000
    },
    "id": "wIQ67a0HbmGc",
    "outputId": "fd5ed43e-fe71-46b1-e191-2f126bd1c795"
   },
   "outputs": [
    {
     "name": "stdout",
     "output_type": "stream",
     "text": [
      "Epoch 1/100\n",
      "800/800 [==============================] - 71s 88ms/step - loss: 0.3206 - accuracy: 0.8951 - val_loss: 0.0972 - val_accuracy: 0.9711\n",
      "Epoch 2/100\n",
      "800/800 [==============================] - 68s 85ms/step - loss: 0.3032 - accuracy: 0.8966 - val_loss: 0.0929 - val_accuracy: 0.9728\n",
      "Epoch 3/100\n",
      "800/800 [==============================] - 68s 86ms/step - loss: 0.2813 - accuracy: 0.9033 - val_loss: 0.0903 - val_accuracy: 0.9730\n",
      "Epoch 4/100\n",
      "800/800 [==============================] - 69s 86ms/step - loss: 0.2702 - accuracy: 0.9071 - val_loss: 0.0871 - val_accuracy: 0.9740\n",
      "Epoch 5/100\n",
      "800/800 [==============================] - 69s 87ms/step - loss: 0.2661 - accuracy: 0.9092 - val_loss: 0.0850 - val_accuracy: 0.9746\n",
      "Epoch 6/100\n",
      "800/800 [==============================] - 70s 87ms/step - loss: 0.2531 - accuracy: 0.9155 - val_loss: 0.0838 - val_accuracy: 0.9759\n",
      "Epoch 7/100\n",
      "800/800 [==============================] - 70s 87ms/step - loss: 0.2491 - accuracy: 0.9119 - val_loss: 0.0821 - val_accuracy: 0.9766\n",
      "Epoch 8/100\n",
      "800/800 [==============================] - 70s 88ms/step - loss: 0.2473 - accuracy: 0.9157 - val_loss: 0.0937 - val_accuracy: 0.9723\n",
      "Epoch 9/100\n",
      "800/800 [==============================] - 69s 87ms/step - loss: 0.2305 - accuracy: 0.9237 - val_loss: 0.0857 - val_accuracy: 0.9749\n",
      "Epoch 10/100\n",
      "800/800 [==============================] - 69s 86ms/step - loss: 0.2153 - accuracy: 0.9284 - val_loss: 0.0888 - val_accuracy: 0.9756\n",
      "Epoch 11/100\n",
      "800/800 [==============================] - 71s 88ms/step - loss: 0.2036 - accuracy: 0.9312 - val_loss: 0.0956 - val_accuracy: 0.9740\n",
      "Epoch 12/100\n",
      "800/800 [==============================] - 69s 86ms/step - loss: 0.2007 - accuracy: 0.9327 - val_loss: 0.0857 - val_accuracy: 0.9760\n",
      "Epoch 13/100\n",
      "800/800 [==============================] - 69s 87ms/step - loss: 0.2009 - accuracy: 0.9310 - val_loss: 0.0907 - val_accuracy: 0.9758\n",
      "Epoch 14/100\n",
      "800/800 [==============================] - 69s 87ms/step - loss: 0.1920 - accuracy: 0.9357 - val_loss: 0.0851 - val_accuracy: 0.9759\n",
      "Epoch 15/100\n",
      "800/800 [==============================] - 69s 86ms/step - loss: 0.1833 - accuracy: 0.9360 - val_loss: 0.0888 - val_accuracy: 0.9771\n",
      "Epoch 16/100\n",
      "800/800 [==============================] - 69s 87ms/step - loss: 0.1757 - accuracy: 0.9379 - val_loss: 0.0976 - val_accuracy: 0.9753\n",
      "Epoch 17/100\n",
      "800/800 [==============================] - 69s 87ms/step - loss: 0.1711 - accuracy: 0.9405 - val_loss: 0.0946 - val_accuracy: 0.9737\n",
      "Epoch 18/100\n",
      "800/800 [==============================] - 70s 87ms/step - loss: 0.1654 - accuracy: 0.9399 - val_loss: 0.0872 - val_accuracy: 0.9767\n",
      "Epoch 19/100\n",
      "800/800 [==============================] - 70s 87ms/step - loss: 0.1672 - accuracy: 0.9406 - val_loss: 0.0997 - val_accuracy: 0.9746\n",
      "Epoch 20/100\n",
      "800/800 [==============================] - 70s 87ms/step - loss: 0.1572 - accuracy: 0.9439 - val_loss: 0.0918 - val_accuracy: 0.9774\n",
      "Epoch 21/100\n",
      "800/800 [==============================] - 70s 87ms/step - loss: 0.1457 - accuracy: 0.9475 - val_loss: 0.0944 - val_accuracy: 0.9776\n",
      "Epoch 22/100\n",
      "800/800 [==============================] - 70s 87ms/step - loss: 0.1520 - accuracy: 0.9468 - val_loss: 0.0937 - val_accuracy: 0.9766\n",
      "Epoch 23/100\n",
      "800/800 [==============================] - 70s 88ms/step - loss: 0.1426 - accuracy: 0.9485 - val_loss: 0.1006 - val_accuracy: 0.9769\n",
      "Epoch 24/100\n",
      "800/800 [==============================] - 71s 89ms/step - loss: 0.1372 - accuracy: 0.9507 - val_loss: 0.0974 - val_accuracy: 0.9774\n",
      "Epoch 25/100\n",
      "800/800 [==============================] - 69s 87ms/step - loss: 0.1450 - accuracy: 0.9505 - val_loss: 0.0916 - val_accuracy: 0.9772\n",
      "Epoch 26/100\n",
      "800/800 [==============================] - 70s 88ms/step - loss: 0.1324 - accuracy: 0.9530 - val_loss: 0.0995 - val_accuracy: 0.9753\n",
      "Epoch 27/100\n",
      "800/800 [==============================] - 69s 87ms/step - loss: 0.1380 - accuracy: 0.9496 - val_loss: 0.0994 - val_accuracy: 0.9763\n",
      "Epoch 28/100\n",
      "800/800 [==============================] - 69s 87ms/step - loss: 0.1254 - accuracy: 0.9538 - val_loss: 0.1020 - val_accuracy: 0.9756\n",
      "Epoch 29/100\n",
      "800/800 [==============================] - 69s 87ms/step - loss: 0.1333 - accuracy: 0.9521 - val_loss: 0.0974 - val_accuracy: 0.9774\n",
      "Epoch 30/100\n",
      "800/800 [==============================] - 69s 87ms/step - loss: 0.1277 - accuracy: 0.9550 - val_loss: 0.1004 - val_accuracy: 0.9770\n",
      "Epoch 31/100\n",
      "800/800 [==============================] - 69s 87ms/step - loss: 0.1257 - accuracy: 0.9557 - val_loss: 0.1015 - val_accuracy: 0.9775\n",
      "Epoch 32/100\n",
      "800/800 [==============================] - 69s 87ms/step - loss: 0.1239 - accuracy: 0.9572 - val_loss: 0.1111 - val_accuracy: 0.9764\n",
      "Epoch 33/100\n",
      "800/800 [==============================] - 69s 87ms/step - loss: 0.1239 - accuracy: 0.9546 - val_loss: 0.1083 - val_accuracy: 0.9768\n",
      "Epoch 34/100\n",
      "800/800 [==============================] - 69s 86ms/step - loss: 0.1181 - accuracy: 0.9577 - val_loss: 0.0991 - val_accuracy: 0.9770\n",
      "Epoch 35/100\n",
      "800/800 [==============================] - 69s 86ms/step - loss: 0.1119 - accuracy: 0.9608 - val_loss: 0.1118 - val_accuracy: 0.9765\n",
      "Epoch 36/100\n",
      "800/800 [==============================] - 70s 87ms/step - loss: 0.1152 - accuracy: 0.9584 - val_loss: 0.1193 - val_accuracy: 0.9769\n",
      "Epoch 37/100\n",
      "800/800 [==============================] - 70s 88ms/step - loss: 0.1175 - accuracy: 0.9564 - val_loss: 0.1135 - val_accuracy: 0.9774\n",
      "Epoch 38/100\n",
      "800/800 [==============================] - 71s 88ms/step - loss: 0.1148 - accuracy: 0.9578 - val_loss: 0.1103 - val_accuracy: 0.9768\n",
      "Epoch 39/100\n",
      "800/800 [==============================] - 71s 89ms/step - loss: 0.1150 - accuracy: 0.9595 - val_loss: 0.1074 - val_accuracy: 0.9772\n",
      "Epoch 40/100\n",
      "800/800 [==============================] - 71s 89ms/step - loss: 0.1120 - accuracy: 0.9599 - val_loss: 0.1104 - val_accuracy: 0.9776\n",
      "Epoch 41/100\n",
      "800/800 [==============================] - 70s 88ms/step - loss: 0.1107 - accuracy: 0.9603 - val_loss: 0.1083 - val_accuracy: 0.9775\n",
      "Epoch 42/100\n",
      "800/800 [==============================] - 70s 87ms/step - loss: 0.1075 - accuracy: 0.9620 - val_loss: 0.1077 - val_accuracy: 0.9780\n",
      "Epoch 43/100\n",
      "800/800 [==============================] - 70s 87ms/step - loss: 0.1018 - accuracy: 0.9642 - val_loss: 0.1196 - val_accuracy: 0.9761\n",
      "Epoch 44/100\n",
      "800/800 [==============================] - 70s 87ms/step - loss: 0.1090 - accuracy: 0.9598 - val_loss: 0.1164 - val_accuracy: 0.9784\n",
      "Epoch 45/100\n",
      "800/800 [==============================] - 70s 87ms/step - loss: 0.1028 - accuracy: 0.9638 - val_loss: 0.1159 - val_accuracy: 0.9769\n",
      "Epoch 46/100\n",
      "800/800 [==============================] - 70s 87ms/step - loss: 0.1056 - accuracy: 0.9612 - val_loss: 0.1057 - val_accuracy: 0.9783\n",
      "Epoch 47/100\n",
      "800/800 [==============================] - 70s 87ms/step - loss: 0.1018 - accuracy: 0.9638 - val_loss: 0.1296 - val_accuracy: 0.9763\n",
      "Epoch 48/100\n",
      "800/800 [==============================] - 70s 87ms/step - loss: 0.1043 - accuracy: 0.9627 - val_loss: 0.1344 - val_accuracy: 0.9753\n",
      "Epoch 49/100\n",
      "800/800 [==============================] - 70s 87ms/step - loss: 0.1016 - accuracy: 0.9646 - val_loss: 0.1271 - val_accuracy: 0.9756\n",
      "Epoch 50/100\n",
      "800/800 [==============================] - 70s 87ms/step - loss: 0.1017 - accuracy: 0.9626 - val_loss: 0.1235 - val_accuracy: 0.9771\n",
      "Epoch 51/100\n",
      "800/800 [==============================] - 70s 87ms/step - loss: 0.1061 - accuracy: 0.9625 - val_loss: 0.1119 - val_accuracy: 0.9781\n",
      "Epoch 52/100\n",
      "800/800 [==============================] - 70s 87ms/step - loss: 0.1038 - accuracy: 0.9626 - val_loss: 0.1337 - val_accuracy: 0.9750\n",
      "Epoch 53/100\n",
      "800/800 [==============================] - 70s 88ms/step - loss: 0.0982 - accuracy: 0.9637 - val_loss: 0.1131 - val_accuracy: 0.9783\n",
      "Epoch 54/100\n",
      "800/800 [==============================] - 70s 88ms/step - loss: 0.0968 - accuracy: 0.9635 - val_loss: 0.1174 - val_accuracy: 0.9777\n",
      "Epoch 55/100\n",
      "800/800 [==============================] - 70s 87ms/step - loss: 0.0996 - accuracy: 0.9637 - val_loss: 0.1180 - val_accuracy: 0.9777\n",
      "Epoch 56/100\n",
      "800/800 [==============================] - 70s 88ms/step - loss: 0.1010 - accuracy: 0.9636 - val_loss: 0.1247 - val_accuracy: 0.9767\n",
      "Epoch 57/100\n",
      "800/800 [==============================] - 70s 88ms/step - loss: 0.1024 - accuracy: 0.9632 - val_loss: 0.1189 - val_accuracy: 0.9775\n",
      "Epoch 58/100\n",
      "800/800 [==============================] - 70s 87ms/step - loss: 0.0919 - accuracy: 0.9653 - val_loss: 0.1250 - val_accuracy: 0.9782\n",
      "Epoch 59/100\n",
      "800/800 [==============================] - 71s 89ms/step - loss: 0.0955 - accuracy: 0.9646 - val_loss: 0.1278 - val_accuracy: 0.9779\n",
      "Epoch 60/100\n",
      "800/800 [==============================] - 70s 87ms/step - loss: 0.0861 - accuracy: 0.9677 - val_loss: 0.1351 - val_accuracy: 0.9777\n",
      "Epoch 61/100\n",
      "800/800 [==============================] - 71s 89ms/step - loss: 0.0920 - accuracy: 0.9666 - val_loss: 0.1368 - val_accuracy: 0.9775\n",
      "Epoch 62/100\n",
      "800/800 [==============================] - 71s 88ms/step - loss: 0.0872 - accuracy: 0.9672 - val_loss: 0.1326 - val_accuracy: 0.9776\n",
      "Epoch 63/100\n",
      "800/800 [==============================] - 71s 89ms/step - loss: 0.0924 - accuracy: 0.9659 - val_loss: 0.1371 - val_accuracy: 0.9775\n",
      "Epoch 64/100\n",
      "800/800 [==============================] - 71s 89ms/step - loss: 0.0850 - accuracy: 0.9676 - val_loss: 0.1295 - val_accuracy: 0.9779\n",
      "Epoch 65/100\n",
      "800/800 [==============================] - 72s 90ms/step - loss: 0.0887 - accuracy: 0.9678 - val_loss: 0.1324 - val_accuracy: 0.9782\n",
      "Epoch 66/100\n",
      "800/800 [==============================] - 72s 90ms/step - loss: 0.0832 - accuracy: 0.9700 - val_loss: 0.1473 - val_accuracy: 0.9754\n",
      "Epoch 67/100\n",
      "800/800 [==============================] - 71s 88ms/step - loss: 0.0907 - accuracy: 0.9671 - val_loss: 0.1569 - val_accuracy: 0.9764\n",
      "Epoch 68/100\n",
      "800/800 [==============================] - 70s 88ms/step - loss: 0.0782 - accuracy: 0.9708 - val_loss: 0.1519 - val_accuracy: 0.9765\n",
      "Epoch 69/100\n",
      "800/800 [==============================] - 70s 88ms/step - loss: 0.0811 - accuracy: 0.9688 - val_loss: 0.1466 - val_accuracy: 0.9770\n",
      "Epoch 70/100\n",
      "800/800 [==============================] - 70s 88ms/step - loss: 0.0843 - accuracy: 0.9682 - val_loss: 0.1387 - val_accuracy: 0.9769\n",
      "Epoch 71/100\n",
      "800/800 [==============================] - 71s 89ms/step - loss: 0.0898 - accuracy: 0.9678 - val_loss: 0.1375 - val_accuracy: 0.9774\n",
      "Epoch 72/100\n",
      "800/800 [==============================] - 71s 89ms/step - loss: 0.0850 - accuracy: 0.9682 - val_loss: 0.1366 - val_accuracy: 0.9770\n",
      "Epoch 73/100\n",
      "800/800 [==============================] - 72s 90ms/step - loss: 0.0886 - accuracy: 0.9687 - val_loss: 0.1449 - val_accuracy: 0.9768\n",
      "Epoch 74/100\n",
      "800/800 [==============================] - 72s 90ms/step - loss: 0.0819 - accuracy: 0.9693 - val_loss: 0.1410 - val_accuracy: 0.9761\n",
      "Epoch 75/100\n",
      "800/800 [==============================] - 72s 90ms/step - loss: 0.0798 - accuracy: 0.9707 - val_loss: 0.1368 - val_accuracy: 0.9770\n",
      "Epoch 76/100\n",
      "800/800 [==============================] - 72s 90ms/step - loss: 0.0825 - accuracy: 0.9705 - val_loss: 0.1319 - val_accuracy: 0.9769\n",
      "Epoch 77/100\n",
      "800/800 [==============================] - 71s 89ms/step - loss: 0.0772 - accuracy: 0.9719 - val_loss: 0.1343 - val_accuracy: 0.9775\n",
      "Epoch 78/100\n",
      "800/800 [==============================] - 71s 89ms/step - loss: 0.0793 - accuracy: 0.9719 - val_loss: 0.1338 - val_accuracy: 0.9777\n",
      "Epoch 79/100\n",
      "800/800 [==============================] - 71s 89ms/step - loss: 0.0765 - accuracy: 0.9723 - val_loss: 0.1512 - val_accuracy: 0.9779\n",
      "Epoch 80/100\n",
      "800/800 [==============================] - 71s 89ms/step - loss: 0.0751 - accuracy: 0.9728 - val_loss: 0.1367 - val_accuracy: 0.9784\n",
      "Epoch 81/100\n",
      "800/800 [==============================] - 71s 89ms/step - loss: 0.0761 - accuracy: 0.9736 - val_loss: 0.1608 - val_accuracy: 0.9779\n",
      "Epoch 82/100\n",
      "800/800 [==============================] - 71s 89ms/step - loss: 0.0780 - accuracy: 0.9716 - val_loss: 0.1324 - val_accuracy: 0.9781\n",
      "Epoch 83/100\n",
      "800/800 [==============================] - 72s 90ms/step - loss: 0.0793 - accuracy: 0.9702 - val_loss: 0.1373 - val_accuracy: 0.9774\n",
      "Epoch 84/100\n",
      "800/800 [==============================] - 71s 89ms/step - loss: 0.0776 - accuracy: 0.9708 - val_loss: 0.1304 - val_accuracy: 0.9778\n",
      "Epoch 85/100\n",
      "800/800 [==============================] - 72s 90ms/step - loss: 0.0745 - accuracy: 0.9731 - val_loss: 0.1574 - val_accuracy: 0.9776\n",
      "Epoch 86/100\n",
      "800/800 [==============================] - 70s 87ms/step - loss: 0.0745 - accuracy: 0.9721 - val_loss: 0.1547 - val_accuracy: 0.9772\n",
      "Epoch 87/100\n",
      "800/800 [==============================] - 71s 88ms/step - loss: 0.0771 - accuracy: 0.9716 - val_loss: 0.1465 - val_accuracy: 0.9776\n",
      "Epoch 88/100\n",
      "800/800 [==============================] - 70s 88ms/step - loss: 0.0754 - accuracy: 0.9746 - val_loss: 0.1448 - val_accuracy: 0.9777\n",
      "Epoch 89/100\n",
      "800/800 [==============================] - 71s 89ms/step - loss: 0.0736 - accuracy: 0.9738 - val_loss: 0.1448 - val_accuracy: 0.9780\n",
      "Epoch 90/100\n",
      "800/800 [==============================] - 71s 89ms/step - loss: 0.0678 - accuracy: 0.9754 - val_loss: 0.1672 - val_accuracy: 0.9770\n",
      "Epoch 91/100\n",
      "800/800 [==============================] - 71s 89ms/step - loss: 0.0823 - accuracy: 0.9687 - val_loss: 0.1289 - val_accuracy: 0.9779\n",
      "Epoch 92/100\n",
      "800/800 [==============================] - 72s 91ms/step - loss: 0.0756 - accuracy: 0.9747 - val_loss: 0.1526 - val_accuracy: 0.9774\n",
      "Epoch 93/100\n",
      "800/800 [==============================] - 71s 89ms/step - loss: 0.0717 - accuracy: 0.9738 - val_loss: 0.1371 - val_accuracy: 0.9781\n",
      "Epoch 94/100\n",
      "800/800 [==============================] - 72s 90ms/step - loss: 0.0768 - accuracy: 0.9741 - val_loss: 0.1458 - val_accuracy: 0.9779\n",
      "Epoch 95/100\n",
      "800/800 [==============================] - 72s 90ms/step - loss: 0.0790 - accuracy: 0.9717 - val_loss: 0.1582 - val_accuracy: 0.9775\n",
      "Epoch 96/100\n",
      "800/800 [==============================] - 72s 90ms/step - loss: 0.0754 - accuracy: 0.9717 - val_loss: 0.1232 - val_accuracy: 0.9774\n",
      "Epoch 97/100\n",
      "800/800 [==============================] - 72s 90ms/step - loss: 0.0696 - accuracy: 0.9748 - val_loss: 0.1663 - val_accuracy: 0.9759\n",
      "Epoch 98/100\n",
      "800/800 [==============================] - 72s 90ms/step - loss: 0.0765 - accuracy: 0.9710 - val_loss: 0.1618 - val_accuracy: 0.9767\n",
      "Epoch 99/100\n",
      "800/800 [==============================] - 73s 91ms/step - loss: 0.0740 - accuracy: 0.9741 - val_loss: 0.1340 - val_accuracy: 0.9778\n",
      "Epoch 100/100\n",
      "800/800 [==============================] - 73s 91ms/step - loss: 0.0809 - accuracy: 0.9707 - val_loss: 0.1565 - val_accuracy: 0.9773\n",
      "dict_keys(['loss', 'accuracy', 'val_loss', 'val_accuracy'])\n"
     ]
    },
    {
     "data": {
      "image/png": "[encoded data removed]",
      "text/plain": [
       "<Figure size 900x900 with 1 Axes>"
      ]
     },
     "metadata": {},
     "output_type": "display_data"
    }
   ],
   "source": [
    "history = model.fit(X_train, Y_train, validation_split=0.8, epochs=100, batch_size=15, verbose=1)\n",
    "# list all data in history\n",
    "print(history.history.keys())\n",
    "# summarize history for accuracy\n",
    "plt.plot(history.history['accuracy'])\n",
    "plt.plot(history.history['val_accuracy'])\n",
    "plt.title('model accuracy')\n",
    "plt.ylabel('accuracy')\n",
    "plt.xlabel('epoch')\n",
    "plt.legend(['train', 'test'], loc='upper left')\n",
    "plt.show()"
   ]
  },
  {
   "cell_type": "code",
   "execution_count": 142,
   "metadata": {
    "colab": {
     "base_uri": "https://localhost:8080/"
    },
    "id": "Glo7gSfqfmbx",
    "outputId": "9360bf20-2821-4037-fe78-e248ae125bf9",
    "scrolled": false
   },
   "outputs": [
    {
     "name": "stdout",
     "output_type": "stream",
     "text": [
      "Model: \"sequential_6\"\n",
      "_________________________________________________________________\n",
      " Layer (type)                Output Shape              Param #   \n",
      "=================================================================\n",
      " conv2d_8 (Conv2D)           (None, 26, 26, 64)        640       \n",
      "                                                                 \n",
      " activation_24 (Activation)  (None, 26, 26, 64)        0         \n",
      "                                                                 \n",
      " conv2d_9 (Conv2D)           (None, 24, 24, 64)        36928     \n",
      "                                                                 \n",
      " activation_25 (Activation)  (None, 24, 24, 64)        0         \n",
      "                                                                 \n",
      " max_pooling2d_4 (MaxPooling  (None, 12, 12, 64)       0         \n",
      " 2D)                                                             \n",
      "                                                                 \n",
      " flatten_4 (Flatten)         (None, 9216)              0         \n",
      "                                                                 \n",
      " dense_16 (Dense)            (None, 64)                589888    \n",
      "                                                                 \n",
      " activation_26 (Activation)  (None, 64)                0         \n",
      "                                                                 \n",
      " dropout_6 (Dropout)         (None, 64)                0         \n",
      "                                                                 \n",
      " dense_17 (Dense)            (None, 13)                845       \n",
      "                                                                 \n",
      " activation_27 (Activation)  (None, 13)                0         \n",
      "                                                                 \n",
      "=================================================================\n",
      "Total params: 628,301\n",
      "Trainable params: 628,301\n",
      "Non-trainable params: 0\n",
      "_________________________________________________________________\n"
     ]
    }
   ],
   "source": [
    "model.summary()"
   ]
  },
  {
   "cell_type": "code",
   "execution_count": 143,
   "metadata": {},
   "outputs": [],
   "source": [
    "from keras.preprocessing.image import ImageDataGenerator\n"
   ]
  },
  {
   "cell_type": "markdown",
   "metadata": {
    "id": "WpCEKAaPZX9D"
   },
   "source": [
    "# TODO\n",
    "\n",
    "## Evaluer le modèle et interpréter les résultats\n",
    "\n",
    "## Faites varier les paramètres du réseau pour essayer d'obtenir de meilleurs résultats\n",
    "\n",
    "Ici les paramètres que l'on peut faire varier comprennent: \n",
    "- Convolution:\n",
    "  - Nombre de filtres, \n",
    "  - taille du kernel\n",
    "- Pooling: \n",
    "  - Fonction de pooling\n",
    "  - taille de pooling\n",
    "- Nombre de couches de convolution\n",
    "- la fonction d'activation des couches de convolution\n",
    "- La taille de la couche dense\n",
    "- Le nombre de couches denses \n",
    "- La fonction d'activation de la/les couches denses\n",
    "- Les valeurs de Dropout \n",
    "- La taille des batchs \n",
    "- La fonction d'optimisation \n",
    "\n",
    "## Pour aller plus loin: \n",
    "- Tester la `BatchNormalization` [https://keras.io/layers/normalization/](https://keras.io/layers/normalization/)\n",
    "- Utiliser un générateur `ImageDataGenerator` pour augmenter le train set en faisant varier les paramètres des images (taille, rotation, zoom, ...). Il faudra aussi adapter la fonction de fit du modèle et utiliser `fit_generator`"
   ]
  },
  {
   "cell_type": "code",
   "execution_count": 144,
   "metadata": {
    "id": "sYVFYnXU9sLD"
   },
   "outputs": [],
   "source": [
    "# data augmentation prevents overfitting by slightly changing the data randomly\n",
    "# Keras has a great built-in feature to do automatic augmentation\n",
    "\n",
    "gen = ImageDataGenerator(rotation_range=8, width_shift_range=0.08, shear_range=0.3,\n",
    "                         height_shift_range=0.08, zoom_range=0.08)\n",
    "\n",
    "test_gen = ImageDataGenerator()"
   ]
  },
  {
   "cell_type": "code",
   "execution_count": 146,
   "metadata": {
    "id": "3k_bZYI09sLD"
   },
   "outputs": [],
   "source": [
    "# We can then feed our augmented data in batches\n",
    "# Besides loss function considerations as before, this method actually results in significant memory savings\n",
    "# because we are actually LOADING the data into the network in batches before processing each batch\n",
    "\n",
    "# Before the data was all loaded into memory, but then processed in batches.\n",
    "\n",
    "train_generator = gen.flow(X_train, Y_train, batch_size=128)\n",
    "test_generator = test_gen.flow(X_test, Y_test, batch_size=128)"
   ]
  },
  {
   "cell_type": "code",
   "execution_count": 147,
   "metadata": {
    "id": "FVxCxBOY9sLE"
   },
   "outputs": [
    {
     "ename": "SyntaxError",
     "evalue": "invalid syntax (458718921.py, line 6)",
     "output_type": "error",
     "traceback": [
      "\u001b[1;36m  File \u001b[1;32m\"C:\\Users\\Happy\\AppData\\Local\\Temp\\ipykernel_9428\\458718921.py\"\u001b[1;36m, line \u001b[1;32m6\u001b[0m\n\u001b[1;33m    model.fit_generator(train_generator, steps_per_epoch=60000/128, epochs=5 verbose=1,\u001b[0m\n\u001b[1;37m                                                                             ^\u001b[0m\n\u001b[1;31mSyntaxError\u001b[0m\u001b[1;31m:\u001b[0m invalid syntax\n"
     ]
    }
   ],
   "source": [
    "# We can now train our model which is fed data by our batch loader\n",
    "# Steps per epoch should always be total size of the set divided by the batch size\n",
    "\n",
    "# SIGNIFICANT MEMORY SAVINGS (important for larger, deeper networks)\n",
    "\n",
    "model.fit_generator(train_generator, steps_per_epoch=60000/128, epochs=5 verbose=1, \n",
    "                    validation_data=test_generator, validation_steps=10000//128)"
   ]
  },
  {
   "cell_type": "code",
   "execution_count": 148,
   "metadata": {
    "colab": {
     "base_uri": "https://localhost:8080/",
     "height": 88
    },
    "id": "DqMf4X2X9sLE",
    "outputId": "7c8a36d2-08d0-49f2-fee7-e361924d9c22",
    "scrolled": true
   },
   "outputs": [
    {
     "name": "stdout",
     "output_type": "stream",
     "text": [
      "313/313 [==============================] - 7s 22ms/step - loss: 0.1351 - accuracy: 0.9794\n",
      "Test score: 0.13511545956134796\n",
      "Test accuracy: 0.9793999791145325\n"
     ]
    }
   ],
   "source": [
    "score = model.evaluate(X_test, Y_test)\n",
    "print('Test score:', score[0])\n",
    "print('Test accuracy:', score[1])"
   ]
  }
 ],
 "metadata": {
  "accelerator": "GPU",
  "colab": {
   "provenance": []
  },
  "kernelspec": {
   "display_name": "Python 3 (ipykernel)",
   "language": "python",
   "name": "python3"
  },
  "language_info": {
   "codemirror_mode": {
    "name": "ipython",
    "version": 3
   },
   "file_extension": ".py",
   "mimetype": "text/x-python",
   "name": "python",
   "nbconvert_exporter": "python",
   "pygments_lexer": "ipython3",
   "version": "3.9.7"
  }
 },
 "nbformat": 4,
 "nbformat_minor": 1
}
