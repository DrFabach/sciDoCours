{
  "nbformat": 4,
  "nbformat_minor": 0,
  "metadata": {
    "colab": {
      "provenance": []
    },
    "kernelspec": {
      "name": "ir",
      "display_name": "R"
    },
    "language_info": {
      "name": "R"
    }
  },
  "cells": [
    {
      "cell_type": "code",
      "source": [
        "##Code à executer une seule fois\n",
        "\n",
        "df= read.csv(file = \"insurance.csv\" , sep = \",\", header= TRUE)\n"
      ],
      "metadata": {
        "id": "TzLfg2tHiYUA"
      },
      "execution_count": null,
      "outputs": []
    },
    {
      "cell_type": "code",
      "execution_count": null,
      "metadata": {
        "id": "Bxu8RkFS9iEE",
        "colab": {
          "base_uri": "https://localhost:8080/",
          "height": 286
        },
        "outputId": "ce21e513-d697-4b78-e3ed-8a2df23ed2c5"
      },
      "outputs": [
        {
          "output_type": "display_data",
          "data": {
            "text/html": [
              "<table class=\"dataframe\">\n",
              "<caption>A data.frame: 6 × 7</caption>\n",
              "<thead>\n",
              "\t<tr><th></th><th scope=col>age</th><th scope=col>sex</th><th scope=col>bmi</th><th scope=col>children</th><th scope=col>smoker</th><th scope=col>region</th><th scope=col>charges</th></tr>\n",
              "\t<tr><th></th><th scope=col>&lt;int&gt;</th><th scope=col>&lt;chr&gt;</th><th scope=col>&lt;dbl&gt;</th><th scope=col>&lt;int&gt;</th><th scope=col>&lt;chr&gt;</th><th scope=col>&lt;chr&gt;</th><th scope=col>&lt;dbl&gt;</th></tr>\n",
              "</thead>\n",
              "<tbody>\n",
              "\t<tr><th scope=row>1</th><td>19</td><td>female</td><td>27.900</td><td>0</td><td>yes</td><td>southwest</td><td>16884.924</td></tr>\n",
              "\t<tr><th scope=row>2</th><td>18</td><td>male  </td><td>33.770</td><td>1</td><td>no </td><td>southeast</td><td> 1725.552</td></tr>\n",
              "\t<tr><th scope=row>3</th><td>28</td><td>male  </td><td>33.000</td><td>3</td><td>no </td><td>southeast</td><td> 4449.462</td></tr>\n",
              "\t<tr><th scope=row>4</th><td>33</td><td>male  </td><td>22.705</td><td>0</td><td>no </td><td>northwest</td><td>21984.471</td></tr>\n",
              "\t<tr><th scope=row>5</th><td>32</td><td>male  </td><td>28.880</td><td>0</td><td>no </td><td>northwest</td><td> 3866.855</td></tr>\n",
              "\t<tr><th scope=row>6</th><td>31</td><td>female</td><td>25.740</td><td>0</td><td>no </td><td>southeast</td><td> 3756.622</td></tr>\n",
              "</tbody>\n",
              "</table>\n"
            ],
            "text/markdown": "\nA data.frame: 6 × 7\n\n| <!--/--> | age &lt;int&gt; | sex &lt;chr&gt; | bmi &lt;dbl&gt; | children &lt;int&gt; | smoker &lt;chr&gt; | region &lt;chr&gt; | charges &lt;dbl&gt; |\n|---|---|---|---|---|---|---|---|\n| 1 | 19 | female | 27.900 | 0 | yes | southwest | 16884.924 |\n| 2 | 18 | male   | 33.770 | 1 | no  | southeast |  1725.552 |\n| 3 | 28 | male   | 33.000 | 3 | no  | southeast |  4449.462 |\n| 4 | 33 | male   | 22.705 | 0 | no  | northwest | 21984.471 |\n| 5 | 32 | male   | 28.880 | 0 | no  | northwest |  3866.855 |\n| 6 | 31 | female | 25.740 | 0 | no  | southeast |  3756.622 |\n\n",
            "text/latex": "A data.frame: 6 × 7\n\\begin{tabular}{r|lllllll}\n  & age & sex & bmi & children & smoker & region & charges\\\\\n  & <int> & <chr> & <dbl> & <int> & <chr> & <chr> & <dbl>\\\\\n\\hline\n\t1 & 19 & female & 27.900 & 0 & yes & southwest & 16884.924\\\\\n\t2 & 18 & male   & 33.770 & 1 & no  & southeast &  1725.552\\\\\n\t3 & 28 & male   & 33.000 & 3 & no  & southeast &  4449.462\\\\\n\t4 & 33 & male   & 22.705 & 0 & no  & northwest & 21984.471\\\\\n\t5 & 32 & male   & 28.880 & 0 & no  & northwest &  3866.855\\\\\n\t6 & 31 & female & 25.740 & 0 & no  & southeast &  3756.622\\\\\n\\end{tabular}\n",
            "text/plain": [
              "  age sex    bmi    children smoker region    charges  \n",
              "1 19  female 27.900 0        yes    southwest 16884.924\n",
              "2 18  male   33.770 1        no     southeast  1725.552\n",
              "3 28  male   33.000 3        no     southeast  4449.462\n",
              "4 33  male   22.705 0        no     northwest 21984.471\n",
              "5 32  male   28.880 0        no     northwest  3866.855\n",
              "6 31  female 25.740 0        no     southeast  3756.622"
            ]
          },
          "metadata": {}
        }
      ],
      "source": [
        "#base de données 'medical cost personal datasets'\n",
        "head(df)"
      ]
    },
    {
      "cell_type": "code",
      "source": [
        "#Types des variables de notre dataset\n",
        "str(df)"
      ],
      "metadata": {
        "id": "c3LwvqSA9qmm",
        "colab": {
          "base_uri": "https://localhost:8080/"
        },
        "outputId": "50088b53-b4e1-4bad-bb4e-8e446abd7feb"
      },
      "execution_count": null,
      "outputs": [
        {
          "output_type": "stream",
          "name": "stdout",
          "text": [
            "'data.frame':\t1338 obs. of  7 variables:\n",
            " $ age     : int  19 18 28 33 32 31 46 37 37 60 ...\n",
            " $ sex     : chr  \"female\" \"male\" \"male\" \"male\" ...\n",
            " $ bmi     : num  27.9 33.8 33 22.7 28.9 ...\n",
            " $ children: int  0 1 3 0 0 0 1 3 2 0 ...\n",
            " $ smoker  : chr  \"yes\" \"no\" \"no\" \"no\" ...\n",
            " $ region  : chr  \"southwest\" \"southeast\" \"southeast\" \"northwest\" ...\n",
            " $ charges : num  16885 1726 4449 21984 3867 ...\n"
          ]
        }
      ]
    },
    {
      "cell_type": "code",
      "source": [
        "#description de deux variables qualitatives\n",
        "summary (df$region)\n",
        "summary(df$sex)"
      ],
      "metadata": {
        "colab": {
          "base_uri": "https://localhost:8080/",
          "height": 90
        },
        "id": "1_h0DO1BmNyj",
        "outputId": "f2ca9397-3b24-492a-95a4-ce279c691393"
      },
      "execution_count": null,
      "outputs": [
        {
          "output_type": "display_data",
          "data": {
            "text/plain": [
              "   Length     Class      Mode \n",
              "     1338 character character "
            ]
          },
          "metadata": {}
        },
        {
          "output_type": "display_data",
          "data": {
            "text/plain": [
              "   Length     Class      Mode \n",
              "     1338 character character "
            ]
          },
          "metadata": {}
        }
      ]
    },
    {
      "cell_type": "code",
      "source": [
        "#description des deux variables qualitatives 'sex' et 'region'\n",
        "table(df$sex)\n",
        "table(df$region)\n",
        "barplot(table(df$sex))\n",
        "barplot(table(df$region))\n"
      ],
      "metadata": {
        "id": "ZTzB52maliX8",
        "colab": {
          "base_uri": "https://localhost:8080/",
          "height": 967
        },
        "outputId": "5d5ed798-7fb6-4c3a-d949-5fa3d5e1bbfb"
      },
      "execution_count": null,
      "outputs": [
        {
          "output_type": "display_data",
          "data": {
            "text/plain": [
              "\n",
              "female   male \n",
              "   662    676 "
            ]
          },
          "metadata": {}
        },
        {
          "output_type": "display_data",
          "data": {
            "text/plain": [
              "\n",
              "northeast northwest southeast southwest \n",
              "      324       325       364       325 "
            ]
          },
          "metadata": {}
        },
        {
          "output_type": "display_data",
          "data": {
            "text/plain": [
              "plot without title"
            ],
            "image/png": "[encoded data removed]"
          },
          "metadata": {
            "image/png": {
              "width": 420,
              "height": 420
            }
          }
        },
        {
          "output_type": "display_data",
          "data": {
            "text/plain": [
              "plot without title"
            ],
            "image/png": "[encoded data removed]"
          },
          "metadata": {
            "image/png": {
              "width": 420,
              "height": 420
            }
          }
        }
      ]
    },
    {
      "cell_type": "code",
      "source": [
        "# affichage des modalités des deux variable quantitatives \"age\" et \" charges\"\n",
        "table(df$age)\n",
        "table(df$charges)\n",
        "\n",
        "barplot(table(df$age))\n",
        "barplot(table(df$charges))\n"
      ],
      "metadata": {
        "id": "rHFZj6FR_oN7",
        "colab": {
          "base_uri": "https://localhost:8080/",
          "height": 1000
        },
        "outputId": "d5db7fdb-f667-44a7-8eda-876da4ab3149"
      },
      "execution_count": null,
      "outputs": [
        {
          "output_type": "display_data",
          "data": {
            "text/plain": [
              "\n",
              "18 19 20 21 22 23 24 25 26 27 28 29 30 31 32 33 34 35 36 37 38 39 40 41 42 43 \n",
              "69 68 29 28 28 28 28 28 28 28 28 27 27 27 26 26 26 25 25 25 25 25 27 27 27 27 \n",
              "44 45 46 47 48 49 50 51 52 53 54 55 56 57 58 59 60 61 62 63 64 \n",
              "27 29 29 29 29 28 29 29 29 28 28 26 26 26 25 25 23 23 23 23 22 "
            ]
          },
          "metadata": {}
        },
        {
          "output_type": "display_data",
          "data": {
            "text/plain": [
              "\n",
              "  1121.8739   1131.5066   1135.9407   1136.3994    1137.011   1137.4697 \n",
              "          1           1           1           1           1           1 \n",
              "  1141.4451   1146.7966   1149.3959   1163.4627    1241.565     1242.26 \n",
              "          1           1           1           1           1           1 \n",
              "   1242.816    1252.407    1253.936    1256.299    1261.442    1261.859 \n",
              "          1           1           1           1           1           1 \n",
              "   1263.249   1391.5287   1515.3449    1526.312   1532.4697   1534.3045 \n",
              "          1           1           1           1           1           1 \n",
              "  1607.5101   1615.7667   1621.3402   1621.8827   1622.1885  1625.43375 \n",
              "          1           1           1           1           1           1 \n",
              " 1627.28245   1628.4709   1629.8335   1631.6683   1631.8212  1632.03625 \n",
              "          1           1           1           1           1           1 \n",
              " 1632.56445   1633.0444   1633.9618   1634.5734  1635.73365   1639.5631 \n",
              "          1           1           1           1           1           2 \n",
              "  1646.4297   1664.9996   1674.6323    1682.597   1694.7964   1702.4553 \n",
              "          1           1           1           1           1           1 \n",
              "  1704.5681  1704.70015   1705.6245   1708.0014  1708.92575   1711.0268 \n",
              "          1           1           1           1           1           1 \n",
              "   1712.227   1719.4363   1720.3537   1725.5523     1727.54    1727.785 \n",
              "          1           1           1           1           1           1 \n",
              "   1728.897    1731.677    1737.376    1743.214    1744.465    1748.774 \n",
              "          1           1           1           1           1           1 \n",
              "   1759.338  1769.53165   1815.8759   1824.2854    1826.843    1832.094 \n",
              "          1           1           1           1           1           1 \n",
              "   1837.237   1837.2819    1842.519    1875.344   1877.9294     1880.07 \n",
              "          1           1           1           1           1           1 \n",
              "   1880.487  1906.35825  1909.52745   1917.3184     1964.78   1967.0227 \n",
              "          1           1           1           1           1           1 \n",
              "   1969.614     1972.95    1977.815     1980.07   1981.5819   1984.4533 \n",
              "          1           1           1           1           1           1 \n",
              "  1986.9334    2007.945    2020.177   2020.5523   2026.9741  2045.68525 \n",
              "          1           1           1           1           1           1 \n",
              "  2055.3249   2102.2647     2103.08   2104.1134  2117.33885  2128.43105 \n",
              "          1           1           1           1           1           1 \n",
              "  2130.6759   2134.9015  2136.88225   2137.6536   2138.0707    2150.469 \n",
              "          1           1           1           1           1           1 \n",
              "   2154.361   2155.6815   2156.7518    2166.732   2196.4732  2198.18985 \n",
              "          1           1           1           1           1           1 \n",
              " 2200.83085   2201.0971  2203.47185  2203.73595   2205.9808  2207.69745 \n",
              "          1           1           1           1           1           1 \n",
              " 2211.13075  2217.46915   2217.6012   2219.4451  2221.56445   2250.8352 \n",
              "          1           1           1           1           1           1 \n",
              "  2254.7967  2257.47525   2261.5688      2302.3   2304.0022   2322.6218 \n",
              "          1           1           1           1           1           1 \n",
              "   2331.519  2352.96845  2362.22905  2395.17155   2396.0959   2404.7338 \n",
              "          1           1           1           1           1           1 \n",
              "   2416.955   2438.0552  2457.21115    2457.502   2459.7201   2464.6188 \n",
              "          1           1           1           1           1           1 \n",
              "  2473.3341   2480.9791    2483.736    2494.022   2497.0383   2498.4144 \n",
              "          1           1           1           1           1           1 \n",
              "  2523.1695  2527.81865  2534.39375   2566.4707    2585.269  2585.85065 \n",
              "          1           1           1           1           1           1 \n",
              "   2597.779    2632.992   2639.0429   2643.2685   2680.9493   2689.4954 \n",
              "          1           1           1           1           1           1 \n",
              "  2690.1138  2699.56835   2709.1119  2709.24395  2710.82855  2719.27975 \n",
              "          1           1           1           1           1           1 \n",
              "  2721.3208   2727.3951  2730.10785   2731.9122    2741.948  2755.02095 \n",
              "          1           1           1           1           1           1 \n",
              " 2775.19215   2789.0574   2801.2588  2803.69785  2842.76075  2850.68375 \n",
              "          1           1           1           1           1           1 \n",
              " 2855.43755    2866.091   2867.1196   2897.3235  2899.48935   2902.9065 \n",
              "          1           1           1           1           1           1 \n",
              "   2904.088    2913.569   2927.0647    2974.126  3021.80915   3044.2133 \n",
              "          1           1           1           1           1           1 \n",
              "   3046.062   3056.3881  3062.50825   3070.8087   3077.0955    3161.454 \n",
              "          1           1           1           1           1           1 \n",
              " 3167.45585   3171.6149    3172.018   3176.2877   3176.8159   3180.5101 \n",
              "          1           1           1           1           1           1 \n",
              " 3201.24515  3206.49135    3208.787  3213.62205   3227.1211   3238.4357 \n",
              "          1           1           1           1           1           1 \n",
              "   3260.199  3268.84665    3277.161  3279.86855  3292.52985   3309.7926 \n",
              "          1           1           1           1           1           1 \n",
              "   3353.284   3353.4703   3366.6697     3378.91  3385.39915   3392.3652 \n",
              "          1           1           1           1           1           1 \n",
              "  3392.9768  3393.35635    3410.324    3443.064   3471.4096    3481.868 \n",
              "          1           1           1           1           1           1 \n",
              "   3484.331   3490.5491   3500.6123    3537.703    3554.203   3556.9223 \n",
              "          1           1           1           1           1           1 \n",
              " 3558.62025   3561.8889    3577.999   3579.8287     3591.48  3594.17085 \n",
              "          1           1           1           1           1           1 \n",
              "   3597.596   3645.0894    3659.346    3693.428   3704.3545   3732.6251 \n",
              "          1           1           1           1           1           1 \n",
              "  3736.4647   3756.6216   3757.8448    3761.292   3766.8838    3847.674 \n",
              "          1           1           1           1           1           1 \n",
              " 3857.75925  3861.20965   3866.8552   3875.7341  3877.30425    3906.127 \n",
              "          1           1           1           1           1           1 \n",
              "  3925.7582   3935.1799   3943.5954   3947.4131  3956.07145   3972.9247 \n",
              "          1           1           1           1           1           1 \n",
              "  3981.9768    3987.926    3989.841   3994.1778   4005.4225   4032.2407 \n",
              "          1           1           1           1           1           1 \n",
              " 4040.55825   4058.1161  4058.71245   4074.4537    4076.497  4133.64165 \n",
              "          1           1           1           1           1           1 \n",
              " 4134.08245   4137.5227    4149.736   4151.0287   4185.0979   4189.1131 \n",
              "          1           1           1           1           1           1 \n",
              "   4234.927  4237.12655  4239.89265  4243.59005    4260.744   4266.1658 \n",
              "          1           1           1           1           1           1 \n",
              "  4296.2712  4320.41085   4337.7352   4340.4409  4347.02335    4349.462 \n",
              "          1           1           1           1           1           1 \n",
              "  4350.5144  4357.04365    4391.652    4399.731    4402.233   4415.1588 \n",
              "          1           1           1           1           1           1 \n",
              " 4428.88785   4433.3877   4433.9159   4435.0942   4438.2634  4441.21315 \n",
              "          1           1           1           1           1           1 \n",
              "   4449.462  4454.40265   4462.7218   4463.2051   4466.6214  4500.33925 \n",
              "          1           1           1           1           1           1 \n",
              "  4504.6624  4518.82625  4527.18295    4529.477    4536.259   4544.2348 \n",
              "          1           1           1           1           1           1 \n",
              "  4561.1885   4562.8421  4564.19145  4571.41305   4618.0799    4646.759 \n",
              "          1           1           1           1           1           1 \n",
              " 4661.28635  4667.60765     4670.64   4673.3922   4686.3887    4687.797 \n",
              "          1           1           1           1           1           1 \n",
              " 4718.20355  4719.52405  4719.73655   4738.2682    4746.344   4747.0529 \n",
              "          1           1           1           1           1           1 \n",
              "    4751.07   4753.6368    4762.329    4766.022   4779.6023   4795.6568 \n",
              "          1           1           1           1           1           1 \n",
              " 4827.90495     4830.63   4837.5823  4846.92015  4877.98105    4883.866 \n",
              "          1           1           1           1           1           1 \n",
              "  4889.0368   4889.9995   4894.7533  4906.40965  4915.05985   4922.9159 \n",
              "          1           1           1           1           1           1 \n",
              "   4931.647    4934.705   4949.7587   4992.3764   5002.7827    5003.853 \n",
              "          1           1           1           1           1           1 \n",
              "   5012.471   5028.1466  5031.26955    5080.096   5116.5004   5124.1887 \n",
              "          1           1           1           1           1           1 \n",
              "  5125.2157   5138.2567   5148.5526    5152.134  5209.57885  5227.98875 \n",
              "          1           1           1           1           1           1 \n",
              "   5240.765   5245.2269    5246.047    5253.524  5257.50795  5261.46945 \n",
              "          1           1           1           1           1           1 \n",
              "  5266.3656  5267.81815   5272.1758  5312.16985    5325.651  5327.40025 \n",
              "          1           1           1           1           1           1 \n",
              " 5354.07465  5373.36425    5375.038   5377.4578    5383.536   5385.3379 \n",
              "          1           1           1           1           1           1 \n",
              "  5397.6167   5400.9805   5415.6612  5425.02335   5428.7277   5438.7491 \n",
              "          1           1           1           1           1           1 \n",
              " 5458.04645   5469.0066    5472.449   5478.0368   5484.4673    5488.262 \n",
              "          1           1           1           1           1           1 \n",
              "  5584.3057   5594.8455    5615.369  5630.45785    5649.715    5662.225 \n",
              "          1           1           1           1           1           1 \n",
              "  5693.4305   5699.8375    5708.867   5709.1644   5729.0053  5757.41345 \n",
              "          1           1           1           1           1           1 \n",
              "  5836.5204   5846.9176   5855.9025    5910.944   5920.1041    5926.846 \n",
              "          1           1           1           1           1           1 \n",
              "  5934.3798   5966.8874    5969.723    5972.378   5974.3847   5976.8311 \n",
              "          1           1           1           1           1           1 \n",
              "   5979.731  5989.52365    6059.173  6067.12675   6079.6715    6082.405 \n",
              "          1           1           1           1           1           1 \n",
              " 6112.35295  6113.23105   6117.4945   6123.5688  6128.79745   6184.2994 \n",
              "          1           1           1           1           1           1 \n",
              "  6185.3208    6186.127    6196.448   6198.7518  6203.90175    6238.298 \n",
              "          1           1           1           1           1           1 \n",
              "   6250.435   6272.4772    6282.235   6289.7549    6311.952    6313.759 \n",
              "          1           1           1           1           1           1 \n",
              " 6334.34355   6338.0756   6356.2707  6358.77645   6360.9936  6373.55735 \n",
              "          1           1           1           1           1           1 \n",
              " 6389.37785  6393.60345  6402.29135   6406.4107    6414.178   6435.6237 \n",
              "          1           1           1           1           1           1 \n",
              " 6455.86265   6457.8434    6474.013    6496.886   6500.2359  6548.19505 \n",
              "          1           1           1           1           1           1 \n",
              "  6551.7501  6555.07035  6571.02435    6571.544   6593.5083  6600.20595 \n",
              "          1           1           1           1           1           1 \n",
              "   6600.361   6610.1097  6640.54485   6652.5288   6653.7886  6664.68595 \n",
              "          1           1           1           1           1           1 \n",
              "   6666.243   6686.4313   6710.1919   6746.7425   6748.5912    6753.038 \n",
              "          1           1           1           1           1           1 \n",
              "  6770.1925    6775.961   6781.3542  6796.86325    6799.458   6837.3687 \n",
              "          1           1           1           1           1           1 \n",
              "   6849.026   6858.4796    6875.961   6877.9801  6933.24225  6940.90985 \n",
              "          1           1           1           1           1           1 \n",
              "  6948.7008  6985.50695    6986.697    7045.499   7046.7222   7050.0213 \n",
              "          1           1           1           1           1           1 \n",
              "   7050.642   7077.1894   7133.9025  7144.86265    7147.105   7147.4728 \n",
              "          1           1           1           1           1           1 \n",
              "   7151.092   7152.6714   7153.5539    7160.094   7160.3303   7162.0122 \n",
              "          1           1           1           1           1           1 \n",
              " 7173.35995    7196.867  7201.70085   7209.4918  7222.78625  7228.21565 \n",
              "          1           1           1           1           1           1 \n",
              "  7243.8136   7256.7231    7261.741   7265.7025   7281.5056 7323.734819 \n",
              "          1           1           1           1           1           1 \n",
              "  7325.0482    7337.748    7345.084   7345.7266    7348.142  7358.17565 \n",
              "          1           1           1           1           1           1 \n",
              "   7371.772    7418.522   7419.4779  7421.19455    7441.053    7441.501 \n",
              "          1           1           1           1           1           1 \n",
              " 7443.64305    7445.918  7448.40395    7512.267  7518.02535  7526.70645 \n",
              "          1           1           1           1           1           1 \n",
              "  7537.1639    7623.518     7624.63    7626.993   7633.7206  7639.41745 \n",
              "          1           1           1           1           1           1 \n",
              "  7640.3092  7650.77375     7682.67    7726.854   7727.2532  7729.64575 \n",
              "          1           1           1           1           1           1 \n",
              "  7731.4271  7731.85785    7740.337   7742.1098   7749.1564    7789.635 \n",
              "          1           1           1           1           1           1 \n",
              "  7804.1605  7935.29115    7954.517    7985.815  7986.47525  8017.06115 \n",
              "          1           1           1           1           1           1 \n",
              " 8023.13545   8026.6666    8027.968   8059.6791    8062.764    8068.185 \n",
              "          1           1           1           1           1           1 \n",
              "  8083.9198  8116.26885     8116.68   8124.4084   8125.7845  8162.71625 \n",
              "          1           1           1           1           1           1 \n",
              "  8211.1002   8219.2039   8232.6388   8233.0975   8240.5896   8252.2843 \n",
              "          1           1           1           1           1           1 \n",
              "   8269.044    8277.523   8280.6227   8283.6807  8302.53565  8310.83915 \n",
              "          1           1           1           1           1           1 \n",
              " 8334.45755   8334.5896  8342.90875   8347.1643  8410.04685  8413.46305 \n",
              "          1           1           1           1           1           1 \n",
              "  8428.0693    8442.667    8444.474    8457.818   8515.7587    8516.829 \n",
              "          1           1           1           1           1           1 \n",
              "   8520.026    8522.003    8527.532   8534.6718  8538.28845    8539.671 \n",
              "          1           1           1           1           1           1 \n",
              "  8547.6913    8551.347    8556.907   8569.8618   8582.3023   8596.8278 \n",
              "          1           1           1           1           1           1 \n",
              "  8601.3293   8603.8234  8604.48365   8605.3615   8606.2174      8615.3 \n",
              "          1           1           1           1           1           1 \n",
              "  8627.5411  8671.19125  8688.85885    8703.456  8733.22925    8765.249 \n",
              "          1           1           1           1           1           1 \n",
              "   8782.469    8798.593    8823.279  8823.98575    8825.086   8827.2099 \n",
              "          1           1           1           1           1           1 \n",
              " 8835.26495   8871.1517   8891.1395  8930.93455    8932.084   8944.1151 \n",
              "          1           1           1           1           1           1 \n",
              " 8964.06055  8965.79575     8968.33   8978.1851  8988.15875   9048.0273 \n",
              "          1           1           1           1           1           1 \n",
              "  9058.7303  9095.06825    9101.798    9140.951    9144.565  9174.13565 \n",
              "          1           1           1           1           1           1 \n",
              "    9182.17   9193.8385   9222.4026   9225.2564   9249.4952    9264.797 \n",
              "          1           1           1           1           1           1 \n",
              "  9282.4806    9283.562   9288.0267   9290.1395  9301.89355   9304.7019 \n",
              "          1           1           1           1           1           1 \n",
              "  9361.3268   9377.9047   9386.1613    9391.346    9411.005     9414.92 \n",
              "          1           1           1           1           1           1 \n",
              "  9432.9253  9447.25035   9447.3824   9487.6442  9500.57305   9504.3103 \n",
              "          1           1           1           1           1           1 \n",
              " 9541.69555   9549.5651    9563.029   9566.9909   9583.8933  9617.66245 \n",
              "          1           1           1           1           1           1 \n",
              "  9620.3307     9625.92    9630.397    9634.538   9644.2525  9704.66805 \n",
              "          1           1           1           1           1           1 \n",
              "   9715.841   9722.7695     9724.53   9748.9106   9778.3472   9788.8659 \n",
              "          1           1           1           1           1           1 \n",
              "  9800.8882    9850.432   9855.1314    9861.025   9863.4718  9866.30485 \n",
              "          1           1           1           1           1           1 \n",
              "  9869.8102    9872.701   9875.6804   9877.6077    9880.068  9910.35985 \n",
              "          1           1           1           1           1           1 \n",
              "  9957.7216     9964.06  9991.03765   10043.249   10065.413 10072.05505 \n",
              "          1           1           1           1           1           1 \n",
              "  10085.846    10096.97 10106.13425  10107.2206 10115.00885   10118.424 \n",
              "          1           1           1           1           1           1 \n",
              " 10141.1362  10156.7832  10197.7722   10214.636  10226.2842  10231.4999 \n",
              "          1           1           1           1           1           1 \n",
              " 10264.4421    10269.46   10325.206  10338.9316   10355.641 10370.91255 \n",
              "          1           1           1           1           1           1 \n",
              " 10381.4787 10407.08585 10422.91665 10435.06525   10436.096   10450.552 \n",
              "          1           1           1           1           1           1 \n",
              " 10461.9794  10493.9458  10560.4917  10564.8845   10577.087   10579.711 \n",
              "          1           1           1           1           1           1 \n",
              " 10594.2257 10594.50155  10600.5483   10601.412 10601.63225   10602.385 \n",
              "          1           1           1           1           1           1 \n",
              " 10702.6424    10704.47   10713.644 10736.87075    10791.96 10795.93733 \n",
              "          1           1           1           1           1           1 \n",
              "10796.35025  10797.3362   10806.839  10807.4863  10825.2537  10848.1343 \n",
              "          1           1           1           1           1           1 \n",
              " 10923.9332   10928.849 10942.13205    10959.33  10959.6947   10965.446 \n",
              "          1           1           1           1           1           1 \n",
              "10976.24575  10977.2063  10982.5013  11013.7119  11015.1747  11033.6617 \n",
              "          1           1           1           1           1           1 \n",
              "  11070.535   11073.176  11082.5772  11085.5868  11090.7178  11093.6229 \n",
              "          1           1           1           1           1           1 \n",
              "   11150.78   11163.568 11165.41765  11187.6567  11244.3769   11253.421 \n",
              "          1           1           1           1           1           1 \n",
              "  11264.541 11272.33139  11286.5387 11289.10925   11299.343 11305.93455 \n",
              "          1           1           1           1           1           1 \n",
              "11326.71487   11345.519  11353.2276  11356.6609   11362.755  11363.2832 \n",
              "          1           1           1           1           1           1 \n",
              "  11365.952  11381.3254 11394.06555  11396.9002   11411.685 11436.73815 \n",
              "          1           1           1           1           1           1 \n",
              " 11454.0215    11455.28 11482.63485 11488.31695   11512.405 11520.09985 \n",
              "          1           1           1           1           1           1 \n",
              "11534.87265   11538.421   11552.904  11554.2236 11566.30055    11576.13 \n",
              "          1           1           1           1           1           1 \n",
              " 11657.7189 11658.11505 11658.37915    11674.13  11729.6795 11735.87905 \n",
              "          1           1           1           1           1           1 \n",
              "11737.84884   11741.726   11743.299  11743.9341  11763.0009  11830.6072 \n",
              "          1           1           1           1           1           1 \n",
              " 11833.7823    11837.16 11840.77505   11842.442 11842.62375   11848.141 \n",
              "          1           1           1           1           1           1 \n",
              " 11856.4115 11879.10405   11881.358  11881.9696 11884.04858 11931.12525 \n",
              "          1           1           1           1           1           1 \n",
              "11938.25595 11944.59435  11945.1327  11946.6259  11987.1682  12029.2867 \n",
              "          1           1           1           1           1           1 \n",
              "  12032.326   12044.342   12094.478  12096.6512    12105.32  12124.9924 \n",
              "          1           1           1           1           1           1 \n",
              "12129.61415  12142.5786   12146.971  12222.8983 12224.35085  12231.6136 \n",
              "          1           1           1           1           1           1 \n",
              "  12233.828  12235.8392   12244.531  12265.5069 12268.63225 12269.68865 \n",
              "          1           1           1           1           1           1 \n",
              "  12323.936   12333.828   12347.172   12363.547  12404.8791 12430.95335 \n",
              "          1           1           1           1           1           1 \n",
              " 12475.3513 12479.70895  12485.8009 12495.29085  12523.6048  12557.6053 \n",
              "          1           1           1           1           1           1 \n",
              "  12574.049  12592.5345 12609.88702  12622.1795  12629.1656  12629.8967 \n",
              "          1           1           1           1           1           1 \n",
              "  12638.195  12643.3778   12644.589   12646.207  12648.7034  12730.9996 \n",
              "          1           1           1           1           1           1 \n",
              "12741.16745 12797.20962 12815.44495  12829.4551 12890.05765  12913.9924 \n",
              "          1           1           1           1           1           1 \n",
              "  12925.886  12928.7911  12949.1554  12950.0712   12957.118   12979.358 \n",
              "          1           1           1           1           1           1 \n",
              " 12981.3457  12982.8747 13012.20865 13019.16105   13041.921 13047.33235 \n",
              "          1           1           1           1           1           1 \n",
              "  13063.883  13112.6048 13126.67745 13129.60345 13143.33665 13143.86485 \n",
              "          1           1           1           1           1           1 \n",
              "13204.28565  13217.0945 13224.05705   13224.693 13228.84695  13352.0998 \n",
              "          1           1           1           1           1           1 \n",
              "  13390.559   13393.756  13405.3903  13415.0381  13429.0354   13430.265 \n",
              "          1           1           1           1           1           1 \n",
              "  13451.122  13457.9608    13462.52  13470.8044    13470.86  13555.0049 \n",
              "          1           1           1           1           1           1 \n",
              "13607.36875  13616.3586  13635.6379 13725.47184 13747.87235  13770.0979 \n",
              "          1           1           1           1           1           1 \n",
              "  13822.803  13831.1152   13844.506  13844.7972   13880.949   13887.204 \n",
              "          1           1           1           1           1           1 \n",
              " 13887.9685  13919.8229  13937.6665 13974.45555 13981.85035  14001.1338 \n",
              "          1           1           1           1           1           1 \n",
              " 14001.2867   14007.222  14043.4767    14119.62 14133.03775 14210.53595 \n",
              "          1           1           1           1           1           1 \n",
              "  14235.072  14254.6082  14256.1928  14283.4594  14313.8463   14319.031 \n",
              "          1           1           1           1           1           1 \n",
              " 14349.8544 14358.36437 14382.70905 14394.39815  14394.5579  14410.9321 \n",
              "          1           1           1           1           1           1 \n",
              " 14418.2804 14426.07385  14449.8544 14451.83515 14455.64405   14474.675 \n",
              "          1           1           1           1           1           1 \n",
              "14478.33015  14571.8908 14590.63205 14692.66935  14711.7438  14901.5167 \n",
              "          1           1           1           1           1           1 \n",
              "  14988.432 15006.57945 15019.76005  15161.5344   15170.069 15230.32405 \n",
              "          1           1           1           1           1           1 \n",
              " 15359.1045 15518.18025 15555.18875 15612.19335  15817.9857   15820.699 \n",
              "          1           1           1           1           1           1 \n",
              "15828.82173 16069.08475  16085.1275  16115.3045 16138.76205   16232.847 \n",
              "          1           1           1           1           1           1 \n",
              "  16297.846 16420.49455  16450.8947 16455.70785  16577.7795 16586.49771 \n",
              "          1           1           1           1           1           1 \n",
              "16657.71745 16776.30405 16796.41194   16884.924  17043.3414    17081.08 \n",
              "          1           1           1           1           1           1 \n",
              " 17085.2676 17128.42608  17178.6824   17179.522  17352.6803  17361.7661 \n",
              "          1           1           1           1           1           1 \n",
              " 17468.9839   17496.306 17560.37975 17626.23951  17663.1442  17748.5062 \n",
              "          1           1           1           1           1           1 \n",
              "17878.90068 17904.52705 17929.30337   17942.106  18033.9679   18157.876 \n",
              "          1           1           1           1           1           1 \n",
              "18218.16139  18223.4512  18246.4955   18259.216   18310.742  18328.2381 \n",
              "          1           1           1           1           1           1 \n",
              "  18608.262  18648.4217 18765.87545  18767.7377  18804.7524 18806.14547 \n",
              "          1           1           1           1           1           1 \n",
              "18838.70366 18903.49141 18955.22017 18963.17192   18972.495    19023.26 \n",
              "          1           1           1           1           1           1 \n",
              "  19040.876  19107.7796 19144.57652   19199.944 19214.70553  19350.3689 \n",
              "          1           1           1           1           1           1 \n",
              " 19361.9988  19442.3535  19444.2658 19496.71917  19515.5416  19521.9682 \n",
              "          1           1           1           1           1           1 \n",
              "  19539.243 19594.80965 19673.33573  19719.6947 19749.38338 19798.05455 \n",
              "          1           1           1           1           1           1 \n",
              "  19933.458  19964.7463 20009.63365  20149.3229 20167.33603 20177.67113 \n",
              "          1           1           1           1           1           1 \n",
              "20234.85475 20277.80751 20296.86345 20420.60465 20462.99766 20630.28351 \n",
              "          1           1           1           1           1           1 \n",
              "20709.02034  20745.9891 20773.62775 20781.48892 20878.78443  20984.0936 \n",
              "          1           1           1           1           1           1 \n",
              "   21082.16 21098.55405   21195.818  21223.6758 21232.18226 21259.37795 \n",
              "          1           1           1           1           1           1 \n",
              " 21344.8467   21348.706  21472.4788 21595.38229  21659.9301 21677.28345 \n",
              "          1           1           1           1           1           1 \n",
              " 21771.3423 21774.32215  21797.0004    21880.82  21978.6769 21984.47061 \n",
              "          1           1           1           1           1           1 \n",
              "  22144.032 22192.43711  22218.1149  22331.5668 22395.74424  22412.6485 \n",
              "          1           1           1           1           1           1 \n",
              "22462.04375     22478.6 22493.65964 23045.56616  23065.4207 23082.95533 \n",
              "          1           1           1           1           1           1 \n",
              "23241.47453  23244.7902  23288.9284   23306.547 23401.30575 23563.01618 \n",
              "          1           1           1           1           1           1 \n",
              "  23568.272  23807.2406  23887.6627 23967.38305 24059.68019 24106.91255 \n",
              "          1           1           1           1           1           1 \n",
              " 24180.9335 24227.33724  24393.6224 24476.47851 24513.09126   24520.264 \n",
              "          1           1           1           1           1           1 \n",
              "24535.69855 24603.04837   24667.419 24671.66334  24869.8368  24873.3849 \n",
              "          1           1           1           1           1           1 \n",
              "24915.04626 24915.22085 25081.76784   25309.489 25333.33284   25382.297 \n",
              "          1           1           1           1           1           1 \n",
              "25517.11363 25656.57526 25678.77845 25992.82104 26018.95052 26109.32905 \n",
              "          1           1           1           1           1           1 \n",
              "26125.67477  26140.3603 26236.57997 26392.26029 26467.09737  26926.5144 \n",
              "          1           1           1           1           1           1 \n",
              "27000.98473  27037.9141 27117.99378 27218.43725 27322.73386 27346.04207 \n",
              "          1           1           1           1           1           1 \n",
              "27375.90478  27533.9129 27724.28875  27808.7251 27941.28758 28101.33305 \n",
              "          1           1           1           1           1           1 \n",
              "28287.89766 28340.18885 28468.91901 28476.73499  28868.6639 28923.13692 \n",
              "          1           1           1           1           1           1 \n",
              " 28950.4692  29141.3603 29186.48236 29330.98315  29523.1656 30063.58055 \n",
              "          1           1           1           1           1           1 \n",
              "30166.61817  30184.9367 30259.99556 30284.64294  30942.1918 31620.00106 \n",
              "          1           1           1           1           1           1 \n",
              "32108.66282  32548.3405  32734.1863 32787.45859  33307.5508 33471.97189 \n",
              "          1           1           1           1           1           1 \n",
              "33475.81715  33732.6867  33750.2918   33900.653   33907.548   34166.273 \n",
              "          1           1           1           1           1           1 \n",
              "34254.05335  34303.1672  34439.8559   34472.841 34617.84065  34672.1472 \n",
              "          1           1           1           1           1           1 \n",
              "  34779.615  34806.4677   34828.654   34838.873 35069.37452 35147.52848 \n",
              "          1           1           1           1           1           1 \n",
              "35160.13457    35491.64   35585.576  35595.5898  36021.0112   36085.219 \n",
              "          1           1           1           1           1           1 \n",
              " 36124.5737  36149.4835  36189.1017   36197.699 36219.40545  36307.7983 \n",
              "          1           1           1           1           1           1 \n",
              "  36397.576 36580.28216   36837.467 36898.73308 36910.60803  36950.2567 \n",
              "          1           1           1           1           1           1 \n",
              "  37079.372  37133.8982  37165.1638  37270.1512 37465.34375  37484.4493 \n",
              "          1           1           1           1           1           1 \n",
              " 37607.5277  37701.8768  37742.5757  37829.7242  38126.2465 38245.59327 \n",
              "          1           1           1           1           1           1 \n",
              " 38282.7495   38344.566   38415.474  38511.6283   38709.176       38711 \n",
              "          1           1           1           1           1           1 \n",
              " 38746.3551  38792.6856   38998.546   39047.285 39125.33225   39241.442 \n",
              "          1           1           1           1           1           1 \n",
              " 39556.4945  39597.4072  39611.7577  39722.7462 39725.51805   39727.614 \n",
              "          1           1           1           1           1           1 \n",
              " 39774.2763   39836.519  39871.7043 39983.42595 40003.33225    40103.89 \n",
              "          1           1           1           1           1           1 \n",
              "  40182.246  40273.6455  40419.0191 40720.55105  40904.1995  40932.4295 \n",
              "          1           1           1           1           1           1 \n",
              " 40941.2854  40974.1649  41034.2214 41097.16175   41661.602  41676.0811 \n",
              "          1           1           1           1           1           1 \n",
              "  41919.097  41949.2441    41999.52  42111.6647  42112.2356  42124.5153 \n",
              "          1           1           1           1           1           1 \n",
              " 42211.1382 42303.69215  42560.4304  42760.5022   42856.838  42969.8527 \n",
              "          1           1           1           1           1           1 \n",
              " 42983.4585 43254.41795  43578.9394 43753.33705  43813.8661  43896.3763 \n",
              "          1           1           1           1           1           1 \n",
              " 43921.1837  43943.8761  44202.6536  44260.7499  44400.4064   44423.803 \n",
              "          1           1           1           1           1           1 \n",
              " 44501.3982 44585.45587  44641.1974  45008.9555 45702.02235 45710.20785 \n",
              "          1           1           1           1           1           1 \n",
              "  45863.205   46113.511  46130.5265  46151.1245  46200.9851  46255.1125 \n",
              "          1           1           1           1           1           1 \n",
              " 46599.1084  46661.4424 46718.16325  46889.2612  47055.5321   47269.854 \n",
              "          1           1           1           1           1           1 \n",
              "  47291.055   47305.305    47403.88   47462.894 47496.49445 47896.79135 \n",
              "          1           1           1           1           1           1 \n",
              "   47928.03   48173.361 48517.56315 48549.17835  48673.5588  48675.5177 \n",
              "          1           1           1           1           1           1 \n",
              "   48824.45 48885.13561  48970.2476  49577.6624 51194.55914 52590.82939 \n",
              "          1           1           1           1           1           1 \n",
              "55135.40209 58571.07448 60021.39897 62592.87309 63770.42801 \n",
              "          1           1           1           1           1 "
            ]
          },
          "metadata": {}
        },
        {
          "output_type": "display_data",
          "data": {
            "text/plain": [
              "plot without title"
            ],
            "image/png": "[encoded data removed]"
          },
          "metadata": {
            "image/png": {
              "width": 420,
              "height": 420
            }
          }
        },
        {
          "output_type": "display_data",
          "data": {
            "text/plain": [
              "plot without title"
            ],
            "image/png": "[encoded data removed]"
          },
          "metadata": {
            "image/png": {
              "width": 420,
              "height": 420
            }
          }
        }
      ]
    },
    {
      "cell_type": "code",
      "source": [
        "\n",
        "#description de la variable quantitative'age'\n",
        "summary(df$age)\n",
        "mean(df$age)\n",
        "median(df$age)\n",
        "min(df$age)\n",
        "max(df$age)\n",
        "range(df$age)"
      ],
      "metadata": {
        "colab": {
          "base_uri": "https://localhost:8080/",
          "height": 140
        },
        "id": "kRA23KyU9_yn",
        "outputId": "e5adf52d-18ca-4f6a-a98d-b8c9de11f625"
      },
      "execution_count": null,
      "outputs": [
        {
          "output_type": "display_data",
          "data": {
            "text/plain": [
              "   Min. 1st Qu.  Median    Mean 3rd Qu.    Max. \n",
              "  18.00   27.00   39.00   39.21   51.00   64.00 "
            ]
          },
          "metadata": {}
        },
        {
          "output_type": "display_data",
          "data": {
            "text/html": [
              "39.2070254110613"
            ],
            "text/markdown": "39.2070254110613",
            "text/latex": "39.2070254110613",
            "text/plain": [
              "[1] 39.20703"
            ]
          },
          "metadata": {}
        },
        {
          "output_type": "display_data",
          "data": {
            "text/html": [
              "39"
            ],
            "text/markdown": "39",
            "text/latex": "39",
            "text/plain": [
              "[1] 39"
            ]
          },
          "metadata": {}
        },
        {
          "output_type": "display_data",
          "data": {
            "text/html": [
              "18"
            ],
            "text/markdown": "18",
            "text/latex": "18",
            "text/plain": [
              "[1] 18"
            ]
          },
          "metadata": {}
        },
        {
          "output_type": "display_data",
          "data": {
            "text/html": [
              "64"
            ],
            "text/markdown": "64",
            "text/latex": "64",
            "text/plain": [
              "[1] 64"
            ]
          },
          "metadata": {}
        },
        {
          "output_type": "display_data",
          "data": {
            "text/html": [
              "<style>\n",
              ".list-inline {list-style: none; margin:0; padding: 0}\n",
              ".list-inline>li {display: inline-block}\n",
              ".list-inline>li:not(:last-child)::after {content: \"\\00b7\"; padding: 0 .5ex}\n",
              "</style>\n",
              "<ol class=list-inline><li>18</li><li>64</li></ol>\n"
            ],
            "text/markdown": "1. 18\n2. 64\n\n\n",
            "text/latex": "\\begin{enumerate*}\n\\item 18\n\\item 64\n\\end{enumerate*}\n",
            "text/plain": [
              "[1] 18 64"
            ]
          },
          "metadata": {}
        }
      ]
    },
    {
      "cell_type": "code",
      "source": [
        "#description de la variable quantitative'charges'\n",
        "summary(df$charges)\n",
        "mean(df$charges)\n",
        "median(df$charges)\n",
        "min(df$charges)\n",
        "max(df$charges)\n",
        "range(df$charges)"
      ],
      "metadata": {
        "colab": {
          "base_uri": "https://localhost:8080/",
          "height": 140
        },
        "id": "e0ZuTGgx6iW8",
        "outputId": "bf99f449-9d46-4507-f304-dcd14e6277a0"
      },
      "execution_count": null,
      "outputs": [
        {
          "output_type": "display_data",
          "data": {
            "text/plain": [
              "   Min. 1st Qu.  Median    Mean 3rd Qu.    Max. \n",
              "   1122    4740    9382   13270   16640   63770 "
            ]
          },
          "metadata": {}
        },
        {
          "output_type": "display_data",
          "data": {
            "text/html": [
              "13270.4222651413"
            ],
            "text/markdown": "13270.4222651413",
            "text/latex": "13270.4222651413",
            "text/plain": [
              "[1] 13270.42"
            ]
          },
          "metadata": {}
        },
        {
          "output_type": "display_data",
          "data": {
            "text/html": [
              "9382.033"
            ],
            "text/markdown": "9382.033",
            "text/latex": "9382.033",
            "text/plain": [
              "[1] 9382.033"
            ]
          },
          "metadata": {}
        },
        {
          "output_type": "display_data",
          "data": {
            "text/html": [
              "1121.8739"
            ],
            "text/markdown": "1121.8739",
            "text/latex": "1121.8739",
            "text/plain": [
              "[1] 1121.874"
            ]
          },
          "metadata": {}
        },
        {
          "output_type": "display_data",
          "data": {
            "text/html": [
              "63770.42801"
            ],
            "text/markdown": "63770.42801",
            "text/latex": "63770.42801",
            "text/plain": [
              "[1] 63770.43"
            ]
          },
          "metadata": {}
        },
        {
          "output_type": "display_data",
          "data": {
            "text/html": [
              "<style>\n",
              ".list-inline {list-style: none; margin:0; padding: 0}\n",
              ".list-inline>li {display: inline-block}\n",
              ".list-inline>li:not(:last-child)::after {content: \"\\00b7\"; padding: 0 .5ex}\n",
              "</style>\n",
              "<ol class=list-inline><li>1121.8739</li><li>63770.42801</li></ol>\n"
            ],
            "text/markdown": "1. 1121.8739\n2. 63770.42801\n\n\n",
            "text/latex": "\\begin{enumerate*}\n\\item 1121.8739\n\\item 63770.42801\n\\end{enumerate*}\n",
            "text/plain": [
              "[1]  1121.874 63770.428"
            ]
          },
          "metadata": {}
        }
      ]
    },
    {
      "cell_type": "code",
      "source": [
        "#Création d'une variable dans R qui nous calcule l'étendue pour les deux variables quantitatives \"age\" & \"charges\"\n",
        "etendu <- function(x){\n",
        "  valeur <- max(x) - min(x)\n",
        "  return(c(\"etendu\" = valeur))\n",
        "}\n",
        "etendu(df$age)\n",
        "etendu(df$charges)\n"
      ],
      "metadata": {
        "colab": {
          "base_uri": "https://localhost:8080/",
          "height": 52
        },
        "id": "TSWL-HS_-dpZ",
        "outputId": "b548e4d9-4764-413b-85bf-1eee32198f13"
      },
      "execution_count": null,
      "outputs": [
        {
          "output_type": "display_data",
          "data": {
            "text/html": [
              "<strong>etendu:</strong> 46"
            ],
            "text/markdown": "**etendu:** 46",
            "text/latex": "\\textbf{etendu:} 46",
            "text/plain": [
              "etendu \n",
              "    46 "
            ]
          },
          "metadata": {}
        },
        {
          "output_type": "display_data",
          "data": {
            "text/html": [
              "<strong>etendu:</strong> 62648.55411"
            ],
            "text/markdown": "**etendu:** 62648.55411",
            "text/latex": "\\textbf{etendu:} 62648.55411",
            "text/plain": [
              "  etendu \n",
              "62648.55 "
            ]
          },
          "metadata": {}
        }
      ]
    },
    {
      "cell_type": "code",
      "source": [
        "#Calcul des quantiles pour les dex variables \"age\" et \"charges\"\n",
        "quantile(df$age,\n",
        "   probs = c(0.25, 0.75)\n",
        ")\n",
        "quantile(df$charges,\n",
        "    probs=c(0.25, 0.75)\n",
        "    )"
      ],
      "metadata": {
        "id": "avxgB9hu_QA8",
        "colab": {
          "base_uri": "https://localhost:8080/",
          "height": 52
        },
        "outputId": "3b05b780-e14e-4443-e7bc-4b7436cc960c"
      },
      "execution_count": null,
      "outputs": [
        {
          "output_type": "display_data",
          "data": {
            "text/html": [
              "<style>\n",
              ".dl-inline {width: auto; margin:0; padding: 0}\n",
              ".dl-inline>dt, .dl-inline>dd {float: none; width: auto; display: inline-block}\n",
              ".dl-inline>dt::after {content: \":\\0020\"; padding-right: .5ex}\n",
              ".dl-inline>dt:not(:first-of-type) {padding-left: .5ex}\n",
              "</style><dl class=dl-inline><dt>25%</dt><dd>27</dd><dt>75%</dt><dd>51</dd></dl>\n"
            ],
            "text/markdown": "25%\n:   2775%\n:   51\n\n",
            "text/latex": "\\begin{description*}\n\\item[25\\textbackslash{}\\%] 27\n\\item[75\\textbackslash{}\\%] 51\n\\end{description*}\n",
            "text/plain": [
              "25% 75% \n",
              " 27  51 "
            ]
          },
          "metadata": {}
        },
        {
          "output_type": "display_data",
          "data": {
            "text/html": [
              "<style>\n",
              ".dl-inline {width: auto; margin:0; padding: 0}\n",
              ".dl-inline>dt, .dl-inline>dd {float: none; width: auto; display: inline-block}\n",
              ".dl-inline>dt::after {content: \":\\0020\"; padding-right: .5ex}\n",
              ".dl-inline>dt:not(:first-of-type) {padding-left: .5ex}\n",
              "</style><dl class=dl-inline><dt>25%</dt><dd>4740.28715</dd><dt>75%</dt><dd>16639.912515</dd></dl>\n"
            ],
            "text/markdown": "25%\n:   4740.2871575%\n:   16639.912515\n\n",
            "text/latex": "\\begin{description*}\n\\item[25\\textbackslash{}\\%] 4740.28715\n\\item[75\\textbackslash{}\\%] 16639.912515\n\\end{description*}\n",
            "text/plain": [
              "      25%       75% \n",
              " 4740.287 16639.913 "
            ]
          },
          "metadata": {}
        }
      ]
    },
    {
      "cell_type": "code",
      "source": [
        "# calcul de l'écart interquartile pour les deux variables \"age\" et \"charges\"\n",
        "IQR(df$age)\n",
        "IQR(df$charges)"
      ],
      "metadata": {
        "colab": {
          "base_uri": "https://localhost:8080/",
          "height": 52
        },
        "id": "ao_LlAPs_S3i",
        "outputId": "24b10186-a334-45d6-95c5-31f30b63ec74"
      },
      "execution_count": null,
      "outputs": [
        {
          "output_type": "display_data",
          "data": {
            "text/html": [
              "24"
            ],
            "text/markdown": "24",
            "text/latex": "24",
            "text/plain": [
              "[1] 24"
            ]
          },
          "metadata": {}
        },
        {
          "output_type": "display_data",
          "data": {
            "text/html": [
              "11899.625365"
            ],
            "text/markdown": "11899.625365",
            "text/latex": "11899.625365",
            "text/plain": [
              "[1] 11899.63"
            ]
          },
          "metadata": {}
        }
      ]
    },
    {
      "cell_type": "code",
      "source": [
        "# calcul de la variance et l'écart type pour les deux variables \"age\" et \"charges\"\n",
        "var(df$age)\n",
        "sd(df$age)\n",
        "var(df$charges)\n",
        "sd(df$charges)"
      ],
      "metadata": {
        "colab": {
          "base_uri": "https://localhost:8080/",
          "height": 86
        },
        "id": "BVxah-v-_iJE",
        "outputId": "63e7d362-374d-4af9-9638-6d4bebe7805b"
      },
      "execution_count": null,
      "outputs": [
        {
          "output_type": "display_data",
          "data": {
            "text/html": [
              "197.401386657544"
            ],
            "text/markdown": "197.401386657544",
            "text/latex": "197.401386657544",
            "text/plain": [
              "[1] 197.4014"
            ]
          },
          "metadata": {}
        },
        {
          "output_type": "display_data",
          "data": {
            "text/html": [
              "14.0499603792162"
            ],
            "text/markdown": "14.0499603792162",
            "text/latex": "14.0499603792162",
            "text/plain": [
              "[1] 14.04996"
            ]
          },
          "metadata": {}
        },
        {
          "output_type": "display_data",
          "data": {
            "text/html": [
              "146652372.152855"
            ],
            "text/markdown": "146652372.152855",
            "text/latex": "146652372.152855",
            "text/plain": [
              "[1] 146652372"
            ]
          },
          "metadata": {}
        },
        {
          "output_type": "display_data",
          "data": {
            "text/html": [
              "12110.011236694"
            ],
            "text/markdown": "12110.011236694",
            "text/latex": "12110.011236694",
            "text/plain": [
              "[1] 12110.01"
            ]
          },
          "metadata": {}
        }
      ]
    },
    {
      "cell_type": "code",
      "source": [
        "#croisement des deux variables qualitatives 'sex' & 'region' ( crosiement de type quali-quali )\n",
        "table(df$sex, df$region)\n",
        "\n",
        "# télécharger le package dplyr\n",
        "library(dplyr)\n",
        "\n",
        "#Afficher le résultat du croisement en pourcentage\n",
        "table(df$sex, df$region)%>%\n",
        "prop.table(1)\n"
      ],
      "metadata": {
        "id": "2lG2EvE0_xfx",
        "colab": {
          "base_uri": "https://localhost:8080/",
          "height": 419
        },
        "outputId": "c5b45a66-1aa0-4116-a397-b6f70687467e"
      },
      "execution_count": null,
      "outputs": [
        {
          "output_type": "display_data",
          "data": {
            "text/plain": [
              "        \n",
              "         northeast northwest southeast southwest\n",
              "  female       161       164       175       162\n",
              "  male         163       161       189       163"
            ]
          },
          "metadata": {}
        },
        {
          "output_type": "stream",
          "name": "stderr",
          "text": [
            "\n",
            "Attaching package: ‘dplyr’\n",
            "\n",
            "\n",
            "The following objects are masked from ‘package:stats’:\n",
            "\n",
            "    filter, lag\n",
            "\n",
            "\n",
            "The following objects are masked from ‘package:base’:\n",
            "\n",
            "    intersect, setdiff, setequal, union\n",
            "\n",
            "\n"
          ]
        },
        {
          "output_type": "display_data",
          "data": {
            "text/plain": [
              "        \n",
              "         northeast northwest southeast southwest\n",
              "  female 0.2432024 0.2477341 0.2643505 0.2447130\n",
              "  male   0.2411243 0.2381657 0.2795858 0.2411243"
            ]
          },
          "metadata": {}
        }
      ]
    },
    {
      "cell_type": "code",
      "source": [
        "# croisement entre la variable d'interet \"charges\" et la variable qualitative \"sex\" (crosiement de type quanti-quali)\n",
        "croisement_charges_sex <- aggregate(df$charges, by = list(df$sex), FUN = mean)\n",
        "croisement_charges_sex\n",
        "# calculer la moyenne de croisement entre la variable d'interet \"charges\" et la variable qualitative \"sex\"\n",
        "moyenne_croisement_charges_sex <- mean(croisement_charges_sex$x)\n",
        "print(moyenne_croisement_charges_sex)"
      ],
      "metadata": {
        "colab": {
          "base_uri": "https://localhost:8080/",
          "height": 179
        },
        "id": "b16gv4nBEBmz",
        "outputId": "6c417628-4038-4a44-aa65-31805ee1318b"
      },
      "execution_count": null,
      "outputs": [
        {
          "output_type": "display_data",
          "data": {
            "text/html": [
              "<table class=\"dataframe\">\n",
              "<caption>A data.frame: 2 × 2</caption>\n",
              "<thead>\n",
              "\t<tr><th scope=col>Group.1</th><th scope=col>x</th></tr>\n",
              "\t<tr><th scope=col>&lt;chr&gt;</th><th scope=col>&lt;dbl&gt;</th></tr>\n",
              "</thead>\n",
              "<tbody>\n",
              "\t<tr><td>female</td><td>12569.58</td></tr>\n",
              "\t<tr><td>male  </td><td>13956.75</td></tr>\n",
              "</tbody>\n",
              "</table>\n"
            ],
            "text/markdown": "\nA data.frame: 2 × 2\n\n| Group.1 &lt;chr&gt; | x &lt;dbl&gt; |\n|---|---|\n| female | 12569.58 |\n| male   | 13956.75 |\n\n",
            "text/latex": "A data.frame: 2 × 2\n\\begin{tabular}{ll}\n Group.1 & x\\\\\n <chr> & <dbl>\\\\\n\\hline\n\t female & 12569.58\\\\\n\t male   & 13956.75\\\\\n\\end{tabular}\n",
            "text/plain": [
              "  Group.1 x       \n",
              "1 female  12569.58\n",
              "2 male    13956.75"
            ]
          },
          "metadata": {}
        },
        {
          "output_type": "stream",
          "name": "stdout",
          "text": [
            "[1] 13263.17\n"
          ]
        }
      ]
    },
    {
      "cell_type": "code",
      "source": [
        "#description de la variable croisé (croisement_charges_sex) en utilisant les paramètres de dispersion et de position\n",
        "summary(croisement_charges_sex )\n",
        "# convertir en format numérique\n",
        "croisement_charges_sex <- as.numeric(unlist(croisement_charges_sex))\n",
        "\n",
        "# Calcul de la variance et de l'écart type et inter_quartile\n",
        "variance_charges_sex<- var(croisement_charges_sex , na.rm = TRUE)\n",
        "ecart_type_charges_sex <- sd(croisement_charges_sex , na.rm = TRUE)\n",
        "inter_quartile_charges_sex <- IQR(croisement_charges_sex, na.rm = TRUE)\n",
        "\n",
        "# Affichage des résultats\n",
        "print(paste(\"Variance des charges :\", variance_charges_sex))\n",
        "print(paste(\"Écart type des charges :\", ecart_type_charges_sex))\n",
        "print(paste(\"IQR des charges :\", inter_quartile_charges_sex))\n"
      ],
      "metadata": {
        "colab": {
          "base_uri": "https://localhost:8080/",
          "height": 236
        },
        "id": "taqCcpufLpD3",
        "outputId": "f10ee654-1e7a-42ae-b11e-3c6e1b0f4138"
      },
      "execution_count": null,
      "outputs": [
        {
          "output_type": "display_data",
          "data": {
            "text/plain": [
              "   Group.1                x        \n",
              " Length:2           Min.   :12570  \n",
              " Class :character   1st Qu.:12916  \n",
              " Mode  :character   Median :13263  \n",
              "                    Mean   :13263  \n",
              "                    3rd Qu.:13610  \n",
              "                    Max.   :13957  "
            ]
          },
          "metadata": {}
        },
        {
          "output_type": "stream",
          "name": "stderr",
          "text": [
            "Warning message in eval(expr, envir, enclos):\n",
            "“NAs introduced by coercion”\n"
          ]
        },
        {
          "output_type": "stream",
          "name": "stdout",
          "text": [
            "[1] \"Variance des charges : 962123.5419502\"\n",
            "[1] \"Écart type des charges : 980.878963965586\"\n",
            "[1] \"IQR des charges : 693.586166943298\"\n"
          ]
        }
      ]
    },
    {
      "cell_type": "code",
      "source": [
        "# croisement entre la variable d'interet \"charges\" et la variable qualitative \"region\" (crosiement de type quanti-quali )\n",
        "croisement_charges_region <- aggregate(df$charges, by = list(df$region), FUN = mean)\n",
        "croisement_charges_region\n",
        "\n",
        "# calculer la moyenne de croisement entre la variable d'interet \"charges\" et et la variable qualitative \"region\"\n",
        "moyenne_croisement_charges_region <- mean(croisement_charges_region$x)\n",
        "print(moyenne_croisement_charges_region)"
      ],
      "metadata": {
        "colab": {
          "base_uri": "https://localhost:8080/",
          "height": 242
        },
        "id": "UwT7ujpLFWaD",
        "outputId": "de9934ca-fc92-4c33-e8b2-fd3580b3739d"
      },
      "execution_count": null,
      "outputs": [
        {
          "output_type": "display_data",
          "data": {
            "text/html": [
              "<table class=\"dataframe\">\n",
              "<caption>A data.frame: 4 × 2</caption>\n",
              "<thead>\n",
              "\t<tr><th scope=col>Group.1</th><th scope=col>x</th></tr>\n",
              "\t<tr><th scope=col>&lt;chr&gt;</th><th scope=col>&lt;dbl&gt;</th></tr>\n",
              "</thead>\n",
              "<tbody>\n",
              "\t<tr><td>northeast</td><td>13406.38</td></tr>\n",
              "\t<tr><td>northwest</td><td>12417.58</td></tr>\n",
              "\t<tr><td>southeast</td><td>14735.41</td></tr>\n",
              "\t<tr><td>southwest</td><td>12346.94</td></tr>\n",
              "</tbody>\n",
              "</table>\n"
            ],
            "text/markdown": "\nA data.frame: 4 × 2\n\n| Group.1 &lt;chr&gt; | x &lt;dbl&gt; |\n|---|---|\n| northeast | 13406.38 |\n| northwest | 12417.58 |\n| southeast | 14735.41 |\n| southwest | 12346.94 |\n\n",
            "text/latex": "A data.frame: 4 × 2\n\\begin{tabular}{ll}\n Group.1 & x\\\\\n <chr> & <dbl>\\\\\n\\hline\n\t northeast & 13406.38\\\\\n\t northwest & 12417.58\\\\\n\t southeast & 14735.41\\\\\n\t southwest & 12346.94\\\\\n\\end{tabular}\n",
            "text/plain": [
              "  Group.1   x       \n",
              "1 northeast 13406.38\n",
              "2 northwest 12417.58\n",
              "3 southeast 14735.41\n",
              "4 southwest 12346.94"
            ]
          },
          "metadata": {}
        },
        {
          "output_type": "stream",
          "name": "stdout",
          "text": [
            "[1] 13226.58\n"
          ]
        }
      ]
    },
    {
      "cell_type": "code",
      "source": [
        "# Description de la variable croisée \"croisement_charges_region\" en utilisant les paramètres de dispersion et de position\n",
        "summary(croisement_charges_region)\n",
        "\n",
        "# Convertir en format numérique\n",
        "croisement_charges_region <- as.numeric(unlist(croisement_charges_region))\n",
        "\n",
        "# Calcul de la variance et de l'écart type et inter-quartile\n",
        "variance_charges_region <- var(croisement_charges_region, na.rm = TRUE)\n",
        "ecart_type_charges_region <- sd(croisement_charges_region, na.rm = TRUE)\n",
        "inter_quartile_charges_region <- IQR(croisement_charges_region, na.rm = TRUE)\n",
        "\n",
        "# Affichage des résultats\n",
        "cat(\"Variance des charges :\", variance_charges_region, \"\\n\")\n",
        "cat(\"Écart type des charges :\", ecart_type_charges_region, \"\\n\")\n",
        "cat(\"IQR des charges :\", inter_quartile_charges_region, \"\\n\")\n",
        "\n"
      ],
      "metadata": {
        "colab": {
          "base_uri": "https://localhost:8080/",
          "height": 236
        },
        "id": "A5vYqYwwV7mk",
        "outputId": "570473a1-a157-4853-b5c5-dddb023d7e6d"
      },
      "execution_count": null,
      "outputs": [
        {
          "output_type": "display_data",
          "data": {
            "text/plain": [
              "   Group.1                x        \n",
              " Length:4           Min.   :12347  \n",
              " Class :character   1st Qu.:12400  \n",
              " Mode  :character   Median :12912  \n",
              "                    Mean   :13227  \n",
              "                    3rd Qu.:13739  \n",
              "                    Max.   :14735  "
            ]
          },
          "metadata": {}
        },
        {
          "output_type": "stream",
          "name": "stderr",
          "text": [
            "Warning message in eval(expr, envir, enclos):\n",
            "“NAs introduced by coercion”\n"
          ]
        },
        {
          "output_type": "stream",
          "name": "stdout",
          "text": [
            "Variance des charges : 1245721 \n",
            "Écart type des charges : 1116.119 \n",
            "IQR des charges : 1338.725 \n"
          ]
        }
      ]
    },
    {
      "cell_type": "code",
      "source": [
        "# Utilisez la fonction aggregate pour effectuer le croisement (croisement de type quanti-quanti )\n",
        "croisement_age_charges <- aggregate(df$charges, by = list(df$age), FUN = mean)\n",
        "print(croisement_age_charges)"
      ],
      "metadata": {
        "id": "toYv7xr2LmJM",
        "colab": {
          "base_uri": "https://localhost:8080/"
        },
        "outputId": "b52ea4dd-9ea5-43d4-88ae-25f07e757cc2"
      },
      "execution_count": null,
      "outputs": [
        {
          "output_type": "stream",
          "name": "stdout",
          "text": [
            "   Group.1         x\n",
            "1       18  7086.218\n",
            "2       19  9747.909\n",
            "3       20 10159.698\n",
            "4       21  4730.464\n",
            "5       22 10012.933\n",
            "6       23 12419.820\n",
            "7       24 10648.016\n",
            "8       25  9838.365\n",
            "9       26  6133.825\n",
            "10      27 12184.702\n",
            "11      28  9069.188\n",
            "12      29 10430.159\n",
            "13      30 12719.110\n",
            "14      31 10196.981\n",
            "15      32  9220.300\n",
            "16      33 12351.533\n",
            "17      34 11613.528\n",
            "18      35 11307.182\n",
            "19      36 12204.476\n",
            "20      37 18019.912\n",
            "21      38  8102.734\n",
            "22      39 11778.243\n",
            "23      40 11772.251\n",
            "24      41  9653.746\n",
            "25      42 13061.039\n",
            "26      43 19267.279\n",
            "27      44 15859.397\n",
            "28      45 14830.200\n",
            "29      46 14342.591\n",
            "30      47 17654.000\n",
            "31      48 14632.500\n",
            "32      49 12696.006\n",
            "33      50 15663.003\n",
            "34      51 15682.256\n",
            "35      52 18256.270\n",
            "36      53 16020.931\n",
            "37      54 18758.546\n",
            "38      55 16164.545\n",
            "39      56 15025.516\n",
            "40      57 16447.185\n",
            "41      58 13878.928\n",
            "42      59 18895.870\n",
            "43      60 21979.419\n",
            "44      61 22024.458\n",
            "45      62 19163.857\n",
            "46      63 19884.998\n",
            "47      64 23275.531\n"
          ]
        }
      ]
    },
    {
      "cell_type": "code",
      "source": [
        "#description de la variables croisée \"croisement_age_charges\" en utilisant les paramètres de dispersion et de position\n",
        "\n",
        "summary(croisement_age_charges)\n",
        "# convertir en format numérique\n",
        "croisement_age_charges <- as.numeric(unlist(croisement_age_charges))\n",
        "\n",
        "# Calcul de la variance et de l'écart type et inter_quartile\n",
        "variance_charges <- var(croisement_age_charges)\n",
        "ecart_type_charges <- sd(croisement_age_charges)\n",
        "inter_quartile <- IQR(croisement_age_charges)\n",
        "\n",
        "# Affichage des résultats\n",
        "print(paste(\"Variance des charges :\", variance_charges))\n",
        "print(paste(\"Écart type des charges :\", ecart_type_charges))\n",
        "print(paste(\"IQR des charges :\", inter_quartile))\n",
        "\n"
      ],
      "metadata": {
        "colab": {
          "base_uri": "https://localhost:8080/",
          "height": 200
        },
        "id": "ZuBnVogAPkGA",
        "outputId": "cad0ea7f-64ea-4f7b-ad09-49dee541c294"
      },
      "execution_count": null,
      "outputs": [
        {
          "output_type": "display_data",
          "data": {
            "text/plain": [
              "    Group.1           x        \n",
              " Min.   :18.0   Min.   : 4730  \n",
              " 1st Qu.:29.5   1st Qu.:10314  \n",
              " Median :41.0   Median :12719  \n",
              " Mean   :41.0   Mean   :13721  \n",
              " 3rd Qu.:52.5   3rd Qu.:16306  \n",
              " Max.   :64.0   Max.   :23276  "
            ]
          },
          "metadata": {}
        },
        {
          "output_type": "stream",
          "name": "stdout",
          "text": [
            "[1] \"Variance des charges : 56527678.0167074\"\n",
            "[1] \"Écart type des charges : 7518.48907804669\"\n",
            "[1] \"IQR des charges : 12672.0843346825\"\n"
          ]
        }
      ]
    }
  ]
}